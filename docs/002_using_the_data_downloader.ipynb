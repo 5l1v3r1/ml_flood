{
 "cells": [
  {
   "cell_type": "code",
   "execution_count": 1,
   "metadata": {},
   "outputs": [],
   "source": [
    "#imports"
   ]
  },
  {
   "cell_type": "markdown",
   "metadata": {},
   "source": [
    "# 002. Using the data_downloader.py methods for easy data retrieval"
   ]
  },
  {
   "cell_type": "markdown",
   "metadata": {},
   "source": [
    "The data downloader is written to be easily accessible for the user, while using the highest efficiency in data retrieval. This is, requesting data for all needed parameters, levels etc., for only one full month (this is due to the data being saved as one month per tape in the MARS archive; for more information see: https://confluence.ecmwf.int/display/CKB/How+to+download+ERA5)."
   ]
  },
  {
   "cell_type": "markdown",
   "metadata": {},
   "source": [
    "### 1) import the downloader"
   ]
  },
  {
   "cell_type": "code",
   "execution_count": 6,
   "metadata": {},
   "outputs": [
    {
     "ename": "TabError",
     "evalue": "inconsistent use of tabs and spaces in indentation (data_download.py, line 84)",
     "output_type": "error",
     "traceback": [
      "Traceback \u001b[0;36m(most recent call last)\u001b[0m:\n",
      "  File \u001b[1;32m\"/opt/anaconda3/lib/python3.7/site-packages/IPython/core/interactiveshell.py\"\u001b[0m, line \u001b[1;32m3296\u001b[0m, in \u001b[1;35mrun_code\u001b[0m\n    exec(code_obj, self.user_global_ns, self.user_ns)\n",
      "  File \u001b[1;32m\"<ipython-input-6-53142a9a9224>\"\u001b[0m, line \u001b[1;32m2\u001b[0m, in \u001b[1;35m<module>\u001b[0m\n    import import_src\n",
      "\u001b[0;36m  File \u001b[0;32m\"/raid/home/srvx7/lehre/users/a1303583/ipython/ml_flood/docs/import_src.py\"\u001b[0;36m, line \u001b[0;32m7\u001b[0;36m, in \u001b[0;35m<module>\u001b[0;36m\u001b[0m\n\u001b[0;31m    import notebooks.aux.data_download\u001b[0m\n",
      "\u001b[0;36m  File \u001b[0;32m\"/raid/home/srvx7/lehre/users/a1303583/ipython/ml_flood/notebooks/aux/data_download.py\"\u001b[0;36m, line \u001b[0;32m84\u001b[0m\n\u001b[0;31m    varnamefile = \"\".join(list(request[\"variable\"])).replace(' ','')\u001b[0m\n\u001b[0m                                                                    ^\u001b[0m\n\u001b[0;31mTabError\u001b[0m\u001b[0;31m:\u001b[0m inconsistent use of tabs and spaces in indentation\n"
     ]
    }
   ],
   "source": [
    "#import src\n",
    "import import_src\n",
    "#sys.path.append('./notebooks/aux/')\n",
    "#import notebooks.aux.data_download as dd"
   ]
  },
  {
   "cell_type": "markdown",
   "metadata": {},
   "source": [
    "### 2) specify all needed variables"
   ]
  },
  {
   "cell_type": "code",
   "execution_count": 3,
   "metadata": {},
   "outputs": [
    {
     "ename": "NameError",
     "evalue": "name 'path' is not defined",
     "output_type": "error",
     "traceback": [
      "\u001b[0;31m---------------------------------------------------------------------------\u001b[0m",
      "\u001b[0;31mNameError\u001b[0m                                 Traceback (most recent call last)",
      "\u001b[0;32m<ipython-input-3-7a33def9cac9>\u001b[0m in \u001b[0;36m<module>\u001b[0;34m\u001b[0m\n\u001b[1;32m     27\u001b[0m \u001b[0mvariablestr\u001b[0m \u001b[0;34m=\u001b[0m \u001b[0;34m\"_\"\u001b[0m\u001b[0;34m.\u001b[0m\u001b[0mjoin\u001b[0m\u001b[0;34m(\u001b[0m\u001b[0;34m[\u001b[0m\u001b[0mx\u001b[0m\u001b[0;34m.\u001b[0m\u001b[0mreplace\u001b[0m\u001b[0;34m(\u001b[0m\u001b[0;34m' '\u001b[0m\u001b[0;34m,\u001b[0m \u001b[0;34m'_'\u001b[0m\u001b[0;34m)\u001b[0m \u001b[0;32mfor\u001b[0m \u001b[0mx\u001b[0m \u001b[0;32min\u001b[0m \u001b[0mvariable\u001b[0m\u001b[0;34m]\u001b[0m\u001b[0;34m)\u001b[0m\u001b[0;34m\u001b[0m\u001b[0;34m\u001b[0m\u001b[0m\n\u001b[1;32m     28\u001b[0m \u001b[0mpressure_levelstr\u001b[0m \u001b[0;34m=\u001b[0m \u001b[0;34m\"_\"\u001b[0m\u001b[0;34m.\u001b[0m\u001b[0mjoin\u001b[0m\u001b[0;34m(\u001b[0m\u001b[0;34m[\u001b[0m\u001b[0mx\u001b[0m \u001b[0;32mfor\u001b[0m \u001b[0mx\u001b[0m \u001b[0;32min\u001b[0m \u001b[0mpressure_level\u001b[0m\u001b[0;34m]\u001b[0m\u001b[0;34m)\u001b[0m\u001b[0;34m\u001b[0m\u001b[0;34m\u001b[0m\u001b[0m\n\u001b[0;32m---> 29\u001b[0;31m \u001b[0mpath_to_repo\u001b[0m \u001b[0;34m=\u001b[0m \u001b[0mpath\u001b[0m\u001b[0;34m(\u001b[0m\u001b[0;34m'home'\u001b[0m\u001b[0;34m,\u001b[0m \u001b[0;34m'srvx11'\u001b[0m\u001b[0;34m,\u001b[0m \u001b[0;34m'lehre'\u001b[0m\u001b[0;34m,\u001b[0m \u001b[0;34m'users'\u001b[0m\u001b[0;34m,\u001b[0m \u001b[0mmatnr\u001b[0m\u001b[0;34m,\u001b[0m \u001b[0;34m'ipython'\u001b[0m\u001b[0;34m,\u001b[0m \u001b[0;34m'ml_flood'\u001b[0m\u001b[0;34m)\u001b[0m\u001b[0;34m\u001b[0m\u001b[0;34m\u001b[0m\u001b[0m\n\u001b[0m\u001b[1;32m     30\u001b[0m \u001b[0msavename\u001b[0m \u001b[0;34m=\u001b[0m \u001b[0mpath\u001b[0m\u001b[0;34m(\u001b[0m\u001b[0mpath_to_repo\u001b[0m\u001b[0;34m,\u001b[0m \u001b[0;34m'data'\u001b[0m\u001b[0;34m,\u001b[0m \u001b[0mareastr\u001b[0m\u001b[0;34m,\u001b[0m \u001b[0;34mf'era5_{variablestr}_{pressure_levelstr}'\u001b[0m\u001b[0;34m)\u001b[0m\u001b[0;34m\u001b[0m\u001b[0;34m\u001b[0m\u001b[0m\n",
      "\u001b[0;31mNameError\u001b[0m: name 'path' is not defined"
     ]
    }
   ],
   "source": [
    "# change vars\n",
    "areastr = 'danube'\n",
    "matnr = 'a1303583'\n",
    "\n",
    "\n",
    "# define areas of interest\n",
    "area_dict = {'danube': '50/7/47/20',\n",
    "             'asia': '55/-140/0/35',\n",
    "             'usa': '50/-125/25/-70'\n",
    "            }\n",
    "# choose area: 'danube', 'asia', 'usa'\n",
    "area = area_dict[areastr]\n",
    "\n",
    "# variables\n",
    "variable = ['geopotential', 'temperature']#, 'specific humidity']\n",
    "\n",
    "# pressure levels\n",
    "base_level = 'pressure' # 'pressure' or 'single'\n",
    "pressure_level = ['850', '700', '500']\n",
    "\n",
    "\n",
    "# define time range: start end in the format YYYY:MM\n",
    "time_start = '1981:01' # full range start: '1981:01'\n",
    "time_end = '2017:12' # full range end: '2017:12'\n",
    "\n",
    "# create savename string\n",
    "variablestr = \"_\".join([x.replace(' ', '_') for x in variable])\n",
    "pressure_levelstr = \"_\".join([x for x in pressure_level])\n",
    "path_to_repo = path('home', 'srvx11', 'lehre', 'users', matnr, 'ipython', 'ml_flood')\n",
    "savename = path(path_to_repo, 'data', areastr, f'era5_{variablestr}_{pressure_levelstr}')"
   ]
  },
  {
   "cell_type": "markdown",
   "metadata": {},
   "source": [
    "### 3) start the data request"
   ]
  },
  {
   "cell_type": "code",
   "execution_count": null,
   "metadata": {},
   "outputs": [],
   "source": [
    "# retrieve data\n",
    "dd.era5_retrieval(savename=savename, area=area, base_level=base_level, variable=variable,\n",
    "                  pressure_level=pressure_level, time_start=time_start, time_end=time_end)"
   ]
  }
 ],
 "metadata": {
  "kernelspec": {
   "display_name": "Python 3",
   "language": "python",
   "name": "python3"
  },
  "language_info": {
   "codemirror_mode": {
    "name": "ipython",
    "version": 3
   },
   "file_extension": ".py",
   "mimetype": "text/x-python",
   "name": "python",
   "nbconvert_exporter": "python",
   "pygments_lexer": "ipython3",
   "version": "3.7.3"
  }
 },
 "nbformat": 4,
 "nbformat_minor": 2
}
