{
 "cells": [
  {
   "cell_type": "code",
   "execution_count": 1,
   "metadata": {},
   "outputs": [],
   "source": [
    "#imports"
   ]
  },
  {
   "cell_type": "markdown",
   "metadata": {},
   "source": [
    "# 002. Using the data_downloader.py methods for easy data retrieval"
   ]
  },
  {
   "cell_type": "markdown",
   "metadata": {},
   "source": [
    "The data downloader is written to be easily accessible for the user, while using the highest efficiency in data retrieval. This is, requesting data for all needed parameters, levels etc., for only one full month (this is due to the data being saved as one month per tape in the MARS archive; for more information see: https://confluence.ecmwf.int/display/CKB/How+to+download+ERA5)."
   ]
  },
  {
   "cell_type": "markdown",
   "metadata": {},
   "source": [
    "### 1) import the downloader"
   ]
  },
  {
   "cell_type": "code",
   "execution_count": 10,
   "metadata": {},
   "outputs": [],
   "source": [
    "import link_src"
   ]
  },
  {
   "cell_type": "markdown",
   "metadata": {},
   "source": [
    "### 2) specify all needed variables"
   ]
  },
  {
   "cell_type": "code",
   "execution_count": 11,
   "metadata": {},
   "outputs": [
    {
     "ename": "NameError",
     "evalue": "name 'area_dict' is not defined",
     "output_type": "error",
     "traceback": [
      "\u001b[0;31m---------------------------------------------------------------------------\u001b[0m",
      "\u001b[0;31mNameError\u001b[0m                                 Traceback (most recent call last)",
      "\u001b[0;32m<ipython-input-11-3524689e637b>\u001b[0m in \u001b[0;36m<module>\u001b[0;34m\u001b[0m\n\u001b[1;32m      1\u001b[0m request = dict(product_type='reanalysis', format='netcdf', base_level='pressure', \n\u001b[0;32m----> 2\u001b[0;31m                \u001b[0marea\u001b[0m\u001b[0;34m=\u001b[0m\u001b[0marea_dict\u001b[0m\u001b[0;34m[\u001b[0m\u001b[0;34m'usa'\u001b[0m\u001b[0;34m]\u001b[0m\u001b[0;34m,\u001b[0m\u001b[0;34m\u001b[0m\u001b[0;34m\u001b[0m\u001b[0m\n\u001b[0m\u001b[1;32m      3\u001b[0m                \u001b[0mvariable\u001b[0m\u001b[0;34m=\u001b[0m\u001b[0;34m[\u001b[0m\u001b[0;34m'geopotential'\u001b[0m\u001b[0;34m,\u001b[0m \u001b[0;34m'temperature'\u001b[0m\u001b[0;34m,\u001b[0m \u001b[0;34m'specific humidity'\u001b[0m\u001b[0;34m]\u001b[0m\u001b[0;34m,\u001b[0m\u001b[0;34m\u001b[0m\u001b[0;34m\u001b[0m\u001b[0m\n\u001b[1;32m      4\u001b[0m                pressure_level=['850', '700', '500'])\n\u001b[1;32m      5\u001b[0m \u001b[0;34m\u001b[0m\u001b[0m\n",
      "\u001b[0;31mNameError\u001b[0m: name 'area_dict' is not defined"
     ]
    }
   ],
   "source": [
    "request = dict(product_type='reanalysis', format='netcdf', base_level='pressure', \n",
    "               area=area_dict['usa'],\n",
    "               variable=['geopotential', 'temperature', 'specific humidity'], \n",
    "               pressure_level=['850', '700', '500'])\n",
    "\n",
    "dataset_name = f\"reanalysis-era5-{request['base_level']}-levels\"\n",
    "\n",
    "save_to_folder=path_to_data  # path to where datasets shall be stored"
   ]
  },
  {
   "cell_type": "markdown",
   "metadata": {},
   "source": [
    "### 3) start the data request"
   ]
  },
  {
   "cell_type": "code",
   "execution_count": null,
   "metadata": {},
   "outputs": [],
   "source": [
    "# retrieve data\n",
    "cds_optimized_retrieval(year=[str(y) for y in range(2000, 2010)], \n",
    "                        month=[str(a).zfill(2) for a in range(1,13)],\n",
    "                        dataset_name, request, save_to_folder, \n",
    "                        N_parallel_requests=10)"
   ]
  }
 ],
 "metadata": {
  "kernelspec": {
   "display_name": "Python 3",
   "language": "python",
   "name": "python3"
  },
  "language_info": {
   "codemirror_mode": {
    "name": "ipython",
    "version": 3
   },
   "file_extension": ".py",
   "mimetype": "text/x-python",
   "name": "python",
   "nbconvert_exporter": "python",
   "pygments_lexer": "ipython3",
   "version": "3.7.3"
  }
 },
 "nbformat": 4,
 "nbformat_minor": 2
}
