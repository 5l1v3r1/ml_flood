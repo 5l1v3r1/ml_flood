{
 "cells": [
  {
   "cell_type": "markdown",
   "metadata": {},
   "source": [
    "# 002. Using the data_downloader.py methods for easy data retrieval"
   ]
  },
  {
   "cell_type": "markdown",
   "metadata": {},
   "source": [
    "The data downloader is written to be easily accessible for the user, while using the highest efficiency in data retrieval. This is, requesting data for all needed parameters, levels etc., for only one full month (this is due to the data being saved as one month per tape in the MARS archive; for more information see: https://confluence.ecmwf.int/display/CKB/How+to+download+ERA5)."
   ]
  },
  {
   "cell_type": "markdown",
   "metadata": {},
   "source": [
    "### 1) import the downloader"
   ]
  },
  {
   "cell_type": "code",
   "execution_count": 17,
   "metadata": {},
   "outputs": [],
   "source": [
    "import link_src"
   ]
  },
  {
   "cell_type": "markdown",
   "metadata": {},
   "source": [
    "### 2) specify all needed variables"
   ]
  },
  {
   "cell_type": "code",
   "execution_count": 21,
   "metadata": {},
   "outputs": [],
   "source": [
    "save_to_folder = 'example_download'  # path to where datasets shall be stored\n",
    "\n",
    "year_start = 2000\n",
    "year_end = 2000\n",
    "month_start = 1\n",
    "month_end = 12\n",
    "\n",
    "years = [str(y) for y in range(year_start, year_end+1)]\n",
    "months = [str(m).zfill(2) for m in range(month_start,month_end+1)]\n",
    "\n",
    "# define areas of interest\n",
    "area_dict = {'danube': '50/7/47/20',\n",
    "             'asia': '55/-140/0/35',\n",
    "             'usa': '50/-125/25/-70'\n",
    "            }\n",
    "\n",
    "request = dict(product_type='reanalysis', format='netcdf', base_level='pressure', \n",
    "               area=area_dict['usa'],\n",
    "               variable=['geopotential', 'temperature'], \n",
    "               pressure_level=['850', '700', '500'])\n",
    "\n",
    "dataset_name = f\"reanalysis-era5-{request['base_level']}-levels\""
   ]
  },
  {
   "cell_type": "markdown",
   "metadata": {},
   "source": [
    "### 3) start the data request"
   ]
  },
  {
   "cell_type": "markdown",
   "metadata": {},
   "source": [
    "It is possible to start multiple parallel requests. The number is specified in the function call below via \"N_parallel_requests\"."
   ]
  },
  {
   "cell_type": "code",
   "execution_count": null,
   "metadata": {},
   "outputs": [],
   "source": [
    "# retrieve data\n",
    "cds_optimized_retrieval(year=years, month=months, dataset_name, request, save_to_folder, \n",
    "                        N_parallel_requests=10)"
   ]
  }
 ],
 "metadata": {
  "kernelspec": {
   "display_name": "Python 3",
   "language": "python",
   "name": "python3"
  },
  "language_info": {
   "codemirror_mode": {
    "name": "ipython",
    "version": 3
   },
   "file_extension": ".py",
   "mimetype": "text/x-python",
   "name": "python",
   "nbconvert_exporter": "python",
   "pygments_lexer": "ipython3",
   "version": "3.7.3"
  }
 },
 "nbformat": 4,
 "nbformat_minor": 2
}
