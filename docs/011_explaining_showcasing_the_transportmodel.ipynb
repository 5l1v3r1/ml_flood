{
 "cells": [
  {
   "cell_type": "markdown",
   "metadata": {},
   "source": [
    "# 011. Training and explaining the transport model\n",
    "\n",
    "## Overview\n",
    "We want to build our machine-learning model based on two fundamental observations:\n",
    "- If there is no source causing local mass-influx, the discharge at a gridpoint is determined by the upstream points.\n",
    "- If there is a rise in river levels/discharge that is not due to transport from upstream points, then it is from a local influence.\n",
    "\n",
    "This motivates splitting the flood forecast model into two parts:\n",
    "1. The prediction of discharge at some point at day $t$, is possible using the upstream points' discharge of the previous days $\\{$t-1, t-2, t-3$\\}$, given that there is no local contribution. \n",
    "\n",
    "We suspect that a large portion of the local contribution is due to precipitation, therefore we exclude rainy days from the training dataset for this model.\n",
    "\n",
    "2. The residual, i.e. the quantity that is not due to inflow from other river gridpoints, is modelled using ERA5 data. The model itself is designed to forecast the residual for one day, so that it is sufficient to select predictor gridpoints that are in the nearby surroundings. We expect precipitation to have the largest impact. Snow melting could be represented by some combination of airmass temperature (relative topography) and a snow cover variable.\n",
    "\n",
    "Therefore we split the discharge forecasts into two models:\n",
    "- The `TransportModel` is responsible for advection of water from upstream river to downstream river gridpoints. \n",
    "- The`LocalModel` is responsible for the difference to observed values. It is driven by nearby gridpoints' information.\n",
    "\n",
    "## Training the transport model\n",
    "\n",
    "Let's import some packages."
   ]
  },
  {
   "cell_type": "code",
   "execution_count": 27,
   "metadata": {},
   "outputs": [],
   "source": [
    "import os, warnings\n",
    "import numpy as np\n",
    "import datetime as dt\n",
    "import pandas as pd\n",
    "import matplotlib.pyplot as plt\n",
    "from sklearn.pipeline import Pipeline\n",
    "from dask_ml.preprocessing import StandardScaler\n",
    "from dask_ml.decomposition import PCA\n",
    "\n",
    "import dask\n",
    "dask.config.set(scheduler='threading')\n",
    "\n",
    "import xarray as xr\n",
    "from dask.diagnostics import ProgressBar\n",
    "from joblib import Parallel"
   ]
  },
  {
   "cell_type": "markdown",
   "metadata": {},
   "source": [
    "To import our custom packages, we are setting the PYTHONPATH in `link_src`."
   ]
  },
  {
   "cell_type": "code",
   "execution_count": 28,
   "metadata": {},
   "outputs": [],
   "source": [
    "import link_src\n",
    "from python.aux.utils import open_data\n",
    "from python.aux.ml_flood_config import path_to_data\n",
    "from python.aux.floodmodels import FlowModel"
   ]
  },
  {
   "cell_type": "markdown",
   "metadata": {},
   "source": [
    "For the TransportModel, we need GloFAS reanalysis as predictor and predictand and the ERA5 dataset to find training periods with little precipitation to avoid influences that are covered by the LocalModel."
   ]
  },
  {
   "cell_type": "code",
   "execution_count": 29,
   "metadata": {},
   "outputs": [],
   "source": [
    "era5 = open_data(path_to_data+'danube/', kw='era5')"
   ]
  },
  {
   "cell_type": "code",
   "execution_count": 30,
   "metadata": {},
   "outputs": [],
   "source": [
    "glofas = open_data(path_to_data+'danube/', kw='glofas_ra')"
   ]
  },
  {
   "cell_type": "markdown",
   "metadata": {},
   "source": [
    "We prepare the predictor data, i.e. features by converting units and interpolating the data to the other grid so that we can use masked operations on it afterwards."
   ]
  },
  {
   "cell_type": "code",
   "execution_count": 31,
   "metadata": {},
   "outputs": [],
   "source": [
    "if 'tp' in era5:\n",
    "    tp = era5['tp']*1000\n",
    "else:\n",
    "    tp = (era5['cp']+era5['lsp'])*1000\n",
    "tp.name = 'total precip [mm]'\n",
    "tp = tp.interp(latitude=glofas.latitude,\n",
    "               longitude=glofas.longitude)"
   ]
  },
  {
   "cell_type": "markdown",
   "metadata": {},
   "source": [
    "## Prepare training data for the TransportModel\n",
    "The predictors and predictand are as follows:\n",
    "predictors = discharge at upstream river gridpoints of time (t-1, t-2, t-3)\n",
    "predicand = discharge (t)\n",
    "\n",
    "To achieve this, we add the discharge three times as new variable to the training data `X`. Each time the data is shifted by one day. Finally we drop the discharge at the current day $t$ so that we are left with 3 variables, e.g. discharges at (t-1, t-2, t-3)."
   ]
  },
  {
   "cell_type": "code",
   "execution_count": 32,
   "metadata": {},
   "outputs": [],
   "source": [
    "from python.aux.utils_flowmodel import add_shifted_predictors"
   ]
  },
  {
   "cell_type": "code",
   "execution_count": 33,
   "metadata": {},
   "outputs": [],
   "source": [
    "shifts = range(1,4)\n",
    "X = add_shifted_predictors(glofas, shifts, variables='all')\n",
    "X = X.drop('dis')  # current dis is to be predicted, is not a feature\n",
    "\n",
    "y = glofas['dis']  # just this variable as dataarray"
   ]
  },
  {
   "cell_type": "code",
   "execution_count": 34,
   "metadata": {},
   "outputs": [
    {
     "data": {
      "text/plain": [
       "<xarray.Dataset>\n",
       "Dimensions:    (latitude: 30, longitude: 130, time: 13879)\n",
       "Coordinates:\n",
       "  * longitude  (longitude) float64 7.05 7.15 7.25 7.35 ... 19.75 19.85 19.95\n",
       "  * latitude   (latitude) float64 49.95 49.85 49.75 49.65 ... 47.25 47.15 47.05\n",
       "  * time       (time) datetime64[ns] 1981-01-02 1981-01-03 ... 2019-01-01\n",
       "Data variables:\n",
       "    dis-1      (time, latitude, longitude) float32 dask.array<shape=(13879, 30, 130), chunksize=(8035, 30, 130)>\n",
       "    dis-2      (time, latitude, longitude) float32 dask.array<shape=(13879, 30, 130), chunksize=(8035, 30, 130)>\n",
       "    dis-3      (time, latitude, longitude) float32 dask.array<shape=(13879, 30, 130), chunksize=(8035, 30, 130)>\n",
       "Attributes:\n",
       "    CDI:          Climate Data Interface version 1.6.4rc4 (http://code.zmaw.d...\n",
       "    Conventions:  CF-1.4\n",
       "    history:      Thu Jun 13 19:25:04 2019: cdo mergetime /home/srvx11/lehre/...\n",
       "    CDO:          Climate Data Operators version 1.6.4rc7 (http://code.zmaw.d..."
      ]
     },
     "execution_count": 34,
     "metadata": {},
     "output_type": "execute_result"
    }
   ],
   "source": [
    "X"
   ]
  },
  {
   "cell_type": "markdown",
   "metadata": {},
   "source": [
    "Next, we select the training and validation periods,"
   ]
  },
  {
   "cell_type": "code",
   "execution_count": 35,
   "metadata": {},
   "outputs": [],
   "source": [
    "N_train = dict(time=slice(None, '1990'))\n",
    "N_valid = dict(time=slice('1990', '1995'))"
   ]
  },
  {
   "cell_type": "markdown",
   "metadata": {},
   "source": [
    "We determine the location to save the model object and plots about the quality of training and the used features in space (the upstream river gridpoints)."
   ]
  },
  {
   "cell_type": "code",
   "execution_count": 36,
   "metadata": {},
   "outputs": [],
   "source": [
    "# kind, lat, lon will be replaced!\n",
    "main_dir = '/home/srvx11/lehre/users/a1254888/ipython/ml_flood/'\n",
    "ff_mod = main_dir+'/models/flowmodel/danube/kind/point_lat_lon_flowmodel.pkl'\n",
    "ff_hist = main_dir+'/models/flowmodel/danube/kind/point_lat_lon_history.png'\n",
    "ff_valid = main_dir+'/models/flowmodel/danube/kind/point_lat_lon_validation.png'\n",
    "ff_upstream = main_dir+'/models/flowmodel/danube/kind/point_lat_lon_upstream.png'"
   ]
  },
  {
   "cell_type": "markdown",
   "metadata": {},
   "source": [
    "### Model selection\n",
    "Now we can select which model to use for the TransportModel, modelling the waterflow without precipitation, etc. \n",
    "\n",
    "We choose the neural network here, where scaling is done within the model, but we could use other models with feature scaling and feature selection (principal component analysis) too."
   ]
  },
  {
   "cell_type": "code",
   "execution_count": 37,
   "metadata": {},
   "outputs": [],
   "source": [
    "#pipe = Pipeline([('scaler', StandardScaler()),\n",
    "#                 #('pca', PCA(n_components=6)),\n",
    "#                 ('model', FlowModel('Ridge', dict(alphas=np.logspace(-3, 2, 6)))),])\n",
    "\n",
    "model = FlowModel('neural_net', dict(epochs=1000,\n",
    "                                      ))\n",
    "pipe = Pipeline([('model', model),])"
   ]
  },
  {
   "cell_type": "markdown",
   "metadata": {
    "scrolled": false
   },
   "source": [
    "### For the spatial feature selection,\n",
    "we prepare a mask with all relevant gridpoints\n",
    "- river gridpoints (discharge greater than some threshold [m^3/s] and\n",
    "- within Danube catchment"
   ]
  },
  {
   "cell_type": "code",
   "execution_count": 38,
   "metadata": {},
   "outputs": [],
   "source": [
    "from python.aux.utils_flowmodel import get_mask_of_basin"
   ]
  },
  {
   "cell_type": "code",
   "execution_count": 39,
   "metadata": {},
   "outputs": [
    {
     "data": {
      "image/png": "[encoded data removed]",
      "text/plain": [
       "<Figure size 432x288 with 1 Axes>"
      ]
     },
     "metadata": {
      "needs_background": "light"
     },
     "output_type": "display_data"
    }
   ],
   "source": [
    "danube_gridpoints = get_mask_of_basin(glofas['dis'].isel(time=0), 'Danube')\n",
    "plt.imshow(danube_gridpoints.astype(int))\n",
    "plt.show()"
   ]
  },
  {
   "cell_type": "code",
   "execution_count": 40,
   "metadata": {},
   "outputs": [],
   "source": [
    "def select_riverpoints(dis):\n",
    "    return (dis > 10)"
   ]
  },
  {
   "cell_type": "code",
   "execution_count": 41,
   "metadata": {},
   "outputs": [
    {
     "data": {
      "image/png": "[encoded data removed]",
      "text/plain": [
       "<Figure size 432x288 with 1 Axes>"
      ]
     },
     "metadata": {
      "needs_background": "light"
     },
     "output_type": "display_data"
    }
   ],
   "source": [
    "dis_map_mean = glofas['dis'].mean('time')\n",
    "is_river = select_riverpoints(dis_map_mean)\n",
    "mask_river_in_catchment = is_river & danube_gridpoints\n",
    "\n",
    "plt.imshow(mask_river_in_catchment.astype(int))\n",
    "plt.title('mask_river_in_catchment')\n",
    "plt.show()"
   ]
  },
  {
   "cell_type": "markdown",
   "metadata": {},
   "source": [
    "## Preparing the training tasks to run in parallel\n",
    "\n",
    "To train the gridpoints in parallel instead of one after another, we iterate over the array and append a `delayed` function call to the `task_list`. This task list can then be worked on by `joblib`'s `Parallel()` function."
   ]
  },
  {
   "cell_type": "code",
   "execution_count": 42,
   "metadata": {},
   "outputs": [],
   "source": [
    "from python.aux.floodmodels import train_flowmodel\n",
    "\n",
    "def mkdir(d):\n",
    "    if not os.path.isdir(d):\n",
    "        os.makedirs(d)\n",
    "        \n",
    "def replace(string: str, old_new: dict):\n",
    "    for o, n in old_new.items(): \n",
    "        string = string.replace(o, str(n))\n",
    "    return string"
   ]
  },
  {
   "cell_type": "code",
   "execution_count": 47,
   "metadata": {},
   "outputs": [],
   "source": [
    "mkdir(os.path.dirname(ff_mod).replace('kind', model.kind))\n",
    "task_list = []\n",
    "\n",
    "for lon in mask_river_in_catchment.longitude:\n",
    "    for lat in mask_river_in_catchment.latitude:\n",
    "\n",
    "        if mask_river_in_catchment.sel(latitude=lat, longitude=lon) == 1:  # valid danube river point\n",
    "            lat, lon = float(lat), float(lon)\n",
    "            \n",
    "            f_mod = replace(ff_mod, dict(lat=lat, lon=lon, kind=model.kind))\n",
    "            f_hist = replace(ff_hist, dict(lat=lat, lon=lon, kind=model.kind))\n",
    "            f_valid = replace(ff_valid, dict(lat=lat, lon=lon, kind=model.kind))\n",
    "            f_upstream = replace(ff_upstream, dict(lat=lat, lon=lon, kind=model.kind))\n",
    "    \n",
    "            if not os.path.isfile(f_mod):  # if model does not yet exist\n",
    "                \n",
    "                task_list.append(train_flowmodel(X, y, pipe,\n",
    "                                                     lat, lon, \n",
    "                                                     tp, mask_river_in_catchment,\n",
    "                                                     N_train, N_valid,\n",
    "                                                     f_mod, f_hist, f_valid, f_upstream, debug=False))   "
   ]
  },
  {
   "cell_type": "markdown",
   "metadata": {
    "scrolled": true
   },
   "source": [
    "How many tasks are there?"
   ]
  },
  {
   "cell_type": "code",
   "execution_count": 48,
   "metadata": {},
   "outputs": [
    {
     "data": {
      "text/plain": [
       "491"
      ]
     },
     "execution_count": 48,
     "metadata": {},
     "output_type": "execute_result"
    }
   ],
   "source": [
    "len(task_list)"
   ]
  },
  {
   "cell_type": "markdown",
   "metadata": {},
   "source": [
    "### Actual computation\n",
    "The actual computation can be done for example with these two packages. We found `joblib` to work easier out of the box because we have independent computations.\n",
    "\n",
    "dask:\n",
    "1. Import `dask`\n",
    "2. Decorate the function to parallelize with `@dask.delayed`\n",
    "3. Call\n",
    "``with ProgressBar():\n",
    "    dask.compute(task_list)``\n",
    "    \n",
    "joblib:\n",
    "1. Import `from joblib import delayed, Parallel`\n",
    "2. Decorate the function to parallelize with `@delayed`\n",
    "3. Call\n",
    "``Parallel(n_jobs=20, verbose=10)(task_list)``"
   ]
  },
  {
   "cell_type": "code",
   "execution_count": 46,
   "metadata": {},
   "outputs": [],
   "source": [
    "Parallel(n_jobs=1, verbose=10)(task_list)"
   ]
  },
  {
   "cell_type": "markdown",
   "metadata": {},
   "source": [
    "The work is now finished and saved in our folder."
   ]
  },
  {
   "cell_type": "code",
   "execution_count": 20,
   "metadata": {},
   "outputs": [
    {
     "data": {
      "text/plain": [
       "9800"
      ]
     },
     "execution_count": 20,
     "metadata": {},
     "output_type": "execute_result"
    }
   ],
   "source": [
    "files = os.listdir(os.path.dirname(f_mod))\n",
    "len(files)"
   ]
  },
  {
   "cell_type": "markdown",
   "metadata": {},
   "source": [
    "Let's look at some of the results:"
   ]
  },
  {
   "cell_type": "code",
   "execution_count": 21,
   "metadata": {},
   "outputs": [],
   "source": [
    "from IPython.display import Image\n",
    "ddir = \"../models/flowmodel/danube/neural_net-1/\""
   ]
  },
  {
   "cell_type": "code",
   "execution_count": 22,
   "metadata": {},
   "outputs": [
    {
     "data": {
      "image/png": "[encoded data removed]",
      "text/plain": [
       "<IPython.core.display.Image object>"
      ]
     },
     "execution_count": 22,
     "metadata": {},
     "output_type": "execute_result"
    }
   ],
   "source": [
    "Image(ddir+'point_48.05_10.150000000000034_history.png')"
   ]
  },
  {
   "cell_type": "code",
   "execution_count": 23,
   "metadata": {},
   "outputs": [
    {
     "data": {
      "image/png": "[encoded data removed]",
      "text/plain": [
       "<IPython.core.display.Image object>"
      ]
     },
     "execution_count": 23,
     "metadata": {},
     "output_type": "execute_result"
    }
   ],
   "source": [
    "Image(ddir+'point_48.05_10.150000000000034_validation.png')"
   ]
  },
  {
   "cell_type": "code",
   "execution_count": 24,
   "metadata": {},
   "outputs": [
    {
     "data": {
      "image/png": "[encoded data removed]",
      "text/plain": [
       "<IPython.core.display.Image object>"
      ]
     },
     "execution_count": 24,
     "metadata": {},
     "output_type": "execute_result"
    }
   ],
   "source": [
    "Image(ddir+'point_49.75_11.75_upstream.png')"
   ]
  },
  {
   "cell_type": "code",
   "execution_count": 25,
   "metadata": {},
   "outputs": [
    {
     "data": {
      "image/png": "[encoded data removed]",
      "text/plain": [
       "<IPython.core.display.Image object>"
      ]
     },
     "execution_count": 25,
     "metadata": {},
     "output_type": "execute_result"
    }
   ],
   "source": [
    "Image(ddir+'point_47.75_17.65_upstream.png')"
   ]
  },
  {
   "cell_type": "code",
   "execution_count": 26,
   "metadata": {},
   "outputs": [
    {
     "data": {
      "image/png": "[encoded data removed]",
      "text/plain": [
       "<IPython.core.display.Image object>"
      ]
     },
     "execution_count": 26,
     "metadata": {},
     "output_type": "execute_result"
    }
   ],
   "source": [
    "Image(ddir+'point_48.35_18.25_upstream.png')"
   ]
  },
  {
   "cell_type": "code",
   "execution_count": null,
   "metadata": {},
   "outputs": [],
   "source": []
  },
  {
   "cell_type": "code",
   "execution_count": null,
   "metadata": {},
   "outputs": [],
   "source": []
  }
 ],
 "metadata": {
  "kernelspec": {
   "display_name": "Python 3",
   "language": "python",
   "name": "python3"
  },
  "language_info": {
   "codemirror_mode": {
    "name": "ipython",
    "version": 3
   },
   "file_extension": ".py",
   "mimetype": "text/x-python",
   "name": "python",
   "nbconvert_exporter": "python",
   "pygments_lexer": "ipython3",
   "version": "3.7.3"
  }
 },
 "nbformat": 4,
 "nbformat_minor": 2
}
