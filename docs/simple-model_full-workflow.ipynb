{
 "cells": [
  {
   "cell_type": "markdown",
   "metadata": {},
   "source": [
    "# Simple example\n"
   ]
  },
  {
   "cell_type": "code",
   "execution_count": 1,
   "metadata": {},
   "outputs": [],
   "source": [
    "import numpy as np\n",
    "import datetime as dt\n",
    "import pandas as pd\n",
    "import matplotlib as mpl\n",
    "import matplotlib.pyplot as plt\n",
    "import seaborn as sns\n",
    "import xarray as xr"
   ]
  },
  {
   "cell_type": "markdown",
   "metadata": {},
   "source": [
    "## Loading the data\n",
    "Sample dataset contained in the git repository.\n",
    "\n",
    "As you are reading these lines, you opened the notebook in the `./docs/` folder of the main repository directory. To access the sample dataset that was delivered to you with the code, step outside the current directory (`../`) and enter the `data/` folder. The names of the sample datasets are `smallsampledata-era5.nc` and `smallsampledata-glofas.nc`, both in netCDF format, a user-friendly format that keeps the file size low and stores meta-data within the file.\n",
    "\n",
    "We use `xarray` to access the files, as it provides us with a very powerful interface to work with the data. Let's open the files and see what's in there:"
   ]
  },
  {
   "cell_type": "code",
   "execution_count": 2,
   "metadata": {},
   "outputs": [],
   "source": [
    "era5 = xr.open_dataset('../data/smallsampledata-era5.nc')"
   ]
  },
  {
   "cell_type": "code",
   "execution_count": 3,
   "metadata": {},
   "outputs": [],
   "source": [
    "glofas = xr.open_dataset('../data/smallsampledata-glofas.nc')"
   ]
  },
  {
   "cell_type": "markdown",
   "metadata": {},
   "source": [
    "Its datatype is `xarray.Dataset`, containing a spatio-temporal subset of 5 variables that we selected from the original ERA5 dataset. It also contains one derived variable (`rtp_500-850`) that is used in Meteorology quite a bit because it is proportional to mass-weighted mean temperature of the air, in this case between 850 and 500 hPa. It could be an additional predictor to classify the weather regime."
   ]
  },
  {
   "cell_type": "code",
   "execution_count": 4,
   "metadata": {},
   "outputs": [
    {
     "data": {
      "text/plain": [
       "<xarray.Dataset>\n",
       "Dimensions:      (latitude: 13, longitude: 25, time: 5478)\n",
       "Coordinates:\n",
       "  * time         (time) datetime64[ns] 1981-01-01 1981-01-02 ... 1995-12-31\n",
       "  * longitude    (longitude) float32 8.0 8.25 8.5 8.75 ... 13.25 13.5 13.75 14.0\n",
       "  * latitude     (latitude) float32 50.0 49.75 49.5 49.25 ... 47.5 47.25 47.0\n",
       "Data variables:\n",
       "    cp           (time, latitude, longitude) float32 ...\n",
       "    lsp          (time, latitude, longitude) float32 ...\n",
       "    swvl1        (time, latitude, longitude) float32 ...\n",
       "    tcwv         (time, latitude, longitude) float32 ...\n",
       "    ro           (time, latitude, longitude) float32 ...\n",
       "    rtp_500-850  (time, latitude, longitude) float32 ..."
      ]
     },
     "execution_count": 4,
     "metadata": {},
     "output_type": "execute_result"
    }
   ],
   "source": [
    "era5"
   ]
  },
  {
   "cell_type": "markdown",
   "metadata": {},
   "source": [
    "To access a variable's description, select one like this:"
   ]
  },
  {
   "cell_type": "code",
   "execution_count": 5,
   "metadata": {},
   "outputs": [
    {
     "data": {
      "text/plain": [
       "<xarray.DataArray 'cp' (time: 5478, latitude: 13, longitude: 25)>\n",
       "[1780350 values with dtype=float32]\n",
       "Coordinates:\n",
       "  * time       (time) datetime64[ns] 1981-01-01 1981-01-02 ... 1995-12-31\n",
       "  * longitude  (longitude) float32 8.0 8.25 8.5 8.75 ... 13.25 13.5 13.75 14.0\n",
       "  * latitude   (latitude) float32 50.0 49.75 49.5 49.25 ... 47.5 47.25 47.0\n",
       "Attributes:\n",
       "    standard_name:  lwe_thickness_of_convective_precipitation_amount\n",
       "    long_name:      Convective precipitation\n",
       "    units:          m"
      ]
     },
     "execution_count": 5,
     "metadata": {},
     "output_type": "execute_result"
    }
   ],
   "source": [
    "era5['cp']"
   ]
  },
  {
   "cell_type": "markdown",
   "metadata": {},
   "source": [
    "### Selecting useful predictor variables\n",
    "The selection has already been done by us when preparing the small sample datasets for you, so you can use them straight away. What is still necessary, is clustering and reshaping the input data dimension, because the dimensionality of the raw input data would be too high: \n",
    "\n",
    "To give a rough estimate, imagine using all GloFAS and ERA5 gridpoints of the upstream area of one point. For 1.5x1.5  degree (lat,lon), ERA5 provides 6 x 6 and GloFAS 15 x 15 gridpoints. To take the time dimension into account we'd need, say, 10 days of discharge and 180 days of precipitation. \n",
    "\n",
    "Summing up, this makes the raw input dimensionality 15 x 15 x 10 and 6 x 6 x 180, in total ~8700 features, where most of the predictors won't vary that much from one gridpoint to another in the upstream area (large scale temperature, total-column water vapor).\n",
    "\n",
    "To work around that, we need to \n",
    "  1. spatially aggregate  and \n",
    "  2. temporally aggregate the data (reduce dimensionality). \n",
    "  \n",
    "Both will be done in sections below, but first we need to define which point we will be making forecasts for.\n",
    "\n",
    "### Selecting the predictand\n",
    "The target variable shall be the discharge at the point where the Danube river leaves the data domain. This is given by the point within the catchment where the discharge is the highest, so we first filter by the catchment basin shapefile (Worldbank dataset \"Global River Basins\")"
   ]
  },
  {
   "cell_type": "code",
   "execution_count": 6,
   "metadata": {},
   "outputs": [
    {
     "name": "stderr",
     "output_type": "stream",
     "text": [
      "/home/srvx11/lehre/users/a1254888/.conda/envs/ml_flood/lib/python3.7/site-packages/xarray/core/nanops.py:160: RuntimeWarning: Mean of empty slice\n",
      "  return np.nanmean(a, axis=axis, dtype=dtype)\n"
     ]
    },
    {
     "data": {
      "text/plain": [
       "<matplotlib.collections.QuadMesh at 0x7fb264aa6978>"
      ]
     },
     "execution_count": 6,
     "metadata": {},
     "output_type": "execute_result"
    },
    {
     "data": {
      "image/png": "[encoded data removed]",
      "text/plain": [
       "<Figure size 432x288 with 2 Axes>"
      ]
     },
     "metadata": {
      "needs_background": "light"
     },
     "output_type": "display_data"
    }
   ],
   "source": [
    "from aux.utils_flowmodel import get_mask_of_basin\n",
    "\n",
    "dis_mean = glofas['dis'].mean('time')\n",
    "danube_catchment = get_mask_of_basin(dis_mean)\n",
    "dis = glofas['dis'].where(danube_catchment)\n",
    "dis.mean('time').plot()"
   ]
  },
  {
   "cell_type": "markdown",
   "metadata": {},
   "source": [
    "Now we look up the coordinates of the maximum discharge point. We see that the point of interest is at 48.35 degree latitude and 13.95 degree longitude."
   ]
  },
  {
   "cell_type": "code",
   "execution_count": 7,
   "metadata": {},
   "outputs": [
    {
     "data": {
      "text/plain": [
       "<xarray.DataArray 'dis' (time: 1, latitude: 1, longitude: 1)>\n",
       "array([[[4148.968]]], dtype=float32)\n",
       "Coordinates:\n",
       "  * longitude  (longitude) float64 13.95\n",
       "  * latitude   (latitude) float64 48.35\n",
       "  * time       (time) datetime64[ns] 1981-07-22\n",
       "Attributes:\n",
       "    long_name:  discharge\n",
       "    units:      m3/s"
      ]
     },
     "execution_count": 7,
     "metadata": {},
     "output_type": "execute_result"
    }
   ],
   "source": [
    "maximum = dis.where(dis==dis.max(), drop=True)\n",
    "lat, lon = float(maximum.latitude), float(maximum.longitude)\n",
    "maximum"
   ]
  },
  {
   "cell_type": "markdown",
   "metadata": {},
   "source": [
    "To double-check, plot a circle around the point of interest. Indeed, its the point we looked for."
   ]
  },
  {
   "cell_type": "code",
   "execution_count": 8,
   "metadata": {},
   "outputs": [
    {
     "name": "stderr",
     "output_type": "stream",
     "text": [
      "/home/srvx11/lehre/users/a1254888/.conda/envs/ml_flood/lib/python3.7/site-packages/xarray/core/nanops.py:160: RuntimeWarning: Mean of empty slice\n",
      "  return np.nanmean(a, axis=axis, dtype=dtype)\n"
     ]
    },
    {
     "data": {
      "text/plain": [
       "[<matplotlib.lines.Line2D at 0x7fb26c816320>]"
      ]
     },
     "execution_count": 8,
     "metadata": {},
     "output_type": "execute_result"
    },
    {
     "data": {
      "image/png": "[encoded data removed]",
      "text/plain": [
       "<Figure size 432x288 with 2 Axes>"
      ]
     },
     "metadata": {
      "needs_background": "light"
     },
     "output_type": "display_data"
    }
   ],
   "source": [
    "dis.mean('time').plot(cmap='gist_ncar')\n",
    "plt.gca().plot(lon, lat, color='cyan', marker='o', \n",
    "                     markersize=20, mew=4, markerfacecolor='none')"
   ]
  },
  {
   "cell_type": "markdown",
   "metadata": {},
   "source": [
    "### Spatial aggregation\n",
    "We can either take the total sum of precipitation that falls throughout the basin, or we can aggregate it by time to the point of interest (POI). As we can see from the discharge plot above, points with less mean discharge are further away from the POI compared to gridpoints with a lighter color. This is the motivation to cluster the precipitation points by the mean discharge of the gridpoint. So we need discharge bins, according to which the precipitation at these gridpoints is grouped together to form one feature/predictor. The bin size can be determined from the distribution of discharges, so that points above 200 m^3/s discharge are one cluster, points from 100-200 m^3/s another cluster and so on.\n",
    "\n",
    "We'd like to have bins with equal 'flow time' to the POI. \n",
    "For 4 equal bins, use percentiles 0.25, 0.5 and 0.75."
   ]
  },
  {
   "cell_type": "code",
   "execution_count": 9,
   "metadata": {},
   "outputs": [
    {
     "data": {
      "text/plain": [
       "Text(0.5, 0, 'discharge [m$^3$/s]')"
      ]
     },
     "execution_count": 9,
     "metadata": {},
     "output_type": "execute_result"
    },
    {
     "data": {
      "image/png": "[encoded data removed]",
      "text/plain": [
       "<Figure size 432x288 with 1 Axes>"
      ]
     },
     "metadata": {
      "needs_background": "light"
     },
     "output_type": "display_data"
    }
   ],
   "source": [
    "dist = dis_mean.values.ravel()\n",
    "sns.distplot(dist, hist_kws=dict(cumulative=True),\n",
    "                   kde_kws=dict(cumulative=True))\n",
    "plt.ylabel('cumulative density')\n",
    "plt.xlabel('discharge [m$^3$/s]')"
   ]
  },
  {
   "cell_type": "markdown",
   "metadata": {},
   "source": [
    "We see that 80 percent of all gridpoints exhibit a mean discharge of less than 20 m^3/s, and that there is a sharp edge between 5 and 10 m^3/s discharge."
   ]
  },
  {
   "cell_type": "code",
   "execution_count": 10,
   "metadata": {},
   "outputs": [
    {
     "data": {
      "text/plain": [
       "Text(0.5, 0, 'discharge [m$^3$/s]')"
      ]
     },
     "execution_count": 10,
     "metadata": {},
     "output_type": "execute_result"
    },
    {
     "data": {
      "image/png": "[encoded data removed]",
      "text/plain": [
       "<Figure size 432x288 with 1 Axes>"
      ]
     },
     "metadata": {
      "needs_background": "light"
     },
     "output_type": "display_data"
    }
   ],
   "source": [
    "sns.distplot(dist, bins=np.logspace(-1, 4), hist_kws=dict(cumulative=True))\n",
    "plt.xlim(0,100)\n",
    "plt.grid()\n",
    "plt.ylabel('cumulative density')\n",
    "plt.xlabel('discharge [m$^3$/s]')"
   ]
  },
  {
   "cell_type": "code",
   "execution_count": 11,
   "metadata": {},
   "outputs": [
    {
     "name": "stdout",
     "output_type": "stream",
     "text": [
      "percentile 0.25 :  0.8 m^3/s\n",
      "percentile 0.5 :  2.544 m^3/s\n",
      "percentile 0.75 :  10.256 m^3/s\n"
     ]
    }
   ],
   "source": [
    "for q in [0.25, .5, .75]:\n",
    "    print('percentile', q, ': ', round(float(dis_mean.quantile(q)),3), 'm^3/s')"
   ]
  },
  {
   "cell_type": "code",
   "execution_count": 12,
   "metadata": {},
   "outputs": [
    {
     "data": {
      "text/plain": [
       "<xarray.Dataset>\n",
       "Dimensions:    (clusterId: 5, latitude: 30, longitude: 60)\n",
       "Coordinates:\n",
       "  * longitude  (longitude) float64 8.05 8.15 8.25 8.35 ... 13.75 13.85 13.95\n",
       "  * latitude   (latitude) float64 49.95 49.85 49.75 49.65 ... 47.25 47.15 47.05\n",
       "  * clusterId  (clusterId) int64 0 1 2 3 4\n",
       "Data variables:\n",
       "    0          (latitude, longitude) bool False False False ... False False\n",
       "    1          (latitude, longitude) bool False False False ... True False False\n",
       "    2          (latitude, longitude) bool False False False ... False False\n",
       "    3          (latitude, longitude) bool False False False ... False True True"
      ]
     },
     "execution_count": 12,
     "metadata": {},
     "output_type": "execute_result"
    }
   ],
   "source": [
    "bins = [0, 0.8, 2.4, 10.25, 10000]\n",
    "\n",
    "dis_mean = dis.mean('time')\n",
    "cluster = dict()\n",
    "for i in range(len(bins)-1):\n",
    "    cluster[str(i)] = (dis_mean >= bins[i]) & (dis_mean < bins[i+1])\n",
    "    cluster[str(i)].attrs['units'] = None\n",
    "    \n",
    "cluster = xr.Dataset(cluster, #dims=['cluster', 'latitude', 'longitude'],\n",
    "                                    coords=dict(clusterId=('clusterId', range(len(bins))),\n",
    "                                                latitude=('latitude', dis_mean.latitude),\n",
    "                                                longitude=('longitude', dis_mean.longitude)))\n",
    "cluster"
   ]
  },
  {
   "cell_type": "code",
   "execution_count": 13,
   "metadata": {
    "scrolled": false
   },
   "outputs": [
    {
     "data": {
      "image/png": "[encoded data removed]",
      "text/plain": [
       "<Figure size 432x288 with 2 Axes>"
      ]
     },
     "metadata": {
      "needs_background": "light"
     },
     "output_type": "display_data"
    },
    {
     "data": {
      "image/png": "[encoded data removed]",
      "text/plain": [
       "<Figure size 432x288 with 2 Axes>"
      ]
     },
     "metadata": {
      "needs_background": "light"
     },
     "output_type": "display_data"
    },
    {
     "data": {
      "image/png": "[encoded data removed]",
      "text/plain": [
       "<Figure size 432x288 with 2 Axes>"
      ]
     },
     "metadata": {
      "needs_background": "light"
     },
     "output_type": "display_data"
    },
    {
     "data": {
      "image/png": "[encoded data removed]",
      "text/plain": [
       "<Figure size 432x288 with 2 Axes>"
      ]
     },
     "metadata": {
      "needs_background": "light"
     },
     "output_type": "display_data"
    }
   ],
   "source": [
    "for c in cluster:\n",
    "    plt.figure()\n",
    "    cluster[c].plot()\n",
    "    plt.title('#points:'+str(int(cluster[c].sum())))\n"
   ]
  },
  {
   "cell_type": "markdown",
   "metadata": {},
   "source": [
    "To create an image with all clusters in one image, \n",
    "we will create a label-array containing a number between 0 and 3 for every gridpoint \n",
    "that classifies each gridpoint belonging to one of the four categories. \n",
    "\n",
    "In numpy you would probably use the numpy boolean masking operation:\n",
    "```\n",
    "for i in range(len(clusters)):\n",
    "    image[clustering[c]] = i  ```\n",
    "but you would notice an `IndexError`, as xarray does not support 2-dimensional boolean indexing. So we have to formulate it this way: `image = image.where(~clustering[c], i)`, where not 'this cluster', do nothing, else overwrite with the cluster index"
   ]
  },
  {
   "cell_type": "code",
   "execution_count": 14,
   "metadata": {},
   "outputs": [
    {
     "data": {
      "text/plain": [
       "<matplotlib.collections.QuadMesh at 0x7fb261d61278>"
      ]
     },
     "execution_count": 14,
     "metadata": {},
     "output_type": "execute_result"
    },
    {
     "data": {
      "image/png": "[encoded data removed]",
      "text/plain": [
       "<Figure size 432x288 with 2 Axes>"
      ]
     },
     "metadata": {
      "needs_background": "light"
     },
     "output_type": "display_data"
    }
   ],
   "source": [
    "image = dis_mean*0.\n",
    "image.name = 'spatial feature cluster'\n",
    "for i, c in enumerate(cluster):\n",
    "    image = image.where(~cluster[c], i)\n",
    "    \n",
    "image.plot(cmap = mpl.colors.ListedColormap(['grey', 'orange', 'blue', 'darkblue']))"
   ]
  },
  {
   "cell_type": "markdown",
   "metadata": {},
   "source": [
    "These are the gridpoints that are aggregated together to form one precipitation feature for the forecast model. For precipitation that is older than a few days, only the first cluster is of interest. Precipitation that occured on the other gridpoints is already transported outside of the domain for sure.\n",
    "\n",
    "\n",
    "### Finally prepare all input data\n"
   ]
  },
  {
   "cell_type": "code",
   "execution_count": 15,
   "metadata": {},
   "outputs": [
    {
     "data": {
      "text/plain": [
       "Coordinates:\n",
       "  * longitude  (longitude) float64 8.05 8.15 8.25 8.35 ... 13.75 13.85 13.95\n",
       "  * latitude   (latitude) float64 49.95 49.85 49.75 49.65 ... 47.25 47.15 47.05\n",
       "  * clusterId  (clusterId) <U1 '0' '1' '2' '3'"
      ]
     },
     "execution_count": 15,
     "metadata": {},
     "output_type": "execute_result"
    }
   ],
   "source": [
    "cluster = cluster.to_array('clusterId')\n",
    "cluster.coords "
   ]
  },
  {
   "cell_type": "code",
   "execution_count": 16,
   "metadata": {},
   "outputs": [],
   "source": [
    "era5 = era5.interp(latitude=glofas.latitude, longitude=glofas.longitude)"
   ]
  },
  {
   "cell_type": "code",
   "execution_count": 17,
   "metadata": {},
   "outputs": [],
   "source": [
    "def calc_area(da, resolution_degrees=None):\n",
    "    km_deg = 111319 # meters per degree latitude\n",
    "    \n",
    "    if not resolution_degrees:\n",
    "        if (len(da.latitude)<2 or len(da.longitude)<2):\n",
    "            raise ValueError('Either lat or lon is singleton, cannot infer resolution,' \\\n",
    "                             'pass `resolution_degrees` to continue!')\n",
    "        res_lat = abs(da.latitude[0].values-da.latitude[1].values)\n",
    "        res_lon = abs(da.longitude[0].values-da.longitude[1].values) \n",
    "    else:\n",
    "        res_lat = resolution_degrees\n",
    "        res_lon = resolution_degrees\n",
    "        \n",
    "    lats = da.latitude.values[:,np.newaxis]*np.ones(len(da.longitude))\n",
    "    dx = km_deg*abs(np.cos(lats/90))*res_lon\n",
    "    dy = km_deg*res_lat\n",
    "    for var in da:\n",
    "        area = dx*dy\n",
    "        area = xr.DataArray(area, dims=['latitude', 'longitude'],\n",
    "                            coords=dict(latitude=('latitude', da.latitude),\n",
    "                                        longitude=('longitude', da.longitude)))\n",
    "        area.name = 'area'\n",
    "        area.attrs['units'] = 'meters'\n",
    "        return area  # square meters very approximately\n",
    "\n",
    "def nandot(a, b, **kwargs):\n",
    "    \"\"\"Treat NaNs as zeros in dot.\"\"\"\n",
    "    a = a.where(~np.isnan(a), other=0.)\n",
    "    b = b.where(~np.isnan(b), other=0.)\n",
    "    s = xr.dot(a,b, **kwargs)\n",
    "    return s #s.where(~np.isnan(s), other=0.).sum(dims)  # other=0. replaces NaN by 0."
   ]
  },
  {
   "cell_type": "code",
   "execution_count": 21,
   "metadata": {},
   "outputs": [],
   "source": [
    "area_per_gridpoint = calc_area(dis_mean)\n",
    "\n",
    "features = []\n",
    "for var in ['cp', 'lsp']:\n",
    "    for cluster_id in cluster.clusterId:\n",
    "        points = era5[var].where(cluster.sel(clusterId=cluster_id))\n",
    "        feature = nandot(points, area_per_gridpoint)\n",
    "\n",
    "        # as we will combine the arrays as variables in a xr.Dataset, \n",
    "        # we move the cluster information from coordinates to the array name\n",
    "        cluster_id = str(feature.clusterId.values)\n",
    "        feature = feature.drop('clusterId')\n",
    "        feature.name = var+'_cluster'+str(cluster_id)\n",
    "        features.append(feature)"
   ]
  },
  {
   "cell_type": "code",
   "execution_count": 22,
   "metadata": {
    "scrolled": false
   },
   "outputs": [
    {
     "data": {
      "text/plain": [
       "<xarray.Dataset>\n",
       "Dimensions:       (time: 5478)\n",
       "Coordinates:\n",
       "  * time          (time) datetime64[ns] 1981-01-01 1981-01-02 ... 1995-12-31\n",
       "Data variables:\n",
       "    cp_cluster0   (time) float64 5.482e+07 1.906e+07 7.959e+07 ... 0.0 7.634e+05\n",
       "    cp_cluster1   (time) float64 6.716e+07 2.49e+07 ... 2.774e+05 5.396e+05\n",
       "    cp_cluster2   (time) float64 1.021e+08 3.952e+07 ... 1.39e+06 1.192e+06\n",
       "    cp_cluster3   (time) float64 8.35e+07 3.462e+07 ... 6.164e+05 5.767e+05\n",
       "    lsp_cluster0  (time) float64 4.996e+07 2.12e+08 ... 7.971e+06 1.25e+06\n",
       "    lsp_cluster1  (time) float64 7.006e+07 2.711e+08 ... 1.043e+07 1.295e+07\n",
       "    lsp_cluster2  (time) float64 1.308e+08 4.153e+08 ... 9.562e+06 5.657e+07\n",
       "    lsp_cluster3  (time) float64 8.867e+07 3.254e+08 ... 7.407e+06 2.891e+07"
      ]
     },
     "execution_count": 22,
     "metadata": {},
     "output_type": "execute_result"
    }
   ],
   "source": [
    "X = xr.merge(features)\n",
    "X"
   ]
  },
  {
   "cell_type": "code",
   "execution_count": null,
   "metadata": {},
   "outputs": [],
   "source": []
  },
  {
   "cell_type": "code",
   "execution_count": 23,
   "metadata": {},
   "outputs": [],
   "source": [
    "def add_shifted_predictors(ds, shifts, variables='all'):\n",
    "    \"\"\"Adds additional variables to an array which are shifted in time.\n",
    "    \n",
    "    Parameters\n",
    "    ----------\n",
    "    ds : xr.Dataset\n",
    "    shifts : list of integers\n",
    "    variables : str or list\n",
    "    \"\"\"\n",
    "    if variables == 'all': \n",
    "        variables = ds.data_vars\n",
    "        \n",
    "    for var in variables:\n",
    "        for i in shifts:\n",
    "            if i == 0: continue  # makes no sense to shift by zero\n",
    "            newvar = var+'-'+str(i)\n",
    "            ds[newvar] = ds[var].shift(time=i)\n",
    "    return ds"
   ]
  },
  {
   "cell_type": "markdown",
   "metadata": {},
   "source": [
    "What is shifting?"
   ]
  },
  {
   "cell_type": "code",
   "execution_count": 24,
   "metadata": {
    "scrolled": false
   },
   "outputs": [],
   "source": [
    "shifts = [1, 2, 3]\n",
    "shift_vars = ['lsp'] \n",
    "\n",
    "Xs = add_shifted_predictors(era5, shifts, variables=shift_vars)"
   ]
  },
  {
   "cell_type": "code",
   "execution_count": 25,
   "metadata": {},
   "outputs": [
    {
     "data": {
      "text/plain": [
       "<xarray.Dataset>\n",
       "Dimensions:      (latitude: 30, longitude: 60, time: 5478)\n",
       "Coordinates:\n",
       "  * time         (time) datetime64[ns] 1981-01-01 1981-01-02 ... 1995-12-31\n",
       "  * latitude     (latitude) float64 49.95 49.85 49.75 ... 47.25 47.15 47.05\n",
       "  * longitude    (longitude) float64 8.05 8.15 8.25 8.35 ... 13.75 13.85 13.95\n",
       "Data variables:\n",
       "    cp           (time, latitude, longitude) float64 0.002164 ... 0.0003907\n",
       "    lsp          (time, latitude, longitude) float64 0.001295 ... 0.005143\n",
       "    swvl1        (time, latitude, longitude) float64 0.3792 0.378 ... 0.3357\n",
       "    tcwv         (time, latitude, longitude) float64 8.601 8.688 ... 9.349 9.539\n",
       "    ro           (time, latitude, longitude) float64 1.07e-05 ... 2.108e-05\n",
       "    rtp_500-850  (time, latitude, longitude) float64 3.931e+04 ... 4.02e+04\n",
       "    lsp-1        (time, latitude, longitude) float64 nan nan ... 6.809e-05\n",
       "    lsp-2        (time, latitude, longitude) float64 nan nan ... 0.0002988\n",
       "    lsp-3        (time, latitude, longitude) float64 nan nan ... 3.518e-05"
      ]
     },
     "execution_count": 25,
     "metadata": {},
     "output_type": "execute_result"
    }
   ],
   "source": [
    "Xs"
   ]
  },
  {
   "cell_type": "markdown",
   "metadata": {},
   "source": [
    "### The goal\n",
    "The goal shall be to aggregate over an increasing number of days as we iterate back in time."
   ]
  },
  {
   "cell_type": "code",
   "execution_count": 26,
   "metadata": {},
   "outputs": [],
   "source": [
    "def shift_and_aggregate(df, shift, aggregate):\n",
    "    \"\"\"\n",
    "    To get a predictor from [lsp(t-3), ..., lsp(t-6)],\n",
    "    use shift = 3 and aggregate = 3\n",
    "    \"\"\"\n",
    "    return df.shift(time=shift).rolling(time=aggregate).sum()/aggregate"
   ]
  },
  {
   "cell_type": "code",
   "execution_count": 27,
   "metadata": {},
   "outputs": [
    {
     "data": {
      "text/plain": [
       "<matplotlib.legend.Legend at 0x7fb261af47f0>"
      ]
     },
     "execution_count": 27,
     "metadata": {},
     "output_type": "execute_result"
    },
    {
     "data": {
      "image/png": "[encoded data removed]",
      "text/plain": [
       "<Figure size 1080x360 with 1 Axes>"
      ]
     },
     "metadata": {
      "needs_background": "light"
     },
     "output_type": "display_data"
    }
   ],
   "source": [
    "# last 3 days as a single predictor\n",
    "last3 = shift_and_aggregate(Xs['lsp'], shift=3, aggregate=3)\n",
    "\n",
    "fig, ax = plt.subplots(figsize=(15,5))\n",
    "last3[:100, 0,0].plot(ax=ax, label='shift & agg.')\n",
    "Xs['lsp'][:100,0,0].plot(ax=ax, label='original')\n",
    "ax.legend()"
   ]
  },
  {
   "cell_type": "code",
   "execution_count": 30,
   "metadata": {},
   "outputs": [
    {
     "name": "stdout",
     "output_type": "stream",
     "text": [
      "pandas returned   0.004649092154577375\n",
      "manual test       0.004649092154577375\n",
      "test case success True\n"
     ]
    }
   ],
   "source": [
    "# numerical test\n",
    "t = 5\n",
    "t_shift = t-3\n",
    "manual_shift_agg = (Xs['lsp'][t_shift,0,0] \n",
    "                    + Xs['lsp'][t_shift-1,0,0] \n",
    "                    + Xs['lsp'][t_shift-2,0,0])/3\n",
    "\n",
    "print('pandas returned  ', float(last3[t,0,0]))\n",
    "print('manual test      ', float(manual_shift_agg))\n",
    "print('test case success', np.allclose(manual_shift_agg, last3[t,0,0]))"
   ]
  },
  {
   "cell_type": "markdown",
   "metadata": {},
   "source": []
  },
  {
   "cell_type": "code",
   "execution_count": 31,
   "metadata": {
    "scrolled": false
   },
   "outputs": [],
   "source": [
    "# actual predictors\n",
    "Xs['lsp-4-10'] = shift_and_aggregate(Xs['lsp'], shift=4, aggregate=7)\n",
    "Xs['lsp-11-24'] = shift_and_aggregate(Xs['lsp'], shift=14, aggregate=14)\n",
    "Xs['lsp-25-54'] = shift_and_aggregate(Xs['lsp'], shift=28, aggregate=30)"
   ]
  },
  {
   "cell_type": "code",
   "execution_count": 32,
   "metadata": {},
   "outputs": [
    {
     "data": {
      "text/plain": [
       "<xarray.Dataset>\n",
       "Dimensions:      (latitude: 30, longitude: 60, time: 5478)\n",
       "Coordinates:\n",
       "  * time         (time) datetime64[ns] 1981-01-01 1981-01-02 ... 1995-12-31\n",
       "  * latitude     (latitude) float64 49.95 49.85 49.75 ... 47.25 47.15 47.05\n",
       "  * longitude    (longitude) float64 8.05 8.15 8.25 8.35 ... 13.75 13.85 13.95\n",
       "Data variables:\n",
       "    cp           (time, latitude, longitude) float64 0.002164 ... 0.0003907\n",
       "    lsp          (time, latitude, longitude) float64 0.001295 ... 0.005143\n",
       "    swvl1        (time, latitude, longitude) float64 0.3792 0.378 ... 0.3357\n",
       "    tcwv         (time, latitude, longitude) float64 8.601 8.688 ... 9.349 9.539\n",
       "    ro           (time, latitude, longitude) float64 1.07e-05 ... 2.108e-05\n",
       "    rtp_500-850  (time, latitude, longitude) float64 3.931e+04 ... 4.02e+04\n",
       "    lsp-1        (time, latitude, longitude) float64 nan nan ... 6.809e-05\n",
       "    lsp-2        (time, latitude, longitude) float64 nan nan ... 0.0002988\n",
       "    lsp-3        (time, latitude, longitude) float64 nan nan ... 3.518e-05\n",
       "    lsp-4-10     (time, latitude, longitude) float64 nan nan ... 0.004049\n",
       "    lsp-11-24    (time, latitude, longitude) float64 nan nan ... 0.001895\n",
       "    lsp-25-54    (time, latitude, longitude) float64 nan nan ... 0.00134 0.00124"
      ]
     },
     "execution_count": 32,
     "metadata": {},
     "output_type": "execute_result"
    }
   ],
   "source": [
    "Xs"
   ]
  },
  {
   "cell_type": "code",
   "execution_count": 33,
   "metadata": {},
   "outputs": [
    {
     "data": {
      "text/plain": [
       "<xarray.DataArray 'lsp' (time: 5478)>\n",
       "array([2.177159e-03, 7.378675e-03, 1.861530e-02, ..., 1.649513e-06,\n",
       "       1.006345e-06, 5.271745e-05])\n",
       "Coordinates:\n",
       "  * time       (time) datetime64[ns] 1981-01-01 1981-01-02 ... 1995-12-31\n",
       "    latitude   float64 48.35\n",
       "    longitude  float64 13.95\n",
       "Attributes:\n",
       "    standard_name:  lwe_thickness_of_stratiform_precipitation_amount\n",
       "    long_name:      Large-scale precipitation\n",
       "    units:          m"
      ]
     },
     "execution_count": 33,
     "metadata": {},
     "output_type": "execute_result"
    }
   ],
   "source": [
    "y = era5['lsp'].interp(latitude=lat, longitude=lon)\n",
    "y"
   ]
  },
  {
   "cell_type": "code",
   "execution_count": 34,
   "metadata": {},
   "outputs": [],
   "source": [
    "Xar = Xs.to_array(dim='features')\n",
    "yar = y #.to_array()\n",
    "#yar = yar.rename({'variable': 'features'})\n",
    "yar = yar.drop(['latitude', 'longitude'])"
   ]
  },
  {
   "cell_type": "code",
   "execution_count": 35,
   "metadata": {},
   "outputs": [
    {
     "ename": "KeyError",
     "evalue": "'latitude'",
     "output_type": "error",
     "traceback": [
      "\u001b[0;31m---------------------------------------------------------------------------\u001b[0m",
      "\u001b[0;31mKeyError\u001b[0m                                  Traceback (most recent call last)",
      "\u001b[0;32m<ipython-input-35-1e66aee71617>\u001b[0m in \u001b[0;36m<module>\u001b[0;34m\u001b[0m\n\u001b[0;32m----> 1\u001b[0;31m \u001b[0mXy\u001b[0m \u001b[0;34m=\u001b[0m \u001b[0mxr\u001b[0m\u001b[0;34m.\u001b[0m\u001b[0mconcat\u001b[0m\u001b[0;34m(\u001b[0m\u001b[0;34m[\u001b[0m\u001b[0mXar\u001b[0m\u001b[0;34m,\u001b[0m \u001b[0myar\u001b[0m\u001b[0;34m]\u001b[0m\u001b[0;34m,\u001b[0m \u001b[0mdim\u001b[0m\u001b[0;34m=\u001b[0m\u001b[0;34m'features'\u001b[0m\u001b[0;34m)\u001b[0m\u001b[0;34m\u001b[0m\u001b[0;34m\u001b[0m\u001b[0m\n\u001b[0m\u001b[1;32m      2\u001b[0m \u001b[0mXyt\u001b[0m \u001b[0;34m=\u001b[0m \u001b[0mXy\u001b[0m\u001b[0;34m.\u001b[0m\u001b[0mdropna\u001b[0m\u001b[0;34m(\u001b[0m\u001b[0;34m'time'\u001b[0m\u001b[0;34m,\u001b[0m \u001b[0mhow\u001b[0m\u001b[0;34m=\u001b[0m\u001b[0;34m'any'\u001b[0m\u001b[0;34m)\u001b[0m  \u001b[0;31m# drop them as we cannot train on nan values\u001b[0m\u001b[0;34m\u001b[0m\u001b[0;34m\u001b[0m\u001b[0m\n",
      "\u001b[0;32m~/.conda/envs/ml_flood/lib/python3.7/site-packages/xarray/core/concat.py\u001b[0m in \u001b[0;36mconcat\u001b[0;34m(objs, dim, data_vars, coords, compat, positions, indexers, mode, concat_over, fill_value)\u001b[0m\n\u001b[1;32m    117\u001b[0m         raise TypeError('can only concatenate xarray Dataset and DataArray '\n\u001b[1;32m    118\u001b[0m                         'objects, got %s' % type(first_obj))\n\u001b[0;32m--> 119\u001b[0;31m     \u001b[0;32mreturn\u001b[0m \u001b[0mf\u001b[0m\u001b[0;34m(\u001b[0m\u001b[0mobjs\u001b[0m\u001b[0;34m,\u001b[0m \u001b[0mdim\u001b[0m\u001b[0;34m,\u001b[0m \u001b[0mdata_vars\u001b[0m\u001b[0;34m,\u001b[0m \u001b[0mcoords\u001b[0m\u001b[0;34m,\u001b[0m \u001b[0mcompat\u001b[0m\u001b[0;34m,\u001b[0m \u001b[0mpositions\u001b[0m\u001b[0;34m,\u001b[0m \u001b[0mfill_value\u001b[0m\u001b[0;34m)\u001b[0m\u001b[0;34m\u001b[0m\u001b[0;34m\u001b[0m\u001b[0m\n\u001b[0m\u001b[1;32m    120\u001b[0m \u001b[0;34m\u001b[0m\u001b[0m\n\u001b[1;32m    121\u001b[0m \u001b[0;34m\u001b[0m\u001b[0m\n",
      "\u001b[0;32m~/.conda/envs/ml_flood/lib/python3.7/site-packages/xarray/core/concat.py\u001b[0m in \u001b[0;36m_dataarray_concat\u001b[0;34m(arrays, dim, data_vars, coords, compat, positions, fill_value)\u001b[0m\n\u001b[1;32m    338\u001b[0m \u001b[0;34m\u001b[0m\u001b[0m\n\u001b[1;32m    339\u001b[0m     ds = _dataset_concat(datasets, dim, data_vars, coords, compat,\n\u001b[0;32m--> 340\u001b[0;31m                          positions, fill_value=fill_value)\n\u001b[0m\u001b[1;32m    341\u001b[0m     \u001b[0;32mreturn\u001b[0m \u001b[0marrays\u001b[0m\u001b[0;34m[\u001b[0m\u001b[0;36m0\u001b[0m\u001b[0;34m]\u001b[0m\u001b[0;34m.\u001b[0m\u001b[0m_from_temp_dataset\u001b[0m\u001b[0;34m(\u001b[0m\u001b[0mds\u001b[0m\u001b[0;34m,\u001b[0m \u001b[0mname\u001b[0m\u001b[0;34m)\u001b[0m\u001b[0;34m\u001b[0m\u001b[0;34m\u001b[0m\u001b[0m\n",
      "\u001b[0;32m~/.conda/envs/ml_flood/lib/python3.7/site-packages/xarray/core/concat.py\u001b[0m in \u001b[0;36m_dataset_concat\u001b[0;34m(datasets, dim, data_vars, coords, compat, positions, fill_value)\u001b[0m\n\u001b[1;32m    229\u001b[0m                      fill_value=fill_value)\n\u001b[1;32m    230\u001b[0m \u001b[0;34m\u001b[0m\u001b[0m\n\u001b[0;32m--> 231\u001b[0;31m     \u001b[0mconcat_over\u001b[0m\u001b[0;34m,\u001b[0m \u001b[0mequals\u001b[0m \u001b[0;34m=\u001b[0m \u001b[0m_calc_concat_over\u001b[0m\u001b[0;34m(\u001b[0m\u001b[0mdatasets\u001b[0m\u001b[0;34m,\u001b[0m \u001b[0mdim\u001b[0m\u001b[0;34m,\u001b[0m \u001b[0mdata_vars\u001b[0m\u001b[0;34m,\u001b[0m \u001b[0mcoords\u001b[0m\u001b[0;34m)\u001b[0m\u001b[0;34m\u001b[0m\u001b[0;34m\u001b[0m\u001b[0m\n\u001b[0m\u001b[1;32m    232\u001b[0m \u001b[0;34m\u001b[0m\u001b[0m\n\u001b[1;32m    233\u001b[0m     \u001b[0;32mdef\u001b[0m \u001b[0minsert_result_variable\u001b[0m\u001b[0;34m(\u001b[0m\u001b[0mk\u001b[0m\u001b[0;34m,\u001b[0m \u001b[0mv\u001b[0m\u001b[0;34m)\u001b[0m\u001b[0;34m:\u001b[0m\u001b[0;34m\u001b[0m\u001b[0;34m\u001b[0m\u001b[0m\n",
      "\u001b[0;32m~/.conda/envs/ml_flood/lib/python3.7/site-packages/xarray/core/concat.py\u001b[0m in \u001b[0;36m_calc_concat_over\u001b[0;34m(datasets, dim, data_vars, coords)\u001b[0m\n\u001b[1;32m    208\u001b[0m \u001b[0;34m\u001b[0m\u001b[0m\n\u001b[1;32m    209\u001b[0m     \u001b[0mprocess_subset_opt\u001b[0m\u001b[0;34m(\u001b[0m\u001b[0mdata_vars\u001b[0m\u001b[0;34m,\u001b[0m \u001b[0;34m'data_vars'\u001b[0m\u001b[0;34m)\u001b[0m\u001b[0;34m\u001b[0m\u001b[0;34m\u001b[0m\u001b[0m\n\u001b[0;32m--> 210\u001b[0;31m     \u001b[0mprocess_subset_opt\u001b[0m\u001b[0;34m(\u001b[0m\u001b[0mcoords\u001b[0m\u001b[0;34m,\u001b[0m \u001b[0;34m'coords'\u001b[0m\u001b[0;34m)\u001b[0m\u001b[0;34m\u001b[0m\u001b[0;34m\u001b[0m\u001b[0m\n\u001b[0m\u001b[1;32m    211\u001b[0m     \u001b[0;32mreturn\u001b[0m \u001b[0mconcat_over\u001b[0m\u001b[0;34m,\u001b[0m \u001b[0mequals\u001b[0m\u001b[0;34m\u001b[0m\u001b[0;34m\u001b[0m\u001b[0m\n\u001b[1;32m    212\u001b[0m \u001b[0;34m\u001b[0m\u001b[0m\n",
      "\u001b[0;32m~/.conda/envs/ml_flood/lib/python3.7/site-packages/xarray/core/concat.py\u001b[0m in \u001b[0;36mprocess_subset_opt\u001b[0;34m(opt, subset)\u001b[0m\n\u001b[1;32m    173\u001b[0m                         \u001b[0mcomputed\u001b[0m \u001b[0;34m=\u001b[0m \u001b[0;34m[\u001b[0m\u001b[0;34m]\u001b[0m\u001b[0;34m\u001b[0m\u001b[0;34m\u001b[0m\u001b[0m\n\u001b[1;32m    174\u001b[0m                         \u001b[0;32mfor\u001b[0m \u001b[0mds_rhs\u001b[0m \u001b[0;32min\u001b[0m \u001b[0mdatasets\u001b[0m\u001b[0;34m[\u001b[0m\u001b[0;36m1\u001b[0m\u001b[0;34m:\u001b[0m\u001b[0;34m]\u001b[0m\u001b[0;34m:\u001b[0m\u001b[0;34m\u001b[0m\u001b[0;34m\u001b[0m\u001b[0m\n\u001b[0;32m--> 175\u001b[0;31m                             \u001b[0mv_rhs\u001b[0m \u001b[0;34m=\u001b[0m \u001b[0mds_rhs\u001b[0m\u001b[0;34m.\u001b[0m\u001b[0mvariables\u001b[0m\u001b[0;34m[\u001b[0m\u001b[0mk\u001b[0m\u001b[0;34m]\u001b[0m\u001b[0;34m.\u001b[0m\u001b[0mcompute\u001b[0m\u001b[0;34m(\u001b[0m\u001b[0;34m)\u001b[0m\u001b[0;34m\u001b[0m\u001b[0;34m\u001b[0m\u001b[0m\n\u001b[0m\u001b[1;32m    176\u001b[0m                             \u001b[0mcomputed\u001b[0m\u001b[0;34m.\u001b[0m\u001b[0mappend\u001b[0m\u001b[0;34m(\u001b[0m\u001b[0mv_rhs\u001b[0m\u001b[0;34m)\u001b[0m\u001b[0;34m\u001b[0m\u001b[0;34m\u001b[0m\u001b[0m\n\u001b[1;32m    177\u001b[0m                             \u001b[0;32mif\u001b[0m \u001b[0;32mnot\u001b[0m \u001b[0mv_lhs\u001b[0m\u001b[0;34m.\u001b[0m\u001b[0mequals\u001b[0m\u001b[0;34m(\u001b[0m\u001b[0mv_rhs\u001b[0m\u001b[0;34m)\u001b[0m\u001b[0;34m:\u001b[0m\u001b[0;34m\u001b[0m\u001b[0;34m\u001b[0m\u001b[0m\n",
      "\u001b[0;32m~/.conda/envs/ml_flood/lib/python3.7/site-packages/xarray/core/utils.py\u001b[0m in \u001b[0;36m__getitem__\u001b[0;34m(self, key)\u001b[0m\n\u001b[1;32m    331\u001b[0m \u001b[0;34m\u001b[0m\u001b[0m\n\u001b[1;32m    332\u001b[0m     \u001b[0;32mdef\u001b[0m \u001b[0m__getitem__\u001b[0m\u001b[0;34m(\u001b[0m\u001b[0mself\u001b[0m\u001b[0;34m,\u001b[0m \u001b[0mkey\u001b[0m\u001b[0;34m:\u001b[0m \u001b[0mK\u001b[0m\u001b[0;34m)\u001b[0m \u001b[0;34m->\u001b[0m \u001b[0mV\u001b[0m\u001b[0;34m:\u001b[0m\u001b[0;34m\u001b[0m\u001b[0;34m\u001b[0m\u001b[0m\n\u001b[0;32m--> 333\u001b[0;31m         \u001b[0;32mreturn\u001b[0m \u001b[0mself\u001b[0m\u001b[0;34m.\u001b[0m\u001b[0mmapping\u001b[0m\u001b[0;34m[\u001b[0m\u001b[0mkey\u001b[0m\u001b[0;34m]\u001b[0m\u001b[0;34m\u001b[0m\u001b[0;34m\u001b[0m\u001b[0m\n\u001b[0m\u001b[1;32m    334\u001b[0m \u001b[0;34m\u001b[0m\u001b[0m\n\u001b[1;32m    335\u001b[0m     \u001b[0;32mdef\u001b[0m \u001b[0m__iter__\u001b[0m\u001b[0;34m(\u001b[0m\u001b[0mself\u001b[0m\u001b[0;34m)\u001b[0m \u001b[0;34m->\u001b[0m \u001b[0mIterator\u001b[0m\u001b[0;34m[\u001b[0m\u001b[0mK\u001b[0m\u001b[0;34m]\u001b[0m\u001b[0;34m:\u001b[0m\u001b[0;34m\u001b[0m\u001b[0;34m\u001b[0m\u001b[0m\n",
      "\u001b[0;31mKeyError\u001b[0m: 'latitude'"
     ]
    }
   ],
   "source": [
    "Xy = xr.concat([Xar, yar], dim='features')  \n",
    "Xyt = Xy.dropna('time', how='any')  # drop them as we cannot train on nan values"
   ]
  },
  {
   "cell_type": "code",
   "execution_count": null,
   "metadata": {},
   "outputs": [],
   "source": [
    "Xy.shape"
   ]
  },
  {
   "cell_type": "code",
   "execution_count": null,
   "metadata": {},
   "outputs": [],
   "source": [
    "assert len(Xyt.time) > 1"
   ]
  },
  {
   "cell_type": "code",
   "execution_count": null,
   "metadata": {},
   "outputs": [],
   "source": [
    "predictand = 'dis'\n",
    "predictors = [v for v in Xyt.coords['features'].values if v != predictand]"
   ]
  },
  {
   "cell_type": "code",
   "execution_count": null,
   "metadata": {},
   "outputs": [],
   "source": [
    "Xda = Xyt.loc[predictors]\n",
    "yda = Xyt.loc[predictand]"
   ]
  },
  {
   "cell_type": "code",
   "execution_count": null,
   "metadata": {
    "scrolled": false
   },
   "outputs": [],
   "source": [
    "predictors"
   ]
  },
  {
   "cell_type": "code",
   "execution_count": null,
   "metadata": {},
   "outputs": [],
   "source": [
    "time = yda.time\n",
    "Xda = Xda.chunk(dict(time=-1, features=-1)).data.T\n",
    "yda = yda.data.squeeze()"
   ]
  },
  {
   "cell_type": "code",
   "execution_count": null,
   "metadata": {},
   "outputs": [],
   "source": [
    "Xda"
   ]
  },
  {
   "cell_type": "code",
   "execution_count": null,
   "metadata": {},
   "outputs": [],
   "source": [
    "yda"
   ]
  },
  {
   "cell_type": "code",
   "execution_count": null,
   "metadata": {},
   "outputs": [],
   "source": [
    "import joblib\n",
    "from sklearn.pipeline import Pipeline\n",
    "from dask_ml.preprocessing import StandardScaler\n",
    "from dask_ml.decomposition import PCA\n",
    "\n",
    "#from dask_ml.xgboost import XGBRegressor\n",
    "from dask_ml.linear_model import LogisticRegression\n",
    "from dask_ml.linear_model import LinearRegression\n"
   ]
  },
  {
   "cell_type": "code",
   "execution_count": null,
   "metadata": {},
   "outputs": [],
   "source": [
    "model_kws = dict(n_jobs=-1, max_iter=10000, verbose=True)\n",
    "\n",
    "pipe = Pipeline([('scaler', StandardScaler()),\n",
    "                 #('pca', PCA(n_components=6)),\n",
    "                 ('model', LinearRegression(**model_kws)),],\n",
    "                verbose=True)"
   ]
  },
  {
   "cell_type": "code",
   "execution_count": null,
   "metadata": {},
   "outputs": [],
   "source": [
    "pipe"
   ]
  },
  {
   "cell_type": "code",
   "execution_count": null,
   "metadata": {
    "scrolled": true
   },
   "outputs": [],
   "source": [
    "Xda = Xda.persist()\n",
    "\n",
    "with ProgressBar():\n",
    "    pipe.fit(Xda, yda)"
   ]
  },
  {
   "cell_type": "code",
   "execution_count": null,
   "metadata": {},
   "outputs": [],
   "source": []
  },
  {
   "cell_type": "code",
   "execution_count": null,
   "metadata": {},
   "outputs": [],
   "source": [
    "def add_time(vector, time, name=None):\n",
    "    \"\"\"Converts arrays to xarrays with a time coordinate.\"\"\"\n",
    "    return xr.DataArray(vector, dims=('time'), coords={'time': time}, name=name)"
   ]
  },
  {
   "cell_type": "code",
   "execution_count": null,
   "metadata": {},
   "outputs": [],
   "source": [
    "with ProgressBar():\n",
    "    ytest = pipe.predict(Xda)"
   ]
  },
  {
   "cell_type": "code",
   "execution_count": null,
   "metadata": {},
   "outputs": [],
   "source": []
  },
  {
   "cell_type": "code",
   "execution_count": null,
   "metadata": {},
   "outputs": [],
   "source": [
    "ytest = add_time(ytest, time, name='dis-forecast')"
   ]
  },
  {
   "cell_type": "code",
   "execution_count": null,
   "metadata": {
    "scrolled": false
   },
   "outputs": [],
   "source": [
    "fig, ax = plt.subplots(figsize=(24,5))\n",
    "Xyt.loc[predictand].to_pandas().plot(ax=ax, label='dis-reanalysis')\n",
    "ytest.to_pandas().plot(ax=ax, label='dis-forecast')\n",
    "plt.legend()\n",
    "ax.set_ylabel('river discharge [m$^3$/s]')"
   ]
  },
  {
   "cell_type": "code",
   "execution_count": null,
   "metadata": {},
   "outputs": [],
   "source": []
  },
  {
   "cell_type": "code",
   "execution_count": null,
   "metadata": {},
   "outputs": [],
   "source": []
  },
  {
   "cell_type": "code",
   "execution_count": null,
   "metadata": {},
   "outputs": [],
   "source": []
  },
  {
   "cell_type": "code",
   "execution_count": null,
   "metadata": {},
   "outputs": [],
   "source": []
  },
  {
   "cell_type": "code",
   "execution_count": null,
   "metadata": {},
   "outputs": [],
   "source": []
  },
  {
   "cell_type": "code",
   "execution_count": null,
   "metadata": {},
   "outputs": [],
   "source": []
  },
  {
   "cell_type": "code",
   "execution_count": null,
   "metadata": {},
   "outputs": [],
   "source": []
  },
  {
   "cell_type": "code",
   "execution_count": null,
   "metadata": {},
   "outputs": [],
   "source": []
  }
 ],
 "metadata": {
  "kernelspec": {
   "display_name": "Python 3",
   "language": "python",
   "name": "python3"
  },
  "language_info": {
   "codemirror_mode": {
    "name": "ipython",
    "version": 3
   },
   "file_extension": ".py",
   "mimetype": "text/x-python",
   "name": "python",
   "nbconvert_exporter": "python",
   "pygments_lexer": "ipython3",
   "version": "3.7.3"
  }
 },
 "nbformat": 4,
 "nbformat_minor": 2
}
