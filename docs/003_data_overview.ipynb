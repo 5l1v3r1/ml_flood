{
 "cells": [
  {
   "cell_type": "markdown",
   "metadata": {},
   "source": [
    "# 003. Overview of the needed ERA5 and GloFAS data"
   ]
  },
  {
   "cell_type": "markdown",
   "metadata": {},
   "source": [
    "Which parameters do we need? Which variables affect the outcome? \n",
    "Dynamical and thermodynamical variables, hydrological variables, soil variables and variables that also account for unresolved or not simulated precipitation in the reanalysis (PWAT)."
   ]
  },
  {
   "cell_type": "markdown",
   "metadata": {},
   "source": [
    "## Datasets\n",
    "### ERA5\n",
    "\n",
    "Time Range: from 1981 to 2017\n",
    "\n",
    "#### dynamic fields\n",
    "Parameter Name       | paramId | levels \n",
    ":----      | ----: | ----:\n",
    "Temperature     | 130 | 850, 700, 500\n",
    "Specific humidity     | 133 | 850, 700, 500\n",
    "Geopotential   | 129 | 850, 700, 500\n",
    "Large-scale precipitation | 142 | -\n",
    "Convective precipitation | 143 | -\n",
    "Volumetric soil water layer 1 | 39 | -\n",
    "Volumetric soil water layer 2 | 40 | -\n",
    "Runoff | 205 | -\n",
    "Total column water vapour | 137 | -\n",
    "\n",
    "#### static fields\n",
    "Parameter Name       | paramId | levels \n",
    ":----      | ----: | ----:\n",
    "Soil type     | 43 | -\n",
    "Geopotential | 129 | 0\n",
    "Slope of sub-gridscale orography | 163 | -\n",
    "Land-sea mask | 172 | -\n",
    "\n",
    "- Dictionary:\n",
    "Field capacity per soil type\n",
    "\n",
    "### GloFAS\n",
    "\n",
    "- Reanalysis from 1981 to 2017 (all years)\n",
    "- Forecast reruns (11 Member Ensemble) for testing purposes two examplatory runs (europe only): \n",
    "    - 20th of May 2013\n",
    "    - 27th of May 2013\n",
    "    \n",
    "### Severe Weather Event Database\n",
    "A list of dates for flooding events and a corresponding location (polygons, or coordinate points).\n",
    "\n",
    "### Severe Event Catalogue\n",
    "A list of dates for flooding events and a corresponding location (polygons, or coordinate points).\n",
    "\n",
    "# Regions\n",
    "\n",
    "Area | Lat | Lon\n",
    "--- | --- | ---\n",
    "Danube | 47N - 50N | 7E - 20E; \n",
    "Asia | 0N - 55N | 35E - 140E \n",
    "USA | 25N - 50N | 125W - 70W\n",
    "\n",
    "\n"
   ]
  },
  {
   "cell_type": "code",
   "execution_count": null,
   "metadata": {},
   "outputs": [],
   "source": []
  },
  {
   "cell_type": "code",
   "execution_count": null,
   "metadata": {},
   "outputs": [],
   "source": []
  },
  {
   "cell_type": "code",
   "execution_count": null,
   "metadata": {},
   "outputs": [],
   "source": []
  }
 ],
 "metadata": {
  "kernelspec": {
   "display_name": "Python 3",
   "language": "python",
   "name": "python3"
  },
  "language_info": {
   "codemirror_mode": {
    "name": "ipython",
    "version": 3
   },
   "file_extension": ".py",
   "mimetype": "text/x-python",
   "name": "python",
   "nbconvert_exporter": "python",
   "pygments_lexer": "ipython3",
   "version": "3.7.3"
  }
 },
 "nbformat": 4,
 "nbformat_minor": 2
}
