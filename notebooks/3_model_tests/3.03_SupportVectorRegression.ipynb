{
 "cells": [
  {
   "cell_type": "markdown",
   "metadata": {},
   "source": [
    "# 3. Model tests\n",
    "## 3.03 Example: Support Vector Regression Model"
   ]
  },
  {
   "cell_type": "code",
   "execution_count": 1,
   "metadata": {},
   "outputs": [
    {
     "name": "stdout",
     "output_type": "stream",
     "text": [
      "/home/srvx11/lehre/users/a1303583/.conda/envs/ml_flood/bin/python3\n"
     ]
    }
   ],
   "source": [
    "import sys\n",
    "sys.path.append(\"../../\")\n",
    "print(sys.executable)"
   ]
  },
  {
   "cell_type": "code",
   "execution_count": 2,
   "metadata": {},
   "outputs": [],
   "source": [
    "import numpy as np\n",
    "import datetime as dt\n",
    "import pandas as pd\n",
    "import matplotlib as mpl\n",
    "import matplotlib.pyplot as plt\n",
    "import seaborn as sns\n",
    "import dask\n",
    "dask.config.set(scheduler='threads')\n",
    "import xarray as xr\n",
    "sys.path.append(\"../../\")\n",
    "from python.aux.utils_floodmodel import reshape_multiday_predictand\n",
    "from python.aux.utils_floodmodel import add_future_vars\n",
    "from python.aux.verification import verify, ME, RMSE, RMSE_persistence, NSE, NSE_diff"
   ]
  },
  {
   "cell_type": "markdown",
   "metadata": {},
   "source": [
    "## Loading the data\n",
    "Sample dataset contained in the git repository.\n",
    "\n",
    "As you are reading these lines, you opened the notebook in the `./docs/` folder of the main repository directory. To access the sample dataset that was delivered to you with the code, step outside the current directory (`../`) and enter the `data/` folder. The names of the sample datasets are `smallsampledata-era5.nc` and `smallsampledata-glofas.nc`, both in netCDF format, a user-friendly format that keeps the file size low and stores meta-data within the file.\n",
    "\n",
    "We use `xarray` to access the files, as it provides us with a very powerful interface to work with the data.\n",
    "\n",
    "The features are already prepared and ready to use, hence why they can be loaded directly from the `features_xy.nc` file.\n",
    "\n",
    "Let's open the files and see what's in there:"
   ]
  },
  {
   "cell_type": "code",
   "execution_count": 3,
   "metadata": {},
   "outputs": [],
   "source": [
    "# load data\n",
    "version = 'v1'\n",
    "\n",
    "if version == 'v1':\n",
    "    features = xr.open_dataset('../../data/features_xy.nc')\n",
    "    y = features['dis']\n",
    "    X = features.drop(['dis'])\n",
    "elif version == 'v2':\n",
    "    features = xr.open_dataset('../../data/features_xy_v2.nc')\n",
    "    y = features['dis']\n",
    "    X = features.drop(['dis', 'dis_diff'])"
   ]
  },
  {
   "cell_type": "code",
   "execution_count": 4,
   "metadata": {},
   "outputs": [
    {
     "data": {
      "text/plain": [
       "<xarray.Dataset>\n",
       "Dimensions:     (time: 5478)\n",
       "Coordinates:\n",
       "  * time        (time) datetime64[ns] 1981-01-01 1981-01-02 ... 1995-12-31\n",
       "    latitude    float64 ...\n",
       "    longitude   float64 ...\n",
       "Data variables:\n",
       "    cp          (time) float64 ...\n",
       "    lsp         (time) float64 ...\n",
       "    swvl1       (time) float64 ...\n",
       "    ro          (time) float64 ...\n",
       "    sd          (time) float64 ...\n",
       "    lsp-1       (time) float64 ...\n",
       "    lsp-2       (time) float64 ...\n",
       "    lsp-3       (time) float64 ...\n",
       "    lsp-4-10    (time) float64 ...\n",
       "    lsp-11-24   (time) float64 ...\n",
       "    lsp-25-54   (time) float64 ...\n",
       "    lsp-55-180  (time) float64 ...\n",
       "    cp-1        (time) float64 ...\n",
       "    cp-2        (time) float64 ...\n",
       "    cp-3        (time) float64 ...\n",
       "    sd_diff     (time) float64 ...\n",
       "    dis         (time) float64 ..."
      ]
     },
     "execution_count": 4,
     "metadata": {},
     "output_type": "execute_result"
    }
   ],
   "source": [
    "features"
   ]
  },
  {
   "cell_type": "markdown",
   "metadata": {},
   "source": [
    "Some control parameters for the procedure:\n",
    "\n",
    " * `add_shift_switch`: Shift and add shifted values as new features for multi-day forecasts. (only needed if forecasting multiple days at once => currently only implemented with nns!)\n",
    " * `dis_shift_1`: Add the discharge from the last day as additional feature for testing purposes.\n",
    " * `abs_vals_switch`: Model is trained on absolute discharge values if True and on differences/change in discharge else."
   ]
  },
  {
   "cell_type": "code",
   "execution_count": 5,
   "metadata": {},
   "outputs": [],
   "source": [
    "dis_shift_switch = False"
   ]
  },
  {
   "cell_type": "code",
   "execution_count": 6,
   "metadata": {},
   "outputs": [],
   "source": [
    "abs_vals_switch = False"
   ]
  },
  {
   "cell_type": "markdown",
   "metadata": {},
   "source": [
    "Begin with some short preprocessing.."
   ]
  },
  {
   "cell_type": "code",
   "execution_count": 7,
   "metadata": {},
   "outputs": [],
   "source": [
    "if dis_shift_switch:\n",
    "    dis_shift_1 = y.shift(time=1)\n",
    "    X = X.assign({'dis-1': dis_shift_1})"
   ]
  },
  {
   "cell_type": "code",
   "execution_count": 8,
   "metadata": {},
   "outputs": [],
   "source": [
    "X_base = X.to_array(dim='features').T\n",
    "y_base = y"
   ]
  },
  {
   "cell_type": "markdown",
   "metadata": {},
   "source": [
    "Next, we split the dataset into three parts for \n",
    "- training (the longest period for estimating the free parameters within the model), \n",
    "- validation (for tuning hyperparameters) and \n",
    "- testing (for the model comparison)."
   ]
  },
  {
   "cell_type": "code",
   "execution_count": 9,
   "metadata": {},
   "outputs": [],
   "source": [
    "period_train = dict(time=slice(None, '1990'))\n",
    "period_valid = dict(time=slice('1991', '1993'))\n",
    "period_test = dict(time=slice('1994', '1995'))"
   ]
  },
  {
   "cell_type": "code",
   "execution_count": 10,
   "metadata": {},
   "outputs": [],
   "source": [
    "X_train, y_train = X_base.loc[period_train], y_base.loc[period_train]\n",
    "X_valid, y_valid = X_base.loc[period_valid], y_base.loc[period_valid]\n",
    "X_test, y_test = X_base.loc[period_test], y_base.loc[period_test]"
   ]
  },
  {
   "cell_type": "code",
   "execution_count": 11,
   "metadata": {},
   "outputs": [],
   "source": [
    "def remove_outlier(x):\n",
    "    \"\"\"Removes outliers under, over 1th, 99th percentile of the input pandas series.\"\"\"\n",
    "    x99 = x.quantile(0.99)\n",
    "    x01 = x.quantile(0.01)\n",
    "    x = x.where(x > x01).dropna()\n",
    "    x = x.where(x < x99).dropna()\n",
    "    return x"
   ]
  },
  {
   "cell_type": "code",
   "execution_count": 12,
   "metadata": {},
   "outputs": [
    {
     "data": {
      "text/plain": [
       "((3652, 16), (3652,))"
      ]
     },
     "execution_count": 12,
     "metadata": {},
     "output_type": "execute_result"
    }
   ],
   "source": [
    "X_train.shape, y_train.shape"
   ]
  },
  {
   "cell_type": "code",
   "execution_count": 13,
   "metadata": {},
   "outputs": [],
   "source": [
    "time = y_train.time\n",
    "Xda = X_train.chunk(dict(time=-1, features=-1)).dropna(dim='time').to_pandas()\n",
    "\n",
    "if abs_vals_switch:\n",
    "    # train on absolute values\n",
    "    yda = y_train.to_pandas().loc[Xda.index]\n",
    "    # removing outlier and removing same parts from X\n",
    "    yda = remove_outlier(yda)\n",
    "    Xda = Xda.loc[yda.index]\n",
    "else:\n",
    "    # train on change in discharge values\n",
    "    yda = y_train.diff(dim='time').to_pandas().loc[Xda.index]\n",
    "    # removing outlier and removing same parts from X\n",
    "    yda = remove_outlier(yda)\n",
    "    Xda = Xda.loc[yda.index]"
   ]
  },
  {
   "cell_type": "code",
   "execution_count": 14,
   "metadata": {},
   "outputs": [],
   "source": [
    "import joblib\n",
    "from sklearn.pipeline import Pipeline\n",
    "from dask_ml.preprocessing import StandardScaler\n",
    "from dask_ml.decomposition import PCA\n",
    "\n",
    "\n",
    "from sklearn.svm import SVR"
   ]
  },
  {
   "cell_type": "markdown",
   "metadata": {},
   "source": [
    "# Define SupportVectorRegression Model"
   ]
  },
  {
   "cell_type": "code",
   "execution_count": 15,
   "metadata": {},
   "outputs": [
    {
     "name": "stdout",
     "output_type": "stream",
     "text": [
      "[Pipeline] ............ (step 1 of 2) Processing scaler, total=   0.0s\n",
      "[Pipeline] ............. (step 2 of 2) Processing model, total=   0.8s\n"
     ]
    },
    {
     "data": {
      "text/plain": [
       "Pipeline(memory=None,\n",
       "         steps=[('scaler',\n",
       "                 StandardScaler(copy=True, with_mean=True, with_std=True)),\n",
       "                ('model',\n",
       "                 SVR(C=10, cache_size=200, coef0=0.0, degree=1, epsilon=0.01,\n",
       "                     gamma='auto_deprecated', kernel='poly', max_iter=-1,\n",
       "                     shrinking=True, tol=0.001, verbose=False))],\n",
       "         verbose=True)"
      ]
     },
     "execution_count": 15,
     "metadata": {},
     "output_type": "execute_result"
    }
   ],
   "source": [
    "model = SVR(kernel='poly',\n",
    "            C=10,\n",
    "            epsilon=0.01,\n",
    "            degree=1,\n",
    "           )\n",
    "\n",
    "pipe = Pipeline([('scaler', StandardScaler()),\n",
    "                 #('pca', PCA(n_components=6)),\n",
    "                 ('model', model),], verbose=True)\n",
    "\n",
    "pipe.fit(Xda, yda)"
   ]
  },
  {
   "cell_type": "markdown",
   "metadata": {},
   "source": [
    "### in sample test for the predicted change, to verify functionality"
   ]
  },
  {
   "cell_type": "code",
   "execution_count": 16,
   "metadata": {},
   "outputs": [],
   "source": [
    "def add_time(vector, time, name=None):\n",
    "    \"\"\"Converts arrays to xarrays with a time coordinate.\"\"\"\n",
    "    return xr.DataArray(vector, dims=('time'), coords={'time': time}, name=name)"
   ]
  },
  {
   "cell_type": "code",
   "execution_count": 17,
   "metadata": {},
   "outputs": [
    {
     "name": "stdout",
     "output_type": "stream",
     "text": [
      "[-35392.9916366  -34393.32183156 -31187.23058533 ... -18710.13052999\n",
      " -12520.77361056 -20557.7137862 ]\n"
     ]
    },
    {
     "data": {
      "text/plain": [
       "<matplotlib.axes._subplots.AxesSubplot at 0x7f15c400e940>"
      ]
     },
     "execution_count": 17,
     "metadata": {},
     "output_type": "execute_result"
    },
    {
     "data": {
      "image/png": "[encoded data removed]",
      "text/plain": [
       "<Figure size 432x288 with 1 Axes>"
      ]
     },
     "metadata": {
      "needs_background": "light"
     },
     "output_type": "display_data"
    }
   ],
   "source": [
    "insample_check = pipe.predict(Xda)\n",
    "print(insample_check)\n",
    "insample_check = add_time(insample_check, Xda.index, name='forecast')\n",
    "insample_check.where(insample_check > insample_check.quantile(0.01)).to_pandas().plot(linewidth=0.5)\n",
    "yda.plot(linestyle='--', linewidth=0.5)"
   ]
  },
  {
   "cell_type": "markdown",
   "metadata": {},
   "source": [
    "#### Note that the insample test shows, that the forecasted discharge change is about one order of magnitude over the real one, indicating ."
   ]
  },
  {
   "cell_type": "markdown",
   "metadata": {},
   "source": [
    "Set the frequency at which forecast are started."
   ]
  },
  {
   "cell_type": "code",
   "execution_count": 18,
   "metadata": {},
   "outputs": [],
   "source": [
    "# prediction start from every nth day\n",
    "# if in doubt, leave n = 1 !!!\n",
    "n = 1\n",
    "X_pred = X_valid[::n]\n",
    "y_pred = pipe.predict(X_pred.values)\n",
    "y_pred = add_time(y_pred, X_pred.time, name='forecast')"
   ]
  },
  {
   "cell_type": "code",
   "execution_count": 19,
   "metadata": {
    "scrolled": false
   },
   "outputs": [],
   "source": [
    "def plot_pred_series(x, y, y_truth, forecast_range=14):\n",
    "    \"\"\"Convenience function for converting the prediction output in xr.DataArray with the sa\"\"\"\n",
    "    # assuming x has a resolution of 1 day, else a key error will result.\n",
    "    dt = x.time[1]-x.time[0]\n",
    "    # create prediction series containing nans\n",
    "    pred = x.copy().isel(features=0)*np.nan\n",
    "    # rename and drop unnecessary stuff\n",
    "    pred.name = 'prediction'\n",
    "    pred = pred.drop('features')\n",
    "    # add truth at time t=t0 for each forecast\n",
    "    y_steps = y[1::forecast_range].copy()\n",
    "#    print(pred)\n",
    "    pred.loc[y_steps.time-dt] = y_truth.loc[y_steps.time-dt]\n",
    "    pred.loc[y_steps.time] = y_steps + pred.loc[y_steps.time-dt].values\n",
    "    \n",
    "    # add multiple forecast days onto prediction\n",
    "    yinit = x.time.dt.year[0].values\n",
    "    tinit = f\"{yinit}-01-01\"\n",
    "    yend = x.time.dt.year[-1].values\n",
    "    tend = f\"{yend}-12-31\"\n",
    "    time_vec = y_steps.time.copy()\n",
    "    for i in range(1, forecast_range-2):\n",
    "        tind = (y_steps.time+dt*i).sel(time=slice(tinit, tend))\n",
    "        try: # easy way to ignore indexing out of the date range, happens only at the jump upwards of the boundary\n",
    "            pred.loc[tind] = y.loc[tind] + pred.loc[tind-dt].values\n",
    "        except:\n",
    "            pred.loc[tind[:-1]] = y.loc[tind[:-1]] + pred.loc[tind[:-1]-dt].values\n",
    "    \n",
    "    fig, ax = plt.subplots(figsize=(15,5))\n",
    "    y_truth.sel({'time': x.time}).to_pandas().plot(ax=ax, label='truth')\n",
    "    pred.to_pandas().plot(ax=ax, label='forecast')\n",
    "    plt.legend()\n",
    "    ax.set_ylabel('river discharge [m$^3$/s]')\n",
    "    return pred"
   ]
  },
  {
   "cell_type": "code",
   "execution_count": 20,
   "metadata": {},
   "outputs": [
    {
     "name": "stdout",
     "output_type": "stream",
     "text": [
      "<xarray.DataArray 'dis' (time: 1096)>\n",
      "array([ 602.04248 ,  609.904907,  632.579773, ..., 1132.167725, 1123.2948  ,\n",
      "       1120.796753])\n",
      "Coordinates:\n",
      "  * time       (time) datetime64[ns] 1991-01-01 1991-01-02 ... 1993-12-31\n",
      "    latitude   float64 ...\n",
      "    longitude  float64 ...\n",
      "Attributes:\n",
      "    long_name:  discharge\n",
      "    units:      m3/s\n"
     ]
    },
    {
     "data": {
      "text/plain": [
       "Text(0.5, 1.0, 'Support Vector Regression: |\\xa0RMSE=212.41; NSE=0.85')"
      ]
     },
     "execution_count": 20,
     "metadata": {},
     "output_type": "execute_result"
    },
    {
     "data": {
      "image/png": "[encoded data removed]",
      "text/plain": [
       "<Figure size 1080x360 with 1 Axes>"
      ]
     },
     "metadata": {
      "needs_background": "light"
     },
     "output_type": "display_data"
    }
   ],
   "source": [
    "pred = plot_pred_series(X_pred, y_pred, y, forecast_range=14)\n",
    "\n",
    "# calculate RMSE and NSE and put it in the plot title\n",
    "# differences\n",
    "#y_o = y_valid.diff(dim='time')\n",
    "#y_m = y_pred.where(y_o, drop=True)\n",
    "# absolute values\n",
    "y_o = y_valid\n",
    "y_m = pred\n",
    "print(y_o)\n",
    "rmse = np.sqrt(np.nanmean((y_m - y_o)**2))\n",
    "nse = 1 - np.sum((y_m - y_o)**2)/(np.sum((y_o - np.nanmean(y_o))**2))\n",
    "\n",
    "plt.title(f\"Support Vector Regression: | RMSE={round(float(rmse), 2)}; NSE={round(float(nse), 2)}\")"
   ]
  },
  {
   "cell_type": "markdown",
   "metadata": {},
   "source": [
    "#### Check the skill of a 14-day persistence forecast:"
   ]
  },
  {
   "cell_type": "code",
   "execution_count": 21,
   "metadata": {},
   "outputs": [
    {
     "name": "stdout",
     "output_type": "stream",
     "text": [
      "Persistence 14-day forecast: RMSE=251.09; NSE=0.77\n"
     ]
    }
   ],
   "source": [
    "forecast_range = 14\n",
    "y_o_pers = y_valid\n",
    "# persistence\n",
    "y_m_pers = y_valid.copy()\n",
    "for i in range(1, forecast_range):\n",
    "    y_m_pers.loc[y_valid.time[i::forecast_range]] = y_valid.shift(time=i)[i::forecast_range].values\n",
    "    \n",
    "rmse = np.sqrt(np.nanmean((y_m_pers - y_o_pers)**2))\n",
    "nse = 1 - np.sum((y_m_pers - y_o_pers)**2)/(np.sum((y_o_pers - np.nanmean(y_o_pers))**2))\n",
    "print(f\"Persistence {forecast_range}-day forecast: RMSE={round(float(rmse), 2)}; NSE={round(float(nse.values), 2)}\")"
   ]
  },
  {
   "cell_type": "markdown",
   "metadata": {},
   "source": [
    "Now, lets run a few different settings and compare the results:"
   ]
  },
  {
   "cell_type": "markdown",
   "metadata": {},
   "source": [
    "|   kernel    |   C   |  epsilon   |   degree    |   RMSE   |   NSE   | \n",
    "| :--------: | :-----: | :-----: | :-----: | :-----: |:-----: |\n",
    "| rbf | 1 | 0.01 | 1 | 225.41  |   0.83\n",
    "| rbf | 1 | 0.1 | 1 | 225.36  |   0.83\n",
    "| rbf | 1 | 1 | 1 | 225.53   |  0.83\n",
    "| rbf | 10 | 0.01 | 1 | 207.92  |   0.86\n",
    "| rbf | 10 | 0.1 | 1 | 207.92  |   0.86\n",
    "| rbf | 10 | 1 | 1 | 208.02  |   0.86\n",
    "| rbf | 100 | 0.01 | 1 | 191.2  |   0.88\n",
    "| rbf | 100 | 0.1 | 1 | 191.26   |  0.88\n",
    "| rbf | 100 | 1 | 1 | 191.33   |  0.88\n",
    "| --------------- | --------------- | --------------- | --------------- | --------------- | --------------- |\n",
    "| poly | 1 | 0.01 | 1 | 215.74  |   0.84\n",
    "| poly | 1 | 0.01 | 2 | 215.6   |  0.85\n",
    "| poly | 1 | 0.01 | 3 | 214.36  |   0.85\n",
    "| poly | 1 | 0.01 | 4 | 400.42  |   0.47\n",
    "| poly | 1 | 0.01 | 5 | 857.25  |   -1.45\n",
    "| poly | 1 | 0.1 | 1 | 215.68   |  0.85\n",
    "| poly | 1 | 0.1 | 2 | 215.57   |  0.85\n",
    "| poly | 1 | 0.1 | 3 | 214.44   |  0.85\n",
    "| poly | 1 | 0.1 | 4 | 400.21  |   0.47\n",
    "| poly | 1 | 0.1 | 5 | 856.67  |   -1.44\n",
    "| poly | 1 | 1 | 1 | 215.8  |   0.84\n",
    "| poly | 1 | 1 | 2 | 215.48   |  0.85\n",
    "| poly | 1 | 1 | 3 | 215.53   |  0.85\n",
    "| poly | 1 | 1 | 4 | 400.71   |  0.47\n",
    "| poly | 1 | 1 | 5 | 849.48   |  -1.4\n",
    "| poly | 10 | 0.01 | 1 | 212.41   |  0.85\n",
    "| poly | 10 | 0.01 | 2 | 210.54   |  0.85\n",
    "| poly | 10 | 0.01 | 3 | 237.14  |   0.81\n",
    "| poly | 10 | 0.01 | 4 | 629.68  |   -0.32\n",
    "| poly | 10 | 0.01 | 5 | 930.53  |   -1.88\n",
    "| poly | 10 | 0.1 | 1 | 212.44  |   0.85\n",
    "| poly | 10 | 0.1 | 2 | 210.64  |   0.85\n",
    "| poly | 10 | 0.1 | 3 | 237.7  |   0.81\n",
    "| poly | 10 | 0.1 | 4 | 628.9  |   -0.32\n",
    "| poly | 10 | 0.1 | 5 | 928.97   |  -1.88\n",
    "| poly | 10 | 1 | 1 | 212.03   |  0.85\n",
    "| poly | 10 | 1 | 2 | 209.92   |  0.85\n",
    "| poly | 10 | 1 | 3 | 238.99   |  0.81\n",
    "| poly | 10 | 1 | 4 | 638.4   |  -0.36\n",
    "| poly | 10 | 1 | 5 | 925.24   |  -1.85\n",
    "| poly | 100 | 0.01 | 1 | 211.66  |   0.85\n",
    "| poly | 100 | 0.01 | 2 | 212.83   |  0.85\n",
    "| poly | 100 | 0.01 | 3 | 275.11  |   0.75\n",
    "| poly | 100 | 0.01 | 4 | 720.05   |  -0.73\n",
    "| poly | 100 | 0.01 | 5 | 665.52   |  -0.48\n",
    "| poly | 100 | 0.1 | 1 | 211.7  |   0.85\n",
    "| poly | 100 | 0.1 | 2 | 212.93   |  0.85\n",
    "| poly | 100 | 0.1 | 3 | 274.38   |  0.75\n",
    "| poly | 100 | 0.1 | 4 | 720.36   |  -0.73\n",
    "| poly | 100 | 0.1 | 5 | 669.57   |  -0.49\n",
    "| poly | 100 | 1 | 1 | 211.71   |  0.85\n",
    "| poly | 100 | 1 | 2 | 212.31   |  0.85\n",
    "| poly | 100 | 1 | 3 | 267.6   |  0.76\n",
    "| poly | 100 | 1 | 4 | 724.14   |  -0.75\n",
    "| poly | 100 | 1 | 5 | 660.95   |  -0.46\n",
    "| --------------- | --------------- | --------------- | --------------- | --------------- | --------------- |\n",
    "| persistence 14-day forecast  | |  | | 251.09 | 0.77 |\n",
    "\n",
    "\n",
    "Concluding, a polynomial degree of 2 works best for the 'poly' kernel. It seems that the value of `epsilon` does not matter that much and even the impact of varying `C` is rather negligible. For the best setting, with `kernel='rbf'`, `C=100` and `epsilon=0.01`, the metrics `RMSE=191.2` and `NSE=0.88` are comparable to the result of the LinearRegressionModel, but this may be intriguing, as the insample test above shows, that the model exhibits some strange behaviour, which might indicate that SVR is just not a good model for predicting such kind of time series (even if the metrics for the validation period seem ok)."
   ]
  }
 ],
 "metadata": {
  "kernelspec": {
   "display_name": "Python 3",
   "language": "python",
   "name": "python3"
  },
  "language_info": {
   "codemirror_mode": {
    "name": "ipython",
    "version": 3
   },
   "file_extension": ".py",
   "mimetype": "text/x-python",
   "name": "python",
   "nbconvert_exporter": "python",
   "pygments_lexer": "ipython3",
   "version": "3.7.3"
  }
 },
 "nbformat": 4,
 "nbformat_minor": 2
}
