{
 "cells": [
  {
   "cell_type": "markdown",
   "metadata": {},
   "source": [
    "# 3.06 Hyperparameters"
   ]
  },
  {
   "cell_type": "markdown",
   "metadata": {},
   "source": [
    "## Time-delay neural net\n",
    "\n",
    "- Architecture (hidden layers, number of nodes)\n",
    "\n",
    "description\n",
    "\n",
    "\n",
    "## Convolutional network\n",
    "\n",
    "\n",
    "\n",
    "\n",
    "\n",
    "## LSTM network\n",
    "\n",
    "- Architecture (stacked layers)\n",
    "\n",
    "description\n",
    "\n",
    "- Number of forecast days\n",
    "\n",
    "\n",
    "- Regularization (dropout)\n",
    "\n",
    "description"
   ]
  },
  {
   "cell_type": "code",
   "execution_count": null,
   "metadata": {},
   "outputs": [],
   "source": []
  }
 ],
 "metadata": {
  "kernelspec": {
   "display_name": "Python 3",
   "language": "python",
   "name": "python3"
  },
  "language_info": {
   "codemirror_mode": {
    "name": "ipython",
    "version": 3
   },
   "file_extension": ".py",
   "mimetype": "text/x-python",
   "name": "python",
   "nbconvert_exporter": "python",
   "pygments_lexer": "ipython3",
   "version": "3.7.3"
  }
 },
 "nbformat": 4,
 "nbformat_minor": 2
}
