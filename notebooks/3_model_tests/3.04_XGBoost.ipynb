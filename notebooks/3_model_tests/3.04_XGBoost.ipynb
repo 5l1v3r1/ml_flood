{
 "cells": [
  {
   "cell_type": "markdown",
   "metadata": {},
   "source": [
    "# Example: XGBoost"
   ]
  },
  {
   "cell_type": "markdown",
   "metadata": {},
   "source": [
    "Process outline\n",
    "1. Prepare time delay features\n",
    "2. Spatial aggregation\n",
    "   - Area weighted sum for precipitation features\n",
    "   - Area mean for all other features\n",
    "3. Define the model\n",
    "4. Train the model\n",
    "   - Reshape the input dataset to the model specific `X` and `y` arrays\n",
    "   - Actually train on `X` and `y`"
   ]
  },
  {
   "cell_type": "code",
   "execution_count": 1,
   "metadata": {},
   "outputs": [
    {
     "name": "stdout",
     "output_type": "stream",
     "text": [
      "/home/srvx11/lehre/users/a1303583/.conda/envs/ml_flood/bin/python3\n"
     ]
    }
   ],
   "source": [
    "import sys\n",
    "sys.path.append(\"../../\")\n",
    "print(sys.executable)"
   ]
  },
  {
   "cell_type": "code",
   "execution_count": 2,
   "metadata": {},
   "outputs": [],
   "source": [
    "import numpy as np\n",
    "import datetime as dt\n",
    "import pandas as pd\n",
    "import matplotlib as mpl\n",
    "import matplotlib.pyplot as plt\n",
    "import seaborn as sns\n",
    "import dask\n",
    "dask.config.set(scheduler='threads')\n",
    "import xarray as xr\n",
    "sys.path.append(\"../../\")\n",
    "from python.aux.utils_floodmodel import reshape_multiday_predictand\n",
    "from python.aux.utils_floodmodel import add_future_vars"
   ]
  },
  {
   "cell_type": "markdown",
   "metadata": {},
   "source": [
    "## Loading the data\n",
    "Sample dataset contained in the git repository.\n",
    "\n",
    "As you are reading these lines, you opened the notebook in the `./docs/` folder of the main repository directory. To access the sample dataset that was delivered to you with the code, step outside the current directory (`../`) and enter the `data/` folder. The names of the sample datasets are `smallsampledata-era5.nc` and `smallsampledata-glofas.nc`, both in netCDF format, a user-friendly format that keeps the file size low and stores meta-data within the file.\n",
    "\n",
    "We use `xarray` to access the files, as it provides us with a very powerful interface to work with the data.\n",
    "\n",
    "The features are already prepared and ready to use, hence why they can be loaded directly from the `features_xy.nc` file.\n",
    "\n",
    "Let's open the files and see what's in there:"
   ]
  },
  {
   "cell_type": "code",
   "execution_count": 3,
   "metadata": {},
   "outputs": [],
   "source": [
    "# load data\n",
    "features = xr.open_dataset('../../data/features_xy_v2.nc')\n",
    "y = features['dis']\n",
    "X = features.drop(['dis'])"
   ]
  },
  {
   "cell_type": "code",
   "execution_count": 4,
   "metadata": {},
   "outputs": [
    {
     "data": {
      "text/plain": [
       "<xarray.Dataset>\n",
       "Dimensions:     (time: 5478)\n",
       "Coordinates:\n",
       "  * time        (time) datetime64[ns] 1981-01-01 1981-01-02 ... 1995-12-31\n",
       "    latitude    float64 ...\n",
       "    longitude   float64 ...\n",
       "Data variables:\n",
       "    cp          (time) float64 ...\n",
       "    lsp         (time) float64 ...\n",
       "    swvl1       (time) float64 ...\n",
       "    ro          (time) float64 ...\n",
       "    sd          (time) float64 ...\n",
       "    lsp-1       (time) float64 ...\n",
       "    lsp-2       (time) float64 ...\n",
       "    lsp-3       (time) float64 ...\n",
       "    lsp-4-10    (time) float64 ...\n",
       "    lsp-11-24   (time) float64 ...\n",
       "    lsp-25-54   (time) float64 ...\n",
       "    lsp-55-180  (time) float64 ...\n",
       "    cp-1        (time) float64 ...\n",
       "    cp-2        (time) float64 ...\n",
       "    cp-3        (time) float64 ...\n",
       "    sd_diff     (time) float64 ...\n",
       "    dis         (time) float64 ..."
      ]
     },
     "execution_count": 4,
     "metadata": {},
     "output_type": "execute_result"
    }
   ],
   "source": [
    "features"
   ]
  },
  {
   "cell_type": "markdown",
   "metadata": {},
   "source": [
    "Some control parameters for the procedure:\n",
    "\n",
    " * `add_shift_switch`: Shift and add shifted values as new features for multi-day forecasts. (only needed if forecasting multiple days at once => currently only implemented with nns!)\n",
    " * `dis_shift_1`: Add the discharge from the last day as additional feature for testing purposes.\n",
    " * `abs_vals_switch`: Model is trained on absolute discharge values if True and on differences/change in discharge else."
   ]
  },
  {
   "cell_type": "code",
   "execution_count": 5,
   "metadata": {},
   "outputs": [],
   "source": [
    "add_shift_switch = False"
   ]
  },
  {
   "cell_type": "code",
   "execution_count": 6,
   "metadata": {},
   "outputs": [],
   "source": [
    "dis_shift_switch = False"
   ]
  },
  {
   "cell_type": "code",
   "execution_count": 7,
   "metadata": {},
   "outputs": [],
   "source": [
    "abs_vals_switch = False"
   ]
  },
  {
   "cell_type": "markdown",
   "metadata": {},
   "source": [
    "Begin with some short preprocessing.."
   ]
  },
  {
   "cell_type": "code",
   "execution_count": 20,
   "metadata": {},
   "outputs": [],
   "source": [
    "if add_shift_switch:\n",
    "    # add features needed for multi-day forecast\n",
    "    X_new = add_future_vars(X, future_days=13)\n",
    "    # convert to xr.DataArray\n",
    "    X_new = X_new.to_array(dim='var_dimension')\n",
    "\n",
    "    # one more, because we dont need to forecast the current day\n",
    "    # (i.e. features for +13 forecast discharge for +14)\n",
    "    y_new = add_future_vars(y.to_dataset(), future_days=14)\n",
    "    # drop current day and convert to xr.DataArray\n",
    "    y_new = y_new.drop('dis').to_array(dim='forecast_day')\n",
    "    # set coords as integers, instead of \"var+t\"\n",
    "    y_new.coords['forecast_day'] = range(1,len(y_new.forecast_day)+1)\n",
    "    # reshape, so all are the same shape\n",
    "    Xt, yt = reshape_multiday_predictand(X_new, y_new)"
   ]
  },
  {
   "cell_type": "code",
   "execution_count": 21,
   "metadata": {},
   "outputs": [],
   "source": [
    "if dis_shift_switch:\n",
    "    dis_shift_1 = y.shift(time=1)\n",
    "    X = X.assign({'dis-1': dis_shift_1})"
   ]
  },
  {
   "cell_type": "code",
   "execution_count": 22,
   "metadata": {},
   "outputs": [],
   "source": [
    "if add_shift_switch:\n",
    "    X_base = Xt\n",
    "    y_base = yt\n",
    "else:\n",
    "    X_base = X.to_array(dim='features').T\n",
    "    y_base = y"
   ]
  },
  {
   "cell_type": "markdown",
   "metadata": {},
   "source": [
    "Next, we split the dataset into three parts for \n",
    "- training (the longest period for estimating the free parameters within the model), \n",
    "- validation (for tuning hyperparameters) and \n",
    "- testing (for the model comparison)."
   ]
  },
  {
   "cell_type": "code",
   "execution_count": 23,
   "metadata": {},
   "outputs": [],
   "source": [
    "period_train = dict(time=slice(None, '1990'))\n",
    "period_valid = dict(time=slice('1991', '1993'))\n",
    "period_test = dict(time=slice('1994', '1995'))"
   ]
  },
  {
   "cell_type": "code",
   "execution_count": 24,
   "metadata": {},
   "outputs": [],
   "source": [
    "X_train, y_train = X_base.loc[period_train], y_base.loc[period_train]\n",
    "X_valid, y_valid = X_base.loc[period_valid], y_base.loc[period_valid]\n",
    "X_test, y_test = X_base.loc[period_test], y_base.loc[period_test]"
   ]
  },
  {
   "cell_type": "code",
   "execution_count": 25,
   "metadata": {},
   "outputs": [],
   "source": [
    "def remove_outlier(x):\n",
    "    \"\"\"Removes outliers under, over 1th, 99th percentile of the input pandas series.\"\"\"\n",
    "    x99 = x.quantile(0.99)\n",
    "    x01 = x.quantile(0.01)\n",
    "    x = x.where(x > x01).dropna()\n",
    "    x = x.where(x < x99).dropna()\n",
    "    return x"
   ]
  },
  {
   "cell_type": "code",
   "execution_count": 26,
   "metadata": {},
   "outputs": [
    {
     "data": {
      "text/plain": [
       "((3652, 16), (3652,))"
      ]
     },
     "execution_count": 26,
     "metadata": {},
     "output_type": "execute_result"
    }
   ],
   "source": [
    "X_train.shape, y_train.shape"
   ]
  },
  {
   "cell_type": "code",
   "execution_count": 27,
   "metadata": {},
   "outputs": [],
   "source": [
    "time = y_train.time\n",
    "Xda = X_train.chunk(dict(time=-1, features=-1)).dropna(dim='time').to_pandas()\n",
    "\n",
    "if abs_vals_switch:\n",
    "    # train on absolute values\n",
    "    yda = y_train.to_pandas().loc[Xda.index]\n",
    "    # removing outlier and removing same parts from X\n",
    "    yda = remove_outlier(yda)\n",
    "    Xda = Xda.loc[yda.index]\n",
    "else:\n",
    "    # train on change in discharge values\n",
    "    yda = y_train.diff(dim='time').to_pandas().loc[Xda.index]\n",
    "    # removing outlier and removing same parts from X\n",
    "    yda = remove_outlier(yda)\n",
    "    Xda = Xda.loc[yda.index]"
   ]
  },
  {
   "cell_type": "code",
   "execution_count": 28,
   "metadata": {},
   "outputs": [],
   "source": [
    "import joblib\n",
    "from sklearn.pipeline import Pipeline\n",
    "from dask_ml.preprocessing import StandardScaler\n",
    "from dask_ml.decomposition import PCA\n",
    "\n",
    "from sklearn.metrics import mean_squared_error\n",
    "from sklearn.tree import DecisionTreeRegressor\n",
    "from sklearn.ensemble import AdaBoostRegressor\n",
    "from sklearn.ensemble import GradientBoostingRegressor"
   ]
  },
  {
   "cell_type": "markdown",
   "metadata": {},
   "source": [
    "# Define boosting regressor"
   ]
  },
  {
   "cell_type": "code",
   "execution_count": 29,
   "metadata": {},
   "outputs": [],
   "source": [
    "model = GradientBoostingRegressor(n_estimators=400,\n",
    "                                  learning_rate=0.2,\n",
    "                                  max_depth=10,\n",
    "                                  random_state=0,\n",
    "                                  loss='ls')\n",
    "\n",
    "pipe = Pipeline([('scaler', StandardScaler()),\n",
    "                 #('pca', PCA(n_components=6)),\n",
    "                 ('model', model),], verbose=True)"
   ]
  },
  {
   "cell_type": "markdown",
   "metadata": {},
   "source": [
    "model = AdaBoostRegressor(DecisionTreeRegressor(max_depth=6),\n",
    "                          n_estimators=400)\n",
    "\n",
    "\n",
    "pipe = Pipeline([('scaler', StandardScaler()),\n",
    "                 #('pca', PCA(n_components=6)),\n",
    "                 ('model', model),],\n",
    "                verbose=True)"
   ]
  },
  {
   "cell_type": "code",
   "execution_count": 30,
   "metadata": {},
   "outputs": [
    {
     "name": "stdout",
     "output_type": "stream",
     "text": [
      "[Pipeline] ............ (step 1 of 2) Processing scaler, total=   0.0s\n",
      "[Pipeline] ............. (step 2 of 2) Processing model, total=   9.3s\n"
     ]
    },
    {
     "data": {
      "text/plain": [
       "Pipeline(memory=None,\n",
       "         steps=[('scaler',\n",
       "                 StandardScaler(copy=True, with_mean=True, with_std=True)),\n",
       "                ('model',\n",
       "                 GradientBoostingRegressor(alpha=0.9, criterion='friedman_mse',\n",
       "                                           init=None, learning_rate=0.2,\n",
       "                                           loss='ls', max_depth=10,\n",
       "                                           max_features=None,\n",
       "                                           max_leaf_nodes=None,\n",
       "                                           min_impurity_decrease=0.0,\n",
       "                                           min_impurity_split=None,\n",
       "                                           min_samples_leaf=1,\n",
       "                                           min_samples_split=2,\n",
       "                                           min_weight_fraction_leaf=0.0,\n",
       "                                           n_estimators=400,\n",
       "                                           n_iter_no_change=None,\n",
       "                                           presort='auto', random_state=0,\n",
       "                                           subsample=1.0, tol=0.0001,\n",
       "                                           validation_fraction=0.1, verbose=0,\n",
       "                                           warm_start=False))],\n",
       "         verbose=True)"
      ]
     },
     "execution_count": 30,
     "metadata": {},
     "output_type": "execute_result"
    }
   ],
   "source": [
    "pipe.fit(Xda, yda)"
   ]
  },
  {
   "cell_type": "markdown",
   "metadata": {},
   "source": [
    "### in sample test for the predicted change, to verify functionality"
   ]
  },
  {
   "cell_type": "code",
   "execution_count": 33,
   "metadata": {},
   "outputs": [],
   "source": [
    "def add_time(vector, time, name=None):\n",
    "    \"\"\"Converts arrays to xarrays with a time coordinate.\"\"\"\n",
    "    return xr.DataArray(vector, dims=('time'), coords={'time': time}, name=name)"
   ]
  },
  {
   "cell_type": "code",
   "execution_count": 34,
   "metadata": {},
   "outputs": [
    {
     "name": "stderr",
     "output_type": "stream",
     "text": [
      "/home/srvx11/lehre/users/a1303583/.conda/envs/ml_flood/lib/python3.7/site-packages/pandas/plotting/_converter.py:129: FutureWarning: Using an implicitly registered datetime converter for a matplotlib plotting method. The converter was registered by pandas on import. Future versions of pandas will require you to explicitly register matplotlib converters.\n",
      "\n",
      "To register the converters:\n",
      "\t>>> from pandas.plotting import register_matplotlib_converters\n",
      "\t>>> register_matplotlib_converters()\n",
      "  warnings.warn(msg, FutureWarning)\n"
     ]
    },
    {
     "data": {
      "text/plain": [
       "<matplotlib.axes._subplots.AxesSubplot at 0x7f95dc18ef98>"
      ]
     },
     "execution_count": 34,
     "metadata": {},
     "output_type": "execute_result"
    },
    {
     "data": {
      "image/png": "[encoded data removed]",
      "text/plain": [
       "<Figure size 432x288 with 1 Axes>"
      ]
     },
     "metadata": {
      "needs_background": "light"
     },
     "output_type": "display_data"
    }
   ],
   "source": [
    "y_pred = pipe.predict(Xda)\n",
    "y_pred = add_time(y_pred, Xda.index, name='forecast')\n",
    "y_pred.plot()\n",
    "yda.plot()"
   ]
  },
  {
   "cell_type": "markdown",
   "metadata": {},
   "source": [
    "Set the frequency at which forecast are started."
   ]
  },
  {
   "cell_type": "code",
   "execution_count": 35,
   "metadata": {},
   "outputs": [],
   "source": [
    "# prediction start from every nth day\n",
    "n = 1\n",
    "X_pred = X_valid[::n]\n",
    "y_pred = pipe.predict(X_pred)"
   ]
  },
  {
   "cell_type": "code",
   "execution_count": 36,
   "metadata": {},
   "outputs": [],
   "source": [
    "y_pred = add_time(y_pred, X_pred.time, name='forecast')"
   ]
  },
  {
   "cell_type": "code",
   "execution_count": 40,
   "metadata": {
    "scrolled": false
   },
   "outputs": [],
   "source": [
    "def plot_pred_series(x, y, y_truth, forecast_range=14):\n",
    "    \"\"\"Convenience function for converting the prediction output in xr.DataArray with the sa\"\"\"\n",
    "    # assuming x has a resolution of 1 day, else a key error will result.\n",
    "    dt = x.time[1]-x.time[0]\n",
    "    # create prediction series containing nans\n",
    "    pred = x.copy().isel(features=0)*np.nan\n",
    "    # rename and drop unnecessary stuff\n",
    "    pred.name = 'prediction'\n",
    "    pred = pred.drop('features')\n",
    "    # add truth at time t=t0 for each forecast\n",
    "    y_steps = y[1::forecast_range].copy()\n",
    "    print(pred)\n",
    "    pred.loc[y_steps.time-dt] = y_truth.loc[y_steps.time-dt]\n",
    "    pred.loc[y_steps.time] = y_steps + pred.loc[y_steps.time-dt].values\n",
    "    \n",
    "    # add multiple forecast days onto prediction\n",
    "    yinit = x.time.dt.year[0].values\n",
    "    tinit = f\"{yinit}-01-01\"\n",
    "    yend = x.time.dt.year[-1].values\n",
    "    tend = f\"{yend}-12-31\"\n",
    "    time_vec = y_steps.time.copy()\n",
    "    for i in range(1, forecast_range-2):\n",
    "        tind = (y_steps.time+dt*i).sel(time=slice(tinit, tend))\n",
    "        try:\n",
    "            pred.loc[tind] = y.loc[tind] + pred.loc[tind-dt].values\n",
    "        except:\n",
    "            pred.loc[tind[:-1]] = y.loc[tind[:-1]] + pred.loc[tind[:-1]-dt].values\n",
    "    \n",
    "    fig, ax = plt.subplots(figsize=(15,5))\n",
    "    y_truth.sel({'time': x.time}).to_pandas().plot(ax=ax, label='truth')\n",
    "    pred.to_pandas().plot(ax=ax, label='forecast')\n",
    "    plt.legend()\n",
    "    ax.set_ylabel('river discharge [m$^3$/s]')\n",
    "    return None"
   ]
  },
  {
   "cell_type": "code",
   "execution_count": 41,
   "metadata": {},
   "outputs": [
    {
     "name": "stdout",
     "output_type": "stream",
     "text": [
      "<xarray.DataArray 'prediction' (time: 1096)>\n",
      "array([nan, nan, nan, ..., nan, nan, nan])\n",
      "Coordinates:\n",
      "  * time     (time) datetime64[ns] 1991-01-01 1991-01-02 ... 1993-12-31\n"
     ]
    },
    {
     "data": {
      "image/png": "[encoded data removed]",
      "text/plain": [
       "<Figure size 1080x360 with 1 Axes>"
      ]
     },
     "metadata": {
      "needs_background": "light"
     },
     "output_type": "display_data"
    }
   ],
   "source": [
    "plot_pred_series(X_pred, y_pred, y, forecast_range=14)"
   ]
  },
  {
   "cell_type": "code",
   "execution_count": null,
   "metadata": {},
   "outputs": [],
   "source": []
  },
  {
   "cell_type": "code",
   "execution_count": null,
   "metadata": {},
   "outputs": [],
   "source": []
  },
  {
   "cell_type": "code",
   "execution_count": null,
   "metadata": {},
   "outputs": [],
   "source": []
  },
  {
   "cell_type": "code",
   "execution_count": null,
   "metadata": {},
   "outputs": [],
   "source": []
  },
  {
   "cell_type": "code",
   "execution_count": null,
   "metadata": {},
   "outputs": [],
   "source": [
    "\n"
   ]
  }
 ],
 "metadata": {
  "kernelspec": {
   "display_name": "Python 3",
   "language": "python",
   "name": "python3"
  },
  "language_info": {
   "codemirror_mode": {
    "name": "ipython",
    "version": 3
   },
   "file_extension": ".py",
   "mimetype": "text/x-python",
   "name": "python",
   "nbconvert_exporter": "python",
   "pygments_lexer": "ipython3",
   "version": "3.7.3"
  }
 },
 "nbformat": 4,
 "nbformat_minor": 2
}
