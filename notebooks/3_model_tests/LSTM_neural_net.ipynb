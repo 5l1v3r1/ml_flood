{
 "cells": [
  {
   "cell_type": "markdown",
   "metadata": {},
   "source": [
    "# Example: Long short-term memory network (LSTM)\n",
    "\n",
    "\n",
    "Process outline\n",
    "1. Prepare time delay features\n",
    "2. Spatial aggregation\n",
    "   - Area weighted sum for precipitation features\n",
    "   - Area mean for all other features\n",
    "3. Define the model\n",
    "4. Train the model\n",
    "   - Reshape the input dataset to the model specific `X` and `y` arrays\n",
    "   - Actually train on `X` and `y`"
   ]
  },
  {
   "cell_type": "code",
   "execution_count": 1,
   "metadata": {},
   "outputs": [],
   "source": [
    "import numpy as np\n",
    "import datetime as dt\n",
    "import pandas as pd\n",
    "import matplotlib as mpl\n",
    "import matplotlib.pyplot as plt\n",
    "import seaborn as sns\n",
    "import dask\n",
    "dask.config.set(scheduler='threads')\n",
    "import xarray as xr"
   ]
  },
  {
   "cell_type": "markdown",
   "metadata": {},
   "source": [
    "## Loading the data\n",
    "Sample dataset contained in the git repository.\n",
    "\n",
    "As you are reading these lines, you opened the notebook in the `./docs/` folder of the main repository directory. To access the sample dataset that was delivered to you with the code, step outside the current directory (`../`) and enter the `data/` folder. The names of the sample datasets are `smallsampledata-era5.nc` and `smallsampledata-glofas.nc`, both in netCDF format, a user-friendly format that keeps the file size low and stores meta-data within the file.\n",
    "\n",
    "We use `xarray` to access the files, as it provides us with a very powerful interface to work with the data. Let's open the files and see what's in there:"
   ]
  },
  {
   "cell_type": "code",
   "execution_count": 2,
   "metadata": {},
   "outputs": [],
   "source": [
    "era5 = xr.open_dataset('../../data/smallsampledata-era5.nc')\n",
    "glofas = xr.open_dataset('../../data/smallsampledata-glofas.nc')"
   ]
  },
  {
   "cell_type": "markdown",
   "metadata": {},
   "source": [
    "Its datatype is `xarray.Dataset`, containing a spatio-temporal subset of 5 variables that we selected from the original ERA5 dataset. It also contains one derived variable (`rtp_500-850`) that is used in Meteorology quite a bit because it is proportional to mass-weighted mean temperature of the air, in this case between 850 and 500 hPa. It could be an additional predictor to classify the weather regime."
   ]
  },
  {
   "cell_type": "code",
   "execution_count": 3,
   "metadata": {},
   "outputs": [
    {
     "data": {
      "text/plain": [
       "<xarray.Dataset>\n",
       "Dimensions:      (latitude: 13, longitude: 25, time: 5478)\n",
       "Coordinates:\n",
       "  * time         (time) datetime64[ns] 1981-01-01 1981-01-02 ... 1995-12-31\n",
       "  * longitude    (longitude) float32 8.0 8.25 8.5 8.75 ... 13.25 13.5 13.75 14.0\n",
       "  * latitude     (latitude) float32 50.0 49.75 49.5 49.25 ... 47.5 47.25 47.0\n",
       "Data variables:\n",
       "    cp           (time, latitude, longitude) float32 ...\n",
       "    lsp          (time, latitude, longitude) float32 ...\n",
       "    swvl1        (time, latitude, longitude) float32 ...\n",
       "    tcwv         (time, latitude, longitude) float32 ...\n",
       "    ro           (time, latitude, longitude) float32 ...\n",
       "    rtp_500-850  (time, latitude, longitude) float32 ..."
      ]
     },
     "execution_count": 3,
     "metadata": {},
     "output_type": "execute_result"
    }
   ],
   "source": [
    "era5"
   ]
  },
  {
   "cell_type": "markdown",
   "metadata": {},
   "source": [
    "To access a variable's description, select one like this:"
   ]
  },
  {
   "cell_type": "code",
   "execution_count": 4,
   "metadata": {},
   "outputs": [
    {
     "data": {
      "text/plain": [
       "<xarray.DataArray 'cp' (time: 5478, latitude: 13, longitude: 25)>\n",
       "[1780350 values with dtype=float32]\n",
       "Coordinates:\n",
       "  * time       (time) datetime64[ns] 1981-01-01 1981-01-02 ... 1995-12-31\n",
       "  * longitude  (longitude) float32 8.0 8.25 8.5 8.75 ... 13.25 13.5 13.75 14.0\n",
       "  * latitude   (latitude) float32 50.0 49.75 49.5 49.25 ... 47.5 47.25 47.0\n",
       "Attributes:\n",
       "    standard_name:  lwe_thickness_of_convective_precipitation_amount\n",
       "    long_name:      Convective precipitation\n",
       "    units:          m"
      ]
     },
     "execution_count": 4,
     "metadata": {},
     "output_type": "execute_result"
    }
   ],
   "source": [
    "era5['cp']"
   ]
  },
  {
   "cell_type": "markdown",
   "metadata": {},
   "source": [
    "### Selecting useful predictor variables\n",
    "The selection has already been done by us when preparing the small sample datasets for you, so you can use them straight away. What is still necessary, is clustering and reshaping the input data dimension, because the dimensionality of the raw input data would be too high: \n",
    "\n",
    "To give a rough estimate, imagine using all GloFAS and ERA5 gridpoints of the upstream area of one point. For 1.5x1.5  degree (lat,lon), ERA5 provides 6 x 6 and GloFAS 15 x 15 gridpoints. To take the time dimension into account we'd need, say, 10 days of discharge and 180 days of precipitation. \n",
    "\n",
    "Summing up, this makes the raw input dimensionality 15 x 15 x 10 and 6 x 6 x 180, in total ~8700 features, where most of the predictors won't vary that much from one gridpoint to another in the upstream area (large scale temperature, total-column water vapor).\n",
    "\n",
    "To work around that, we need to \n",
    "  1. spatially aggregate  and \n",
    "  2. temporally aggregate the data (reduce dimensionality). \n",
    "  \n",
    "Both will be done in sections below, but first we need to define which point we will be making forecasts for.\n",
    "\n",
    "### Selecting the predictand\n",
    "The target variable shall be the discharge at the point where the Danube river leaves the data domain. This is given by the point within the catchment where the discharge is the highest, so we first filter by the catchment basin shapefile (Worldbank dataset \"Global River Basins\")\n",
    "\n",
    "To select the basin from the shapefile, we use a function defined in `./aux/utils.py`. The interested user may have a look there how it is done, but it would obstruct the clarity in this notebook. To import the function it needs to be present in the current processes path. We do that by adding the parent/main directory to `sys.path`. In this way we can import some function in `./aux/utils_flowmodel.py` by `from aux.utils_flowmodel import somefunction`."
   ]
  },
  {
   "cell_type": "code",
   "execution_count": 5,
   "metadata": {},
   "outputs": [],
   "source": [
    "import sys\n",
    "sys.path.append(\"../../\")\n",
    "from python.aux.utils_floodmodel import get_mask_of_basin"
   ]
  },
  {
   "cell_type": "code",
   "execution_count": 6,
   "metadata": {
    "scrolled": true
   },
   "outputs": [
    {
     "name": "stderr",
     "output_type": "stream",
     "text": [
      "/home/srvx11/lehre/users/a1254888/.conda/envs/ml_flood/lib/python3.7/site-packages/xarray/core/nanops.py:160: RuntimeWarning: Mean of empty slice\n",
      "  return np.nanmean(a, axis=axis, dtype=dtype)\n"
     ]
    }
   ],
   "source": [
    "danube_catchment = get_mask_of_basin(glofas['dis'].isel(time=0))\n",
    "dis = glofas['dis'].where(danube_catchment)\n",
    "dis_mean = dis.mean('time')"
   ]
  },
  {
   "cell_type": "markdown",
   "metadata": {},
   "source": [
    "Now we look up the coordinates of the maximum discharge point. We see that the point of interest is at 48.35 degree latitude and 13.95 degree longitude."
   ]
  },
  {
   "cell_type": "code",
   "execution_count": 7,
   "metadata": {},
   "outputs": [
    {
     "data": {
      "text/plain": [
       "<xarray.DataArray 'dis' (time: 1, latitude: 1, longitude: 1)>\n",
       "array([[[4148.968]]], dtype=float32)\n",
       "Coordinates:\n",
       "  * longitude  (longitude) float64 13.95\n",
       "  * latitude   (latitude) float64 48.35\n",
       "  * time       (time) datetime64[ns] 1981-07-22\n",
       "Attributes:\n",
       "    long_name:  discharge\n",
       "    units:      m3/s"
      ]
     },
     "execution_count": 7,
     "metadata": {},
     "output_type": "execute_result"
    }
   ],
   "source": [
    "maximum = dis.where(dis==dis.max(), drop=True)\n",
    "lat, lon = float(maximum.latitude), float(maximum.longitude)\n",
    "maximum"
   ]
  },
  {
   "cell_type": "markdown",
   "metadata": {},
   "source": [
    "To double-check, plot a circle around the point of interest. Indeed, its the point we looked for."
   ]
  },
  {
   "cell_type": "code",
   "execution_count": 8,
   "metadata": {},
   "outputs": [
    {
     "name": "stderr",
     "output_type": "stream",
     "text": [
      "/home/srvx11/lehre/users/a1254888/.conda/envs/ml_flood/lib/python3.7/site-packages/xarray/core/nanops.py:160: RuntimeWarning: Mean of empty slice\n",
      "  return np.nanmean(a, axis=axis, dtype=dtype)\n"
     ]
    },
    {
     "data": {
      "text/plain": [
       "[<matplotlib.lines.Line2D at 0x7f4b36e64588>]"
      ]
     },
     "execution_count": 8,
     "metadata": {},
     "output_type": "execute_result"
    },
    {
     "data": {
      "image/png": "[encoded data removed]",
      "text/plain": [
       "<Figure size 432x288 with 2 Axes>"
      ]
     },
     "metadata": {
      "needs_background": "light"
     },
     "output_type": "display_data"
    }
   ],
   "source": [
    "dis.mean('time').plot(cmap='gist_ncar')\n",
    "plt.gca().plot(lon, lat, color='cyan', marker='o', \n",
    "                     markersize=20, mew=4, markerfacecolor='none')"
   ]
  },
  {
   "cell_type": "markdown",
   "metadata": {},
   "source": [
    "## 1. Time aggregated predictors\n",
    "Delayed effect\n",
    "\n",
    "=> delayed impact, time-shifted precipitation variables\n",
    "\n",
    "The goal shall be to aggregate over an increasing number of days as we iterate back in time.\n",
    "What is shifting?\n",
    "\n",
    "Initial setup `X`:"
   ]
  },
  {
   "cell_type": "code",
   "execution_count": 109,
   "metadata": {},
   "outputs": [],
   "source": [
    "X = era5[['lsp']]"
   ]
  },
  {
   "cell_type": "code",
   "execution_count": 110,
   "metadata": {},
   "outputs": [],
   "source": [
    "from python.aux.utils_floodmodel import shift_and_aggregate"
   ]
  },
  {
   "cell_type": "raw",
   "metadata": {},
   "source": [
    "for var in ['lsp']:\n",
    "    for i in range(1,6):\n",
    "        newvar = var+'-'+str(i)\n",
    "        X[newvar] = X[var].shift(time=i)  # previous precip as current day variable\n",
    "        \n",
    "    for i in range(1,14):\n",
    "        newvar = var+'+'+str(i)\n",
    "        X[newvar] = X[var].shift(time=-i) # future precip as current day variable\n",
    "        "
   ]
  },
  {
   "cell_type": "markdown",
   "metadata": {},
   "source": [
    "## 2. Spatially aggregated predictors\n",
    "We can either take the total sum of precipitation that falls throughout the basin, or we can aggregate it by time to the point of interest (POI). As we can see from the discharge plot above, points with less mean discharge are further away from the POI compared to gridpoints with a lighter color. This is the motivation to cluster the precipitation points by the mean discharge of the gridpoint. So we need discharge bins, according to which the precipitation at these gridpoints is grouped together to form one feature/predictor. \n",
    "\n",
    "For an equal number of points per bin, we can have a look on the percentiles of the discharge distribution. As a first guess let's take four clusters so that the percentiles 0.25, 0.5 and 0.75 are our threshold values between the four clusters: "
   ]
  },
  {
   "cell_type": "code",
   "execution_count": 111,
   "metadata": {},
   "outputs": [
    {
     "name": "stdout",
     "output_type": "stream",
     "text": [
      "percentile 0.25 :  1.028 m^3/s\n",
      "percentile 0.5 :  2.902 m^3/s\n",
      "percentile 0.75 :  12.308 m^3/s\n"
     ]
    }
   ],
   "source": [
    "for q in [0.25, .5, .75]:\n",
    "    print('percentile', q, ': ', round(float(dis_mean.quantile(q)),3), 'm^3/s')"
   ]
  },
  {
   "cell_type": "markdown",
   "metadata": {},
   "source": [
    "Points with less than 0.8 $m^3/s$ discharge are the first cluster, points with 0.8-2.5 $m^3/s$ another cluster and so on. Finally we can add a visual to this, the cumulative distribution of discharges."
   ]
  },
  {
   "cell_type": "markdown",
   "metadata": {},
   "source": [
    "We see that 80 percent of all gridpoints exhibit a mean discharge of less than 20 m^3/s, and that there is a sharp change in slope between 5 and 10 m^3/s discharge."
   ]
  },
  {
   "cell_type": "markdown",
   "metadata": {},
   "source": [
    "### Create the clusters-masks"
   ]
  },
  {
   "cell_type": "code",
   "execution_count": 112,
   "metadata": {},
   "outputs": [],
   "source": [
    "from python.aux.utils_floodmodel import cluster_by_discharge\n",
    "\n",
    "bin_edges = [0, 0.8, 2.5, 10.25, 10000]\n",
    "cluster = cluster_by_discharge(dis_mean, bin_edges)"
   ]
  },
  {
   "cell_type": "markdown",
   "metadata": {},
   "source": [
    "To create an image with all clusters in one image, \n",
    "we will create a label-array containing a number between 0 and 3 for every gridpoint \n",
    "that classifies each gridpoint belonging to one of the four categories. \n",
    "\n",
    "In numpy you would probably use the numpy boolean masking operation:\n",
    "```\n",
    "for i in range(len(clusters)):\n",
    "    image[clustering[c]] = i  ```\n",
    "but you would notice an `IndexError`, as xarray does not support 2-dimensional boolean indexing. So we have to formulate it this way: `image = image.where(~clustering[c], i)`, where not 'this cluster', do nothing, else overwrite with the cluster index"
   ]
  },
  {
   "cell_type": "code",
   "execution_count": 113,
   "metadata": {},
   "outputs": [
    {
     "data": {
      "text/plain": [
       "<matplotlib.collections.QuadMesh at 0x7f4b36b211d0>"
      ]
     },
     "execution_count": 113,
     "metadata": {},
     "output_type": "execute_result"
    },
    {
     "data": {
      "image/png": "[encoded data removed]",
      "text/plain": [
       "<Figure size 432x288 with 2 Axes>"
      ]
     },
     "metadata": {
      "needs_background": "light"
     },
     "output_type": "display_data"
    }
   ],
   "source": [
    "image = dis_mean*0.\n",
    "image.name = 'spatial feature cluster'\n",
    "for i, c in enumerate(cluster):\n",
    "    image = image.where(~cluster[c], i)\n",
    "    \n",
    "image.plot(cmap = mpl.colors.ListedColormap(['grey', 'orange', 'blue', 'darkblue']))"
   ]
  },
  {
   "cell_type": "markdown",
   "metadata": {},
   "source": [
    "These are the gridpoints that are aggregated together to form one precipitation feature for the forecast model. For precipitation that is older than a few days, only the first cluster is of interest. Precipitation that occured on the other gridpoints is already transported outside of the domain for sure.\n"
   ]
  },
  {
   "cell_type": "code",
   "execution_count": 114,
   "metadata": {},
   "outputs": [
    {
     "data": {
      "text/plain": [
       "Coordinates:\n",
       "  * longitude  (longitude) float64 8.05 8.15 8.25 8.35 ... 13.75 13.85 13.95\n",
       "  * latitude   (latitude) float64 49.95 49.85 49.75 49.65 ... 47.25 47.15 47.05\n",
       "  * clusterId  (clusterId) <U1 '0' '1' '2' '3'"
      ]
     },
     "execution_count": 114,
     "metadata": {},
     "output_type": "execute_result"
    }
   ],
   "source": [
    "cluster = cluster.to_array('clusterId')\n",
    "cluster.coords "
   ]
  },
  {
   "cell_type": "code",
   "execution_count": 115,
   "metadata": {},
   "outputs": [],
   "source": [
    "from python.aux.utils_floodmodel import aggregate_clustersum"
   ]
  },
  {
   "cell_type": "raw",
   "metadata": {
    "scrolled": false
   },
   "source": [
    "Xagg = aggregate_clustersum(X, cluster, 'clusterId')"
   ]
  },
  {
   "cell_type": "raw",
   "metadata": {},
   "source": [
    "# drop these predictors (predictand time)\n",
    "for v in Xagg:\n",
    "    for vn in ['lsp_cluster', 'cp_cluster']:\n",
    "        if v.startswith(vn):\n",
    "            Xagg = Xagg.drop(v)\n",
    "            break"
   ]
  },
  {
   "cell_type": "markdown",
   "metadata": {},
   "source": [
    "Note: as it seems that the spatial clustering does not add any value, we will omit it for the time and work with the spatial mean within the catchment for all variables."
   ]
  },
  {
   "cell_type": "code",
   "execution_count": 138,
   "metadata": {
    "scrolled": false
   },
   "outputs": [
    {
     "data": {
      "text/plain": [
       "<xarray.Dataset>\n",
       "Dimensions:  (time: 5478)\n",
       "Coordinates:\n",
       "  * time     (time) datetime64[ns] 1981-01-01 1981-01-02 ... 1995-12-31\n",
       "Data variables:\n",
       "    lsp      (time) float32 0.0030980932 0.0107246665 ... 0.0010424339"
      ]
     },
     "execution_count": 138,
     "metadata": {},
     "output_type": "execute_result"
    }
   ],
   "source": [
    "if True:  # alternative: aggregating over space by taking the mean\n",
    "    Xagg = X.mean(['latitude', 'longitude'])\n",
    "Xagg"
   ]
  },
  {
   "cell_type": "code",
   "execution_count": 139,
   "metadata": {
    "scrolled": false
   },
   "outputs": [
    {
     "data": {
      "text/plain": [
       "<xarray.DataArray 'dis' (time: 5478)>\n",
       "array([798.361572, 792.207703, 796.706116, ..., 783.30896 , 782.144958,\n",
       "       778.828003])\n",
       "Coordinates:\n",
       "  * time       (time) datetime64[ns] 1981-01-01 1981-01-02 ... 1995-12-31\n",
       "    latitude   float64 48.35\n",
       "    longitude  float64 13.95\n",
       "Attributes:\n",
       "    long_name:  discharge\n",
       "    units:      m3/s"
      ]
     },
     "execution_count": 139,
     "metadata": {},
     "output_type": "execute_result"
    }
   ],
   "source": [
    "y = glofas['dis'].interp(latitude=lat, longitude=lon)\n",
    "y"
   ]
  },
  {
   "cell_type": "code",
   "execution_count": 140,
   "metadata": {},
   "outputs": [],
   "source": [
    "from python.aux.utils_floodmodel import reshape_multiday_predictand"
   ]
  },
  {
   "cell_type": "code",
   "execution_count": 141,
   "metadata": {},
   "outputs": [],
   "source": [
    "Xda = Xagg.to_array().T\n",
    "yda = y"
   ]
  },
  {
   "cell_type": "code",
   "execution_count": 143,
   "metadata": {},
   "outputs": [
    {
     "data": {
      "text/plain": [
       "((5478, 1), (5478,))"
      ]
     },
     "execution_count": 143,
     "metadata": {},
     "output_type": "execute_result"
    }
   ],
   "source": [
    "Xda.shape, yda.shape"
   ]
  },
  {
   "cell_type": "markdown",
   "metadata": {},
   "source": [
    "Next, we split the dataset into three parts for \n",
    "- training (the longest period for estimating the free parameters within the model), \n",
    "- validation (for tuning hyperparameters) and \n",
    "- testing (for the model comparison)."
   ]
  },
  {
   "cell_type": "code",
   "execution_count": 144,
   "metadata": {},
   "outputs": [],
   "source": [
    "period_train = dict(time=slice(None, '1990'))\n",
    "period_valid = dict(time=slice('1991', '1993'))\n",
    "period_test = dict(time=slice('1994', '1995'))"
   ]
  },
  {
   "cell_type": "code",
   "execution_count": 145,
   "metadata": {},
   "outputs": [],
   "source": [
    "X_train, y_train = Xda.loc[period_train], yda.loc[period_train]\n",
    "X_valid, y_valid = Xda.loc[period_valid], yda.loc[period_valid]\n",
    "X_test, y_test = Xda.loc[period_test], yda.loc[period_test]"
   ]
  },
  {
   "cell_type": "code",
   "execution_count": null,
   "metadata": {},
   "outputs": [],
   "source": []
  },
  {
   "cell_type": "code",
   "execution_count": null,
   "metadata": {},
   "outputs": [],
   "source": []
  },
  {
   "cell_type": "code",
   "execution_count": 208,
   "metadata": {},
   "outputs": [],
   "source": [
    "from sklearn_xarray import wrap\n",
    "from sklearn.pipeline import Pipeline\n",
    "from sklearn.preprocessing import StandardScaler\n",
    "import keras\n",
    "from keras.layers.core import Dropout\n",
    "from keras.constraints import MinMaxNorm, nonneg\n",
    "\n",
    "\n",
    "def reshape_LSTM(X, y=None, X_time_steps=30, X_features=1, N_times_predict=14):\n",
    "    \"\"\"Reshape for LSTM\n",
    "    \n",
    "    np.array input and output\n",
    "    \n",
    "    TODO: N_times_predict not equal X_time_steps\n",
    "    \"\"\"\n",
    "    samples = int(X.size/(X_time_steps*X_features))\n",
    "    \n",
    "    X = X[:samples*X_time_steps*X_features]\n",
    "    try:\n",
    "        y = y[:samples*X_time_steps]\n",
    "    except:\n",
    "        pass\n",
    "    \n",
    "    X = X.reshape(samples, X_time_steps, X_features)\n",
    "    try:\n",
    "        y = y.reshape(-1, X_time_steps)\n",
    "        return X, y\n",
    "    except:\n",
    "        return X\n",
    "\n",
    "    \n",
    "def add_time(vector, time, name=None):\n",
    "    \"\"\"Converts numpy arrays to xarrays with a time coordinate.\n",
    "\n",
    "    Parameters\n",
    "    ----------\n",
    "    vector : np.array\n",
    "        1-dimensional array of predictions\n",
    "    time : xr.DataArray\n",
    "        the return value of `Xda.time`\n",
    "\n",
    "    Returns\n",
    "    -------\n",
    "    xr.DataArray\n",
    "    \"\"\"\n",
    "    return xr.DataArray(vector, dims=('time'), coords={'time': time}, name=name)\n",
    "\n",
    "\n",
    "def add_time_to_sequence_output(array, time, name=None):\n",
    "    \"\"\"Add time coordinates to multiday model predictions.\n",
    "\n",
    "    Parameters\n",
    "    ----------\n",
    "    array : numpy.array\n",
    "        the prediction, 2-dimensional ('init_time', 'fxh')\n",
    "    time : xr.DataArray\n",
    "        the return value of `Xda.time`\n",
    "\n",
    "    Returns\n",
    "    -------\n",
    "    xr.DataArray\n",
    "    \"\"\"\n",
    "    init_time = pd.to_datetime(time.values) - dt.timedelta(hours=1)\n",
    "    forecast_day = range(1, array.shape[1]+1)\n",
    "    return xr.DataArray(array, dims=('init_time', 'forecast_day'),\n",
    "                        coords=dict(init_time=('init_time', init_time),\n",
    "                                    forecast_day=('forecast_day', forecast_day),\n",
    "                                    name=name))\n",
    "\n",
    "\n",
    "class FloodLSTM(object):\n",
    "    def __init__(self, **kwargs):\n",
    "        self.xscaler = StandardScaler()\n",
    "        self.yscaler = StandardScaler()\n",
    "        model = keras.models.Sequential()\n",
    "        self.cfg = kwargs\n",
    "        \n",
    "        nt_predict = self.cfg.get('output_dim', 14)\n",
    "        X_time_steps = self.cfg.get('X_time_steps', 30)\n",
    "        X_features = self.cfg.get('X_features', 1)\n",
    "        model.add(keras.layers.LSTM(nt_predict, \n",
    "                                    activation='tanh', \n",
    "                                    input_shape=(X_time_steps, X_features)))\n",
    "\n",
    "        #opt = keras.optimizers.Adadelta(lr=1, rho=0.95, epsilon=0.5, decay=0.0)\n",
    "        #opt = keras.optimizers.RMSprop()\n",
    "        #opt = keras.optimizers.SGD()\n",
    "        opt = keras.optimizers.Adam(lr=0.001, epsilon=0.05, amsgrad=False)\n",
    "\n",
    "        model.compile(loss=self.cfg.get('loss'), optimizer=opt)\n",
    "        self.model = model\n",
    "\n",
    "        self.callbacks = [keras.callbacks.EarlyStopping(monitor='val_loss',\n",
    "                            min_delta=1e-2, patience=100, verbose=0, mode='auto',\n",
    "                            baseline=None, restore_best_weights=True),]\n",
    "\n",
    "    def predict(self, Xda, name=None):\n",
    "        \"\"\"Input and Output: xr.DataArray\"\"\"\n",
    "        time = Xda.time\n",
    "\n",
    "        Xda = self.xscaler.transform(Xda)\n",
    "        X = reshape_LSTM(Xda, X_time_steps=self.cfg['X_time_steps'], \n",
    "                                    X_features=self.cfg['X_features'])\n",
    "\n",
    "        y = self.model.predict(X).squeeze()\n",
    "        y = self.yscaler.inverse_transform(y)\n",
    "        print(y.shape)\n",
    "        if len(y.shape) == 1:\n",
    "            return add_time(y, time, name=name)\n",
    "        else: \n",
    "            return add_time_to_sequence_output(y, time, name=name)\n",
    "\n",
    "    def fit(self, X_train, y_train, X_valid, y_valid, **kwargs):\n",
    "        \"\"\"Inputs: xr.DataArray\"\"\"\n",
    "        \n",
    "        X_train = self.xscaler.fit_transform(X_train.values)\n",
    "        X_valid = self.xscaler.transform(X_valid.values)\n",
    "        \n",
    "        y_train = self.yscaler.fit_transform(y_train.values.reshape(-1, 1))\n",
    "        y_valid = self.yscaler.transform(y_valid.values.reshape(-1, 1))\n",
    "        \n",
    "        X_train, y_train = reshape_LSTM(X_train, y_train, \n",
    "                                        self.cfg['X_time_steps'], \n",
    "                                        self.cfg['X_features'])\n",
    "        \n",
    "        X_valid, y_valid = reshape_LSTM(X_valid, y_valid, \n",
    "                                        self.cfg['X_time_steps'], \n",
    "                                        self.cfg['X_features'])\n",
    "        \n",
    "        print(X_train.shape, y_train.shape)\n",
    "        #                y_train.reshape(-1, self.cfg.get('output_dim', 1))\n",
    "        \n",
    "        #                y_valid.reshape(-1, self.cfg.get('output_dim', 1))\n",
    "        \n",
    "        return self.model.fit(X_train, y_train,\n",
    "                              validation_data=(X_valid, y_valid), \n",
    "                              epochs=self.cfg.get('epochs', 1000),\n",
    "                              batch_size=self.cfg.get('batch_size'),\n",
    "                              callbacks=self.callbacks,\n",
    "                              verbose=0, **kwargs)"
   ]
  },
  {
   "cell_type": "code",
   "execution_count": 209,
   "metadata": {},
   "outputs": [],
   "source": [
    "m = FloodLSTM(hidden_nodes=(64,32,16,8,),  #  (32,16,8,4,),  # \n",
    "            dropout=0.1,\n",
    "            X_time_steps=30,  # has to equal X_train.shape[1]\n",
    "            X_features=1,  # has to equal X_train.shape[2]\n",
    "            output_dim=30,\n",
    "            epochs=1000,\n",
    "            batch_size=180,\n",
    "            loss='mse')"
   ]
  },
  {
   "cell_type": "code",
   "execution_count": 210,
   "metadata": {},
   "outputs": [
    {
     "name": "stdout",
     "output_type": "stream",
     "text": [
      "(121, 30, 1) (121, 30)\n"
     ]
    }
   ],
   "source": [
    "hist = m.fit(X_train, y_train, X_valid, y_valid)"
   ]
  },
  {
   "cell_type": "code",
   "execution_count": 211,
   "metadata": {
    "scrolled": false
   },
   "outputs": [
    {
     "name": "stdout",
     "output_type": "stream",
     "text": [
      "_________________________________________________________________\n",
      "Layer (type)                 Output Shape              Param #   \n",
      "=================================================================\n",
      "lstm_21 (LSTM)               (None, 30)                3840      \n",
      "=================================================================\n",
      "Total params: 3,840\n",
      "Trainable params: 3,840\n",
      "Non-trainable params: 0\n",
      "_________________________________________________________________\n"
     ]
    }
   ],
   "source": [
    "m.model.summary()"
   ]
  },
  {
   "cell_type": "code",
   "execution_count": 212,
   "metadata": {
    "scrolled": false
   },
   "outputs": [
    {
     "data": {
      "image/png": "[encoded data removed]",
      "text/plain": [
       "<Figure size 576x288 with 1 Axes>"
      ]
     },
     "metadata": {
      "needs_background": "light"
     },
     "output_type": "display_data"
    }
   ],
   "source": [
    "h = hist.model.history\n",
    "\n",
    "# Plot training & validation loss value\n",
    "fig, ax = plt.subplots(figsize=(8,4))\n",
    "ax.plot(h.history['loss'], label='loss')\n",
    "ax.plot(h.history['val_loss'], label='val_loss')\n",
    "plt.title('Learning curve')\n",
    "ax.set_ylabel('Loss')\n",
    "ax.set_xlabel('Epoch')\n",
    "plt.legend(['Training', 'Validation'])\n",
    "ax.set_yscale('log')"
   ]
  },
  {
   "cell_type": "code",
   "execution_count": 213,
   "metadata": {},
   "outputs": [],
   "source": [
    "import os, yaml\n",
    "dir_model = '../../models/lstm-catchment_mean/'\n",
    "os.makedirs(dir_model, exist_ok=True)"
   ]
  },
  {
   "cell_type": "code",
   "execution_count": 215,
   "metadata": {},
   "outputs": [
    {
     "name": "stdout",
     "output_type": "stream",
     "text": [
      "(36, 30)\n"
     ]
    },
    {
     "ename": "ValueError",
     "evalue": "conflicting sizes for dimension 'init_time': length 36 on the data but length 1096 on coordinate 'init_time'",
     "output_type": "error",
     "traceback": [
      "\u001b[0;31m---------------------------------------------------------------------------\u001b[0m",
      "\u001b[0;31mValueError\u001b[0m                                Traceback (most recent call last)",
      "\u001b[0;32m<ipython-input-215-f6e5ec5ff0d5>\u001b[0m in \u001b[0;36m<module>\u001b[0;34m\u001b[0m\n\u001b[0;32m----> 1\u001b[0;31m \u001b[0mout\u001b[0m \u001b[0;34m=\u001b[0m \u001b[0mm\u001b[0m\u001b[0;34m.\u001b[0m\u001b[0mpredict\u001b[0m\u001b[0;34m(\u001b[0m\u001b[0mX_valid\u001b[0m\u001b[0;34m)\u001b[0m\u001b[0;34m\u001b[0m\u001b[0;34m\u001b[0m\u001b[0m\n\u001b[0m\u001b[1;32m      2\u001b[0m \u001b[0mout\u001b[0m\u001b[0;34m.\u001b[0m\u001b[0mto_netcdf\u001b[0m\u001b[0;34m(\u001b[0m\u001b[0mdir_model\u001b[0m\u001b[0;34m+\u001b[0m\u001b[0;34m'validation.nc'\u001b[0m\u001b[0;34m)\u001b[0m\u001b[0;34m\u001b[0m\u001b[0;34m\u001b[0m\u001b[0m\n\u001b[1;32m      3\u001b[0m \u001b[0;34m\u001b[0m\u001b[0m\n\u001b[1;32m      4\u001b[0m \u001b[0mout\u001b[0m \u001b[0;34m=\u001b[0m \u001b[0mm\u001b[0m\u001b[0;34m.\u001b[0m\u001b[0mpredict\u001b[0m\u001b[0;34m(\u001b[0m\u001b[0mX_test\u001b[0m\u001b[0;34m)\u001b[0m\u001b[0;34m\u001b[0m\u001b[0;34m\u001b[0m\u001b[0m\n\u001b[1;32m      5\u001b[0m \u001b[0mout\u001b[0m\u001b[0;34m.\u001b[0m\u001b[0mto_netcdf\u001b[0m\u001b[0;34m(\u001b[0m\u001b[0mdir_model\u001b[0m\u001b[0;34m+\u001b[0m\u001b[0;34m'test.nc'\u001b[0m\u001b[0;34m)\u001b[0m\u001b[0;34m\u001b[0m\u001b[0;34m\u001b[0m\u001b[0m\n",
      "\u001b[0;32m<ipython-input-208-37ec9847746f>\u001b[0m in \u001b[0;36mpredict\u001b[0;34m(self, Xda, name)\u001b[0m\n\u001b[1;32m    109\u001b[0m             \u001b[0;32mreturn\u001b[0m \u001b[0madd_time\u001b[0m\u001b[0;34m(\u001b[0m\u001b[0my\u001b[0m\u001b[0;34m,\u001b[0m \u001b[0mtime\u001b[0m\u001b[0;34m,\u001b[0m \u001b[0mname\u001b[0m\u001b[0;34m=\u001b[0m\u001b[0mname\u001b[0m\u001b[0;34m)\u001b[0m\u001b[0;34m\u001b[0m\u001b[0;34m\u001b[0m\u001b[0m\n\u001b[1;32m    110\u001b[0m         \u001b[0;32melse\u001b[0m\u001b[0;34m:\u001b[0m\u001b[0;34m\u001b[0m\u001b[0;34m\u001b[0m\u001b[0m\n\u001b[0;32m--> 111\u001b[0;31m             \u001b[0;32mreturn\u001b[0m \u001b[0madd_time_to_sequence_output\u001b[0m\u001b[0;34m(\u001b[0m\u001b[0my\u001b[0m\u001b[0;34m,\u001b[0m \u001b[0mtime\u001b[0m\u001b[0;34m,\u001b[0m \u001b[0mname\u001b[0m\u001b[0;34m=\u001b[0m\u001b[0mname\u001b[0m\u001b[0;34m)\u001b[0m\u001b[0;34m\u001b[0m\u001b[0;34m\u001b[0m\u001b[0m\n\u001b[0m\u001b[1;32m    112\u001b[0m \u001b[0;34m\u001b[0m\u001b[0m\n\u001b[1;32m    113\u001b[0m     \u001b[0;32mdef\u001b[0m \u001b[0mfit\u001b[0m\u001b[0;34m(\u001b[0m\u001b[0mself\u001b[0m\u001b[0;34m,\u001b[0m \u001b[0mX_train\u001b[0m\u001b[0;34m,\u001b[0m \u001b[0my_train\u001b[0m\u001b[0;34m,\u001b[0m \u001b[0mX_valid\u001b[0m\u001b[0;34m,\u001b[0m \u001b[0my_valid\u001b[0m\u001b[0;34m,\u001b[0m \u001b[0;34m**\u001b[0m\u001b[0mkwargs\u001b[0m\u001b[0;34m)\u001b[0m\u001b[0;34m:\u001b[0m\u001b[0;34m\u001b[0m\u001b[0;34m\u001b[0m\u001b[0m\n",
      "\u001b[0;32m<ipython-input-208-37ec9847746f>\u001b[0m in \u001b[0;36madd_time_to_sequence_output\u001b[0;34m(array, time, name)\u001b[0m\n\u001b[1;32m     66\u001b[0m                         coords=dict(init_time=('init_time', init_time),\n\u001b[1;32m     67\u001b[0m                                     \u001b[0mforecast_day\u001b[0m\u001b[0;34m=\u001b[0m\u001b[0;34m(\u001b[0m\u001b[0;34m'forecast_day'\u001b[0m\u001b[0;34m,\u001b[0m \u001b[0mforecast_day\u001b[0m\u001b[0;34m)\u001b[0m\u001b[0;34m,\u001b[0m\u001b[0;34m\u001b[0m\u001b[0;34m\u001b[0m\u001b[0m\n\u001b[0;32m---> 68\u001b[0;31m                                     name=name))\n\u001b[0m\u001b[1;32m     69\u001b[0m \u001b[0;34m\u001b[0m\u001b[0m\n\u001b[1;32m     70\u001b[0m \u001b[0;34m\u001b[0m\u001b[0m\n",
      "\u001b[0;32m~/.conda/envs/ml_flood/lib/python3.7/site-packages/xarray/core/dataarray.py\u001b[0m in \u001b[0;36m__init__\u001b[0;34m(self, data, coords, dims, name, attrs, encoding, indexes, fastpath)\u001b[0m\n\u001b[1;32m    279\u001b[0m \u001b[0;34m\u001b[0m\u001b[0m\n\u001b[1;32m    280\u001b[0m             \u001b[0mdata\u001b[0m \u001b[0;34m=\u001b[0m \u001b[0mas_compatible_data\u001b[0m\u001b[0;34m(\u001b[0m\u001b[0mdata\u001b[0m\u001b[0;34m)\u001b[0m\u001b[0;34m\u001b[0m\u001b[0;34m\u001b[0m\u001b[0m\n\u001b[0;32m--> 281\u001b[0;31m             \u001b[0mcoords\u001b[0m\u001b[0;34m,\u001b[0m \u001b[0mdims\u001b[0m \u001b[0;34m=\u001b[0m \u001b[0m_infer_coords_and_dims\u001b[0m\u001b[0;34m(\u001b[0m\u001b[0mdata\u001b[0m\u001b[0;34m.\u001b[0m\u001b[0mshape\u001b[0m\u001b[0;34m,\u001b[0m \u001b[0mcoords\u001b[0m\u001b[0;34m,\u001b[0m \u001b[0mdims\u001b[0m\u001b[0;34m)\u001b[0m\u001b[0;34m\u001b[0m\u001b[0;34m\u001b[0m\u001b[0m\n\u001b[0m\u001b[1;32m    282\u001b[0m             \u001b[0mvariable\u001b[0m \u001b[0;34m=\u001b[0m \u001b[0mVariable\u001b[0m\u001b[0;34m(\u001b[0m\u001b[0mdims\u001b[0m\u001b[0;34m,\u001b[0m \u001b[0mdata\u001b[0m\u001b[0;34m,\u001b[0m \u001b[0mattrs\u001b[0m\u001b[0;34m,\u001b[0m \u001b[0mencoding\u001b[0m\u001b[0;34m,\u001b[0m \u001b[0mfastpath\u001b[0m\u001b[0;34m=\u001b[0m\u001b[0;32mTrue\u001b[0m\u001b[0;34m)\u001b[0m\u001b[0;34m\u001b[0m\u001b[0;34m\u001b[0m\u001b[0m\n\u001b[1;32m    283\u001b[0m \u001b[0;34m\u001b[0m\u001b[0m\n",
      "\u001b[0;32m~/.conda/envs/ml_flood/lib/python3.7/site-packages/xarray/core/dataarray.py\u001b[0m in \u001b[0;36m_infer_coords_and_dims\u001b[0;34m(shape, coords, dims)\u001b[0m\n\u001b[1;32m    102\u001b[0m                 raise ValueError('conflicting sizes for dimension %r: '\n\u001b[1;32m    103\u001b[0m                                  \u001b[0;34m'length %s on the data but length %s on '\u001b[0m\u001b[0;34m\u001b[0m\u001b[0;34m\u001b[0m\u001b[0m\n\u001b[0;32m--> 104\u001b[0;31m                                  'coordinate %r' % (d, sizes[d], s, k))\n\u001b[0m\u001b[1;32m    105\u001b[0m \u001b[0;34m\u001b[0m\u001b[0m\n\u001b[1;32m    106\u001b[0m         \u001b[0;32mif\u001b[0m \u001b[0mk\u001b[0m \u001b[0;32min\u001b[0m \u001b[0msizes\u001b[0m \u001b[0;32mand\u001b[0m \u001b[0mv\u001b[0m\u001b[0;34m.\u001b[0m\u001b[0mshape\u001b[0m \u001b[0;34m!=\u001b[0m \u001b[0;34m(\u001b[0m\u001b[0msizes\u001b[0m\u001b[0;34m[\u001b[0m\u001b[0mk\u001b[0m\u001b[0;34m]\u001b[0m\u001b[0;34m,\u001b[0m\u001b[0;34m)\u001b[0m\u001b[0;34m:\u001b[0m\u001b[0;34m\u001b[0m\u001b[0;34m\u001b[0m\u001b[0m\n",
      "\u001b[0;31mValueError\u001b[0m: conflicting sizes for dimension 'init_time': length 36 on the data but length 1096 on coordinate 'init_time'"
     ]
    }
   ],
   "source": [
    "out = m.predict(X_valid)\n",
    "out.to_netcdf(dir_model+'validation.nc')\n",
    "\n",
    "out = m.predict(X_test)\n",
    "out.to_netcdf(dir_model+'test.nc')\n",
    "\n",
    "yaml_string = m.model.to_yaml()\n",
    "with open(dir_model+'config.yml', 'w') as f:\n",
    "    yaml.dump(yaml_string, f)\n",
    "    \n",
    "from contextlib import redirect_stdout\n",
    "with open(dir_model+'summary.txt', \"w\") as f:\n",
    "    with redirect_stdout(f):\n",
    "        m.model.summary()"
   ]
  },
  {
   "cell_type": "code",
   "execution_count": null,
   "metadata": {},
   "outputs": [],
   "source": [
    "def plot_recurrent(ax, truth, prediction):\n",
    "    truth.plot(label='truth', linewidth=2)\n",
    "    for i, init in enumerate(prediction.init_time):\n",
    "        if not i%7==0: \n",
    "            continue\n",
    "        df = prediction.sel(init_time=init).to_pandas()\n",
    "        df.index = [pd.Timestamp(init.values) + dt.timedelta(days=i) for i in df.index]\n",
    "        df.plot(ax=ax)\n",
    "    ax.legend(['truth'])"
   ]
  },
  {
   "cell_type": "code",
   "execution_count": null,
   "metadata": {},
   "outputs": [],
   "source": [
    "true_dis = glofas['dis'].interp(latitude=lat, longitude=lon)"
   ]
  },
  {
   "cell_type": "code",
   "execution_count": null,
   "metadata": {
    "scrolled": false
   },
   "outputs": [],
   "source": [
    "fix, ax = plt.subplots(figsize=(15,5))\n",
    "\n",
    "true_dis.sel(period_test).plot(label='truth')\n",
    "for d in out.forecast_day:\n",
    "    out.sel(forecast_day=d).plot(marker='.', label='+'+str(int(d)))\n",
    "ax.legend()"
   ]
  },
  {
   "cell_type": "code",
   "execution_count": null,
   "metadata": {
    "scrolled": true
   },
   "outputs": [],
   "source": [
    "fix, ax = plt.subplots(figsize=(15,5))\n",
    "time='1994-05'\n",
    "\n",
    "\n",
    "true_dis.sel(time=time).plot(ax=ax, label='truth')\n",
    "pred = out.sel(init_time=time)\n",
    "\n",
    "for init in pred.init_time:\n",
    "    df = out.sel(init_time=init).to_pandas()\n",
    "    df.index = [pd.Timestamp(init.values) + dt.timedelta(days=i) for i in df.index]\n",
    "    df.plot(ax=ax, marker='.') #label=str(init))\n",
    "ax.legend(['truth'])"
   ]
  },
  {
   "cell_type": "code",
   "execution_count": null,
   "metadata": {},
   "outputs": [],
   "source": []
  },
  {
   "cell_type": "markdown",
   "metadata": {},
   "source": [
    "## 2nd example"
   ]
  },
  {
   "cell_type": "code",
   "execution_count": null,
   "metadata": {},
   "outputs": [],
   "source": [
    "m = DenseNN(hidden_nodes=(12,8,6,4,),  \n",
    "            dropout=0.0,\n",
    "            output_dim=14,\n",
    "            epochs=1000,\n",
    "            batch_size=180,\n",
    "            loss='mse')\n",
    "\n",
    "hist = m.fit(X_train, y_train, X_valid, y_valid)"
   ]
  },
  {
   "cell_type": "code",
   "execution_count": null,
   "metadata": {},
   "outputs": [],
   "source": [
    "m.model.summary()\n",
    "\n",
    "h = hist.model.history\n",
    "\n",
    "# Plot training & validation loss value\n",
    "fig, ax = plt.subplots(figsize=(8,4))\n",
    "ax.plot(h.history['loss'], label='loss')\n",
    "ax.plot(h.history['val_loss'], label='val_loss')\n",
    "plt.title('Learning curve')\n",
    "ax.set_ylabel('Loss')\n",
    "ax.set_xlabel('Epoch')\n",
    "plt.legend(['Training', 'Validation'])\n",
    "ax.set_yscale('log')\n",
    "\n",
    "import os, yaml\n",
    "dir_model = '../../models/tdnn-catchment_mean_simple/'\n",
    "os.makedirs(dir_model, exist_ok=True)\n",
    "\n",
    "out = m.predict(X_valid)\n",
    "out.to_netcdf(dir_model+'validation.nc')\n",
    "\n",
    "out = m.predict(X_test)\n",
    "out.to_netcdf(dir_model+'test.nc')\n",
    "\n",
    "yaml_string = m.model.to_yaml()\n",
    "with open(dir_model+'config.yml', 'w') as f:\n",
    "    yaml.dump(yaml_string, f)\n",
    "    \n",
    "from contextlib import redirect_stdout\n",
    "with open(dir_model+'summary.txt', \"w\") as f:\n",
    "    with redirect_stdout(f):\n",
    "        m.model.summary()"
   ]
  },
  {
   "cell_type": "code",
   "execution_count": null,
   "metadata": {},
   "outputs": [],
   "source": []
  },
  {
   "cell_type": "code",
   "execution_count": null,
   "metadata": {},
   "outputs": [],
   "source": [
    "true_dis = glofas['dis'].interp(latitude=lat, longitude=lon)\n",
    "\n",
    "test_time = slice('1994', '1995')\n",
    "\n",
    "fix, ax = plt.subplots(figsize=(15,5))\n",
    "plot_recurrent(ax, truth=true_dis.sel(time=test_time), \n",
    "                   prediction=out.sel(init_time=test_time))\n",
    "\n",
    "\n",
    "\n",
    "time=slice('1994-03', '1994-05')\n",
    "\n",
    "fix, ax = plt.subplots(figsize=(15,5))\n",
    "plot_recurrent(ax, truth=true_dis.sel(time=time), \n",
    "                   prediction=out.sel(init_time=time))\n"
   ]
  },
  {
   "cell_type": "code",
   "execution_count": null,
   "metadata": {},
   "outputs": [],
   "source": []
  },
  {
   "cell_type": "code",
   "execution_count": null,
   "metadata": {},
   "outputs": [],
   "source": []
  }
 ],
 "metadata": {
  "kernelspec": {
   "display_name": "Python 3",
   "language": "python",
   "name": "python3"
  },
  "language_info": {
   "codemirror_mode": {
    "name": "ipython",
    "version": 3
   },
   "file_extension": ".py",
   "mimetype": "text/x-python",
   "name": "python",
   "nbconvert_exporter": "python",
   "pygments_lexer": "ipython3",
   "version": "3.7.3"
  }
 },
 "nbformat": 4,
 "nbformat_minor": 2
}
