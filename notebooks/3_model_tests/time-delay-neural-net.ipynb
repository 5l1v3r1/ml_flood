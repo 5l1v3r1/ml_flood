{
 "cells": [
  {
   "cell_type": "markdown",
   "metadata": {},
   "source": [
    "# Example: Time delay neural network\n",
    "\n",
    "\n",
    "Process outline\n",
    "1. Prepare time delay features\n",
    "2. Spatial aggregation\n",
    "   - Area weighted sum for precipitation features\n",
    "   - Area mean for all other features\n",
    "3. Define the model\n",
    "4. Train the model\n",
    "   - Reshape the input dataset to the model specific `X` and `y` arrays\n",
    "   - Actually train on `X` and `y`"
   ]
  },
  {
   "cell_type": "code",
   "execution_count": 1,
   "metadata": {},
   "outputs": [],
   "source": [
    "import numpy as np\n",
    "import datetime as dt\n",
    "import pandas as pd\n",
    "import matplotlib as mpl\n",
    "import matplotlib.pyplot as plt\n",
    "import seaborn as sns\n",
    "import dask\n",
    "dask.config.set(scheduler='threads')\n",
    "import xarray as xr"
   ]
  },
  {
   "cell_type": "markdown",
   "metadata": {},
   "source": [
    "## Loading the data\n",
    "Sample dataset contained in the git repository.\n",
    "\n",
    "As you are reading these lines, you opened the notebook in the `./docs/` folder of the main repository directory. To access the sample dataset that was delivered to you with the code, step outside the current directory (`../`) and enter the `data/` folder. The names of the sample datasets are `smallsampledata-era5.nc` and `smallsampledata-glofas.nc`, both in netCDF format, a user-friendly format that keeps the file size low and stores meta-data within the file.\n",
    "\n",
    "We use `xarray` to access the files, as it provides us with a very powerful interface to work with the data. Let's open the files and see what's in there:"
   ]
  },
  {
   "cell_type": "code",
   "execution_count": 2,
   "metadata": {},
   "outputs": [],
   "source": [
    "era5 = xr.open_dataset('../../data/smallsampledata-era5.nc')"
   ]
  },
  {
   "cell_type": "code",
   "execution_count": 3,
   "metadata": {},
   "outputs": [],
   "source": [
    "glofas = xr.open_dataset('../../data/smallsampledata-glofas.nc')"
   ]
  },
  {
   "cell_type": "markdown",
   "metadata": {},
   "source": [
    "Its datatype is `xarray.Dataset`, containing a spatio-temporal subset of 5 variables that we selected from the original ERA5 dataset. It also contains one derived variable (`rtp_500-850`) that is used in Meteorology quite a bit because it is proportional to mass-weighted mean temperature of the air, in this case between 850 and 500 hPa. It could be an additional predictor to classify the weather regime."
   ]
  },
  {
   "cell_type": "code",
   "execution_count": 4,
   "metadata": {},
   "outputs": [
    {
     "data": {
      "text/plain": [
       "<xarray.Dataset>\n",
       "Dimensions:      (latitude: 13, longitude: 25, time: 5478)\n",
       "Coordinates:\n",
       "  * time         (time) datetime64[ns] 1981-01-01 1981-01-02 ... 1995-12-31\n",
       "  * longitude    (longitude) float32 8.0 8.25 8.5 8.75 ... 13.25 13.5 13.75 14.0\n",
       "  * latitude     (latitude) float32 50.0 49.75 49.5 49.25 ... 47.5 47.25 47.0\n",
       "Data variables:\n",
       "    cp           (time, latitude, longitude) float32 ...\n",
       "    lsp          (time, latitude, longitude) float32 ...\n",
       "    swvl1        (time, latitude, longitude) float32 ...\n",
       "    tcwv         (time, latitude, longitude) float32 ...\n",
       "    ro           (time, latitude, longitude) float32 ...\n",
       "    rtp_500-850  (time, latitude, longitude) float32 ..."
      ]
     },
     "execution_count": 4,
     "metadata": {},
     "output_type": "execute_result"
    }
   ],
   "source": [
    "era5"
   ]
  },
  {
   "cell_type": "markdown",
   "metadata": {},
   "source": [
    "To access a variable's description, select one like this:"
   ]
  },
  {
   "cell_type": "code",
   "execution_count": 5,
   "metadata": {},
   "outputs": [
    {
     "data": {
      "text/plain": [
       "<xarray.DataArray 'cp' (time: 5478, latitude: 13, longitude: 25)>\n",
       "[1780350 values with dtype=float32]\n",
       "Coordinates:\n",
       "  * time       (time) datetime64[ns] 1981-01-01 1981-01-02 ... 1995-12-31\n",
       "  * longitude  (longitude) float32 8.0 8.25 8.5 8.75 ... 13.25 13.5 13.75 14.0\n",
       "  * latitude   (latitude) float32 50.0 49.75 49.5 49.25 ... 47.5 47.25 47.0\n",
       "Attributes:\n",
       "    standard_name:  lwe_thickness_of_convective_precipitation_amount\n",
       "    long_name:      Convective precipitation\n",
       "    units:          m"
      ]
     },
     "execution_count": 5,
     "metadata": {},
     "output_type": "execute_result"
    }
   ],
   "source": [
    "era5['cp']"
   ]
  },
  {
   "cell_type": "markdown",
   "metadata": {},
   "source": [
    "### Selecting useful predictor variables\n",
    "The selection has already been done by us when preparing the small sample datasets for you, so you can use them straight away. What is still necessary, is clustering and reshaping the input data dimension, because the dimensionality of the raw input data would be too high: \n",
    "\n",
    "To give a rough estimate, imagine using all GloFAS and ERA5 gridpoints of the upstream area of one point. For 1.5x1.5  degree (lat,lon), ERA5 provides 6 x 6 and GloFAS 15 x 15 gridpoints. To take the time dimension into account we'd need, say, 10 days of discharge and 180 days of precipitation. \n",
    "\n",
    "Summing up, this makes the raw input dimensionality 15 x 15 x 10 and 6 x 6 x 180, in total ~8700 features, where most of the predictors won't vary that much from one gridpoint to another in the upstream area (large scale temperature, total-column water vapor).\n",
    "\n",
    "To work around that, we need to \n",
    "  1. spatially aggregate  and \n",
    "  2. temporally aggregate the data (reduce dimensionality). \n",
    "  \n",
    "Both will be done in sections below, but first we need to define which point we will be making forecasts for.\n",
    "\n",
    "### Selecting the predictand\n",
    "The target variable shall be the discharge at the point where the Danube river leaves the data domain. This is given by the point within the catchment where the discharge is the highest, so we first filter by the catchment basin shapefile (Worldbank dataset \"Global River Basins\")\n",
    "\n",
    "To select the basin from the shapefile, we use a function defined in `./aux/utils.py`. The interested user may have a look there how it is done, but it would obstruct the clarity in this notebook. To import the function it needs to be present in the current processes path. We do that by adding the parent/main directory to `sys.path`. In this way we can import some function in `./aux/utils_flowmodel.py` by `from aux.utils_flowmodel import somefunction`."
   ]
  },
  {
   "cell_type": "code",
   "execution_count": 6,
   "metadata": {},
   "outputs": [],
   "source": [
    "import sys\n",
    "sys.path.append(\"../../\")\n",
    "from python.aux.utils_floodmodel import get_mask_of_basin"
   ]
  },
  {
   "cell_type": "code",
   "execution_count": 7,
   "metadata": {
    "scrolled": true
   },
   "outputs": [
    {
     "name": "stderr",
     "output_type": "stream",
     "text": [
      "/home/srvx11/lehre/users/a1254888/.conda/envs/ml_flood/lib/python3.7/site-packages/xarray/core/nanops.py:160: RuntimeWarning: Mean of empty slice\n",
      "  return np.nanmean(a, axis=axis, dtype=dtype)\n"
     ]
    }
   ],
   "source": [
    "danube_catchment = get_mask_of_basin(glofas['dis'].isel(time=0))\n",
    "dis = glofas['dis'].where(danube_catchment)\n",
    "dis_mean = dis.mean('time')"
   ]
  },
  {
   "cell_type": "markdown",
   "metadata": {},
   "source": [
    "Now we look up the coordinates of the maximum discharge point. We see that the point of interest is at 48.35 degree latitude and 13.95 degree longitude."
   ]
  },
  {
   "cell_type": "code",
   "execution_count": 8,
   "metadata": {},
   "outputs": [
    {
     "data": {
      "text/plain": [
       "<xarray.DataArray 'dis' (time: 1, latitude: 1, longitude: 1)>\n",
       "array([[[4148.968]]], dtype=float32)\n",
       "Coordinates:\n",
       "  * longitude  (longitude) float64 13.95\n",
       "  * latitude   (latitude) float64 48.35\n",
       "  * time       (time) datetime64[ns] 1981-07-22\n",
       "Attributes:\n",
       "    long_name:  discharge\n",
       "    units:      m3/s"
      ]
     },
     "execution_count": 8,
     "metadata": {},
     "output_type": "execute_result"
    }
   ],
   "source": [
    "maximum = dis.where(dis==dis.max(), drop=True)\n",
    "lat, lon = float(maximum.latitude), float(maximum.longitude)\n",
    "maximum"
   ]
  },
  {
   "cell_type": "markdown",
   "metadata": {},
   "source": [
    "To double-check, plot a circle around the point of interest. Indeed, its the point we looked for."
   ]
  },
  {
   "cell_type": "code",
   "execution_count": 9,
   "metadata": {},
   "outputs": [
    {
     "name": "stderr",
     "output_type": "stream",
     "text": [
      "/home/srvx11/lehre/users/a1254888/.conda/envs/ml_flood/lib/python3.7/site-packages/xarray/core/nanops.py:160: RuntimeWarning: Mean of empty slice\n",
      "  return np.nanmean(a, axis=axis, dtype=dtype)\n"
     ]
    },
    {
     "data": {
      "text/plain": [
       "[<matplotlib.lines.Line2D at 0x7f21c5727080>]"
      ]
     },
     "execution_count": 9,
     "metadata": {},
     "output_type": "execute_result"
    },
    {
     "data": {
      "image/png": "[encoded data removed]",
      "text/plain": [
       "<Figure size 432x288 with 2 Axes>"
      ]
     },
     "metadata": {
      "needs_background": "light"
     },
     "output_type": "display_data"
    }
   ],
   "source": [
    "dis.mean('time').plot(cmap='gist_ncar')\n",
    "plt.gca().plot(lon, lat, color='cyan', marker='o', \n",
    "                     markersize=20, mew=4, markerfacecolor='none')"
   ]
  },
  {
   "cell_type": "code",
   "execution_count": null,
   "metadata": {},
   "outputs": [],
   "source": []
  },
  {
   "cell_type": "markdown",
   "metadata": {},
   "source": [
    "## 1. Time aggregated predictors\n",
    "Delayed effect\n",
    "\n",
    "=> delayed impact, time-shifted precipitation variables\n",
    "\n",
    "The goal shall be to aggregate over an increasing number of days as we iterate back in time.\n",
    "What is shifting?\n",
    "\n",
    "Initial setup `X`:"
   ]
  },
  {
   "cell_type": "code",
   "execution_count": 10,
   "metadata": {},
   "outputs": [],
   "source": [
    "X = era5[['lsp', 'cp']]"
   ]
  },
  {
   "cell_type": "code",
   "execution_count": 11,
   "metadata": {},
   "outputs": [],
   "source": [
    "from python.aux.utils_floodmodel import shift_and_aggregate"
   ]
  },
  {
   "cell_type": "code",
   "execution_count": 12,
   "metadata": {},
   "outputs": [],
   "source": [
    "for var in ['lsp', 'cp']:\n",
    "    for i in range(1,6):\n",
    "        newvar = var+'-'+str(i)\n",
    "        X[newvar] = X[var].shift(time=i)  # previous precip as current day variable\n",
    "        \n",
    "    for i in range(1,14):\n",
    "        newvar = var+'+'+str(i)\n",
    "        X[newvar] = X[var].shift(time=-i) # future precip as current day variable\n",
    "        "
   ]
  },
  {
   "cell_type": "markdown",
   "metadata": {},
   "source": [
    "#### Finally, put the time aggregated predictors together\n",
    "Apply `shift_and_aggregate` before interpolating the fields to avoid MemoryErrors.\n"
   ]
  },
  {
   "cell_type": "code",
   "execution_count": 13,
   "metadata": {},
   "outputs": [],
   "source": [
    "X['lsp-5-11'] = shift_and_aggregate(X['lsp'], shift=5, aggregate=7)\n",
    "X['lsp-12-25'] = shift_and_aggregate(X['lsp'], shift=12, aggregate=14)\n",
    "X['lsp-26-55'] = shift_and_aggregate(X['lsp'], shift=26, aggregate=30)\n",
    "X['lsp-56-180'] = shift_and_aggregate(X['lsp'], shift=56, aggregate=125)"
   ]
  },
  {
   "cell_type": "markdown",
   "metadata": {},
   "source": [
    "## 2. Spatially aggregated predictors\n",
    "We can either take the total sum of precipitation that falls throughout the basin, or we can aggregate it by time to the point of interest (POI). As we can see from the discharge plot above, points with less mean discharge are further away from the POI compared to gridpoints with a lighter color. This is the motivation to cluster the precipitation points by the mean discharge of the gridpoint. So we need discharge bins, according to which the precipitation at these gridpoints is grouped together to form one feature/predictor. \n",
    "\n",
    "For an equal number of points per bin, we can have a look on the percentiles of the discharge distribution. As a first guess let's take four clusters so that the percentiles 0.25, 0.5 and 0.75 are our threshold values between the four clusters: "
   ]
  },
  {
   "cell_type": "code",
   "execution_count": 14,
   "metadata": {},
   "outputs": [
    {
     "name": "stdout",
     "output_type": "stream",
     "text": [
      "percentile 0.25 :  1.028 m^3/s\n",
      "percentile 0.5 :  2.902 m^3/s\n",
      "percentile 0.75 :  12.308 m^3/s\n"
     ]
    }
   ],
   "source": [
    "for q in [0.25, .5, .75]:\n",
    "    print('percentile', q, ': ', round(float(dis_mean.quantile(q)),3), 'm^3/s')"
   ]
  },
  {
   "cell_type": "markdown",
   "metadata": {},
   "source": [
    "Points with less than 0.8 $m^3/s$ discharge are the first cluster, points with 0.8-2.5 $m^3/s$ another cluster and so on. Finally we can add a visual to this, the cumulative distribution of discharges."
   ]
  },
  {
   "cell_type": "markdown",
   "metadata": {},
   "source": [
    "We see that 80 percent of all gridpoints exhibit a mean discharge of less than 20 m^3/s, and that there is a sharp change in slope between 5 and 10 m^3/s discharge."
   ]
  },
  {
   "cell_type": "markdown",
   "metadata": {},
   "source": [
    "### Create the clusters-masks"
   ]
  },
  {
   "cell_type": "code",
   "execution_count": 15,
   "metadata": {},
   "outputs": [],
   "source": [
    "from python.aux.utils_floodmodel import cluster_by_discharge\n",
    "\n",
    "bin_edges = [0, 0.8, 2.5, 10.25, 10000]\n",
    "cluster = cluster_by_discharge(dis_mean, bin_edges)"
   ]
  },
  {
   "cell_type": "markdown",
   "metadata": {},
   "source": [
    "To create an image with all clusters in one image, \n",
    "we will create a label-array containing a number between 0 and 3 for every gridpoint \n",
    "that classifies each gridpoint belonging to one of the four categories. \n",
    "\n",
    "In numpy you would probably use the numpy boolean masking operation:\n",
    "```\n",
    "for i in range(len(clusters)):\n",
    "    image[clustering[c]] = i  ```\n",
    "but you would notice an `IndexError`, as xarray does not support 2-dimensional boolean indexing. So we have to formulate it this way: `image = image.where(~clustering[c], i)`, where not 'this cluster', do nothing, else overwrite with the cluster index"
   ]
  },
  {
   "cell_type": "code",
   "execution_count": 16,
   "metadata": {},
   "outputs": [
    {
     "data": {
      "text/plain": [
       "<matplotlib.collections.QuadMesh at 0x7f21c55ed7b8>"
      ]
     },
     "execution_count": 16,
     "metadata": {},
     "output_type": "execute_result"
    },
    {
     "data": {
      "image/png": "[encoded data removed]",
      "text/plain": [
       "<Figure size 432x288 with 2 Axes>"
      ]
     },
     "metadata": {
      "needs_background": "light"
     },
     "output_type": "display_data"
    }
   ],
   "source": [
    "image = dis_mean*0.\n",
    "image.name = 'spatial feature cluster'\n",
    "for i, c in enumerate(cluster):\n",
    "    image = image.where(~cluster[c], i)\n",
    "    \n",
    "image.plot(cmap = mpl.colors.ListedColormap(['grey', 'orange', 'blue', 'darkblue']))"
   ]
  },
  {
   "cell_type": "markdown",
   "metadata": {},
   "source": [
    "These are the gridpoints that are aggregated together to form one precipitation feature for the forecast model. For precipitation that is older than a few days, only the first cluster is of interest. Precipitation that occured on the other gridpoints is already transported outside of the domain for sure.\n"
   ]
  },
  {
   "cell_type": "code",
   "execution_count": 17,
   "metadata": {},
   "outputs": [
    {
     "data": {
      "text/plain": [
       "Coordinates:\n",
       "  * longitude  (longitude) float64 8.05 8.15 8.25 8.35 ... 13.75 13.85 13.95\n",
       "  * latitude   (latitude) float64 49.95 49.85 49.75 49.65 ... 47.25 47.15 47.05\n",
       "  * clusterId  (clusterId) <U1 '0' '1' '2' '3'"
      ]
     },
     "execution_count": 17,
     "metadata": {},
     "output_type": "execute_result"
    }
   ],
   "source": [
    "cluster = cluster.to_array('clusterId')\n",
    "cluster.coords "
   ]
  },
  {
   "cell_type": "code",
   "execution_count": 18,
   "metadata": {},
   "outputs": [],
   "source": [
    "from python.aux.utils_floodmodel import aggregate_clustersum"
   ]
  },
  {
   "cell_type": "code",
   "execution_count": 19,
   "metadata": {
    "scrolled": false
   },
   "outputs": [],
   "source": [
    "Xagg = aggregate_clustersum(X, cluster, 'clusterId')"
   ]
  },
  {
   "cell_type": "code",
   "execution_count": 20,
   "metadata": {},
   "outputs": [],
   "source": [
    "# drop these predictors\n",
    "for v in Xagg:\n",
    "    if 'cluster0' in v:\n",
    "        for vn in ['lsp-5-11', 'lsp-12-25', 'lsp-26-55', 'lsp-56-180']:\n",
    "            if vn in v:\n",
    "                Xagg = Xagg.drop(v)\n",
    "                break"
   ]
  },
  {
   "cell_type": "code",
   "execution_count": 21,
   "metadata": {},
   "outputs": [],
   "source": [
    "# drop these predictors (predictand time)\n",
    "for v in Xagg:\n",
    "    for vn in ['lsp_cluster', 'cp_cluster']:\n",
    "        if v.startswith(vn):\n",
    "            Xagg = Xagg.drop(v)\n",
    "            break"
   ]
  },
  {
   "cell_type": "code",
   "execution_count": 22,
   "metadata": {},
   "outputs": [
    {
     "data": {
      "text/plain": [
       "<xarray.Dataset>\n",
       "Dimensions:              (time: 5478)\n",
       "Coordinates:\n",
       "  * time                 (time) datetime64[ns] 1981-01-01 ... 1995-12-31\n",
       "Data variables:\n",
       "    lsp-1_cluster0       (time) float64 nan 4.996e+07 ... 9.055e+04 7.971e+06\n",
       "    lsp-1_cluster1       (time) float64 nan 7.525e+07 ... 1.457e+06 1.122e+07\n",
       "    lsp-1_cluster2       (time) float64 nan 1.256e+08 ... 5.339e+06 8.772e+06\n",
       "    lsp-1_cluster3       (time) float64 nan 8.867e+07 ... 2.979e+06 7.407e+06\n",
       "    lsp-2_cluster0       (time) float64 nan nan ... 3.612e+05 9.055e+04\n",
       "    lsp-2_cluster1       (time) float64 nan nan ... 1.726e+06 1.457e+06\n",
       "    lsp-2_cluster2       (time) float64 nan nan ... 3.908e+06 5.339e+06\n",
       "    lsp-2_cluster3       (time) float64 nan nan ... 2.755e+06 2.979e+06\n",
       "    lsp-3_cluster0       (time) float64 nan nan nan ... 1.002e+07 3.612e+05\n",
       "    lsp-3_cluster1       (time) float64 nan nan nan ... 5.575e+07 1.726e+06\n",
       "    lsp-3_cluster2       (time) float64 nan nan nan ... 1.19e+08 3.908e+06\n",
       "    lsp-3_cluster3       (time) float64 nan nan nan ... 8.31e+07 2.755e+06\n",
       "    lsp-4_cluster0       (time) float64 nan nan nan ... 5.474e+07 1.002e+07\n",
       "    lsp-4_cluster1       (time) float64 nan nan nan ... 1.895e+08 5.575e+07\n",
       "    lsp-4_cluster2       (time) float64 nan nan nan ... 3.179e+08 1.19e+08\n",
       "    lsp-4_cluster3       (time) float64 nan nan nan ... 2.422e+08 8.31e+07\n",
       "    lsp-5_cluster0       (time) float64 nan nan nan ... 1.155e+08 5.474e+07\n",
       "    lsp-5_cluster1       (time) float64 nan nan nan ... 2.321e+08 1.895e+08\n",
       "    lsp-5_cluster2       (time) float64 nan nan nan ... 2.887e+08 3.179e+08\n",
       "    lsp-5_cluster3       (time) float64 nan nan nan ... 2.538e+08 2.422e+08\n",
       "    lsp+1_cluster0       (time) float64 2.12e+08 3.301e+08 ... 1.25e+06 nan\n",
       "    lsp+1_cluster1       (time) float64 2.893e+08 3.483e+08 ... 1.601e+07 nan\n",
       "    lsp+1_cluster2       (time) float64 3.972e+08 4.049e+08 ... 5.351e+07 nan\n",
       "    lsp+1_cluster3       (time) float64 3.254e+08 3.652e+08 ... 2.891e+07 nan\n",
       "    lsp+2_cluster0       (time) float64 3.301e+08 4.253e+07 ... nan nan\n",
       "    lsp+2_cluster1       (time) float64 3.483e+08 1.319e+08 ... nan nan\n",
       "    lsp+2_cluster2       (time) float64 4.049e+08 3.105e+08 ... nan nan\n",
       "    lsp+2_cluster3       (time) float64 3.652e+08 2.022e+08 ... nan nan\n",
       "    lsp+3_cluster0       (time) float64 4.253e+07 3.578e+07 ... nan nan\n",
       "    lsp+3_cluster1       (time) float64 1.319e+08 9.977e+07 1.99e+08 ... nan nan\n",
       "    lsp+3_cluster2       (time) float64 3.105e+08 2.476e+08 ... nan nan\n",
       "    lsp+3_cluster3       (time) float64 2.022e+08 1.544e+08 ... nan nan\n",
       "    lsp+4_cluster0       (time) float64 3.578e+07 9.087e+07 ... nan nan\n",
       "    lsp+4_cluster1       (time) float64 9.977e+07 1.99e+08 7.727e+07 ... nan nan\n",
       "    lsp+4_cluster2       (time) float64 2.476e+08 3.492e+08 ... nan nan\n",
       "    lsp+4_cluster3       (time) float64 1.544e+08 2.628e+08 ... nan nan\n",
       "    lsp+5_cluster0       (time) float64 9.087e+07 2.865e+07 ... nan nan\n",
       "    lsp+5_cluster1       (time) float64 1.99e+08 7.727e+07 2.342e+07 ... nan nan\n",
       "    lsp+5_cluster2       (time) float64 3.492e+08 1.913e+08 ... nan nan\n",
       "    lsp+5_cluster3       (time) float64 2.628e+08 1.274e+08 ... nan nan\n",
       "    lsp+6_cluster0       (time) float64 2.865e+07 5.395e+06 ... nan nan\n",
       "    lsp+6_cluster1       (time) float64 7.727e+07 2.342e+07 6.69e+06 ... nan nan\n",
       "    lsp+6_cluster2       (time) float64 1.913e+08 6.051e+07 ... nan nan\n",
       "    lsp+6_cluster3       (time) float64 1.274e+08 4.053e+07 ... nan nan\n",
       "    lsp+7_cluster0       (time) float64 5.395e+06 1.035e+07 ... nan nan\n",
       "    lsp+7_cluster1       (time) float64 2.342e+07 6.69e+06 3.826e+07 ... nan nan\n",
       "    lsp+7_cluster2       (time) float64 6.051e+07 4.365e+06 2.89e+07 ... nan nan\n",
       "    lsp+7_cluster3       (time) float64 4.053e+07 3.519e+06 ... nan nan\n",
       "    lsp+8_cluster0       (time) float64 1.035e+07 5.641e+07 ... nan nan\n",
       "    lsp+8_cluster1       (time) float64 6.69e+06 3.826e+07 8.714e+06 ... nan nan\n",
       "    lsp+8_cluster2       (time) float64 4.365e+06 2.89e+07 8.019e+06 ... nan nan\n",
       "    lsp+8_cluster3       (time) float64 3.519e+06 3.048e+07 ... nan nan\n",
       "    lsp+9_cluster0       (time) float64 5.641e+07 9.815e+06 ... nan nan\n",
       "    lsp+9_cluster1       (time) float64 3.826e+07 8.714e+06 ... nan nan\n",
       "    lsp+9_cluster2       (time) float64 2.89e+07 8.019e+06 2.249e+06 ... nan nan\n",
       "    lsp+9_cluster3       (time) float64 3.048e+07 7.752e+06 ... nan nan\n",
       "    lsp+10_cluster0      (time) float64 9.815e+06 5.049e+06 2.34e+07 ... nan nan\n",
       "    lsp+10_cluster1      (time) float64 8.714e+06 3.768e+06 ... nan nan\n",
       "    lsp+10_cluster2      (time) float64 8.019e+06 2.249e+06 8.69e+07 ... nan nan\n",
       "    lsp+10_cluster3      (time) float64 7.752e+06 2.108e+06 ... nan nan\n",
       "    lsp+11_cluster0      (time) float64 5.049e+06 2.34e+07 3.222e+07 ... nan nan\n",
       "    lsp+11_cluster1      (time) float64 3.768e+06 5.156e+07 ... nan nan\n",
       "    lsp+11_cluster2      (time) float64 2.249e+06 8.69e+07 2.808e+07 ... nan nan\n",
       "    lsp+11_cluster3      (time) float64 2.108e+06 6.231e+07 ... nan nan\n",
       "    lsp+12_cluster0      (time) float64 2.34e+07 3.222e+07 2.403e+08 ... nan nan\n",
       "    lsp+12_cluster1      (time) float64 5.156e+07 2.589e+07 ... nan nan\n",
       "    lsp+12_cluster2      (time) float64 8.69e+07 2.808e+07 3.02e+08 ... nan nan\n",
       "    lsp+12_cluster3      (time) float64 6.231e+07 2.135e+07 ... nan nan\n",
       "    lsp+13_cluster0      (time) float64 3.222e+07 2.403e+08 ... nan nan\n",
       "    lsp+13_cluster1      (time) float64 2.589e+07 2.576e+08 ... nan nan\n",
       "    lsp+13_cluster2      (time) float64 2.808e+07 3.02e+08 1.303e+08 ... nan nan\n",
       "    lsp+13_cluster3      (time) float64 2.135e+07 2.632e+08 ... nan nan\n",
       "    cp-1_cluster0        (time) float64 nan 5.482e+07 1.906e+07 ... 0.0 0.0\n",
       "    cp-1_cluster1        (time) float64 nan 7.078e+07 ... 1.742e+03 3.849e+05\n",
       "    cp-1_cluster2        (time) float64 nan 9.846e+07 ... 1.065e+04 1.282e+06\n",
       "    cp-1_cluster3        (time) float64 nan 8.35e+07 ... 1.002e+04 6.164e+05\n",
       "    cp-2_cluster0        (time) float64 nan nan 5.482e+07 ... 186.0 0.0\n",
       "    cp-2_cluster1        (time) float64 nan nan ... 1.186e+04 1.742e+03\n",
       "    cp-2_cluster2        (time) float64 nan nan ... 5.817e+04 1.065e+04\n",
       "    cp-2_cluster3        (time) float64 nan nan 8.35e+07 ... 4.004e+04 1.002e+04\n",
       "    cp-3_cluster0        (time) float64 nan nan nan ... 1.792e+06 186.0\n",
       "    cp-3_cluster1        (time) float64 nan nan nan ... 6.267e+06 1.186e+04\n",
       "    cp-3_cluster2        (time) float64 nan nan nan ... 1.577e+07 5.817e+04\n",
       "    cp-3_cluster3        (time) float64 nan nan nan ... 1.203e+07 4.004e+04\n",
       "    cp-4_cluster0        (time) float64 nan nan nan ... 1.942e+06 1.792e+06\n",
       "    cp-4_cluster1        (time) float64 nan nan nan ... 1.078e+07 6.267e+06\n",
       "    cp-4_cluster2        (time) float64 nan nan nan ... 2.776e+07 1.577e+07\n",
       "    cp-4_cluster3        (time) float64 nan nan nan ... 1.932e+07 1.203e+07\n",
       "    cp-5_cluster0        (time) float64 nan nan nan ... 2.77e+07 1.942e+06\n",
       "    cp-5_cluster1        (time) float64 nan nan nan ... 4.484e+07 1.078e+07\n",
       "    cp-5_cluster2        (time) float64 nan nan nan ... 6.439e+07 2.776e+07\n",
       "    cp-5_cluster3        (time) float64 nan nan nan ... 5.331e+07 1.932e+07\n",
       "    cp+1_cluster0        (time) float64 1.906e+07 7.959e+07 ... 7.634e+05 nan\n",
       "    cp+1_cluster1        (time) float64 2.61e+07 7.333e+07 ... 6.818e+05 nan\n",
       "    cp+1_cluster2        (time) float64 3.832e+07 7.104e+07 ... 1.05e+06 nan\n",
       "    cp+1_cluster3        (time) float64 3.462e+07 7.456e+07 ... 5.767e+05 nan\n",
       "    cp+2_cluster0        (time) float64 7.959e+07 6.876e+07 ... nan nan\n",
       "    cp+2_cluster1        (time) float64 7.333e+07 9.186e+07 ... nan nan\n",
       "    cp+2_cluster2        (time) float64 7.104e+07 1.421e+08 ... nan nan\n",
       "    cp+2_cluster3        (time) float64 7.456e+07 1.14e+08 1.159e+08 ... nan nan\n",
       "    cp+3_cluster0        (time) float64 6.876e+07 4.456e+07 ... nan nan\n",
       "    cp+3_cluster1        (time) float64 9.186e+07 8.469e+07 ... nan nan\n",
       "    cp+3_cluster2        (time) float64 1.421e+08 1.538e+08 ... nan nan\n",
       "    cp+3_cluster3        (time) float64 1.14e+08 1.159e+08 5.687e+07 ... nan nan\n",
       "    cp+4_cluster0        (time) float64 4.456e+07 2.394e+07 ... nan nan\n",
       "    cp+4_cluster1        (time) float64 8.469e+07 5.031e+07 ... nan nan\n",
       "    cp+4_cluster2        (time) float64 1.538e+08 7.609e+07 ... nan nan\n",
       "    cp+4_cluster3        (time) float64 1.159e+08 5.687e+07 2.94e+07 ... nan nan\n",
       "    cp+5_cluster0        (time) float64 2.394e+07 7.634e+06 9.87e+05 ... nan nan\n",
       "    cp+5_cluster1        (time) float64 5.031e+07 2.049e+07 ... nan nan\n",
       "    cp+5_cluster2        (time) float64 7.609e+07 4.115e+07 ... nan nan\n",
       "    cp+5_cluster3        (time) float64 5.687e+07 2.94e+07 6.45e+06 ... nan nan\n",
       "    cp+6_cluster0        (time) float64 7.634e+06 9.87e+05 2.15e+05 ... nan nan\n",
       "    cp+6_cluster1        (time) float64 2.049e+07 3.499e+06 ... nan nan\n",
       "    cp+6_cluster2        (time) float64 4.115e+07 6.888e+06 ... nan nan\n",
       "    cp+6_cluster3        (time) float64 2.94e+07 6.45e+06 1.057e+04 ... nan nan\n",
       "    cp+7_cluster0        (time) float64 9.87e+05 2.15e+05 5.732e+06 ... nan nan\n",
       "    cp+7_cluster1        (time) float64 3.499e+06 8.149e+04 ... nan nan\n",
       "    cp+7_cluster2        (time) float64 6.888e+06 1.381e+04 ... nan nan\n",
       "    cp+7_cluster3        (time) float64 6.45e+06 1.057e+04 5.575e+06 ... nan nan\n",
       "    cp+8_cluster0        (time) float64 2.15e+05 5.732e+06 1.296e+03 ... nan nan\n",
       "    cp+8_cluster1        (time) float64 8.149e+04 6.934e+06 ... nan nan\n",
       "    cp+8_cluster2        (time) float64 1.381e+04 4.856e+06 ... nan nan\n",
       "    cp+8_cluster3        (time) float64 1.057e+04 5.575e+06 3.01e+04 ... nan nan\n",
       "    cp+9_cluster0        (time) float64 5.732e+06 1.296e+03 ... nan nan\n",
       "    cp+9_cluster1        (time) float64 6.934e+06 3.311e+04 ... nan nan\n",
       "    cp+9_cluster2        (time) float64 4.856e+06 1.114e+04 ... nan nan\n",
       "    cp+9_cluster3        (time) float64 5.575e+06 3.01e+04 1.213e+06 ... nan nan\n",
       "    cp+10_cluster0       (time) float64 1.296e+03 9.896e+05 ... nan nan\n",
       "    cp+10_cluster1       (time) float64 3.311e+04 1.462e+06 2.97e+06 ... nan nan\n",
       "    cp+10_cluster2       (time) float64 1.114e+04 9.819e+05 ... nan nan\n",
       "    cp+10_cluster3       (time) float64 3.01e+04 1.213e+06 2.657e+06 ... nan nan\n",
       "    cp+11_cluster0       (time) float64 9.896e+05 1.172e+06 ... nan nan\n",
       "    cp+11_cluster1       (time) float64 1.462e+06 2.97e+06 3.416e+05 ... nan nan\n",
       "    cp+11_cluster2       (time) float64 9.819e+05 3.111e+06 ... nan nan\n",
       "    cp+11_cluster3       (time) float64 1.213e+06 2.657e+06 ... nan nan\n",
       "    cp+12_cluster0       (time) float64 1.172e+06 2.398e+05 ... nan nan\n",
       "    cp+12_cluster1       (time) float64 2.97e+06 3.416e+05 5.685e+07 ... nan nan\n",
       "    cp+12_cluster2       (time) float64 3.111e+06 6.768e+05 ... nan nan\n",
       "    cp+12_cluster3       (time) float64 2.657e+06 5.383e+05 ... nan nan\n",
       "    cp+13_cluster0       (time) float64 2.398e+05 2.919e+07 ... nan nan\n",
       "    cp+13_cluster1       (time) float64 3.416e+05 5.685e+07 ... nan nan\n",
       "    cp+13_cluster2       (time) float64 6.768e+05 9.869e+07 ... nan nan\n",
       "    cp+13_cluster3       (time) float64 5.383e+05 6.933e+07 4.55e+07 ... nan nan\n",
       "    lsp-5-11_cluster1    (time) float64 nan nan nan ... 1.575e+08 1.803e+08\n",
       "    lsp-5-11_cluster2    (time) float64 nan nan nan ... 1.78e+08 2.185e+08\n",
       "    lsp-5-11_cluster3    (time) float64 nan nan nan ... 1.638e+08 1.94e+08\n",
       "    lsp-12-25_cluster1   (time) float64 nan nan nan ... 3.025e+07 3.177e+07\n",
       "    lsp-12-25_cluster2   (time) float64 nan nan nan ... 5.022e+07 5.167e+07\n",
       "    lsp-12-25_cluster3   (time) float64 nan nan nan ... 3.927e+07 4.068e+07\n",
       "    lsp-26-55_cluster1   (time) float64 nan nan nan ... 4.374e+07 4.202e+07\n",
       "    lsp-26-55_cluster2   (time) float64 nan nan nan ... 6.229e+07 5.787e+07\n",
       "    lsp-26-55_cluster3   (time) float64 nan nan nan ... 5.178e+07 4.878e+07\n",
       "    lsp-56-180_cluster1  (time) float64 nan nan nan ... 3.864e+07 3.878e+07\n",
       "    lsp-56-180_cluster2  (time) float64 nan nan nan ... 6.123e+07 6.169e+07\n",
       "    lsp-56-180_cluster3  (time) float64 nan nan nan ... 5.024e+07 5.052e+07"
      ]
     },
     "execution_count": 22,
     "metadata": {},
     "output_type": "execute_result"
    }
   ],
   "source": [
    "if False:  # alternative: aggregating over space by taking the mean\n",
    "    Xagg = X.mean(['latitude', 'longitude'])\n",
    "Xagg"
   ]
  },
  {
   "cell_type": "code",
   "execution_count": 23,
   "metadata": {
    "scrolled": false
   },
   "outputs": [],
   "source": [
    "y = glofas['dis'].interp(latitude=lat, longitude=lon)\n",
    "\n",
    "var = y.name\n",
    "y = y.to_dataset()\n",
    "for i in range(1,14):\n",
    "    newvar = var+'+'+str(i)\n",
    "    y[newvar] = y[var].shift(time=-i) # future precip as current day variable\n",
    "y = y.to_array(dim='forecast_day')\n",
    "y.coords['forecast_day'] = range(1,len(y.forecast_day)+1)"
   ]
  },
  {
   "cell_type": "code",
   "execution_count": 24,
   "metadata": {},
   "outputs": [
    {
     "data": {
      "text/plain": [
       "<xarray.DataArray (forecast_day: 14, time: 5478)>\n",
       "array([[798.361572, 792.207703, 796.706116, ..., 783.30896 , 782.144958,\n",
       "        778.828003],\n",
       "       [792.207703, 796.706116, 814.23584 , ..., 782.144958, 778.828003,\n",
       "               nan],\n",
       "       [796.706116, 814.23584 , 819.019653, ..., 778.828003,        nan,\n",
       "               nan],\n",
       "       ...,\n",
       "       [792.431763, 788.05072 , 783.429138, ...,        nan,        nan,\n",
       "               nan],\n",
       "       [788.05072 , 783.429138, 779.090576, ...,        nan,        nan,\n",
       "               nan],\n",
       "       [783.429138, 779.090576, 775.803223, ...,        nan,        nan,\n",
       "               nan]])\n",
       "Coordinates:\n",
       "  * time          (time) datetime64[ns] 1981-01-01 1981-01-02 ... 1995-12-31\n",
       "    latitude      float64 48.35\n",
       "    longitude     float64 13.95\n",
       "  * forecast_day  (forecast_day) int64 1 2 3 4 5 6 7 8 9 10 11 12 13 14"
      ]
     },
     "execution_count": 24,
     "metadata": {},
     "output_type": "execute_result"
    }
   ],
   "source": [
    "y"
   ]
  },
  {
   "cell_type": "code",
   "execution_count": 26,
   "metadata": {},
   "outputs": [],
   "source": [
    "from python.aux.utils_floodmodel import reshape_multiday_predictand"
   ]
  },
  {
   "cell_type": "code",
   "execution_count": 27,
   "metadata": {},
   "outputs": [
    {
     "data": {
      "text/plain": [
       "<xarray.DataArray (var_dimension: 156, time: 5478)>\n",
       "array([[         nan, 4.995837e+07, 2.119677e+08, ..., 3.611912e+05,\n",
       "        9.054769e+04, 7.970696e+06],\n",
       "       [         nan, 7.524720e+07, 2.892603e+08, ..., 1.726290e+06,\n",
       "        1.456590e+06, 1.122177e+07],\n",
       "       [         nan, 1.255839e+08, 3.971887e+08, ..., 3.908153e+06,\n",
       "        5.339369e+06, 8.771745e+06],\n",
       "       ...,\n",
       "       [         nan,          nan,          nan, ..., 3.773155e+07,\n",
       "        3.864154e+07, 3.878163e+07],\n",
       "       [         nan,          nan,          nan, ..., 5.913201e+07,\n",
       "        6.122844e+07, 6.168567e+07],\n",
       "       [         nan,          nan,          nan, ..., 4.878279e+07,\n",
       "        5.024076e+07, 5.052467e+07]])\n",
       "Coordinates:\n",
       "  * time           (time) datetime64[ns] 1981-01-01 1981-01-02 ... 1995-12-31\n",
       "  * var_dimension  (var_dimension) <U19 'lsp-1_cluster0' ... 'lsp-56-180_cluster3'"
      ]
     },
     "execution_count": 27,
     "metadata": {},
     "output_type": "execute_result"
    }
   ],
   "source": [
    "Xt = Xagg.to_array(dim='var_dimension')\n",
    "Xt"
   ]
  },
  {
   "cell_type": "code",
   "execution_count": null,
   "metadata": {},
   "outputs": [],
   "source": []
  },
  {
   "cell_type": "code",
   "execution_count": 28,
   "metadata": {},
   "outputs": [
    {
     "data": {
      "text/plain": [
       "<xarray.DataArray (var_dimension: 156, time: 5478)>\n",
       "array([[         nan, 4.995837e+07, 2.119677e+08, ..., 3.611912e+05,\n",
       "        9.054769e+04, 7.970696e+06],\n",
       "       [         nan, 7.524720e+07, 2.892603e+08, ..., 1.726290e+06,\n",
       "        1.456590e+06, 1.122177e+07],\n",
       "       [         nan, 1.255839e+08, 3.971887e+08, ..., 3.908153e+06,\n",
       "        5.339369e+06, 8.771745e+06],\n",
       "       ...,\n",
       "       [         nan,          nan,          nan, ..., 3.773155e+07,\n",
       "        3.864154e+07, 3.878163e+07],\n",
       "       [         nan,          nan,          nan, ..., 5.913201e+07,\n",
       "        6.122844e+07, 6.168567e+07],\n",
       "       [         nan,          nan,          nan, ..., 4.878279e+07,\n",
       "        5.024076e+07, 5.052467e+07]])\n",
       "Coordinates:\n",
       "  * time           (time) datetime64[ns] 1981-01-01 1981-01-02 ... 1995-12-31\n",
       "  * var_dimension  (var_dimension) <U19 'lsp-1_cluster0' ... 'lsp-56-180_cluster3'"
      ]
     },
     "execution_count": 28,
     "metadata": {},
     "output_type": "execute_result"
    }
   ],
   "source": [
    "Xt"
   ]
  },
  {
   "cell_type": "code",
   "execution_count": 29,
   "metadata": {},
   "outputs": [
    {
     "data": {
      "text/plain": [
       "<xarray.DataArray (time: 5285, features: 156)>\n",
       "array([[ 7147156.878121, 28263195.72534 , 71365274.219926, ...,\n",
       "        51337724.124944, 78831592.946523, 62330763.296587],\n",
       "       [  527383.098182,  2350978.624305,  8144762.26743 , ...,\n",
       "        51023494.197208, 78334979.781764, 61983637.776694],\n",
       "       [  109657.111771,   305262.724136,   577006.054034, ...,\n",
       "        48732751.658459, 75221764.146449, 59423688.343005],\n",
       "       ...,\n",
       "       [  683453.236155,  1691432.907412,  3233742.707783, ...,\n",
       "        35192872.716597, 57816764.951801, 46969707.052837],\n",
       "       [  188245.281808,   348458.634881,   382150.544475, ...,\n",
       "        35106128.538259, 57615637.128915, 46828168.107554],\n",
       "       [  527678.194093,   957902.796881,   975860.467236, ...,\n",
       "        35106114.931871, 57615293.721761, 46827992.43103 ]])\n",
       "Coordinates:\n",
       "  * time      (time) datetime64[ns] 1981-06-30 1981-07-01 ... 1995-12-18\n",
       "  * features  (features) object ('lsp-1_cluster0',) ... ('lsp-56-180_cluster3',)"
      ]
     },
     "execution_count": 29,
     "metadata": {},
     "output_type": "execute_result"
    }
   ],
   "source": [
    "Xda, yda = reshape_multiday_predictand(Xagg, y)\n",
    "Xda"
   ]
  },
  {
   "cell_type": "markdown",
   "metadata": {},
   "source": [
    "Next, we split the dataset into three parts for \n",
    "- training (the longest period for estimating the free parameters within the model), \n",
    "- validation (for tuning hyperparameters) and \n",
    "- testing (for the model comparison)."
   ]
  },
  {
   "cell_type": "code",
   "execution_count": 30,
   "metadata": {},
   "outputs": [],
   "source": [
    "period_train = dict(time=slice(None, '1990'))\n",
    "period_valid = dict(time=slice('1991', '1993'))\n",
    "period_test = dict(time=slice('1994', '1995'))"
   ]
  },
  {
   "cell_type": "code",
   "execution_count": 31,
   "metadata": {},
   "outputs": [],
   "source": [
    "X_train, y_train = Xda.loc[period_train], yda.loc[period_train]\n",
    "X_valid, y_valid = Xda.loc[period_valid], yda.loc[period_valid]\n",
    "X_test, y_test = Xda.loc[period_test], yda.loc[period_test]"
   ]
  },
  {
   "cell_type": "code",
   "execution_count": 32,
   "metadata": {},
   "outputs": [
    {
     "data": {
      "text/plain": [
       "((3472, 156), (3472, 14))"
      ]
     },
     "execution_count": 32,
     "metadata": {},
     "output_type": "execute_result"
    }
   ],
   "source": [
    "X_train.shape, y_train.shape"
   ]
  },
  {
   "cell_type": "code",
   "execution_count": 47,
   "metadata": {},
   "outputs": [],
   "source": [
    "from sklearn_xarray import wrap\n",
    "from sklearn.pipeline import Pipeline\n",
    "from sklearn.preprocessing import StandardScaler\n",
    "import keras\n",
    "from keras.layers.core import Dropout\n",
    "from keras.constraints import MinMaxNorm, nonneg\n",
    "\n",
    "def add_time(vector, time, name=None):\n",
    "    \"\"\"Converts numpy arrays to xarrays with a time coordinate.\n",
    "\n",
    "    Parameters\n",
    "    ----------\n",
    "    vector : np.array\n",
    "        1-dimensional array of predictions\n",
    "    time : xr.DataArray\n",
    "        the return value of `Xda.time`\n",
    "\n",
    "    Returns\n",
    "    -------\n",
    "    xr.DataArray\n",
    "    \"\"\"\n",
    "    return xr.DataArray(vector, dims=('time'), coords={'time': time}, name=name)\n",
    "\n",
    "\n",
    "def add_time_to_sequence_output(array, time, name=None):\n",
    "    \"\"\"Add time coordinates to multiday model predictions.\n",
    "\n",
    "    Parameters\n",
    "    ----------\n",
    "    array : numpy.array\n",
    "        the prediction, 2-dimensional ('init_time', 'fxh')\n",
    "    time : xr.DataArray\n",
    "        the return value of `Xda.time`\n",
    "\n",
    "    Returns\n",
    "    -------\n",
    "    xr.DataArray\n",
    "    \"\"\"\n",
    "    init_time = pd.to_datetime(time.values)-dt.timedelta(hours=1)\n",
    "    fxh = range(1, array.shape[1]+1)\n",
    "    return xr.DataArray(array, dims=('init_time', 'fxh'),\n",
    "                        coords=dict(init_time=('init_time', init_time),\n",
    "                                    fxh=('fxh', fxh),\n",
    "                                    name=name))\n",
    "\n",
    "\n",
    "class DenseNN(object):\n",
    "    def __init__(self, **kwargs):\n",
    "        self.xscaler = StandardScaler()\n",
    "        self.yscaler = StandardScaler()\n",
    "        model = keras.models.Sequential()\n",
    "        self.cfg = kwargs\n",
    "        hidden_nodes = self.cfg.get('hidden_nodes')\n",
    "        \n",
    "        for n in hidden_nodes:\n",
    "            model.add(keras.layers.Dense(n, activation='elu',)) \n",
    "            #              kernel_constraint=MinMaxNorm(min_value=0.0, max_value=1.0, \n",
    "            #                                           rate=1.0, axis=0)))\n",
    "            model.add(keras.layers.BatchNormalization())\n",
    "            model.add(Dropout(self.cfg.get('dropout', None)))\n",
    "        model.add(keras.layers.Dense(kwargs.get('output_dim', 1), \n",
    "                                     activation='linear'))\n",
    "\n",
    "        #opt = keras.optimizers.Adadelta(lr=1, rho=0.95, epsilon=0.5, decay=0.0)\n",
    "        #opt = keras.optimizers.RMSprop()\n",
    "        #opt = keras.optimizers.SGD()\n",
    "        opt = keras.optimizers.Adam(lr=0.0001, epsilon=0.05, amsgrad=True)\n",
    "\n",
    "        model.compile(loss=self.cfg.get('loss'), optimizer=opt)\n",
    "        self.model = model\n",
    "\n",
    "        self.callbacks = [keras.callbacks.EarlyStopping(monitor='val_loss',\n",
    "                            min_delta=1e-2, patience=100, verbose=0, mode='auto',\n",
    "                            baseline=None, restore_best_weights=True),]\n",
    "\n",
    "    def predict(self, Xda, name=None):\n",
    "        \"\"\"Input and Output: xr.DataArray\"\"\"\n",
    "        X = self.xscaler.transform(Xda.values)\n",
    "        y = self.model.predict(X).squeeze()\n",
    "        y = self.yscaler.inverse_transform(y)\n",
    "        if len(y.shape) == 1:\n",
    "            return add_time(y, Xda.time, name=name)\n",
    "        else: \n",
    "            return add_time_to_sequence_output(y, Xda.time, name=name)\n",
    "\n",
    "    def fit(self, X_train, y_train, X_valid, y_valid, **kwargs):\n",
    "        \"\"\"Input: xr.DataArray\"\"\"\n",
    "        X_train = self.xscaler.fit_transform(X_train.values)\n",
    "        y_train = self.yscaler.fit_transform(\n",
    "                        y_train.values.reshape(-1, self.cfg.get('output_dim', 1)))\n",
    "        \n",
    "        X_valid = self.xscaler.transform(X_valid.values)\n",
    "        y_valid = self.yscaler.transform(\n",
    "                        y_valid.values.reshape(-1, self.cfg.get('output_dim', 1)))\n",
    "        \n",
    "        return self.model.fit(X_train, y_train,\n",
    "                              validation_data=(X_valid, y_valid), \n",
    "                              epochs=self.cfg.get('epochs', 1000),\n",
    "                              batch_size=self.cfg.get('batch_size'),\n",
    "                              callbacks=self.callbacks,\n",
    "                              verbose=0, **kwargs)"
   ]
  },
  {
   "cell_type": "code",
   "execution_count": 49,
   "metadata": {},
   "outputs": [],
   "source": [
    "m = DenseNN(hidden_nodes=(32,16,8,4,),\n",
    "            dropout=0.25,\n",
    "            output_dim=14,\n",
    "            epochs=1000,\n",
    "            batch_size=180,\n",
    "            loss='mse')"
   ]
  },
  {
   "cell_type": "code",
   "execution_count": 50,
   "metadata": {},
   "outputs": [],
   "source": [
    "hist = m.fit(X_train, y_train, X_valid, y_valid)"
   ]
  },
  {
   "cell_type": "code",
   "execution_count": 51,
   "metadata": {},
   "outputs": [
    {
     "name": "stdout",
     "output_type": "stream",
     "text": [
      "_________________________________________________________________\n",
      "Layer (type)                 Output Shape              Param #   \n",
      "=================================================================\n",
      "dense_11 (Dense)             (None, 32)                5024      \n",
      "_________________________________________________________________\n",
      "batch_normalization_9 (Batch (None, 32)                128       \n",
      "_________________________________________________________________\n",
      "dropout_9 (Dropout)          (None, 32)                0         \n",
      "_________________________________________________________________\n",
      "dense_12 (Dense)             (None, 16)                528       \n",
      "_________________________________________________________________\n",
      "batch_normalization_10 (Batc (None, 16)                64        \n",
      "_________________________________________________________________\n",
      "dropout_10 (Dropout)         (None, 16)                0         \n",
      "_________________________________________________________________\n",
      "dense_13 (Dense)             (None, 8)                 136       \n",
      "_________________________________________________________________\n",
      "batch_normalization_11 (Batc (None, 8)                 32        \n",
      "_________________________________________________________________\n",
      "dropout_11 (Dropout)         (None, 8)                 0         \n",
      "_________________________________________________________________\n",
      "dense_14 (Dense)             (None, 4)                 36        \n",
      "_________________________________________________________________\n",
      "batch_normalization_12 (Batc (None, 4)                 16        \n",
      "_________________________________________________________________\n",
      "dropout_12 (Dropout)         (None, 4)                 0         \n",
      "_________________________________________________________________\n",
      "dense_15 (Dense)             (None, 14)                70        \n",
      "=================================================================\n",
      "Total params: 6,034\n",
      "Trainable params: 5,914\n",
      "Non-trainable params: 120\n",
      "_________________________________________________________________\n"
     ]
    }
   ],
   "source": [
    "m.model.summary()"
   ]
  },
  {
   "cell_type": "code",
   "execution_count": null,
   "metadata": {},
   "outputs": [],
   "source": []
  },
  {
   "cell_type": "code",
   "execution_count": 52,
   "metadata": {
    "scrolled": true
   },
   "outputs": [
    {
     "data": {
      "image/png": "[encoded data removed]",
      "text/plain": [
       "<Figure size 432x288 with 1 Axes>"
      ]
     },
     "metadata": {
      "needs_background": "light"
     },
     "output_type": "display_data"
    }
   ],
   "source": [
    "h = hist.model.history\n",
    "\n",
    "# Plot training & validation loss value\n",
    "fig, ax = plt.subplots()\n",
    "ax.plot(h.history['loss'], label='loss')\n",
    "ax.plot(h.history['val_loss'], label='val_loss')\n",
    "plt.title('Model loss')\n",
    "ax.set_ylabel('Loss')\n",
    "ax.set_xlabel('Epoch')\n",
    "plt.legend() #['Train', 'Test'], loc='upper left')\n",
    "ax.set_yscale('log')\n",
    "#fig.savefig(f_hist); plt.close('all')"
   ]
  },
  {
   "cell_type": "code",
   "execution_count": 53,
   "metadata": {},
   "outputs": [
    {
     "name": "stdout",
     "output_type": "stream",
     "text": [
      "<xarray.DataArray ()>\n",
      "array(1293.729, dtype=float32)\n",
      "Coordinates:\n",
      "    name     object None\n"
     ]
    }
   ],
   "source": [
    "out = m.predict(X_test)\n",
    "out.to_netcdf('../../models/time-delay-NN.nc')\n",
    "print(out.mean())"
   ]
  },
  {
   "cell_type": "code",
   "execution_count": 54,
   "metadata": {
    "scrolled": false
   },
   "outputs": [
    {
     "ename": "TypeError",
     "evalue": "Plotting requires coordinates to be numeric or dates of type np.datetime64, datetime.datetime, cftime.datetime or pd.Interval.",
     "output_type": "error",
     "traceback": [
      "\u001b[0;31m---------------------------------------------------------------------------\u001b[0m",
      "\u001b[0;31mTypeError\u001b[0m                                 Traceback (most recent call last)",
      "\u001b[0;32m<ipython-input-54-ede0cf016e14>\u001b[0m in \u001b[0;36m<module>\u001b[0;34m\u001b[0m\n\u001b[1;32m      1\u001b[0m \u001b[0mtimeslice\u001b[0m \u001b[0;34m=\u001b[0m \u001b[0mslice\u001b[0m\u001b[0;34m(\u001b[0m\u001b[0;34m'1984'\u001b[0m\u001b[0;34m,\u001b[0m \u001b[0;34m'1985'\u001b[0m\u001b[0;34m)\u001b[0m\u001b[0;34m\u001b[0m\u001b[0;34m\u001b[0m\u001b[0m\n\u001b[1;32m      2\u001b[0m \u001b[0mfix\u001b[0m\u001b[0;34m,\u001b[0m \u001b[0max\u001b[0m \u001b[0;34m=\u001b[0m \u001b[0mplt\u001b[0m\u001b[0;34m.\u001b[0m\u001b[0msubplots\u001b[0m\u001b[0;34m(\u001b[0m\u001b[0mfigsize\u001b[0m\u001b[0;34m=\u001b[0m\u001b[0;34m(\u001b[0m\u001b[0;36m15\u001b[0m\u001b[0;34m,\u001b[0m\u001b[0;36m5\u001b[0m\u001b[0;34m)\u001b[0m\u001b[0;34m)\u001b[0m\u001b[0;34m\u001b[0m\u001b[0;34m\u001b[0m\u001b[0m\n\u001b[0;32m----> 3\u001b[0;31m \u001b[0my_valid\u001b[0m\u001b[0;34m.\u001b[0m\u001b[0mplot\u001b[0m\u001b[0;34m(\u001b[0m\u001b[0mlabel\u001b[0m\u001b[0;34m=\u001b[0m\u001b[0;34m'y'\u001b[0m\u001b[0;34m)\u001b[0m\u001b[0;34m\u001b[0m\u001b[0;34m\u001b[0m\u001b[0m\n\u001b[0m\u001b[1;32m      4\u001b[0m \u001b[0mout\u001b[0m\u001b[0;34m.\u001b[0m\u001b[0mplot\u001b[0m\u001b[0;34m(\u001b[0m\u001b[0mlabel\u001b[0m\u001b[0;34m=\u001b[0m\u001b[0;34m'y_predict'\u001b[0m\u001b[0;34m)\u001b[0m\u001b[0;34m\u001b[0m\u001b[0;34m\u001b[0m\u001b[0m\n\u001b[1;32m      5\u001b[0m \u001b[0max\u001b[0m\u001b[0;34m.\u001b[0m\u001b[0mlegend\u001b[0m\u001b[0;34m(\u001b[0m\u001b[0;34m)\u001b[0m\u001b[0;34m\u001b[0m\u001b[0;34m\u001b[0m\u001b[0m\n",
      "\u001b[0;32m~/.conda/envs/ml_flood/lib/python3.7/site-packages/xarray/plot/plot.py\u001b[0m in \u001b[0;36m__call__\u001b[0;34m(self, **kwargs)\u001b[0m\n\u001b[1;32m    403\u001b[0m \u001b[0;34m\u001b[0m\u001b[0m\n\u001b[1;32m    404\u001b[0m     \u001b[0;32mdef\u001b[0m \u001b[0m__call__\u001b[0m\u001b[0;34m(\u001b[0m\u001b[0mself\u001b[0m\u001b[0;34m,\u001b[0m \u001b[0;34m**\u001b[0m\u001b[0mkwargs\u001b[0m\u001b[0;34m)\u001b[0m\u001b[0;34m:\u001b[0m\u001b[0;34m\u001b[0m\u001b[0;34m\u001b[0m\u001b[0m\n\u001b[0;32m--> 405\u001b[0;31m         \u001b[0;32mreturn\u001b[0m \u001b[0mplot\u001b[0m\u001b[0;34m(\u001b[0m\u001b[0mself\u001b[0m\u001b[0;34m.\u001b[0m\u001b[0m_da\u001b[0m\u001b[0;34m,\u001b[0m \u001b[0;34m**\u001b[0m\u001b[0mkwargs\u001b[0m\u001b[0;34m)\u001b[0m\u001b[0;34m\u001b[0m\u001b[0;34m\u001b[0m\u001b[0m\n\u001b[0m\u001b[1;32m    406\u001b[0m \u001b[0;34m\u001b[0m\u001b[0m\n\u001b[1;32m    407\u001b[0m     \u001b[0;34m@\u001b[0m\u001b[0mfunctools\u001b[0m\u001b[0;34m.\u001b[0m\u001b[0mwraps\u001b[0m\u001b[0;34m(\u001b[0m\u001b[0mhist\u001b[0m\u001b[0;34m)\u001b[0m\u001b[0;34m\u001b[0m\u001b[0;34m\u001b[0m\u001b[0m\n",
      "\u001b[0;32m~/.conda/envs/ml_flood/lib/python3.7/site-packages/xarray/plot/plot.py\u001b[0m in \u001b[0;36mplot\u001b[0;34m(darray, row, col, col_wrap, ax, hue, rtol, subplot_kws, **kwargs)\u001b[0m\n\u001b[1;32m    174\u001b[0m     \u001b[0mkwargs\u001b[0m\u001b[0;34m[\u001b[0m\u001b[0;34m'ax'\u001b[0m\u001b[0;34m]\u001b[0m \u001b[0;34m=\u001b[0m \u001b[0max\u001b[0m\u001b[0;34m\u001b[0m\u001b[0;34m\u001b[0m\u001b[0m\n\u001b[1;32m    175\u001b[0m \u001b[0;34m\u001b[0m\u001b[0m\n\u001b[0;32m--> 176\u001b[0;31m     \u001b[0;32mreturn\u001b[0m \u001b[0mplotfunc\u001b[0m\u001b[0;34m(\u001b[0m\u001b[0mdarray\u001b[0m\u001b[0;34m,\u001b[0m \u001b[0;34m**\u001b[0m\u001b[0mkwargs\u001b[0m\u001b[0;34m)\u001b[0m\u001b[0;34m\u001b[0m\u001b[0;34m\u001b[0m\u001b[0m\n\u001b[0m\u001b[1;32m    177\u001b[0m \u001b[0;34m\u001b[0m\u001b[0m\n\u001b[1;32m    178\u001b[0m \u001b[0;34m\u001b[0m\u001b[0m\n",
      "\u001b[0;32m~/.conda/envs/ml_flood/lib/python3.7/site-packages/xarray/plot/plot.py\u001b[0m in \u001b[0;36mnewplotfunc\u001b[0;34m(darray, x, y, figsize, size, aspect, ax, row, col, col_wrap, xincrease, yincrease, add_colorbar, add_labels, vmin, vmax, cmap, center, robust, extend, levels, infer_intervals, colors, subplot_kws, cbar_ax, cbar_kwargs, xscale, yscale, xticks, yticks, xlim, ylim, norm, **kwargs)\u001b[0m\n\u001b[1;32m    608\u001b[0m         \u001b[0myplt\u001b[0m\u001b[0;34m,\u001b[0m \u001b[0mylab_extra\u001b[0m \u001b[0;34m=\u001b[0m \u001b[0m_resolve_intervals_2dplot\u001b[0m\u001b[0;34m(\u001b[0m\u001b[0myval\u001b[0m\u001b[0;34m,\u001b[0m \u001b[0mplotfunc\u001b[0m\u001b[0;34m.\u001b[0m\u001b[0m__name__\u001b[0m\u001b[0;34m)\u001b[0m\u001b[0;34m\u001b[0m\u001b[0;34m\u001b[0m\u001b[0m\n\u001b[1;32m    609\u001b[0m \u001b[0;34m\u001b[0m\u001b[0m\n\u001b[0;32m--> 610\u001b[0;31m         \u001b[0m_ensure_plottable\u001b[0m\u001b[0;34m(\u001b[0m\u001b[0mxplt\u001b[0m\u001b[0;34m,\u001b[0m \u001b[0myplt\u001b[0m\u001b[0;34m)\u001b[0m\u001b[0;34m\u001b[0m\u001b[0;34m\u001b[0m\u001b[0m\n\u001b[0m\u001b[1;32m    611\u001b[0m \u001b[0;34m\u001b[0m\u001b[0m\n\u001b[1;32m    612\u001b[0m         cmap_params, cbar_kwargs = _process_cmap_cbar_kwargs(\n",
      "\u001b[0;32m~/.conda/envs/ml_flood/lib/python3.7/site-packages/xarray/plot/utils.py\u001b[0m in \u001b[0;36m_ensure_plottable\u001b[0;34m(*args)\u001b[0m\n\u001b[1;32m    491\u001b[0m         if not (_valid_numpy_subdtype(np.array(x), numpy_types)\n\u001b[1;32m    492\u001b[0m                 or _valid_other_type(np.array(x), other_types)):\n\u001b[0;32m--> 493\u001b[0;31m             raise TypeError('Plotting requires coordinates to be numeric '\n\u001b[0m\u001b[1;32m    494\u001b[0m                             \u001b[0;34m'or dates of type np.datetime64, '\u001b[0m\u001b[0;34m\u001b[0m\u001b[0;34m\u001b[0m\u001b[0m\n\u001b[1;32m    495\u001b[0m                             \u001b[0;34m'datetime.datetime, cftime.datetime or '\u001b[0m\u001b[0;34m\u001b[0m\u001b[0;34m\u001b[0m\u001b[0m\n",
      "\u001b[0;31mTypeError\u001b[0m: Plotting requires coordinates to be numeric or dates of type np.datetime64, datetime.datetime, cftime.datetime or pd.Interval."
     ]
    },
    {
     "data": {
      "image/png": "[encoded data removed]",
      "text/plain": [
       "<Figure size 1080x360 with 1 Axes>"
      ]
     },
     "metadata": {
      "needs_background": "light"
     },
     "output_type": "display_data"
    }
   ],
   "source": [
    "timeslice = slice('1984', '1985')\n",
    "fix, ax = plt.subplots(figsize=(15,5))\n",
    "y_valid.plot(label='y')\n",
    "out.plot(label='y_predict')\n",
    "ax.legend()"
   ]
  },
  {
   "cell_type": "code",
   "execution_count": null,
   "metadata": {},
   "outputs": [],
   "source": [
    "fix, ax = plt.subplots(figsize=(15,5))\n",
    "y_test.plot(label='y')\n",
    "out.plot(label='y_predict')\n",
    "ax.legend()\n",
    "plt.title('test period: '+str(period_test))"
   ]
  },
  {
   "cell_type": "code",
   "execution_count": null,
   "metadata": {},
   "outputs": [],
   "source": []
  },
  {
   "cell_type": "code",
   "execution_count": null,
   "metadata": {},
   "outputs": [],
   "source": []
  },
  {
   "cell_type": "code",
   "execution_count": null,
   "metadata": {},
   "outputs": [],
   "source": []
  },
  {
   "cell_type": "code",
   "execution_count": null,
   "metadata": {},
   "outputs": [],
   "source": []
  }
 ],
 "metadata": {
  "kernelspec": {
   "display_name": "Python 3",
   "language": "python",
   "name": "python3"
  },
  "language_info": {
   "codemirror_mode": {
    "name": "ipython",
    "version": 3
   },
   "file_extension": ".py",
   "mimetype": "text/x-python",
   "name": "python",
   "nbconvert_exporter": "python",
   "pygments_lexer": "ipython3",
   "version": "3.7.3"
  }
 },
 "nbformat": 4,
 "nbformat_minor": 2
}
