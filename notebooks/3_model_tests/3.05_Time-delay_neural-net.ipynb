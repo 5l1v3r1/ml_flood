{
 "cells": [
  {
   "cell_type": "markdown",
   "metadata": {},
   "source": [
    "# 3. Model tests\n",
    "## 3.05 Example: Time delay neural network\n",
    "\n",
    "\n",
    "Testing the time-delay neural network involves following steps:\n",
    "1. Load the predictor and predictand arrays (these have been prepared in `2.05_prepare_data_for_the_models`)\n",
    "3. Define the ML-model\n",
    "4. Train the model\n",
    "5. Check the output for errors by visually inspecting timeseries of forecasts.\n",
    "6. Hyperparameter Optimization\n",
    "7. Case Study: May/June 2013; Flooding event at Krems (Danube river)\n",
    "   \n",
    "   "
   ]
  },
  {
   "cell_type": "code",
   "execution_count": 1,
   "metadata": {
    "collapsed": true
   },
   "outputs": [
    {
     "name": "stderr",
     "output_type": "stream",
     "text": [
      "Using TensorFlow backend.\n",
      "/home/srvx11/lehre/users/a1254888/.conda/envs/ml_flood/lib/python3.7/site-packages/tensorflow/python/framework/dtypes.py:526: FutureWarning: Passing (type, 1) or '1type' as a synonym of type is deprecated; in a future version of numpy, it will be understood as (type, (1,)) / '(1,)type'.\n",
      "  _np_qint8 = np.dtype([(\"qint8\", np.int8, 1)])\n",
      "/home/srvx11/lehre/users/a1254888/.conda/envs/ml_flood/lib/python3.7/site-packages/tensorflow/python/framework/dtypes.py:527: FutureWarning: Passing (type, 1) or '1type' as a synonym of type is deprecated; in a future version of numpy, it will be understood as (type, (1,)) / '(1,)type'.\n",
      "  _np_quint8 = np.dtype([(\"quint8\", np.uint8, 1)])\n",
      "/home/srvx11/lehre/users/a1254888/.conda/envs/ml_flood/lib/python3.7/site-packages/tensorflow/python/framework/dtypes.py:528: FutureWarning: Passing (type, 1) or '1type' as a synonym of type is deprecated; in a future version of numpy, it will be understood as (type, (1,)) / '(1,)type'.\n",
      "  _np_qint16 = np.dtype([(\"qint16\", np.int16, 1)])\n",
      "/home/srvx11/lehre/users/a1254888/.conda/envs/ml_flood/lib/python3.7/site-packages/tensorflow/python/framework/dtypes.py:529: FutureWarning: Passing (type, 1) or '1type' as a synonym of type is deprecated; in a future version of numpy, it will be understood as (type, (1,)) / '(1,)type'.\n",
      "  _np_quint16 = np.dtype([(\"quint16\", np.uint16, 1)])\n",
      "/home/srvx11/lehre/users/a1254888/.conda/envs/ml_flood/lib/python3.7/site-packages/tensorflow/python/framework/dtypes.py:530: FutureWarning: Passing (type, 1) or '1type' as a synonym of type is deprecated; in a future version of numpy, it will be understood as (type, (1,)) / '(1,)type'.\n",
      "  _np_qint32 = np.dtype([(\"qint32\", np.int32, 1)])\n",
      "/home/srvx11/lehre/users/a1254888/.conda/envs/ml_flood/lib/python3.7/site-packages/tensorflow/python/framework/dtypes.py:535: FutureWarning: Passing (type, 1) or '1type' as a synonym of type is deprecated; in a future version of numpy, it will be understood as (type, (1,)) / '(1,)type'.\n",
      "  np_resource = np.dtype([(\"resource\", np.ubyte, 1)])\n"
     ]
    }
   ],
   "source": [
    "import sys\n",
    "sys.path.append(\"../../\")\n",
    "import numpy as np\n",
    "import datetime as dt\n",
    "\n",
    "import matplotlib as mpl\n",
    "import matplotlib.pyplot as plt\n",
    "from pandas.plotting import register_matplotlib_converters\n",
    "register_matplotlib_converters()\n",
    "import pandas as pd\n",
    "import seaborn as sns\n",
    "import xarray as xr\n",
    "import keras\n",
    "\n",
    "from python.aux.utils_floodmodel import add_time, generate_prediction_array, remove_outlier, multi_forecast_case_study\n",
    "from python.aux.plot import plot_multif_prediction"
   ]
  },
  {
   "cell_type": "markdown",
   "metadata": {},
   "source": [
    "## Loading the data\n",
    "We now load Sample dataset contained in the git repository.\n",
    "\n",
    "As you are reading these lines, you opened the notebook in the `./docs/` folder of the main repository directory. To access the sample dataset that was delivered to you with the code, step outside the current directory (`../`) and enter the `data/` folder. The names of the sample datasets are `smallsampledata-era5.nc` and `smallsampledata-glofas.nc`, both in netCDF format, a user-friendly format that keeps the file size low and stores meta-data within the file.\n",
    "\n",
    "We use `xarray` to access the files, as it provides us with a very powerful interface to work with the data. Let's open the files and see what's in there:"
   ]
  },
  {
   "cell_type": "code",
   "execution_count": 12,
   "metadata": {},
   "outputs": [],
   "source": [
    "# load data\n",
    "ds = xr.open_dataset('../../data/features_xy.nc')\n",
    "\n",
    "y_orig = ds['dis']\n",
    "y = y_orig.copy()\n",
    "X = ds #.drop(['dis', 'dis_diff', 'lsp-56-180'])\n"
   ]
  },
  {
   "cell_type": "code",
   "execution_count": 13,
   "metadata": {},
   "outputs": [
    {
     "data": {
      "text/plain": [
       "<xarray.Dataset>\n",
       "Dimensions:     (time: 13514)\n",
       "Coordinates:\n",
       "  * time        (time) datetime64[ns] 1981-01-01 1981-01-02 ... 2017-12-31\n",
       "Data variables:\n",
       "    cp          (time) float32 ...\n",
       "    lsp         (time) float32 ...\n",
       "    swvl1       (time) float32 ...\n",
       "    ro          (time) float32 ...\n",
       "    sd          (time) float32 ...\n",
       "    sd_diff     (time) float32 ...\n",
       "    lsp-4-11    (time) float32 ...\n",
       "    lsp-12-25   (time) float32 ...\n",
       "    lsp-26-55   (time) float32 ...\n",
       "    lsp-56-180  (time) float32 ...\n",
       "    lsp-1       (time) float32 ...\n",
       "    lsp-2       (time) float32 ...\n",
       "    lsp-3       (time) float32 ...\n",
       "    cp-1        (time) float32 ...\n",
       "    cp-2        (time) float32 ...\n",
       "    cp-3        (time) float32 ...\n",
       "    dis         (time) float64 ...\n",
       "    dis_diff    (time) float64 ..."
      ]
     },
     "execution_count": 13,
     "metadata": {},
     "output_type": "execute_result"
    }
   ],
   "source": [
    "X"
   ]
  },
  {
   "cell_type": "markdown",
   "metadata": {},
   "source": [
    "### Differentiating the predictand\n",
    "xyz\n",
    "Predicting just time differences of discharge is the natural way yields a nicer distribution of the predictand so that we can use Mean-Squared-Error as optimization metric. "
   ]
  },
  {
   "cell_type": "code",
   "execution_count": 14,
   "metadata": {},
   "outputs": [
    {
     "name": "stdout",
     "output_type": "stream",
     "text": [
      "mean: 0.0 , std: 269074.8916842176 , skew: 167850422.6997186\n"
     ]
    },
    {
     "data": {
      "image/png": "[encoded data removed]",
      "text/plain": [
       "<Figure size 432x288 with 1 Axes>"
      ]
     },
     "metadata": {
      "needs_background": "light"
     },
     "output_type": "display_data"
    }
   ],
   "source": [
    "from scipy.stats import moment\n",
    "dist = y.values.ravel() - y.mean().values.ravel() \n",
    "dist = dist[~np.isnan(dist)]\n",
    "sns.distplot(dist)\n",
    "print('mean:', moment(dist, 1), ', std:', moment(dist, 2), ', skew:', moment(dist, 3))"
   ]
  },
  {
   "cell_type": "code",
   "execution_count": 15,
   "metadata": {},
   "outputs": [
    {
     "name": "stdout",
     "output_type": "stream",
     "text": [
      "mean: 0.0 , std: 4181.27897581471 , skew: 1100883.0967652714\n"
     ]
    },
    {
     "data": {
      "image/png": "[encoded data removed]",
      "text/plain": [
       "<Figure size 432x288 with 1 Axes>"
      ]
     },
     "metadata": {
      "needs_background": "light"
     },
     "output_type": "display_data"
    }
   ],
   "source": [
    "from scipy.stats import moment\n",
    "dist = y.diff('time', n=1).values.ravel()\n",
    "dist = dist[~np.isnan(dist)]\n",
    "sns.distplot(dist)\n",
    "print('mean:', moment(dist, 1), ', std:', moment(dist, 2), ', skew:', moment(dist, 3))"
   ]
  },
  {
   "cell_type": "code",
   "execution_count": 16,
   "metadata": {
    "scrolled": true
   },
   "outputs": [
    {
     "data": {
      "text/plain": [
       "<xarray.DataArray 'dis' (time: 13513)>\n",
       "array([-6.15387 ,  4.498413, 17.529724, ..., -4.656921, -2.809204, 20.632019])\n",
       "Coordinates:\n",
       "  * time     (time) datetime64[ns] 1981-01-02 1981-01-03 ... 2017-12-31"
      ]
     },
     "execution_count": 16,
     "metadata": {},
     "output_type": "execute_result"
    }
   ],
   "source": [
    "y = y.diff('time', 1)\n",
    "y"
   ]
  },
  {
   "cell_type": "markdown",
   "metadata": {},
   "source": [
    "### Reshaping\n"
   ]
  },
  {
   "cell_type": "code",
   "execution_count": 17,
   "metadata": {},
   "outputs": [],
   "source": [
    "from python.aux.utils_floodmodel import reshape_scalar_predictand"
   ]
  },
  {
   "cell_type": "code",
   "execution_count": 18,
   "metadata": {},
   "outputs": [
    {
     "data": {
      "text/plain": [
       "<xarray.DataArray 'features' (features: 18)>\n",
       "array([('cp',), ('lsp',), ('swvl1',), ('ro',), ('sd',), ('sd_diff',),\n",
       "       ('lsp-4-11',), ('lsp-12-25',), ('lsp-26-55',), ('lsp-56-180',),\n",
       "       ('lsp-1',), ('lsp-2',), ('lsp-3',), ('cp-1',), ('cp-2',), ('cp-3',),\n",
       "       ('dis',), ('dis_diff',)], dtype=object)\n",
       "Coordinates:\n",
       "  * features  (features) object ('cp',) ('lsp',) ... ('dis',) ('dis_diff',)"
      ]
     },
     "execution_count": 18,
     "metadata": {},
     "output_type": "execute_result"
    }
   ],
   "source": [
    "Xda, yda = reshape_scalar_predictand(X, y)\n",
    "Xda.features"
   ]
  },
  {
   "cell_type": "markdown",
   "metadata": {},
   "source": [
    "---\n",
    "\n",
    "Next, we split the dataset into three parts for \n",
    "- training (the longest period for estimating the free parameters within the model), \n",
    "- validation (for tuning hyperparameters) and \n",
    "- testing (for the model comparison)."
   ]
  },
  {
   "cell_type": "code",
   "execution_count": 19,
   "metadata": {},
   "outputs": [],
   "source": [
    "period_train = dict(time=slice(None, '2005'))\n",
    "period_valid = dict(time=slice('2006', '2011'))\n",
    "period_test = dict(time=slice('2012', '2017'))"
   ]
  },
  {
   "cell_type": "code",
   "execution_count": 20,
   "metadata": {},
   "outputs": [],
   "source": [
    "X_train, y_train = Xda.loc[period_train], yda.loc[period_train]\n",
    "X_valid, y_valid = Xda.loc[period_valid], yda.loc[period_valid]\n",
    "X_test, y_test = Xda.loc[period_test], yda.loc[period_test]"
   ]
  },
  {
   "cell_type": "code",
   "execution_count": 21,
   "metadata": {},
   "outputs": [
    {
     "data": {
      "text/plain": [
       "((8922, 18), (8922,))"
      ]
     },
     "execution_count": 21,
     "metadata": {},
     "output_type": "execute_result"
    }
   ],
   "source": [
    "X_train.shape, y_train.shape"
   ]
  },
  {
   "cell_type": "code",
   "execution_count": 22,
   "metadata": {
    "scrolled": false
   },
   "outputs": [],
   "source": [
    "from sklearn.pipeline import Pipeline\n",
    "from sklearn.preprocessing import StandardScaler\n",
    "import keras\n",
    "from keras.layers.core import Dropout\n",
    "from keras.constraints import MinMaxNorm, nonneg\n",
    "\n",
    "\n",
    "def add_time(vector, time, name=None):\n",
    "    \"\"\"Converts numpy arrays to xarrays with a time coordinate.\n",
    "\n",
    "    Parameters\n",
    "    ----------\n",
    "    vector : np.array\n",
    "        1-dimensional array of predictions\n",
    "    time : xr.DataArray\n",
    "        the return value of `Xda.time`\n",
    "\n",
    "    Returns\n",
    "    -------\n",
    "    xr.DataArray\n",
    "    \"\"\"\n",
    "    return xr.DataArray(vector, dims=('time'), coords={'time': time}, name=name)\n",
    "\n",
    "\n",
    "class DenseNN(object):\n",
    "    def __init__(self, **kwargs):\n",
    "        self.output_dim = kwargs.pop('output_dim', 1)\n",
    "        self.xscaler = StandardScaler()\n",
    "        self.yscaler = StandardScaler()\n",
    "        \n",
    "        model = keras.models.Sequential()\n",
    "        self.cfg = kwargs\n",
    "        hidden_nodes = self.cfg.get('hidden_nodes')\n",
    "        \n",
    "        model.add(keras.layers.Dense(hidden_nodes[0], \n",
    "                                     activation='tanh'))\n",
    "        model.add(keras.layers.BatchNormalization())\n",
    "        model.add(Dropout(self.cfg.get('dropout', None)))\n",
    "        \n",
    "        for n in hidden_nodes[1:]:\n",
    "            model.add(keras.layers.Dense(n, activation='tanh')) \n",
    "            model.add(keras.layers.BatchNormalization())\n",
    "            model.add(Dropout(self.cfg.get('dropout', None)))\n",
    "        model.add(keras.layers.Dense(self.output_dim, \n",
    "                                     activation='linear'))\n",
    "        opt = keras.optimizers.Adam() \n",
    "\n",
    "        model.compile(loss=self.cfg.get('loss'), optimizer=opt)\n",
    "        self.model = model\n",
    "\n",
    "        self.callbacks = [keras.callbacks.EarlyStopping(monitor='val_loss',\n",
    "                            min_delta=1e-2, patience=100, verbose=0, mode='auto',\n",
    "                            baseline=None, restore_best_weights=True),]\n",
    "    \n",
    "    def score_func(self, X, y):\n",
    "        \"\"\"Calculate the Nash-Sutcliff-Efficiency\"\"\"\n",
    "        ypred = self.predict(X).values\n",
    "        err_pred = ypred - y\n",
    "        err_mean = np.nanmean(y)-y\n",
    "        nse = 1-np.dot(err_pred, err_pred)/np.dot(err_mean, err_mean)\n",
    "        return float(nse)\n",
    "        \n",
    "    def predict(self, Xda, name=None):\n",
    "        \"\"\"Input and Output: xr.DataArray\n",
    "        \n",
    "        Parameters\n",
    "        ----------\n",
    "        initial_dis : xr.DataArray\n",
    "            of shape (init_time,), defines the initial discharge for each sample in `Xda`\n",
    "        \"\"\"\n",
    "        X = self.xscaler.transform(Xda.values)\n",
    "        y = self.model.predict(X).squeeze()\n",
    "        y = self.yscaler.inverse_transform(y)\n",
    "        \n",
    "        y = add_time(y, Xda.time, name=name)\n",
    "        return y\n",
    "\n",
    "    def fit(self, X_train, y_train, X_valid, y_valid, **kwargs):\n",
    "        \"\"\"Input: xr.DataArray\"\"\"\n",
    "        \n",
    "        print(X_train.shape)\n",
    "        X_train = self.xscaler.fit_transform(X_train.values)\n",
    "        y_train = self.yscaler.fit_transform(\n",
    "                        y_train.values.reshape(-1, self.output_dim))\n",
    "        \n",
    "        X_valid = self.xscaler.transform(X_valid.values)\n",
    "        y_valid = self.yscaler.transform(\n",
    "                        y_valid.values.reshape(-1, self.output_dim))\n",
    "        \n",
    "        return self.model.fit(X_train, y_train,\n",
    "                              validation_data=(X_valid, y_valid), \n",
    "                              epochs=self.cfg.get('epochs', 1000),\n",
    "                              batch_size=self.cfg.get('batch_size'),\n",
    "                              callbacks=self.callbacks,\n",
    "                              verbose=0, **kwargs)"
   ]
  },
  {
   "cell_type": "code",
   "execution_count": 23,
   "metadata": {},
   "outputs": [
    {
     "name": "stdout",
     "output_type": "stream",
     "text": [
      "WARNING:tensorflow:From /home/srvx11/lehre/users/a1254888/.conda/envs/ml_flood/lib/python3.7/site-packages/tensorflow/python/framework/op_def_library.py:263: colocate_with (from tensorflow.python.framework.ops) is deprecated and will be removed in a future version.\n",
      "Instructions for updating:\n",
      "Colocations handled automatically by placer.\n"
     ]
    }
   ],
   "source": [
    "config = dict(hidden_nodes=(80,),  \n",
    "                dropout=0.4,\n",
    "                epochs=300,\n",
    "                batch_size=90,\n",
    "                loss='mse')\n",
    "\n",
    "m = DenseNN(**config)"
   ]
  },
  {
   "cell_type": "code",
   "execution_count": 24,
   "metadata": {},
   "outputs": [
    {
     "name": "stdout",
     "output_type": "stream",
     "text": [
      "(8922, 18)\n",
      "WARNING:tensorflow:From /home/srvx11/lehre/users/a1254888/.conda/envs/ml_flood/lib/python3.7/site-packages/keras/backend/tensorflow_backend.py:3733: calling dropout (from tensorflow.python.ops.nn_ops) with keep_prob is deprecated and will be removed in a future version.\n",
      "Instructions for updating:\n",
      "Please use `rate` instead of `keep_prob`. Rate should be set to `rate = 1 - keep_prob`.\n",
      "WARNING:tensorflow:From /home/srvx11/lehre/users/a1254888/.conda/envs/ml_flood/lib/python3.7/site-packages/tensorflow/python/ops/math_ops.py:3066: to_int32 (from tensorflow.python.ops.math_ops) is deprecated and will be removed in a future version.\n",
      "Instructions for updating:\n",
      "Use tf.cast instead.\n"
     ]
    }
   ],
   "source": [
    "hist = m.fit(X_train, y_train, X_valid, y_valid)"
   ]
  },
  {
   "cell_type": "code",
   "execution_count": 25,
   "metadata": {},
   "outputs": [
    {
     "name": "stdout",
     "output_type": "stream",
     "text": [
      "Model: \"sequential_1\"\n",
      "_________________________________________________________________\n",
      "Layer (type)                 Output Shape              Param #   \n",
      "=================================================================\n",
      "dense_1 (Dense)              (None, 80)                1520      \n",
      "_________________________________________________________________\n",
      "batch_normalization_1 (Batch (None, 80)                320       \n",
      "_________________________________________________________________\n",
      "dropout_1 (Dropout)          (None, 80)                0         \n",
      "_________________________________________________________________\n",
      "dense_2 (Dense)              (None, 1)                 81        \n",
      "=================================================================\n",
      "Total params: 1,921\n",
      "Trainable params: 1,761\n",
      "Non-trainable params: 160\n",
      "_________________________________________________________________\n"
     ]
    }
   ],
   "source": [
    "m.model.summary()"
   ]
  },
  {
   "cell_type": "markdown",
   "metadata": {},
   "source": [
    "To plot a graph of the network, run the following cell:"
   ]
  },
  {
   "cell_type": "raw",
   "metadata": {},
   "source": [
    "from keras.utils import plot_model\n",
    "plot_model(m.model, to_file='model.png', show_shapes=True)"
   ]
  },
  {
   "cell_type": "markdown",
   "metadata": {},
   "source": [
    "The learning curve describes how quickly the optimization of the neural net's parameters converges or if it does not converge at all. The blue line measures the training error and the orange line the validation error. If, at some point, training error but not validation error sinks, the model is overfitting on the training set. "
   ]
  },
  {
   "cell_type": "code",
   "execution_count": 26,
   "metadata": {
    "scrolled": false
   },
   "outputs": [
    {
     "data": {
      "image/png": "[encoded data removed]",
      "text/plain": [
       "<Figure size 576x288 with 1 Axes>"
      ]
     },
     "metadata": {
      "needs_background": "light"
     },
     "output_type": "display_data"
    }
   ],
   "source": [
    "h = hist.model.history\n",
    "\n",
    "# Plot training & validation loss value\n",
    "fig, ax = plt.subplots(figsize=(8,4))\n",
    "ax.plot(h.history['loss'], label='loss')\n",
    "ax.plot(h.history['val_loss'], label='val_loss')\n",
    "plt.title('Learning curve')\n",
    "ax.set_ylabel('Loss')\n",
    "ax.set_xlabel('Epoch')\n",
    "plt.legend(['Training', 'Validation'])\n",
    "ax.set_yscale('log')"
   ]
  },
  {
   "cell_type": "code",
   "execution_count": 27,
   "metadata": {},
   "outputs": [],
   "source": [
    "import os, yaml\n",
    "dir_model = '../../models/tdnn-diff-batch90-25yrs/'\n",
    "os.makedirs(dir_model, exist_ok=True)"
   ]
  },
  {
   "cell_type": "code",
   "execution_count": 28,
   "metadata": {},
   "outputs": [],
   "source": [
    "y_pred_train = m.predict(X_train)\n",
    "y_pred_train = generate_prediction_array(y_pred_train, y_orig, forecast_range=14)\n",
    "\n",
    "y_pred_valid = m.predict(X_valid)\n",
    "y_pred_valid = generate_prediction_array(y_pred_valid, y_orig, forecast_range=14)\n",
    "\n",
    "y_pred_test = m.predict(X_test)\n",
    "y_pred_test = generate_prediction_array(y_pred_test, y_orig, forecast_range=14)"
   ]
  },
  {
   "cell_type": "code",
   "execution_count": null,
   "metadata": {},
   "outputs": [],
   "source": []
  },
  {
   "cell_type": "code",
   "execution_count": 29,
   "metadata": {
    "scrolled": false
   },
   "outputs": [],
   "source": [
    "from python.aux.utils_floodmodel import multi_forecast_case_study_tdnn"
   ]
  },
  {
   "cell_type": "code",
   "execution_count": 79,
   "metadata": {
    "scrolled": false
   },
   "outputs": [],
   "source": [
    "X_multif_fin, X_multifr_fin, y_case_fin = multi_forecast_case_study_tdnn(m)"
   ]
  },
  {
   "cell_type": "code",
   "execution_count": 80,
   "metadata": {},
   "outputs": [
    {
     "data": {
      "text/plain": [
       "<xarray.DataArray 'prediction' (num_of_forecast: 4, time: 42)>\n",
       "array([[1838.148315, 1806.850708, 1783.335938, 1747.927124, 1736.585938,\n",
       "        1728.758057, 1730.989624, 1740.761963, 1760.619263, 1795.824219,\n",
       "        1836.384399, 1866.275391, 1877.622681, 1927.067139, 2508.528809,\n",
       "        3909.679443, 4594.492676, 4995.527344, 4912.134766, 4674.402832,\n",
       "        4406.932617, 4143.852051, 3885.675781, 3695.283691, 3683.047119,\n",
       "        3757.759521, 3782.081787, 3739.926758, 3679.545898, 3630.048584,\n",
       "        3585.200439,         nan,         nan,         nan,         nan,\n",
       "                nan,         nan,         nan,         nan,         nan,\n",
       "                nan,         nan],\n",
       "       [        nan,         nan,         nan,         nan, 1863.230103,\n",
       "        1855.402222, 1857.633789, 1867.406128, 1887.263428, 1922.468384,\n",
       "        1963.028564, 1992.919556, 2004.266846, 2053.711182, 2635.172852,\n",
       "        4036.323486, 4721.136719, 5122.171387, 5038.778809, 4801.046875,\n",
       "        4533.57666 , 4270.496094, 4012.319824, 3821.927734, 3809.691162,\n",
       "        3884.403564, 3908.72583 , 3866.570801, 3806.189941, 3756.692627,\n",
       "        3711.844482, 3653.345947, 3586.183105, 3511.732666, 3449.236816,\n",
       "                nan,         nan,         nan,         nan,         nan,\n",
       "                nan,         nan],\n",
       "       [        nan,         nan,         nan,         nan,         nan,\n",
       "                nan,         nan, 1851.969482, 1871.826782, 1907.031738,\n",
       "        1947.591919, 1977.48291 , 1988.8302  , 2038.274658, 2619.736328,\n",
       "        4020.886963, 4705.700195, 5106.734863, 5023.342285, 4785.610352,\n",
       "        4518.140137, 4255.05957 , 3996.883301, 3806.491211, 3794.254639,\n",
       "        3868.967041, 3893.289307, 3851.134277, 3790.753418, 3741.256104,\n",
       "        3696.407959, 3637.909424, 3570.746582, 3496.296143, 3433.800293,\n",
       "        3389.343506, 3382.572754, 3405.297119,         nan,         nan,\n",
       "                nan,         nan],\n",
       "       [        nan,         nan,         nan,         nan,         nan,\n",
       "                nan,         nan,         nan,         nan,         nan,\n",
       "                nan, 1795.188721, 1806.536011, 1855.980469, 2437.442139,\n",
       "        3838.592773, 4523.405762, 4924.44043 , 4841.047852, 4603.315918,\n",
       "        4335.845703, 4072.764893, 3814.588623, 3624.196533, 3611.959961,\n",
       "        3686.672363, 3710.994629, 3668.8396  , 3608.45874 , 3558.961426,\n",
       "        3514.113281, 3455.614746, 3388.451904, 3314.001465, 3251.505615,\n",
       "        3207.048828, 3200.278076, 3223.002441, 3335.594238, 3474.122314,\n",
       "        3578.42041 , 3598.72876 ]])\n",
       "Coordinates:\n",
       "  * time     (time) datetime64[ns] 2013-05-18 2013-05-19 ... 2013-06-28\n",
       "Dimensions without coordinates: num_of_forecast"
      ]
     },
     "execution_count": 80,
     "metadata": {},
     "output_type": "execute_result"
    }
   ],
   "source": [
    "X_multif_fin"
   ]
  },
  {
   "cell_type": "code",
   "execution_count": 81,
   "metadata": {},
   "outputs": [],
   "source": [
    "y_pred_valid.to_netcdf(dir_model+'tdnn_result_validation_period.nc')\n",
    "y_pred_test.to_netcdf(dir_model+'tdnn_result_test_period.nc')\n",
    "X_multif_fin.to_netcdf(dir_model+'tdnn_result_case_study.nc')"
   ]
  },
  {
   "cell_type": "code",
   "execution_count": 83,
   "metadata": {},
   "outputs": [],
   "source": [
    "yaml_string = m.model.to_yaml()\n",
    "with open(dir_model+'keras-config.yml', 'w') as f:\n",
    "    yaml.dump(yaml_string, f)\n",
    "    \n",
    "with open(dir_model+'model-config.yml', 'w') as f:\n",
    "    yaml.dump(config, f, indent=4)\n",
    "    \n",
    "from contextlib import redirect_stdout\n",
    "with open(dir_model+'summary.txt', \"w\") as f:\n",
    "    with redirect_stdout(f):\n",
    "        m.model.summary()"
   ]
  },
  {
   "cell_type": "code",
   "execution_count": 30,
   "metadata": {},
   "outputs": [],
   "source": [
    "from python.aux.plot import plot_multif_prediction\n",
    "true_dis = y_orig"
   ]
  },
  {
   "cell_type": "code",
   "execution_count": 31,
   "metadata": {},
   "outputs": [
    {
     "data": {
      "text/plain": [
       "(<Figure size 1080x360 with 1 Axes>,\n",
       " <matplotlib.axes._subplots.AxesSubplot at 0x7f59380ae0f0>)"
      ]
     },
     "execution_count": 31,
     "metadata": {},
     "output_type": "execute_result"
    },
    {
     "data": {
      "image/png": "[encoded data removed]",
      "text/plain": [
       "<Figure size 1080x360 with 1 Axes>"
      ]
     },
     "metadata": {
      "needs_background": "light"
     },
     "output_type": "display_data"
    }
   ],
   "source": [
    "title='Setting: Time-Delay Neural Net: 80 hidden nodes, dropout 0.4'\n",
    "plot_multif_prediction(y_pred_valid, y_orig, forecast_range=14, title=title)"
   ]
  },
  {
   "cell_type": "markdown",
   "metadata": {},
   "source": [
    "## Feature importance\n",
    "\n",
    "To see the contribution of the features to the final prediction, we can compare the model performance with and without the information from some feature by shuffling the rows of the `X` matrix for that feature, that is, the feature is randomized in a way that maintains the true feature value distribution.\n",
    "\n",
    "This allows us to evaluate the impact of a feature on the model performance without training the model for each feature over and over again. "
   ]
  },
  {
   "cell_type": "code",
   "execution_count": null,
   "metadata": {},
   "outputs": [],
   "source": [
    "import eli5\n",
    "from eli5.permutation_importance import get_score_importances"
   ]
  },
  {
   "cell_type": "code",
   "execution_count": null,
   "metadata": {},
   "outputs": [],
   "source": [
    "from python.aux.verification import RMSE\n",
    "m.score_func(X_test, y_test)\n",
    "\n",
    "base_score, RMSE_improvement = get_score_importances(m.score_func, X_test, y_test, n_iter=3)"
   ]
  },
  {
   "cell_type": "code",
   "execution_count": null,
   "metadata": {},
   "outputs": [],
   "source": [
    "#  feature_importances = np.mean(score_decreases, axis=0)"
   ]
  },
  {
   "cell_type": "code",
   "execution_count": null,
   "metadata": {},
   "outputs": [],
   "source": [
    "def feature_importance_plot(xda_features, score_decreases):\n",
    "    # xda_features : xr.DataArray.features\n",
    "    # score_decreases : list of arrays\n",
    "    \n",
    "    labels = [e[0] for e in xda_features.values]\n",
    "    assert len(labels) == len(score_decreases[0])  # one label per entry\n",
    "    n_iter = len(score_decreases)\n",
    "    width = 1/n_iter\n",
    "    plt.subplots(figsize=(20,5))\n",
    "\n",
    "    for c in range(n_iter):\n",
    "        x = np.arange(len(labels))+c/n_iter\n",
    "        plt.bar(x, score_decreases[c], width=-width, align='edge')\n",
    "\n",
    "    plt.grid()\n",
    "    plt.xticks(ticks=x, labels=labels, rotation=45)\n",
    "    plt.ylabel('discharge RMSE')"
   ]
  },
  {
   "cell_type": "code",
   "execution_count": null,
   "metadata": {},
   "outputs": [],
   "source": [
    "feature_importance_plot(Xda.features, RMSE_improvement)"
   ]
  },
  {
   "cell_type": "markdown",
   "metadata": {},
   "source": [
    "The importance values are in units of our predictand (discharge) in m$^3$/s. There are some concerns about the validity of the results from this library, so follow the [ELI5-discussion on github](https://github.com/TeamHG-Memex/eli5/issues/316). Negative values in this diagram mean that those features result in a worsening of the RMS error.\n",
    "\n"
   ]
  },
  {
   "cell_type": "code",
   "execution_count": 88,
   "metadata": {},
   "outputs": [
    {
     "data": {
      "text/plain": [
       "<matplotlib.collections.QuadMesh at 0x7f5b9c2f7710>"
      ]
     },
     "execution_count": 88,
     "metadata": {},
     "output_type": "execute_result"
    },
    {
     "data": {
      "image/png": "[encoded data removed]",
      "text/plain": [
       "<Figure size 432x288 with 2 Axes>"
      ]
     },
     "metadata": {
      "needs_background": "light"
     },
     "output_type": "display_data"
    }
   ],
   "source": [
    "X_multif_fin.plot()"
   ]
  },
  {
   "cell_type": "code",
   "execution_count": 89,
   "metadata": {},
   "outputs": [
    {
     "data": {
      "text/plain": [
       "(<Figure size 1080x360 with 1 Axes>,\n",
       " <matplotlib.axes._subplots.AxesSubplot at 0x7f5b9c0b7860>)"
      ]
     },
     "execution_count": 89,
     "metadata": {},
     "output_type": "execute_result"
    },
    {
     "data": {
      "image/png": "[encoded data removed]",
      "text/plain": [
       "<Figure size 1080x360 with 1 Axes>"
      ]
     },
     "metadata": {
      "needs_background": "light"
     },
     "output_type": "display_data"
    }
   ],
   "source": [
    "from python.aux.plot import plot_multif_prediction\n",
    "\n",
    "title='Setting: Time-Delay Neural Net: 80 hidden nodes, dropout 0.4'\n",
    "plot_multif_prediction(y_pred_valid, y_orig, forecast_range=14, title=title)"
   ]
  },
  {
   "cell_type": "code",
   "execution_count": 90,
   "metadata": {},
   "outputs": [
    {
     "data": {
      "text/html": [
       "<div>\n",
       "<style scoped>\n",
       "    .dataframe tbody tr th:only-of-type {\n",
       "        vertical-align: middle;\n",
       "    }\n",
       "\n",
       "    .dataframe tbody tr th {\n",
       "        vertical-align: top;\n",
       "    }\n",
       "\n",
       "    .dataframe thead th {\n",
       "        text-align: right;\n",
       "    }\n",
       "</style>\n",
       "<table border=\"1\" class=\"dataframe\">\n",
       "  <thead>\n",
       "    <tr style=\"text-align: right;\">\n",
       "      <th></th>\n",
       "      <th>hidden_nodes</th>\n",
       "      <th>dropout</th>\n",
       "      <th>output_dim</th>\n",
       "      <th>epochs</th>\n",
       "      <th>batch_size</th>\n",
       "      <th>loss</th>\n",
       "      <th>rmse</th>\n",
       "      <th>seconds</th>\n",
       "    </tr>\n",
       "  </thead>\n",
       "  <tbody>\n",
       "    <tr>\n",
       "      <td>23</td>\n",
       "      <td>(80,)</td>\n",
       "      <td>0.4</td>\n",
       "      <td>1</td>\n",
       "      <td>300</td>\n",
       "      <td>90</td>\n",
       "      <td>mse</td>\n",
       "      <td>1522.235255</td>\n",
       "      <td>92</td>\n",
       "    </tr>\n",
       "    <tr>\n",
       "      <td>41</td>\n",
       "      <td>(65,)</td>\n",
       "      <td>0.4</td>\n",
       "      <td>1</td>\n",
       "      <td>300</td>\n",
       "      <td>90</td>\n",
       "      <td>mse</td>\n",
       "      <td>1525.494847</td>\n",
       "      <td>167</td>\n",
       "    </tr>\n",
       "    <tr>\n",
       "      <td>22</td>\n",
       "      <td>(64,)</td>\n",
       "      <td>0.4</td>\n",
       "      <td>1</td>\n",
       "      <td>300</td>\n",
       "      <td>90</td>\n",
       "      <td>mse</td>\n",
       "      <td>1526.686985</td>\n",
       "      <td>84</td>\n",
       "    </tr>\n",
       "    <tr>\n",
       "      <td>15</td>\n",
       "      <td>(64,)</td>\n",
       "      <td>0.2</td>\n",
       "      <td>1</td>\n",
       "      <td>300</td>\n",
       "      <td>90</td>\n",
       "      <td>mse</td>\n",
       "      <td>1528.454726</td>\n",
       "      <td>93</td>\n",
       "    </tr>\n",
       "    <tr>\n",
       "      <td>39</td>\n",
       "      <td>(128,)</td>\n",
       "      <td>0.5</td>\n",
       "      <td>1</td>\n",
       "      <td>300</td>\n",
       "      <td>90</td>\n",
       "      <td>mse</td>\n",
       "      <td>1532.023644</td>\n",
       "      <td>151</td>\n",
       "    </tr>\n",
       "    <tr>\n",
       "      <td>9</td>\n",
       "      <td>(80,)</td>\n",
       "      <td>0.1</td>\n",
       "      <td>1</td>\n",
       "      <td>300</td>\n",
       "      <td>90</td>\n",
       "      <td>mse</td>\n",
       "      <td>1537.137282</td>\n",
       "      <td>76</td>\n",
       "    </tr>\n",
       "    <tr>\n",
       "      <td>38</td>\n",
       "      <td>(100,)</td>\n",
       "      <td>0.5</td>\n",
       "      <td>1</td>\n",
       "      <td>300</td>\n",
       "      <td>90</td>\n",
       "      <td>mse</td>\n",
       "      <td>1538.726053</td>\n",
       "      <td>168</td>\n",
       "    </tr>\n",
       "    <tr>\n",
       "      <td>16</td>\n",
       "      <td>(80,)</td>\n",
       "      <td>0.2</td>\n",
       "      <td>1</td>\n",
       "      <td>300</td>\n",
       "      <td>90</td>\n",
       "      <td>mse</td>\n",
       "      <td>1539.316254</td>\n",
       "      <td>75</td>\n",
       "    </tr>\n",
       "    <tr>\n",
       "      <td>40</td>\n",
       "      <td>(110,)</td>\n",
       "      <td>0.5</td>\n",
       "      <td>1</td>\n",
       "      <td>300</td>\n",
       "      <td>90</td>\n",
       "      <td>mse</td>\n",
       "      <td>1540.486584</td>\n",
       "      <td>174</td>\n",
       "    </tr>\n",
       "    <tr>\n",
       "      <td>30</td>\n",
       "      <td>(80,)</td>\n",
       "      <td>0.5</td>\n",
       "      <td>1</td>\n",
       "      <td>300</td>\n",
       "      <td>90</td>\n",
       "      <td>mse</td>\n",
       "      <td>1544.263087</td>\n",
       "      <td>121</td>\n",
       "    </tr>\n",
       "    <tr>\n",
       "      <td>7</td>\n",
       "      <td>(32,)</td>\n",
       "      <td>0.1</td>\n",
       "      <td>1</td>\n",
       "      <td>300</td>\n",
       "      <td>90</td>\n",
       "      <td>mse</td>\n",
       "      <td>1544.965885</td>\n",
       "      <td>75</td>\n",
       "    </tr>\n",
       "    <tr>\n",
       "      <td>29</td>\n",
       "      <td>(64,)</td>\n",
       "      <td>0.5</td>\n",
       "      <td>1</td>\n",
       "      <td>300</td>\n",
       "      <td>90</td>\n",
       "      <td>mse</td>\n",
       "      <td>1548.060036</td>\n",
       "      <td>130</td>\n",
       "    </tr>\n",
       "    <tr>\n",
       "      <td>8</td>\n",
       "      <td>(64,)</td>\n",
       "      <td>0.1</td>\n",
       "      <td>1</td>\n",
       "      <td>300</td>\n",
       "      <td>90</td>\n",
       "      <td>mse</td>\n",
       "      <td>1550.262265</td>\n",
       "      <td>82</td>\n",
       "    </tr>\n",
       "    <tr>\n",
       "      <td>21</td>\n",
       "      <td>(32,)</td>\n",
       "      <td>0.4</td>\n",
       "      <td>1</td>\n",
       "      <td>300</td>\n",
       "      <td>90</td>\n",
       "      <td>mse</td>\n",
       "      <td>1554.538364</td>\n",
       "      <td>83</td>\n",
       "    </tr>\n",
       "    <tr>\n",
       "      <td>28</td>\n",
       "      <td>(32,)</td>\n",
       "      <td>0.5</td>\n",
       "      <td>1</td>\n",
       "      <td>300</td>\n",
       "      <td>90</td>\n",
       "      <td>mse</td>\n",
       "      <td>1555.542536</td>\n",
       "      <td>124</td>\n",
       "    </tr>\n",
       "    <tr>\n",
       "      <td>14</td>\n",
       "      <td>(32,)</td>\n",
       "      <td>0.2</td>\n",
       "      <td>1</td>\n",
       "      <td>300</td>\n",
       "      <td>90</td>\n",
       "      <td>mse</td>\n",
       "      <td>1563.088907</td>\n",
       "      <td>82</td>\n",
       "    </tr>\n",
       "    <tr>\n",
       "      <td>11</td>\n",
       "      <td>(8, 8, 8, 8)</td>\n",
       "      <td>0.1</td>\n",
       "      <td>1</td>\n",
       "      <td>300</td>\n",
       "      <td>90</td>\n",
       "      <td>mse</td>\n",
       "      <td>1579.513249</td>\n",
       "      <td>107</td>\n",
       "    </tr>\n",
       "    <tr>\n",
       "      <td>13</td>\n",
       "      <td>(16, 8, 6, 4)</td>\n",
       "      <td>0.1</td>\n",
       "      <td>1</td>\n",
       "      <td>300</td>\n",
       "      <td>90</td>\n",
       "      <td>mse</td>\n",
       "      <td>1586.494865</td>\n",
       "      <td>99</td>\n",
       "    </tr>\n",
       "    <tr>\n",
       "      <td>0</td>\n",
       "      <td>(32,)</td>\n",
       "      <td>0.0</td>\n",
       "      <td>1</td>\n",
       "      <td>300</td>\n",
       "      <td>90</td>\n",
       "      <td>mse</td>\n",
       "      <td>1599.616934</td>\n",
       "      <td>77</td>\n",
       "    </tr>\n",
       "    <tr>\n",
       "      <td>4</td>\n",
       "      <td>(8, 8, 8, 8)</td>\n",
       "      <td>0.0</td>\n",
       "      <td>1</td>\n",
       "      <td>300</td>\n",
       "      <td>90</td>\n",
       "      <td>mse</td>\n",
       "      <td>1608.515108</td>\n",
       "      <td>86</td>\n",
       "    </tr>\n",
       "    <tr>\n",
       "      <td>3</td>\n",
       "      <td>(4,)</td>\n",
       "      <td>0.0</td>\n",
       "      <td>1</td>\n",
       "      <td>300</td>\n",
       "      <td>90</td>\n",
       "      <td>mse</td>\n",
       "      <td>1613.659534</td>\n",
       "      <td>72</td>\n",
       "    </tr>\n",
       "    <tr>\n",
       "      <td>17</td>\n",
       "      <td>(4,)</td>\n",
       "      <td>0.2</td>\n",
       "      <td>1</td>\n",
       "      <td>300</td>\n",
       "      <td>90</td>\n",
       "      <td>mse</td>\n",
       "      <td>1614.484477</td>\n",
       "      <td>91</td>\n",
       "    </tr>\n",
       "    <tr>\n",
       "      <td>37</td>\n",
       "      <td>(90,)</td>\n",
       "      <td>0.0</td>\n",
       "      <td>1</td>\n",
       "      <td>300</td>\n",
       "      <td>90</td>\n",
       "      <td>mse</td>\n",
       "      <td>1616.810766</td>\n",
       "      <td>104</td>\n",
       "    </tr>\n",
       "    <tr>\n",
       "      <td>2</td>\n",
       "      <td>(80,)</td>\n",
       "      <td>0.0</td>\n",
       "      <td>1</td>\n",
       "      <td>300</td>\n",
       "      <td>90</td>\n",
       "      <td>mse</td>\n",
       "      <td>1622.834432</td>\n",
       "      <td>73</td>\n",
       "    </tr>\n",
       "    <tr>\n",
       "      <td>35</td>\n",
       "      <td>(100,)</td>\n",
       "      <td>0.0</td>\n",
       "      <td>1</td>\n",
       "      <td>300</td>\n",
       "      <td>90</td>\n",
       "      <td>mse</td>\n",
       "      <td>1623.475283</td>\n",
       "      <td>108</td>\n",
       "    </tr>\n",
       "    <tr>\n",
       "      <td>10</td>\n",
       "      <td>(4,)</td>\n",
       "      <td>0.1</td>\n",
       "      <td>1</td>\n",
       "      <td>300</td>\n",
       "      <td>90</td>\n",
       "      <td>mse</td>\n",
       "      <td>1629.671784</td>\n",
       "      <td>80</td>\n",
       "    </tr>\n",
       "    <tr>\n",
       "      <td>5</td>\n",
       "      <td>(8, 6, 4, 2)</td>\n",
       "      <td>0.0</td>\n",
       "      <td>1</td>\n",
       "      <td>300</td>\n",
       "      <td>90</td>\n",
       "      <td>mse</td>\n",
       "      <td>1635.047048</td>\n",
       "      <td>76</td>\n",
       "    </tr>\n",
       "    <tr>\n",
       "      <td>36</td>\n",
       "      <td>(110,)</td>\n",
       "      <td>0.0</td>\n",
       "      <td>1</td>\n",
       "      <td>300</td>\n",
       "      <td>90</td>\n",
       "      <td>mse</td>\n",
       "      <td>1638.528289</td>\n",
       "      <td>102</td>\n",
       "    </tr>\n",
       "    <tr>\n",
       "      <td>1</td>\n",
       "      <td>(64,)</td>\n",
       "      <td>0.0</td>\n",
       "      <td>1</td>\n",
       "      <td>300</td>\n",
       "      <td>90</td>\n",
       "      <td>mse</td>\n",
       "      <td>1640.052596</td>\n",
       "      <td>77</td>\n",
       "    </tr>\n",
       "    <tr>\n",
       "      <td>31</td>\n",
       "      <td>(4,)</td>\n",
       "      <td>0.5</td>\n",
       "      <td>1</td>\n",
       "      <td>300</td>\n",
       "      <td>90</td>\n",
       "      <td>mse</td>\n",
       "      <td>1655.406184</td>\n",
       "      <td>92</td>\n",
       "    </tr>\n",
       "    <tr>\n",
       "      <td>24</td>\n",
       "      <td>(4,)</td>\n",
       "      <td>0.4</td>\n",
       "      <td>1</td>\n",
       "      <td>300</td>\n",
       "      <td>90</td>\n",
       "      <td>mse</td>\n",
       "      <td>1656.700289</td>\n",
       "      <td>81</td>\n",
       "    </tr>\n",
       "    <tr>\n",
       "      <td>12</td>\n",
       "      <td>(8, 6, 4, 2)</td>\n",
       "      <td>0.1</td>\n",
       "      <td>1</td>\n",
       "      <td>300</td>\n",
       "      <td>90</td>\n",
       "      <td>mse</td>\n",
       "      <td>1662.778516</td>\n",
       "      <td>168</td>\n",
       "    </tr>\n",
       "    <tr>\n",
       "      <td>6</td>\n",
       "      <td>(16, 8, 6, 4)</td>\n",
       "      <td>0.0</td>\n",
       "      <td>1</td>\n",
       "      <td>300</td>\n",
       "      <td>90</td>\n",
       "      <td>mse</td>\n",
       "      <td>1709.607383</td>\n",
       "      <td>93</td>\n",
       "    </tr>\n",
       "    <tr>\n",
       "      <td>27</td>\n",
       "      <td>(16, 8, 6, 4)</td>\n",
       "      <td>0.4</td>\n",
       "      <td>1</td>\n",
       "      <td>300</td>\n",
       "      <td>90</td>\n",
       "      <td>mse</td>\n",
       "      <td>1819.320591</td>\n",
       "      <td>206</td>\n",
       "    </tr>\n",
       "    <tr>\n",
       "      <td>25</td>\n",
       "      <td>(8, 8, 8, 8)</td>\n",
       "      <td>0.4</td>\n",
       "      <td>1</td>\n",
       "      <td>300</td>\n",
       "      <td>90</td>\n",
       "      <td>mse</td>\n",
       "      <td>1833.615433</td>\n",
       "      <td>155</td>\n",
       "    </tr>\n",
       "    <tr>\n",
       "      <td>34</td>\n",
       "      <td>(16, 8, 6, 4)</td>\n",
       "      <td>0.5</td>\n",
       "      <td>1</td>\n",
       "      <td>300</td>\n",
       "      <td>90</td>\n",
       "      <td>mse</td>\n",
       "      <td>1948.766161</td>\n",
       "      <td>206</td>\n",
       "    </tr>\n",
       "    <tr>\n",
       "      <td>32</td>\n",
       "      <td>(8, 8, 8, 8)</td>\n",
       "      <td>0.5</td>\n",
       "      <td>1</td>\n",
       "      <td>300</td>\n",
       "      <td>90</td>\n",
       "      <td>mse</td>\n",
       "      <td>1968.635454</td>\n",
       "      <td>208</td>\n",
       "    </tr>\n",
       "    <tr>\n",
       "      <td>26</td>\n",
       "      <td>(8, 6, 4, 2)</td>\n",
       "      <td>0.4</td>\n",
       "      <td>1</td>\n",
       "      <td>300</td>\n",
       "      <td>90</td>\n",
       "      <td>mse</td>\n",
       "      <td>1969.410543</td>\n",
       "      <td>170</td>\n",
       "    </tr>\n",
       "    <tr>\n",
       "      <td>33</td>\n",
       "      <td>(8, 6, 4, 2)</td>\n",
       "      <td>0.5</td>\n",
       "      <td>1</td>\n",
       "      <td>300</td>\n",
       "      <td>90</td>\n",
       "      <td>mse</td>\n",
       "      <td>2095.002264</td>\n",
       "      <td>216</td>\n",
       "    </tr>\n",
       "    <tr>\n",
       "      <td>20</td>\n",
       "      <td>(16, 8, 6, 4)</td>\n",
       "      <td>0.2</td>\n",
       "      <td>1</td>\n",
       "      <td>300</td>\n",
       "      <td>90</td>\n",
       "      <td>mse</td>\n",
       "      <td>2107.792309</td>\n",
       "      <td>92</td>\n",
       "    </tr>\n",
       "    <tr>\n",
       "      <td>19</td>\n",
       "      <td>(8, 6, 4, 2)</td>\n",
       "      <td>0.2</td>\n",
       "      <td>1</td>\n",
       "      <td>300</td>\n",
       "      <td>90</td>\n",
       "      <td>mse</td>\n",
       "      <td>2405.592802</td>\n",
       "      <td>89</td>\n",
       "    </tr>\n",
       "    <tr>\n",
       "      <td>18</td>\n",
       "      <td>(8, 8, 8, 8)</td>\n",
       "      <td>0.2</td>\n",
       "      <td>1</td>\n",
       "      <td>300</td>\n",
       "      <td>90</td>\n",
       "      <td>mse</td>\n",
       "      <td>2728.123793</td>\n",
       "      <td>142</td>\n",
       "    </tr>\n",
       "  </tbody>\n",
       "</table>\n",
       "</div>"
      ],
      "text/plain": [
       "     hidden_nodes  dropout  output_dim  epochs  batch_size loss         rmse  \\\n",
       "23          (80,)      0.4           1     300          90  mse  1522.235255   \n",
       "41          (65,)      0.4           1     300          90  mse  1525.494847   \n",
       "22          (64,)      0.4           1     300          90  mse  1526.686985   \n",
       "15          (64,)      0.2           1     300          90  mse  1528.454726   \n",
       "39         (128,)      0.5           1     300          90  mse  1532.023644   \n",
       "9           (80,)      0.1           1     300          90  mse  1537.137282   \n",
       "38         (100,)      0.5           1     300          90  mse  1538.726053   \n",
       "16          (80,)      0.2           1     300          90  mse  1539.316254   \n",
       "40         (110,)      0.5           1     300          90  mse  1540.486584   \n",
       "30          (80,)      0.5           1     300          90  mse  1544.263087   \n",
       "7           (32,)      0.1           1     300          90  mse  1544.965885   \n",
       "29          (64,)      0.5           1     300          90  mse  1548.060036   \n",
       "8           (64,)      0.1           1     300          90  mse  1550.262265   \n",
       "21          (32,)      0.4           1     300          90  mse  1554.538364   \n",
       "28          (32,)      0.5           1     300          90  mse  1555.542536   \n",
       "14          (32,)      0.2           1     300          90  mse  1563.088907   \n",
       "11   (8, 8, 8, 8)      0.1           1     300          90  mse  1579.513249   \n",
       "13  (16, 8, 6, 4)      0.1           1     300          90  mse  1586.494865   \n",
       "0           (32,)      0.0           1     300          90  mse  1599.616934   \n",
       "4    (8, 8, 8, 8)      0.0           1     300          90  mse  1608.515108   \n",
       "3            (4,)      0.0           1     300          90  mse  1613.659534   \n",
       "17           (4,)      0.2           1     300          90  mse  1614.484477   \n",
       "37          (90,)      0.0           1     300          90  mse  1616.810766   \n",
       "2           (80,)      0.0           1     300          90  mse  1622.834432   \n",
       "35         (100,)      0.0           1     300          90  mse  1623.475283   \n",
       "10           (4,)      0.1           1     300          90  mse  1629.671784   \n",
       "5    (8, 6, 4, 2)      0.0           1     300          90  mse  1635.047048   \n",
       "36         (110,)      0.0           1     300          90  mse  1638.528289   \n",
       "1           (64,)      0.0           1     300          90  mse  1640.052596   \n",
       "31           (4,)      0.5           1     300          90  mse  1655.406184   \n",
       "24           (4,)      0.4           1     300          90  mse  1656.700289   \n",
       "12   (8, 6, 4, 2)      0.1           1     300          90  mse  1662.778516   \n",
       "6   (16, 8, 6, 4)      0.0           1     300          90  mse  1709.607383   \n",
       "27  (16, 8, 6, 4)      0.4           1     300          90  mse  1819.320591   \n",
       "25   (8, 8, 8, 8)      0.4           1     300          90  mse  1833.615433   \n",
       "34  (16, 8, 6, 4)      0.5           1     300          90  mse  1948.766161   \n",
       "32   (8, 8, 8, 8)      0.5           1     300          90  mse  1968.635454   \n",
       "26   (8, 6, 4, 2)      0.4           1     300          90  mse  1969.410543   \n",
       "33   (8, 6, 4, 2)      0.5           1     300          90  mse  2095.002264   \n",
       "20  (16, 8, 6, 4)      0.2           1     300          90  mse  2107.792309   \n",
       "19   (8, 6, 4, 2)      0.2           1     300          90  mse  2405.592802   \n",
       "18   (8, 8, 8, 8)      0.2           1     300          90  mse  2728.123793   \n",
       "\n",
       "    seconds  \n",
       "23       92  \n",
       "41      167  \n",
       "22       84  \n",
       "15       93  \n",
       "39      151  \n",
       "9        76  \n",
       "38      168  \n",
       "16       75  \n",
       "40      174  \n",
       "30      121  \n",
       "7        75  \n",
       "29      130  \n",
       "8        82  \n",
       "21       83  \n",
       "28      124  \n",
       "14       82  \n",
       "11      107  \n",
       "13       99  \n",
       "0        77  \n",
       "4        86  \n",
       "3        72  \n",
       "17       91  \n",
       "37      104  \n",
       "2        73  \n",
       "35      108  \n",
       "10       80  \n",
       "5        76  \n",
       "36      102  \n",
       "1        77  \n",
       "31       92  \n",
       "24       81  \n",
       "12      168  \n",
       "6        93  \n",
       "27      206  \n",
       "25      155  \n",
       "34      206  \n",
       "32      208  \n",
       "26      170  \n",
       "33      216  \n",
       "20       92  \n",
       "19       89  \n",
       "18      142  "
      ]
     },
     "execution_count": 90,
     "metadata": {},
     "output_type": "execute_result"
    }
   ],
   "source": [
    "df = pd.read_csv('tdnn-hyperparams2.txt', sep=';', header=0)\n",
    "df.sort_values('rmse')"
   ]
  },
  {
   "cell_type": "code",
   "execution_count": null,
   "metadata": {},
   "outputs": [],
   "source": []
  }
 ],
 "metadata": {
  "kernelspec": {
   "display_name": "Python 3",
   "language": "python",
   "name": "python3"
  },
  "language_info": {
   "codemirror_mode": {
    "name": "ipython",
    "version": 3
   },
   "file_extension": ".py",
   "mimetype": "text/x-python",
   "name": "python",
   "nbconvert_exporter": "python",
   "pygments_lexer": "ipython3",
   "version": "3.7.3"
  }
 },
 "nbformat": 4,
 "nbformat_minor": 2
}
