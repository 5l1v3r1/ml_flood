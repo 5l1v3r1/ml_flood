{
 "cells": [
  {
   "cell_type": "markdown",
   "metadata": {},
   "source": [
    "# 3. Model tests\n",
    "## 3.05 Example: Time delay neural network\n",
    "\n",
    "\n",
    "Testing the time-delay neural network involves following steps:\n",
    "1. Load the predictor and predictand arrays (these have been prepared in `2.05_prepare_data_for_the_models`)\n",
    "3. Define the ML-model\n",
    "4. Train the model\n",
    "5. Check the output for errors by visually inspecting timeseries of forecasts.\n",
    "6. Hyperparameter Optimization\n",
    "7. Case Study: May/June 2013; Flooding event at Krems (Danube river)\n",
    "   \n",
    "   "
   ]
  },
  {
   "cell_type": "code",
   "execution_count": 23,
   "metadata": {},
   "outputs": [],
   "source": [
    "import sys\n",
    "sys.path.append(\"../../\")\n",
    "import numpy as np\n",
    "import datetime as dt\n",
    "\n",
    "import matplotlib as mpl\n",
    "import matplotlib.pyplot as plt\n",
    "from pandas.plotting import register_matplotlib_converters\n",
    "register_matplotlib_converters()\n",
    "import pandas as pd\n",
    "import seaborn as sns\n",
    "import xarray as xr\n",
    "import keras\n",
    "\n",
    "from python.aux.utils_floodmodel import add_time, generate_prediction_array, remove_outlier, multi_forecast_case_study\n",
    "from python.aux.plot import plot_multif_prediction"
   ]
  },
  {
   "cell_type": "markdown",
   "metadata": {},
   "source": [
    "## Loading the data\n",
    "We now load Sample dataset contained in the git repository.\n",
    "\n",
    "As you are reading these lines, you opened the notebook in the `./docs/` folder of the main repository directory. To access the sample dataset that was delivered to you with the code, step outside the current directory (`../`) and enter the `data/` folder. The names of the sample datasets are `smallsampledata-era5.nc` and `smallsampledata-glofas.nc`, both in netCDF format, a user-friendly format that keeps the file size low and stores meta-data within the file.\n",
    "\n",
    "We use `xarray` to access the files, as it provides us with a very powerful interface to work with the data. Let's open the files and see what's in there:"
   ]
  },
  {
   "cell_type": "code",
   "execution_count": 53,
   "metadata": {},
   "outputs": [],
   "source": [
    "# load data\n",
    "ds = xr.open_dataset('../../data/features_xy.nc')\n",
    "\n",
    "y_orig = ds['dis']\n",
    "y = y_orig.copy()\n",
    "X = ds.drop(['dis', 'dis_diff'])"
   ]
  },
  {
   "cell_type": "code",
   "execution_count": 54,
   "metadata": {},
   "outputs": [
    {
     "data": {
      "text/plain": [
       "<xarray.Dataset>\n",
       "Dimensions:     (time: 13514)\n",
       "Coordinates:\n",
       "  * time        (time) datetime64[ns] 1981-01-01 1981-01-02 ... 2017-12-31\n",
       "Data variables:\n",
       "    cp          (time) float32 ...\n",
       "    lsp         (time) float32 ...\n",
       "    swvl1       (time) float32 ...\n",
       "    ro          (time) float32 ...\n",
       "    sd          (time) float32 ...\n",
       "    sd_diff     (time) float32 ...\n",
       "    lsp-4-11    (time) float32 ...\n",
       "    lsp-12-25   (time) float32 ...\n",
       "    lsp-26-55   (time) float32 ...\n",
       "    lsp-56-180  (time) float32 ...\n",
       "    lsp-1       (time) float32 ...\n",
       "    lsp-2       (time) float32 ...\n",
       "    lsp-3       (time) float32 ...\n",
       "    cp-1        (time) float32 ...\n",
       "    cp-2        (time) float32 ...\n",
       "    cp-3        (time) float32 ..."
      ]
     },
     "execution_count": 54,
     "metadata": {},
     "output_type": "execute_result"
    }
   ],
   "source": [
    "X"
   ]
  },
  {
   "cell_type": "markdown",
   "metadata": {},
   "source": [
    "### Differentiating the predictand\n",
    "xyz\n",
    "Predicting just time differences of discharge is the natural way yields a nicer distribution of the predictand so that we can use Mean-Squared-Error as optimization metric. "
   ]
  },
  {
   "cell_type": "code",
   "execution_count": 55,
   "metadata": {},
   "outputs": [
    {
     "name": "stdout",
     "output_type": "stream",
     "text": [
      "mean: 0.0 , std: 269074.8916842176 , skew: 167850422.6997186\n"
     ]
    },
    {
     "data": {
      "image/png": "[encoded data removed]",
      "text/plain": [
       "<Figure size 432x288 with 1 Axes>"
      ]
     },
     "metadata": {
      "needs_background": "light"
     },
     "output_type": "display_data"
    }
   ],
   "source": [
    "from scipy.stats import moment\n",
    "dist = y.values.ravel() - y.mean().values.ravel() \n",
    "dist = dist[~np.isnan(dist)]\n",
    "sns.distplot(dist)\n",
    "print('mean:', moment(dist, 1), ', std:', moment(dist, 2), ', skew:', moment(dist, 3))"
   ]
  },
  {
   "cell_type": "code",
   "execution_count": 56,
   "metadata": {},
   "outputs": [
    {
     "name": "stdout",
     "output_type": "stream",
     "text": [
      "mean: 0.0 , std: 4181.27897581471 , skew: 1100883.0967652714\n"
     ]
    },
    {
     "data": {
      "image/png": "[encoded data removed]",
      "text/plain": [
       "<Figure size 432x288 with 1 Axes>"
      ]
     },
     "metadata": {
      "needs_background": "light"
     },
     "output_type": "display_data"
    }
   ],
   "source": [
    "from scipy.stats import moment\n",
    "dist = y.diff('time', n=1).values.ravel()\n",
    "dist = dist[~np.isnan(dist)]\n",
    "sns.distplot(dist)\n",
    "print('mean:', moment(dist, 1), ', std:', moment(dist, 2), ', skew:', moment(dist, 3))"
   ]
  },
  {
   "cell_type": "code",
   "execution_count": 57,
   "metadata": {
    "scrolled": true
   },
   "outputs": [
    {
     "data": {
      "text/plain": [
       "<xarray.DataArray 'dis' (time: 13513)>\n",
       "array([-6.15387 ,  4.498413, 17.529724, ..., -4.656921, -2.809204, 20.632019])\n",
       "Coordinates:\n",
       "  * time     (time) datetime64[ns] 1981-01-02 1981-01-03 ... 2017-12-31"
      ]
     },
     "execution_count": 57,
     "metadata": {},
     "output_type": "execute_result"
    }
   ],
   "source": [
    "y = y.diff('time', 1)\n",
    "y"
   ]
  },
  {
   "cell_type": "markdown",
   "metadata": {},
   "source": [
    "### Reshaping\n"
   ]
  },
  {
   "cell_type": "code",
   "execution_count": 58,
   "metadata": {},
   "outputs": [],
   "source": [
    "from python.aux.utils_floodmodel import reshape_scalar_predictand"
   ]
  },
  {
   "cell_type": "code",
   "execution_count": 59,
   "metadata": {},
   "outputs": [
    {
     "data": {
      "text/plain": [
       "<xarray.DataArray 'features' (features: 16)>\n",
       "array([('cp',), ('lsp',), ('swvl1',), ('ro',), ('sd',), ('sd_diff',),\n",
       "       ('lsp-4-11',), ('lsp-12-25',), ('lsp-26-55',), ('lsp-56-180',),\n",
       "       ('lsp-1',), ('lsp-2',), ('lsp-3',), ('cp-1',), ('cp-2',), ('cp-3',)],\n",
       "      dtype=object)\n",
       "Coordinates:\n",
       "  * features  (features) object ('cp',) ('lsp',) ... ('cp-2',) ('cp-3',)"
      ]
     },
     "execution_count": 59,
     "metadata": {},
     "output_type": "execute_result"
    }
   ],
   "source": [
    "Xda, yda = reshape_scalar_predictand(X, y)\n",
    "Xda.features"
   ]
  },
  {
   "cell_type": "markdown",
   "metadata": {},
   "source": [
    "---\n",
    "\n",
    "Next, we split the dataset into three parts for \n",
    "- training (the longest period for estimating the free parameters within the model), \n",
    "- validation (for tuning hyperparameters) and \n",
    "- testing (for the model comparison)."
   ]
  },
  {
   "cell_type": "code",
   "execution_count": 61,
   "metadata": {},
   "outputs": [],
   "source": [
    "period_train = dict(time=slice(None, '2005'))\n",
    "period_valid = dict(time=slice('2006', '2011'))\n",
    "period_test = dict(time=slice('2012', '2016'))"
   ]
  },
  {
   "cell_type": "code",
   "execution_count": 62,
   "metadata": {},
   "outputs": [],
   "source": [
    "X_train, y_train = Xda.loc[period_train], yda.loc[period_train]\n",
    "X_valid, y_valid = Xda.loc[period_valid], yda.loc[period_valid]\n",
    "X_test, y_test = Xda.loc[period_test], yda.loc[period_test]"
   ]
  },
  {
   "cell_type": "code",
   "execution_count": 63,
   "metadata": {},
   "outputs": [
    {
     "data": {
      "text/plain": [
       "((8922, 16), (8922,))"
      ]
     },
     "execution_count": 63,
     "metadata": {},
     "output_type": "execute_result"
    }
   ],
   "source": [
    "X_train.shape, y_train.shape"
   ]
  },
  {
   "cell_type": "code",
   "execution_count": 64,
   "metadata": {
    "scrolled": false
   },
   "outputs": [],
   "source": [
    "from sklearn.pipeline import Pipeline\n",
    "from sklearn.preprocessing import StandardScaler\n",
    "import keras\n",
    "from keras.layers.core import Dropout\n",
    "from keras.constraints import MinMaxNorm, nonneg\n",
    "\n",
    "\n",
    "def add_time(vector, time, name=None):\n",
    "    \"\"\"Converts numpy arrays to xarrays with a time coordinate.\n",
    "\n",
    "    Parameters\n",
    "    ----------\n",
    "    vector : np.array\n",
    "        1-dimensional array of predictions\n",
    "    time : xr.DataArray\n",
    "        the return value of `Xda.time`\n",
    "\n",
    "    Returns\n",
    "    -------\n",
    "    xr.DataArray\n",
    "    \"\"\"\n",
    "    return xr.DataArray(vector, dims=('time'), coords={'time': time}, name=name)\n",
    "\n",
    "\n",
    "class DenseNN(object):\n",
    "    def __init__(self, **kwargs):\n",
    "        self.output_dim = kwargs.pop('output_dim', 1)\n",
    "        self.xscaler = StandardScaler()\n",
    "        self.yscaler = StandardScaler()\n",
    "        \n",
    "        model = keras.models.Sequential()\n",
    "        self.cfg = kwargs\n",
    "        hidden_nodes = self.cfg.get('hidden_nodes')\n",
    "        \n",
    "        model.add(keras.layers.Dense(hidden_nodes[0], \n",
    "                                     activation='tanh'))\n",
    "        model.add(keras.layers.BatchNormalization())\n",
    "        model.add(Dropout(self.cfg.get('dropout', None)))\n",
    "        \n",
    "        for n in hidden_nodes[1:]:\n",
    "            model.add(keras.layers.Dense(n, activation='tanh')) \n",
    "            model.add(keras.layers.BatchNormalization())\n",
    "            model.add(Dropout(self.cfg.get('dropout', None)))\n",
    "        model.add(keras.layers.Dense(self.output_dim, \n",
    "                                     activation='linear'))\n",
    "        opt = keras.optimizers.Adam() \n",
    "\n",
    "        model.compile(loss=self.cfg.get('loss'), optimizer=opt)\n",
    "        self.model = model\n",
    "\n",
    "        self.callbacks = [keras.callbacks.EarlyStopping(monitor='val_loss',\n",
    "                            min_delta=1e-2, patience=100, verbose=0, mode='auto',\n",
    "                            baseline=None, restore_best_weights=True),]\n",
    "    \n",
    "    def score_func(self, X, y):\n",
    "        \"\"\"Calculate the RMS error\n",
    "        \n",
    "        Parameters\n",
    "        ----------\n",
    "        xr.DataArrays\n",
    "        \n",
    "        \"\"\"\n",
    "        ypred = self.predict(X)\n",
    "        err_pred = ypred - y\n",
    "        \n",
    "        # NaNs do not contribute to error\n",
    "        err_pred = err_pred.where(~np.isnan(err_pred), 0.)  \n",
    "        return float(np.sqrt(xr.dot(err_pred, err_pred)))\n",
    "        \n",
    "    def predict(self, Xda, name=None):\n",
    "        \"\"\"Input and Output: xr.DataArray\n",
    "        \n",
    "        Parameters\n",
    "        ----------\n",
    "        initial_dis : xr.DataArray\n",
    "            of shape (init_time,), defines the initial discharge for each sample in `Xda`\n",
    "        \"\"\"\n",
    "        X = self.xscaler.transform(Xda.values)\n",
    "        y = self.model.predict(X).squeeze()\n",
    "        y = self.yscaler.inverse_transform(y)\n",
    "        \n",
    "        y = add_time(y, Xda.time, name=name)\n",
    "        return y\n",
    "\n",
    "    def fit(self, X_train, y_train, X_valid, y_valid, **kwargs):\n",
    "        \"\"\"Input: xr.DataArray\"\"\"\n",
    "        \n",
    "        print(X_train.shape)\n",
    "        X_train = self.xscaler.fit_transform(X_train.values)\n",
    "        y_train = self.yscaler.fit_transform(\n",
    "                        y_train.values.reshape(-1, self.output_dim))\n",
    "        \n",
    "        X_valid = self.xscaler.transform(X_valid.values)\n",
    "        y_valid = self.yscaler.transform(\n",
    "                        y_valid.values.reshape(-1, self.output_dim))\n",
    "        \n",
    "        return self.model.fit(X_train, y_train,\n",
    "                              validation_data=(X_valid, y_valid), \n",
    "                              epochs=self.cfg.get('epochs', 1000),\n",
    "                              batch_size=self.cfg.get('batch_size'),\n",
    "                              callbacks=self.callbacks,\n",
    "                              verbose=0, **kwargs)"
   ]
  },
  {
   "cell_type": "code",
   "execution_count": 108,
   "metadata": {},
   "outputs": [],
   "source": [
    "config = dict(hidden_nodes=(64,),  \n",
    "                dropout=0.25,\n",
    "                epochs=300,\n",
    "                batch_size=90,\n",
    "                loss='mse')\n",
    "\n",
    "m = DenseNN(**config)"
   ]
  },
  {
   "cell_type": "code",
   "execution_count": 109,
   "metadata": {},
   "outputs": [
    {
     "name": "stdout",
     "output_type": "stream",
     "text": [
      "(8922, 16)\n"
     ]
    }
   ],
   "source": [
    "hist = m.fit(X_train, y_train, X_valid, y_valid)"
   ]
  },
  {
   "cell_type": "code",
   "execution_count": 110,
   "metadata": {},
   "outputs": [
    {
     "name": "stdout",
     "output_type": "stream",
     "text": [
      "Model: \"sequential_4\"\n",
      "_________________________________________________________________\n",
      "Layer (type)                 Output Shape              Param #   \n",
      "=================================================================\n",
      "dense_7 (Dense)              (None, 64)                1088      \n",
      "_________________________________________________________________\n",
      "batch_normalization_4 (Batch (None, 64)                256       \n",
      "_________________________________________________________________\n",
      "dropout_4 (Dropout)          (None, 64)                0         \n",
      "_________________________________________________________________\n",
      "dense_8 (Dense)              (None, 1)                 65        \n",
      "=================================================================\n",
      "Total params: 1,409\n",
      "Trainable params: 1,281\n",
      "Non-trainable params: 128\n",
      "_________________________________________________________________\n"
     ]
    }
   ],
   "source": [
    "m.model.summary()"
   ]
  },
  {
   "cell_type": "markdown",
   "metadata": {},
   "source": [
    "To plot a graph of the network, run the following cell:"
   ]
  },
  {
   "cell_type": "raw",
   "metadata": {},
   "source": [
    "from keras.utils import plot_model\n",
    "plot_model(m.model, to_file='model.png', show_shapes=True)"
   ]
  },
  {
   "cell_type": "markdown",
   "metadata": {},
   "source": [
    "The learning curve describes how quickly the optimization of the neural net's parameters converges or if it does not converge at all. The blue line measures the training error and the orange line the validation error. If, at some point, training error but not validation error sinks, the model is overfitting on the training set. "
   ]
  },
  {
   "cell_type": "code",
   "execution_count": 111,
   "metadata": {
    "scrolled": false
   },
   "outputs": [
    {
     "data": {
      "image/png": "[encoded data removed]",
      "text/plain": [
       "<Figure size 576x288 with 1 Axes>"
      ]
     },
     "metadata": {
      "needs_background": "light"
     },
     "output_type": "display_data"
    }
   ],
   "source": [
    "h = hist.model.history\n",
    "\n",
    "# Plot training & validation loss value\n",
    "fig, ax = plt.subplots(figsize=(8,4))\n",
    "ax.plot(h.history['loss'], label='loss')\n",
    "ax.plot(h.history['val_loss'], label='val_loss')\n",
    "plt.title('Learning curve')\n",
    "ax.set_ylabel('Loss')\n",
    "ax.set_xlabel('Epoch')\n",
    "plt.legend(['Training', 'Validation'])\n",
    "ax.set_yscale('log')"
   ]
  },
  {
   "cell_type": "code",
   "execution_count": 139,
   "metadata": {},
   "outputs": [],
   "source": [
    "import os, yaml\n",
    "dir_model = '../../models/tdnn-diff-batch90/'\n",
    "os.makedirs(dir_model, exist_ok=True)"
   ]
  },
  {
   "cell_type": "code",
   "execution_count": null,
   "metadata": {},
   "outputs": [],
   "source": [
    "yaml_string = m.model.to_yaml()\n",
    "with open(dir_model+'keras-config.yml', 'w') as f:\n",
    "    yaml.dump(yaml_string, f)\n",
    "    \n",
    "with open(dir_model+'model-config.yml', 'w') as f:\n",
    "    yaml.dump(config, f, indent=4)\n",
    "    \n",
    "from contextlib import redirect_stdout\n",
    "with open(dir_model+'summary.txt', \"w\") as f:\n",
    "    with redirect_stdout(f):\n",
    "        m.model.summary()"
   ]
  },
  {
   "cell_type": "code",
   "execution_count": 140,
   "metadata": {},
   "outputs": [],
   "source": [
    "y_pred_train = m.predict(X_train)\n",
    "y_pred_train = generate_prediction_array(y_pred_train, y_orig, forecast_range=14)\n",
    "\n",
    "y_pred_valid = m.predict(X_valid)\n",
    "y_pred_valid = generate_prediction_array(y_pred_valid, y_orig, forecast_range=14)\n",
    "\n",
    "y_pred_test = m.predict(X_test)\n",
    "y_pred_test = generate_prediction_array(y_pred_test, y_orig, forecast_range=14)"
   ]
  },
  {
   "cell_type": "markdown",
   "metadata": {
    "scrolled": false
   },
   "source": [
    "## An interesting case in the Test-Dataset\n",
    "### 2013 European Floods\n",
    "\n"
   ]
  },
  {
   "cell_type": "code",
   "execution_count": 128,
   "metadata": {
    "collapsed": true
   },
   "outputs": [
    {
     "name": "stdout",
     "output_type": "stream",
     "text": [
      ".\n",
      ".\n",
      "forecast 1\n",
      ".\n",
      ".\n",
      "generate_prediction_array\n",
      "generate_prediction_array\n",
      "forecast 2\n",
      ".\n",
      ".\n",
      "generate_prediction_array\n",
      "generate_prediction_array\n",
      "forecast 3\n",
      ".\n",
      ".\n",
      "generate_prediction_array\n",
      "generate_prediction_array\n",
      "forecast 4\n",
      ".\n",
      ".\n",
      "generate_prediction_array\n",
      "generate_prediction_array\n"
     ]
    }
   ],
   "source": [
    "from python.aux.utils_floodmodel import multi_forecast_case_study_tdnn\n",
    "\n",
    "X_multif_fin, X_multifr_fin, y_case_fin = multi_forecast_case_study_tdnn(m)"
   ]
  },
  {
   "cell_type": "code",
   "execution_count": 145,
   "metadata": {},
   "outputs": [
    {
     "data": {
      "text/plain": [
       "<matplotlib.collections.QuadMesh at 0x7f94aef99390>"
      ]
     },
     "execution_count": 145,
     "metadata": {},
     "output_type": "execute_result"
    },
    {
     "data": {
      "image/png": "[encoded data removed]",
      "text/plain": [
       "<Figure size 432x288 with 2 Axes>"
      ]
     },
     "metadata": {
      "needs_background": "light"
     },
     "output_type": "display_data"
    }
   ],
   "source": [
    "X_multif_fin.plot()"
   ]
  },
  {
   "cell_type": "code",
   "execution_count": 144,
   "metadata": {},
   "outputs": [
    {
     "data": {
      "text/plain": [
       "(<Figure size 1080x360 with 1 Axes>,\n",
       " <matplotlib.axes._subplots.AxesSubplot at 0x7f94af01ad30>)"
      ]
     },
     "execution_count": 144,
     "metadata": {},
     "output_type": "execute_result"
    },
    {
     "data": {
      "image/png": "[encoded data removed]",
      "text/plain": [
       "<Figure size 1080x360 with 1 Axes>"
      ]
     },
     "metadata": {
      "needs_background": "light"
     },
     "output_type": "display_data"
    }
   ],
   "source": [
    "title='Setting: Time-Delay Neural Net: 64 hidden nodes, dropout 0.25'\n",
    "plot_multif_prediction(y_pred_test, y_orig, forecast_range=14, title=title)"
   ]
  },
  {
   "cell_type": "markdown",
   "metadata": {},
   "source": [
    "Save the predictions to disk."
   ]
  },
  {
   "cell_type": "code",
   "execution_count": null,
   "metadata": {},
   "outputs": [],
   "source": [
    "y_pred_valid.to_netcdf(dir_model+'tdnn_result_validation_period.nc')\n",
    "y_pred_test.to_netcdf(dir_model+'tdnn_result_test_period.nc')\n",
    "X_multif_fin.to_netcdf(dir_model+'tdnn_result_case_study.nc')"
   ]
  },
  {
   "cell_type": "markdown",
   "metadata": {},
   "source": [
    "## Feature importance\n",
    "\n",
    "To see the contribution of the features to the final prediction, we can compare the model performance with and without the information from some feature by shuffling the rows of the `X` matrix for that feature, that is, the feature is randomized in a way that maintains the true feature value distribution.\n",
    "\n",
    "This allows us to evaluate the impact of a feature on the model performance without training the model for each feature over and over again. "
   ]
  },
  {
   "cell_type": "code",
   "execution_count": null,
   "metadata": {},
   "outputs": [],
   "source": [
    "import eli5\n",
    "from eli5.permutation_importance import get_score_importances"
   ]
  },
  {
   "cell_type": "code",
   "execution_count": null,
   "metadata": {},
   "outputs": [],
   "source": [
    "from python.aux.verification import RMSE\n",
    "m.score_func(X_test, y_test)\n",
    "\n",
    "base_score, RMSE_improvement = get_score_importances(m.score_func, X_test, y_test, n_iter=3)"
   ]
  },
  {
   "cell_type": "code",
   "execution_count": null,
   "metadata": {},
   "outputs": [],
   "source": [
    "#  feature_importances = np.mean(score_decreases, axis=0)"
   ]
  },
  {
   "cell_type": "code",
   "execution_count": null,
   "metadata": {},
   "outputs": [],
   "source": [
    "def feature_importance_plot(xda_features, score_decreases):\n",
    "    # xda_features : xr.DataArray.features\n",
    "    # score_decreases : list of arrays\n",
    "    \n",
    "    labels = [e[0] for e in xda_features.values]\n",
    "    assert len(labels) == len(score_decreases[0])  # one label per entry\n",
    "    n_iter = len(score_decreases)\n",
    "    width = 1/n_iter\n",
    "    plt.subplots(figsize=(20,5))\n",
    "\n",
    "    for c in range(n_iter):\n",
    "        x = np.arange(len(labels))+c/n_iter\n",
    "        plt.bar(x, score_decreases[c], width=-width, align='edge')\n",
    "\n",
    "    plt.grid()\n",
    "    plt.xticks(ticks=x, labels=labels, rotation=45)\n",
    "    plt.ylabel('discharge RMSE')"
   ]
  },
  {
   "cell_type": "code",
   "execution_count": null,
   "metadata": {},
   "outputs": [],
   "source": [
    "feature_importance_plot(Xda.features, RMSE_improvement)"
   ]
  },
  {
   "cell_type": "markdown",
   "metadata": {},
   "source": [
    "The importance values are in units of our predictand (discharge) in m$^3$/s. There are some concerns about the validity of the results from this library, so follow the [ELI5-discussion on github](https://github.com/TeamHG-Memex/eli5/issues/316). Negative values in this diagram mean that those features result in a worsening of the RMS error.\n",
    "\n"
   ]
  },
  {
   "cell_type": "markdown",
   "metadata": {},
   "source": [
    "## Result of the Hyperparameter Optimization\n",
    "\n",
    "The lowest RMSE is achieved by the 64 node, 1-layer MLP."
   ]
  },
  {
   "cell_type": "code",
   "execution_count": 138,
   "metadata": {},
   "outputs": [
    {
     "data": {
      "text/html": [
       "<div>\n",
       "<style scoped>\n",
       "    .dataframe tbody tr th:only-of-type {\n",
       "        vertical-align: middle;\n",
       "    }\n",
       "\n",
       "    .dataframe tbody tr th {\n",
       "        vertical-align: top;\n",
       "    }\n",
       "\n",
       "    .dataframe thead th {\n",
       "        text-align: right;\n",
       "    }\n",
       "</style>\n",
       "<table border=\"1\" class=\"dataframe\">\n",
       "  <thead>\n",
       "    <tr style=\"text-align: right;\">\n",
       "      <th></th>\n",
       "      <th>hidden_nodes</th>\n",
       "      <th>dropout</th>\n",
       "      <th>epochs</th>\n",
       "      <th>batch_size</th>\n",
       "      <th>loss</th>\n",
       "      <th>rmse</th>\n",
       "      <th>seconds</th>\n",
       "    </tr>\n",
       "  </thead>\n",
       "  <tbody>\n",
       "    <tr>\n",
       "      <td>(64,)</td>\n",
       "      <td>0.25</td>\n",
       "      <td>1</td>\n",
       "      <td>300</td>\n",
       "      <td>90</td>\n",
       "      <td>mse</td>\n",
       "      <td>1648.190605</td>\n",
       "      <td>175</td>\n",
       "    </tr>\n",
       "    <tr>\n",
       "      <td>(64,)</td>\n",
       "      <td>0.25</td>\n",
       "      <td>1</td>\n",
       "      <td>300</td>\n",
       "      <td>90</td>\n",
       "      <td>mse</td>\n",
       "      <td>1653.627947</td>\n",
       "      <td>200</td>\n",
       "    </tr>\n",
       "    <tr>\n",
       "      <td>(64,)</td>\n",
       "      <td>0.25</td>\n",
       "      <td>1</td>\n",
       "      <td>300</td>\n",
       "      <td>90</td>\n",
       "      <td>mse</td>\n",
       "      <td>1659.769594</td>\n",
       "      <td>166</td>\n",
       "    </tr>\n",
       "    <tr>\n",
       "      <td>(32, 16, 8, 4)</td>\n",
       "      <td>0.10</td>\n",
       "      <td>1</td>\n",
       "      <td>300</td>\n",
       "      <td>90</td>\n",
       "      <td>mse</td>\n",
       "      <td>1662.142673</td>\n",
       "      <td>165</td>\n",
       "    </tr>\n",
       "    <tr>\n",
       "      <td>(64,)</td>\n",
       "      <td>0.25</td>\n",
       "      <td>1</td>\n",
       "      <td>300</td>\n",
       "      <td>90</td>\n",
       "      <td>mse</td>\n",
       "      <td>1663.907589</td>\n",
       "      <td>176</td>\n",
       "    </tr>\n",
       "    <tr>\n",
       "      <td>(64,)</td>\n",
       "      <td>0.25</td>\n",
       "      <td>1</td>\n",
       "      <td>300</td>\n",
       "      <td>90</td>\n",
       "      <td>mse</td>\n",
       "      <td>1664.296636</td>\n",
       "      <td>152</td>\n",
       "    </tr>\n",
       "    <tr>\n",
       "      <td>(64,)</td>\n",
       "      <td>0.25</td>\n",
       "      <td>1</td>\n",
       "      <td>300</td>\n",
       "      <td>90</td>\n",
       "      <td>mse</td>\n",
       "      <td>1664.483055</td>\n",
       "      <td>136</td>\n",
       "    </tr>\n",
       "    <tr>\n",
       "      <td>(64,)</td>\n",
       "      <td>0.25</td>\n",
       "      <td>1</td>\n",
       "      <td>300</td>\n",
       "      <td>90</td>\n",
       "      <td>mse</td>\n",
       "      <td>1664.967737</td>\n",
       "      <td>183</td>\n",
       "    </tr>\n",
       "    <tr>\n",
       "      <td>(64,)</td>\n",
       "      <td>0.25</td>\n",
       "      <td>1</td>\n",
       "      <td>300</td>\n",
       "      <td>90</td>\n",
       "      <td>mse</td>\n",
       "      <td>1665.891043</td>\n",
       "      <td>165</td>\n",
       "    </tr>\n",
       "    <tr>\n",
       "      <td>(64,)</td>\n",
       "      <td>0.25</td>\n",
       "      <td>1</td>\n",
       "      <td>300</td>\n",
       "      <td>90</td>\n",
       "      <td>mse</td>\n",
       "      <td>1666.177448</td>\n",
       "      <td>148</td>\n",
       "    </tr>\n",
       "    <tr>\n",
       "      <td>(64,)</td>\n",
       "      <td>0.25</td>\n",
       "      <td>1</td>\n",
       "      <td>300</td>\n",
       "      <td>90</td>\n",
       "      <td>mse</td>\n",
       "      <td>1666.181811</td>\n",
       "      <td>185</td>\n",
       "    </tr>\n",
       "    <tr>\n",
       "      <td>(64,)</td>\n",
       "      <td>0.25</td>\n",
       "      <td>1</td>\n",
       "      <td>300</td>\n",
       "      <td>90</td>\n",
       "      <td>mse</td>\n",
       "      <td>1666.392259</td>\n",
       "      <td>153</td>\n",
       "    </tr>\n",
       "    <tr>\n",
       "      <td>(64,)</td>\n",
       "      <td>0.25</td>\n",
       "      <td>1</td>\n",
       "      <td>300</td>\n",
       "      <td>90</td>\n",
       "      <td>mse</td>\n",
       "      <td>1667.303472</td>\n",
       "      <td>127</td>\n",
       "    </tr>\n",
       "    <tr>\n",
       "      <td>(64,)</td>\n",
       "      <td>0.25</td>\n",
       "      <td>1</td>\n",
       "      <td>300</td>\n",
       "      <td>90</td>\n",
       "      <td>mse</td>\n",
       "      <td>1668.257297</td>\n",
       "      <td>168</td>\n",
       "    </tr>\n",
       "    <tr>\n",
       "      <td>(64,)</td>\n",
       "      <td>0.25</td>\n",
       "      <td>1</td>\n",
       "      <td>300</td>\n",
       "      <td>90</td>\n",
       "      <td>mse</td>\n",
       "      <td>1672.646377</td>\n",
       "      <td>161</td>\n",
       "    </tr>\n",
       "    <tr>\n",
       "      <td>(64,)</td>\n",
       "      <td>0.25</td>\n",
       "      <td>1</td>\n",
       "      <td>300</td>\n",
       "      <td>90</td>\n",
       "      <td>mse</td>\n",
       "      <td>1673.309188</td>\n",
       "      <td>131</td>\n",
       "    </tr>\n",
       "    <tr>\n",
       "      <td>(64,)</td>\n",
       "      <td>0.20</td>\n",
       "      <td>1</td>\n",
       "      <td>300</td>\n",
       "      <td>90</td>\n",
       "      <td>mse</td>\n",
       "      <td>1673.333694</td>\n",
       "      <td>73</td>\n",
       "    </tr>\n",
       "    <tr>\n",
       "      <td>(16, 8, 6, 4)</td>\n",
       "      <td>0.10</td>\n",
       "      <td>1</td>\n",
       "      <td>300</td>\n",
       "      <td>90</td>\n",
       "      <td>mse</td>\n",
       "      <td>1674.512973</td>\n",
       "      <td>101</td>\n",
       "    </tr>\n",
       "    <tr>\n",
       "      <td>(64,)</td>\n",
       "      <td>0.20</td>\n",
       "      <td>1</td>\n",
       "      <td>300</td>\n",
       "      <td>64</td>\n",
       "      <td>mse</td>\n",
       "      <td>1675.254068</td>\n",
       "      <td>142</td>\n",
       "    </tr>\n",
       "    <tr>\n",
       "      <td>(8, 6, 4, 2)</td>\n",
       "      <td>0.10</td>\n",
       "      <td>1</td>\n",
       "      <td>300</td>\n",
       "      <td>90</td>\n",
       "      <td>mse</td>\n",
       "      <td>1675.585161</td>\n",
       "      <td>120</td>\n",
       "    </tr>\n",
       "    <tr>\n",
       "      <td>(32,)</td>\n",
       "      <td>0.20</td>\n",
       "      <td>1</td>\n",
       "      <td>300</td>\n",
       "      <td>64</td>\n",
       "      <td>mse</td>\n",
       "      <td>1675.647847</td>\n",
       "      <td>132</td>\n",
       "    </tr>\n",
       "    <tr>\n",
       "      <td>(64,)</td>\n",
       "      <td>0.25</td>\n",
       "      <td>1</td>\n",
       "      <td>300</td>\n",
       "      <td>90</td>\n",
       "      <td>mse</td>\n",
       "      <td>1675.924256</td>\n",
       "      <td>135</td>\n",
       "    </tr>\n",
       "    <tr>\n",
       "      <td>(64,)</td>\n",
       "      <td>0.40</td>\n",
       "      <td>1</td>\n",
       "      <td>300</td>\n",
       "      <td>90</td>\n",
       "      <td>mse</td>\n",
       "      <td>1677.304704</td>\n",
       "      <td>122</td>\n",
       "    </tr>\n",
       "    <tr>\n",
       "      <td>(64,)</td>\n",
       "      <td>0.25</td>\n",
       "      <td>1</td>\n",
       "      <td>300</td>\n",
       "      <td>90</td>\n",
       "      <td>mse</td>\n",
       "      <td>1679.686067</td>\n",
       "      <td>146</td>\n",
       "    </tr>\n",
       "    <tr>\n",
       "      <td>(64,)</td>\n",
       "      <td>0.25</td>\n",
       "      <td>1</td>\n",
       "      <td>300</td>\n",
       "      <td>90</td>\n",
       "      <td>mse</td>\n",
       "      <td>1680.731410</td>\n",
       "      <td>131</td>\n",
       "    </tr>\n",
       "    <tr>\n",
       "      <td>(64,)</td>\n",
       "      <td>0.25</td>\n",
       "      <td>1</td>\n",
       "      <td>300</td>\n",
       "      <td>90</td>\n",
       "      <td>mse</td>\n",
       "      <td>1681.029123</td>\n",
       "      <td>142</td>\n",
       "    </tr>\n",
       "    <tr>\n",
       "      <td>(32,)</td>\n",
       "      <td>0.10</td>\n",
       "      <td>1</td>\n",
       "      <td>300</td>\n",
       "      <td>90</td>\n",
       "      <td>mse</td>\n",
       "      <td>1682.628746</td>\n",
       "      <td>66</td>\n",
       "    </tr>\n",
       "    <tr>\n",
       "      <td>(64,)</td>\n",
       "      <td>0.25</td>\n",
       "      <td>1</td>\n",
       "      <td>300</td>\n",
       "      <td>90</td>\n",
       "      <td>mse</td>\n",
       "      <td>1683.036477</td>\n",
       "      <td>126</td>\n",
       "    </tr>\n",
       "    <tr>\n",
       "      <td>(64,)</td>\n",
       "      <td>0.25</td>\n",
       "      <td>1</td>\n",
       "      <td>300</td>\n",
       "      <td>90</td>\n",
       "      <td>mse</td>\n",
       "      <td>1686.399412</td>\n",
       "      <td>129</td>\n",
       "    </tr>\n",
       "    <tr>\n",
       "      <td>(64,)</td>\n",
       "      <td>0.10</td>\n",
       "      <td>1</td>\n",
       "      <td>300</td>\n",
       "      <td>90</td>\n",
       "      <td>mse</td>\n",
       "      <td>1687.503179</td>\n",
       "      <td>78</td>\n",
       "    </tr>\n",
       "    <tr>\n",
       "      <td>(32,)</td>\n",
       "      <td>0.40</td>\n",
       "      <td>1</td>\n",
       "      <td>300</td>\n",
       "      <td>90</td>\n",
       "      <td>mse</td>\n",
       "      <td>1694.163614</td>\n",
       "      <td>110</td>\n",
       "    </tr>\n",
       "    <tr>\n",
       "      <td>(32,)</td>\n",
       "      <td>0.20</td>\n",
       "      <td>1</td>\n",
       "      <td>300</td>\n",
       "      <td>180</td>\n",
       "      <td>mse</td>\n",
       "      <td>1697.112125</td>\n",
       "      <td>69</td>\n",
       "    </tr>\n",
       "    <tr>\n",
       "      <td>(32,)</td>\n",
       "      <td>0.20</td>\n",
       "      <td>1</td>\n",
       "      <td>300</td>\n",
       "      <td>90</td>\n",
       "      <td>mse</td>\n",
       "      <td>1706.273064</td>\n",
       "      <td>58</td>\n",
       "    </tr>\n",
       "    <tr>\n",
       "      <td>(8, 6, 4, 2)</td>\n",
       "      <td>0.20</td>\n",
       "      <td>1</td>\n",
       "      <td>300</td>\n",
       "      <td>90</td>\n",
       "      <td>mse</td>\n",
       "      <td>1716.306180</td>\n",
       "      <td>171</td>\n",
       "    </tr>\n",
       "    <tr>\n",
       "      <td>(16, 8, 6, 4)</td>\n",
       "      <td>0.20</td>\n",
       "      <td>1</td>\n",
       "      <td>300</td>\n",
       "      <td>90</td>\n",
       "      <td>mse</td>\n",
       "      <td>1717.473479</td>\n",
       "      <td>108</td>\n",
       "    </tr>\n",
       "    <tr>\n",
       "      <td>(32, 16, 8, 4)</td>\n",
       "      <td>0.40</td>\n",
       "      <td>1</td>\n",
       "      <td>300</td>\n",
       "      <td>90</td>\n",
       "      <td>mse</td>\n",
       "      <td>1723.486075</td>\n",
       "      <td>181</td>\n",
       "    </tr>\n",
       "    <tr>\n",
       "      <td>(32, 16, 8, 4)</td>\n",
       "      <td>0.20</td>\n",
       "      <td>1</td>\n",
       "      <td>300</td>\n",
       "      <td>90</td>\n",
       "      <td>mse</td>\n",
       "      <td>1735.863020</td>\n",
       "      <td>106</td>\n",
       "    </tr>\n",
       "    <tr>\n",
       "      <td>(4,)</td>\n",
       "      <td>0.10</td>\n",
       "      <td>1</td>\n",
       "      <td>300</td>\n",
       "      <td>90</td>\n",
       "      <td>mse</td>\n",
       "      <td>1751.779598</td>\n",
       "      <td>60</td>\n",
       "    </tr>\n",
       "    <tr>\n",
       "      <td>(4, 4, 4, 4)</td>\n",
       "      <td>0.20</td>\n",
       "      <td>1</td>\n",
       "      <td>300</td>\n",
       "      <td>90</td>\n",
       "      <td>mse</td>\n",
       "      <td>1756.735196</td>\n",
       "      <td>137</td>\n",
       "    </tr>\n",
       "    <tr>\n",
       "      <td>(4, 4, 4, 4)</td>\n",
       "      <td>0.10</td>\n",
       "      <td>1</td>\n",
       "      <td>300</td>\n",
       "      <td>90</td>\n",
       "      <td>mse</td>\n",
       "      <td>1760.289091</td>\n",
       "      <td>110</td>\n",
       "    </tr>\n",
       "    <tr>\n",
       "      <td>(4,)</td>\n",
       "      <td>0.20</td>\n",
       "      <td>1</td>\n",
       "      <td>300</td>\n",
       "      <td>90</td>\n",
       "      <td>mse</td>\n",
       "      <td>1780.635424</td>\n",
       "      <td>63</td>\n",
       "    </tr>\n",
       "    <tr>\n",
       "      <td>(16, 8, 6, 4)</td>\n",
       "      <td>0.40</td>\n",
       "      <td>1</td>\n",
       "      <td>300</td>\n",
       "      <td>90</td>\n",
       "      <td>mse</td>\n",
       "      <td>1789.576054</td>\n",
       "      <td>176</td>\n",
       "    </tr>\n",
       "    <tr>\n",
       "      <td>(4,)</td>\n",
       "      <td>0.40</td>\n",
       "      <td>1</td>\n",
       "      <td>300</td>\n",
       "      <td>90</td>\n",
       "      <td>mse</td>\n",
       "      <td>1799.623770</td>\n",
       "      <td>98</td>\n",
       "    </tr>\n",
       "    <tr>\n",
       "      <td>(4, 4, 4, 4)</td>\n",
       "      <td>0.40</td>\n",
       "      <td>1</td>\n",
       "      <td>300</td>\n",
       "      <td>90</td>\n",
       "      <td>mse</td>\n",
       "      <td>1856.808953</td>\n",
       "      <td>232</td>\n",
       "    </tr>\n",
       "    <tr>\n",
       "      <td>(8, 6, 4, 2)</td>\n",
       "      <td>0.40</td>\n",
       "      <td>1</td>\n",
       "      <td>300</td>\n",
       "      <td>90</td>\n",
       "      <td>mse</td>\n",
       "      <td>1899.737428</td>\n",
       "      <td>186</td>\n",
       "    </tr>\n",
       "    <tr>\n",
       "      <td>(64,)</td>\n",
       "      <td>0.20</td>\n",
       "      <td>1</td>\n",
       "      <td>300</td>\n",
       "      <td>99999</td>\n",
       "      <td>mse</td>\n",
       "      <td>1978.080563</td>\n",
       "      <td>24</td>\n",
       "    </tr>\n",
       "    <tr>\n",
       "      <td>(32,)</td>\n",
       "      <td>0.20</td>\n",
       "      <td>1</td>\n",
       "      <td>300</td>\n",
       "      <td>99999</td>\n",
       "      <td>mse</td>\n",
       "      <td>1984.587520</td>\n",
       "      <td>20</td>\n",
       "    </tr>\n",
       "  </tbody>\n",
       "</table>\n",
       "</div>"
      ],
      "text/plain": [
       "                hidden_nodes  dropout  epochs  batch_size loss         rmse  \\\n",
       "(64,)                   0.25        1     300          90  mse  1648.190605   \n",
       "(64,)                   0.25        1     300          90  mse  1653.627947   \n",
       "(64,)                   0.25        1     300          90  mse  1659.769594   \n",
       "(32, 16, 8, 4)          0.10        1     300          90  mse  1662.142673   \n",
       "(64,)                   0.25        1     300          90  mse  1663.907589   \n",
       "(64,)                   0.25        1     300          90  mse  1664.296636   \n",
       "(64,)                   0.25        1     300          90  mse  1664.483055   \n",
       "(64,)                   0.25        1     300          90  mse  1664.967737   \n",
       "(64,)                   0.25        1     300          90  mse  1665.891043   \n",
       "(64,)                   0.25        1     300          90  mse  1666.177448   \n",
       "(64,)                   0.25        1     300          90  mse  1666.181811   \n",
       "(64,)                   0.25        1     300          90  mse  1666.392259   \n",
       "(64,)                   0.25        1     300          90  mse  1667.303472   \n",
       "(64,)                   0.25        1     300          90  mse  1668.257297   \n",
       "(64,)                   0.25        1     300          90  mse  1672.646377   \n",
       "(64,)                   0.25        1     300          90  mse  1673.309188   \n",
       "(64,)                   0.20        1     300          90  mse  1673.333694   \n",
       "(16, 8, 6, 4)           0.10        1     300          90  mse  1674.512973   \n",
       "(64,)                   0.20        1     300          64  mse  1675.254068   \n",
       "(8, 6, 4, 2)            0.10        1     300          90  mse  1675.585161   \n",
       "(32,)                   0.20        1     300          64  mse  1675.647847   \n",
       "(64,)                   0.25        1     300          90  mse  1675.924256   \n",
       "(64,)                   0.40        1     300          90  mse  1677.304704   \n",
       "(64,)                   0.25        1     300          90  mse  1679.686067   \n",
       "(64,)                   0.25        1     300          90  mse  1680.731410   \n",
       "(64,)                   0.25        1     300          90  mse  1681.029123   \n",
       "(32,)                   0.10        1     300          90  mse  1682.628746   \n",
       "(64,)                   0.25        1     300          90  mse  1683.036477   \n",
       "(64,)                   0.25        1     300          90  mse  1686.399412   \n",
       "(64,)                   0.10        1     300          90  mse  1687.503179   \n",
       "(32,)                   0.40        1     300          90  mse  1694.163614   \n",
       "(32,)                   0.20        1     300         180  mse  1697.112125   \n",
       "(32,)                   0.20        1     300          90  mse  1706.273064   \n",
       "(8, 6, 4, 2)            0.20        1     300          90  mse  1716.306180   \n",
       "(16, 8, 6, 4)           0.20        1     300          90  mse  1717.473479   \n",
       "(32, 16, 8, 4)          0.40        1     300          90  mse  1723.486075   \n",
       "(32, 16, 8, 4)          0.20        1     300          90  mse  1735.863020   \n",
       "(4,)                    0.10        1     300          90  mse  1751.779598   \n",
       "(4, 4, 4, 4)            0.20        1     300          90  mse  1756.735196   \n",
       "(4, 4, 4, 4)            0.10        1     300          90  mse  1760.289091   \n",
       "(4,)                    0.20        1     300          90  mse  1780.635424   \n",
       "(16, 8, 6, 4)           0.40        1     300          90  mse  1789.576054   \n",
       "(4,)                    0.40        1     300          90  mse  1799.623770   \n",
       "(4, 4, 4, 4)            0.40        1     300          90  mse  1856.808953   \n",
       "(8, 6, 4, 2)            0.40        1     300          90  mse  1899.737428   \n",
       "(64,)                   0.20        1     300       99999  mse  1978.080563   \n",
       "(32,)                   0.20        1     300       99999  mse  1984.587520   \n",
       "\n",
       "                seconds  \n",
       "(64,)               175  \n",
       "(64,)               200  \n",
       "(64,)               166  \n",
       "(32, 16, 8, 4)      165  \n",
       "(64,)               176  \n",
       "(64,)               152  \n",
       "(64,)               136  \n",
       "(64,)               183  \n",
       "(64,)               165  \n",
       "(64,)               148  \n",
       "(64,)               185  \n",
       "(64,)               153  \n",
       "(64,)               127  \n",
       "(64,)               168  \n",
       "(64,)               161  \n",
       "(64,)               131  \n",
       "(64,)                73  \n",
       "(16, 8, 6, 4)       101  \n",
       "(64,)               142  \n",
       "(8, 6, 4, 2)        120  \n",
       "(32,)               132  \n",
       "(64,)               135  \n",
       "(64,)               122  \n",
       "(64,)               146  \n",
       "(64,)               131  \n",
       "(64,)               142  \n",
       "(32,)                66  \n",
       "(64,)               126  \n",
       "(64,)               129  \n",
       "(64,)                78  \n",
       "(32,)               110  \n",
       "(32,)                69  \n",
       "(32,)                58  \n",
       "(8, 6, 4, 2)        171  \n",
       "(16, 8, 6, 4)       108  \n",
       "(32, 16, 8, 4)      181  \n",
       "(32, 16, 8, 4)      106  \n",
       "(4,)                 60  \n",
       "(4, 4, 4, 4)        137  \n",
       "(4, 4, 4, 4)        110  \n",
       "(4,)                 63  \n",
       "(16, 8, 6, 4)       176  \n",
       "(4,)                 98  \n",
       "(4, 4, 4, 4)        232  \n",
       "(8, 6, 4, 2)        186  \n",
       "(64,)                24  \n",
       "(32,)                20  "
      ]
     },
     "execution_count": 138,
     "metadata": {},
     "output_type": "execute_result"
    }
   ],
   "source": [
    "df = pd.read_csv('tdnn-hyperparams.txt', sep=';', header=0)\n",
    "df.sort_values('rmse')"
   ]
  },
  {
   "cell_type": "code",
   "execution_count": null,
   "metadata": {},
   "outputs": [],
   "source": []
  }
 ],
 "metadata": {
  "kernelspec": {
   "display_name": "Python 3",
   "language": "python",
   "name": "python3"
  },
  "language_info": {
   "codemirror_mode": {
    "name": "ipython",
    "version": 3
   },
   "file_extension": ".py",
   "mimetype": "text/x-python",
   "name": "python",
   "nbconvert_exporter": "python",
   "pygments_lexer": "ipython3",
   "version": "3.7.3"
  }
 },
 "nbformat": 4,
 "nbformat_minor": 2
}
