{
 "cells": [
  {
   "cell_type": "markdown",
   "metadata": {},
   "source": [
    "# Verification and Hyperparameters\n",
    "\n",
    "## 1. Model evaluation\n",
    "\n",
    "### 1.01 Time-delay neural net predictions"
   ]
  },
  {
   "cell_type": "code",
   "execution_count": 1,
   "metadata": {},
   "outputs": [],
   "source": [
    "import numpy as np\n",
    "import datetime as dt\n",
    "import pandas as pd\n",
    "import matplotlib as mpl\n",
    "import matplotlib.pyplot as plt\n",
    "import seaborn as sns\n",
    "import xarray as xr\n",
    "\n",
    "import sys\n",
    "sys.path.append('../../')\n",
    "from python.aux.plot import plot_recurrent"
   ]
  },
  {
   "cell_type": "code",
   "execution_count": 9,
   "metadata": {},
   "outputs": [
    {
     "data": {
      "text/plain": [
       "<xarray.DataArray 'dis' (time: 5478)>\n",
       "array([798.361572, 792.207703, 796.706116, ..., 783.30896 , 782.144958,\n",
       "       778.828003])\n",
       "Coordinates:\n",
       "  * time       (time) datetime64[ns] 1981-01-01 1981-01-02 ... 1995-12-31\n",
       "    latitude   float64 48.35\n",
       "    longitude  float64 13.95\n",
       "Attributes:\n",
       "    long_name:  discharge\n",
       "    units:      m3/s"
      ]
     },
     "execution_count": 9,
     "metadata": {},
     "output_type": "execute_result"
    }
   ],
   "source": [
    "# load the truth (reanalysis)\n",
    "glofas = xr.open_dataset('../../data/smallsampledata-glofas.nc')['dis']\n",
    "\n",
    "lat, lon = 48.35, 13.95  # the point where predictions are made\n",
    "truth = glofas.interp(latitude=lat, longitude=lon)\n",
    "truth"
   ]
  },
  {
   "cell_type": "code",
   "execution_count": 10,
   "metadata": {},
   "outputs": [
    {
     "data": {
      "text/plain": [
       "<xarray.DataArray (variable: 1, init_time: 717, forecast_day: 14)>\n",
       "array([[[1087.5364 , 1116.3853 , ..., 1183.2561 , 1201.5026 ],\n",
       "        [1088.2441 , 1124.8561 , ..., 1103.9218 , 1151.1743 ],\n",
       "        ...,\n",
       "        [ 789.5235 ,  807.2123 , ...,  838.81226,  785.8096 ],\n",
       "        [ 687.283  ,  782.11707, ...,  776.7037 ,  750.24243]]], dtype=float32)\n",
       "Coordinates:\n",
       "  * init_time     (init_time) datetime64[ns] 1993-12-31T23:00:00 ... 1995-12-17T23:00:00\n",
       "  * forecast_day  (forecast_day) int64 1 2 3 4 5 6 7 8 9 10 11 12 13 14\n",
       "    name          float64 ...\n",
       "Dimensions without coordinates: variable"
      ]
     },
     "execution_count": 10,
     "metadata": {},
     "output_type": "execute_result"
    }
   ],
   "source": [
    "# load predictions\n",
    "model_dir = '../../models/tdnn-catchment_mean/'\n",
    "\n",
    "validation = test = xr.open_dataset(model_dir+'validation.nc')\n",
    "test = xr.open_dataset(model_dir+'test.nc').to_array().drop('variable')\n",
    "test"
   ]
  },
  {
   "cell_type": "code",
   "execution_count": null,
   "metadata": {},
   "outputs": [],
   "source": [
    "test_time = slice('1994', '1995')\n",
    "\n",
    "fix, ax = plt.subplots(figsize=(15,5))\n",
    "plot_recurrent(ax, truth=truth.sel(time=test_time), \n",
    "                   prediction=test.sel(init_time=test_time))\n",
    "\n",
    "\n",
    "time=slice('1994-03', '1994-05')\n",
    "\n",
    "fix, ax = plt.subplots(figsize=(15,5))\n",
    "plot_recurrent(ax, truth=truth.sel(time=time), \n",
    "                   prediction=test.sel(init_time=time))"
   ]
  },
  {
   "cell_type": "code",
   "execution_count": null,
   "metadata": {},
   "outputs": [],
   "source": []
  },
  {
   "cell_type": "markdown",
   "metadata": {},
   "source": [
    "### 1.01 Time-delay neural net predictions"
   ]
  },
  {
   "cell_type": "code",
   "execution_count": null,
   "metadata": {},
   "outputs": [],
   "source": []
  },
  {
   "cell_type": "code",
   "execution_count": null,
   "metadata": {},
   "outputs": [],
   "source": []
  },
  {
   "cell_type": "code",
   "execution_count": null,
   "metadata": {},
   "outputs": [],
   "source": []
  },
  {
   "cell_type": "markdown",
   "metadata": {},
   "source": [
    "## 2. Hyperparameters"
   ]
  },
  {
   "cell_type": "markdown",
   "metadata": {},
   "source": [
    "### 2.01 Time-delay neural net\n",
    "\n",
    "- Architecture (hidden layers, number of nodes)\n",
    "\n",
    "description\n",
    "\n",
    "\n",
    "\n",
    "\n",
    "### 2.02 LSTM network\n",
    "\n",
    "- Architecture (stacked layers)\n",
    "\n",
    "description\n",
    "\n",
    "- Number of forecast days\n",
    "\n",
    "\n",
    "- Regularization (dropout)\n",
    "\n",
    "description"
   ]
  },
  {
   "cell_type": "code",
   "execution_count": null,
   "metadata": {},
   "outputs": [],
   "source": []
  }
 ],
 "metadata": {
  "kernelspec": {
   "display_name": "Python 3",
   "language": "python",
   "name": "python3"
  },
  "language_info": {
   "codemirror_mode": {
    "name": "ipython",
    "version": 3
   },
   "file_extension": ".py",
   "mimetype": "text/x-python",
   "name": "python",
   "nbconvert_exporter": "python",
   "pygments_lexer": "ipython3",
   "version": "3.7.3"
  }
 },
 "nbformat": 4,
 "nbformat_minor": 2
}
