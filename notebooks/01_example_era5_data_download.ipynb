{
 "cells": [
  {
   "cell_type": "markdown",
   "metadata": {},
   "source": [
    "## Example for ERA5 data retrieval via cdsapi"
   ]
  },
  {
   "cell_type": "code",
   "execution_count": null,
   "metadata": {},
   "outputs": [
    {
     "name": "stderr",
     "output_type": "stream",
     "text": [
      "2019-05-22 18:12:33,877 INFO Sending request to https://cds.climate.copernicus.eu/api/v2/resources/reanalysis-era5-pressure-levels\n",
      "2019-05-22 18:12:34,146 INFO Request is queued\n"
     ]
    }
   ],
   "source": [
    "# Import cdsapi and create a Client instance\n",
    "import cdsapi\n",
    "c = cdsapi.Client()\n",
    "# More complex request\n",
    "c.retrieve(\"reanalysis-era5-pressure-levels\", {\n",
    "        \"product_type\":   \"reanalysis\",\n",
    "        \"format\":         \"netcdf\",\n",
    "        \"area\":           \"52.00/2.00/40.00/20.00\", # N/W/S/E\n",
    "        \"variable\":       \"geopotential\",\n",
    "        \"pressure_level\": \"500\",\n",
    "        \"year\":           \"2017\",\n",
    "        \"month\":          \"01\",\n",
    "        \"day\":            \"12\",\n",
    "        \"time\":           \"00\"\n",
    "    }, \"example_era5_geopot_700.nc\")"
   ]
  },
  {
   "cell_type": "code",
   "execution_count": null,
   "metadata": {},
   "outputs": [],
   "source": []
  },
  {
   "cell_type": "code",
   "execution_count": null,
   "metadata": {},
   "outputs": [],
   "source": []
  }
 ],
 "metadata": {
  "kernelspec": {
   "display_name": "Python 3",
   "language": "python",
   "name": "python3"
  },
  "language_info": {
   "codemirror_mode": {
    "name": "ipython",
    "version": 3
   },
   "file_extension": ".py",
   "mimetype": "text/x-python",
   "name": "python",
   "nbconvert_exporter": "python",
   "pygments_lexer": "ipython3",
   "version": "3.7.3"
  }
 },
 "nbformat": 4,
 "nbformat_minor": 2
}
