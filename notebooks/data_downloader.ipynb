{
 "cells": [
  {
   "cell_type": "markdown",
   "metadata": {},
   "source": [
    "## Data Downloader for ERA5 and GLoFAS data"
   ]
  },
  {
   "cell_type": "markdown",
   "metadata": {},
   "source": [
    "defines some methods to download era5 data"
   ]
  },
  {
   "cell_type": "code",
   "execution_count": 37,
   "metadata": {},
   "outputs": [],
   "source": [
    "import os, warnings, time\n",
    "import cdsapi\n",
    "import multiprocessing as mp"
   ]
  },
  {
   "cell_type": "code",
   "execution_count": 4,
   "metadata": {
    "scrolled": false
   },
   "outputs": [
    {
     "ename": "SyntaxError",
     "evalue": "invalid syntax (<ipython-input-4-89ad931fed9e>, line 1)",
     "output_type": "error",
     "traceback": [
      "\u001b[0;36m  File \u001b[0;32m\"<ipython-input-4-89ad931fed9e>\"\u001b[0;36m, line \u001b[0;32m1\u001b[0m\n\u001b[0;31m    UID = #enter_uid_here\u001b[0m\n\u001b[0m                         ^\u001b[0m\n\u001b[0;31mSyntaxError\u001b[0m\u001b[0;31m:\u001b[0m invalid syntax\n"
     ]
    }
   ],
   "source": [
    "UID = #enter_uid_here\n",
    "API_key = #enter_key_here\n",
    "\n",
    "with open(os.path.join(os.path.expanduser('~'), '.cdsapirc'), 'w') as f:\n",
    "    f.write('url: https://cds.climate.copernicus.eu/api/v2\\n')\n",
    "    f.write(f'key: {UID}:{API_key}')"
   ]
  },
  {
   "cell_type": "code",
   "execution_count": 84,
   "metadata": {},
   "outputs": [],
   "source": [
    "def build_request(kwargs, input_checking=True):\n",
    "    \"\"\"Check request for mandatory fields to make valid CDS API retrievals.\"\"\"\n",
    "    kwargs = kwargs.copy()\n",
    "    if kwargs['base_level'] == 'pressure' and 'pressure_level' not in kwargs:\n",
    "        raise IOError('base_level is pressure, but pressure_level not in kwargs')\n",
    "        \n",
    "    \n",
    "    mandatory_fields = [\"product_type\", \"format\", \"variable\", \"year\", \"month\"]\n",
    "    if not input_checking:\n",
    "        mandatory_fields = []\n",
    "    \n",
    "    assumed_args = {\"day\":    [\"01\", \"02\", \"03\", \"04\",\n",
    "                               \"05\", \"06\", \"07\", \"08\",\n",
    "                               \"09\", \"10\", \"11\", \"12\",\n",
    "                               \"13\", \"14\", \"15\", \"16\",\n",
    "                               \"17\", \"18\", \"19\", \"20\",\n",
    "                               \"21\", \"22\", \"23\", \"24\",\n",
    "                               \"25\", \"26\", \"27\", \"28\",\n",
    "                               \"29\", \"30\", \"31\"],\n",
    "                    \"time\":  [\"00\", \"01\", \"02\", \"03\", \"04\", \"05\",\n",
    "                              \"06\", \"07\", \"08\", \"09\", \"10\", \"11\",\n",
    "                              \"12\", \"13\",\"14\", \"15\", \"16\", \"17\",\n",
    "                              \"18\", \"19\", \"20\",\"21\", \"22\", \"23\"]}\n",
    "    assume_fields = assumed_args.keys()\n",
    "\n",
    "    # input checks\n",
    "    for key in mandatory_fields:  # add mandatory arguments\n",
    "        if key not in kwargs: \n",
    "            raise ValueError(f'\"{key}\" not found in arguments, but is a mandatory field!')\n",
    "    \n",
    "    if kwargs['base_level'] == 'pressure' and 'pressure_level' not in kwargs:\n",
    "        raise IOError('base_level is pressure, but pressure_level not in kwargs')\n",
    "    \n",
    "    request_name = f\"reanalysis-era5-{kwargs.pop('base_level')}-levels\"\n",
    "    request = {}\n",
    "    for key in mandatory_fields:\n",
    "        #print(kwargs)\n",
    "        request[key] = kwargs.pop(key)\n",
    "            \n",
    "    for key in list(kwargs):  # add optional arguments\n",
    "        request[key] = kwargs.pop(key)\n",
    "                                  \n",
    "    for key in assume_fields:  # assume some arguments if not given\n",
    "        if key not in request:\n",
    "            warnings.warn(f'\"{key}\" not found in arguments, assuming {key}={assumed_args[key]}')\n",
    "    return request\n",
    "             \n",
    "    \n",
    "def test(a,b,c):\n",
    "    print(b)\n",
    "    time.sleep(5)\n",
    "    return\n",
    "\n",
    "def list_if_str(a):\n",
    "    return a if isinstance(a, list) else list(a)\n",
    "\n",
    "def cds_optimized_retrieval(save_to_folder: str, \n",
    "                            dataset_name: str, \n",
    "                            request_in: dict,\n",
    "                            N_parallel_requests=1):\n",
    "    c = cdsapi.Client()\n",
    "    if N_parallel_requests>1:\n",
    "        p = mp.Pool(int(N_parallel_requests))\n",
    "    \n",
    "    # download era5 data with the cdsapi\n",
    "    # data request efficiency is highest when executed on a monthly basis\n",
    "    if 'year' not in request_in:\n",
    "        raise ValueError('\"year\" not given')\n",
    "    if 'month' not in request_in:\n",
    "        raise ValueError('\"month\" not given')\n",
    "    years = list_if_str(request_in['year'])\n",
    "    months = list_if_str(request_in['month'])\n",
    "\n",
    "    # loop over time range\n",
    "    for y in sorted(years):\n",
    "        for m in sorted(months):\n",
    "            m = str(m).zfill(2)  # leading zero\n",
    "\n",
    "            request = request_in.copy()\n",
    "            request['year'] = y\n",
    "            request['month'] = m\n",
    "            \n",
    "            request = build_request(request)         \n",
    "            save_to_filename = f'{save_to_folder}/{dataset_name}_{\"\".join(list(request[\"variable\"]))}_{y}_{m}.nc'\n",
    "\n",
    "            # start a request for one month; only execute if file does not exist\n",
    "            if not os.path.isfile(save_to_filename):\n",
    "                p.apply_async(test, args=(dataset_name, request, save_to_filename))\n",
    "                #c.retrieve\n",
    "    p.close()\n",
    "    p.join()"
   ]
  },
  {
   "cell_type": "code",
   "execution_count": 85,
   "metadata": {},
   "outputs": [],
   "source": [
    "# define areas of interest\n",
    "area_dict = {'danube': '50/7/47/20',\n",
    "             'asia': '55/-140/0/35',\n",
    "             'usa': '50/-125/25/-70'\n",
    "            }\n",
    "# choose area: 'danube', 'asia', 'usa'\n"
   ]
  },
  {
   "cell_type": "code",
   "execution_count": null,
   "metadata": {
    "scrolled": false
   },
   "outputs": [
    {
     "name": "stdout",
     "output_type": "stream",
     "text": [
      "{'product_type': 'reanalysis', 'format': 'netcdf', 'variable': ['geopotential', 'temperature', 'specific humidity'], 'year': '2000', 'month': '01', 'pressure_level': ['850', '700', '500']}\n",
      "{'product_type': 'reanalysis', 'format': 'netcdf', 'variable': ['geopotential', 'temperature', 'specific humidity'], 'year': '2000', 'month': '02', 'pressure_level': ['850', '700', '500']}\n",
      "{'product_type': 'reanalysis', 'format': 'netcdf', 'variable': ['geopotential', 'temperature', 'specific humidity'], 'year': '2000', 'month': '07', 'pressure_level': ['850', '700', '500']}\n",
      "{'product_type': 'reanalysis', 'format': 'netcdf', 'variable': ['geopotential', 'temperature', 'specific humidity'], 'year': '2000', 'month': '03', 'pressure_level': ['850', '700', '500']}\n",
      "{'product_type': 'reanalysis', 'format': 'netcdf', 'variable': ['geopotential', 'temperature', 'specific humidity'], 'year': '2000', 'month': '05', 'pressure_level': ['850', '700', '500']}\n",
      "{'product_type': 'reanalysis', 'format': 'netcdf', 'variable': ['geopotential', 'temperature', 'specific humidity'], 'year': '2000', 'month': '06', 'pressure_level': ['850', '700', '500']}\n",
      "{'product_type': 'reanalysis', 'format': 'netcdf', 'variable': ['geopotential', 'temperature', 'specific humidity'], 'year': '2000', 'month': '04', 'pressure_level': ['850', '700', '500']}\n",
      "{'product_type': 'reanalysis', 'format': 'netcdf', 'variable': ['geopotential', 'temperature', 'specific humidity'], 'year': '2000', 'month': '08', 'pressure_level': ['850', '700', '500']}\n",
      "{'product_type': 'reanalysis', 'format': 'netcdf', 'variable': ['geopotential', 'temperature', 'specific humidity'], 'year': '2000', 'month': '09', 'pressure_level': ['850', '700', '500']}\n",
      "{'product_type': 'reanalysis', 'format': 'netcdf', 'variable': ['geopotential', 'temperature', 'specific humidity'], 'year': '2000', 'month': '10', 'pressure_level': ['850', '700', '500']}\n"
     ]
    },
    {
     "name": "stderr",
     "output_type": "stream",
     "text": [
      "/opt/anaconda3/lib/python3.7/site-packages/ipykernel_launcher.py:45: UserWarning: \"day\" not found in arguments, assuming day=['01', '02', '03', '04', '05', '06', '07', '08', '09', '10', '11', '12', '13', '14', '15', '16', '17', '18', '19', '20', '21', '22', '23', '24', '25', '26', '27', '28', '29', '30', '31']\n",
      "/opt/anaconda3/lib/python3.7/site-packages/ipykernel_launcher.py:45: UserWarning: \"time\" not found in arguments, assuming time=['00', '01', '02', '03', '04', '05', '06', '07', '08', '09', '10', '11', '12', '13', '14', '15', '16', '17', '18', '19', '20', '21', '22', '23']\n"
     ]
    },
    {
     "name": "stdout",
     "output_type": "stream",
     "text": [
      "{'product_type': 'reanalysis', 'format': 'netcdf', 'variable': ['geopotential', 'temperature', 'specific humidity'], 'year': '2000', 'month': '11', 'pressure_level': ['850', '700', '500']}\n",
      "{'product_type': 'reanalysis', 'format': 'netcdf', 'variable': ['geopotential', 'temperature', 'specific humidity'], 'year': '2000', 'month': '12', 'pressure_level': ['850', '700', '500']}\n",
      "{'product_type': 'reanalysis', 'format': 'netcdf', 'variable': ['geopotential', 'temperature', 'specific humidity'], 'year': '2001', 'month': '01', 'pressure_level': ['850', '700', '500']}\n",
      "{'product_type': 'reanalysis', 'format': 'netcdf', 'variable': ['geopotential', 'temperature', 'specific humidity'], 'year': '2001', 'month': '02', 'pressure_level': ['850', '700', '500']}\n",
      "{'product_type': 'reanalysis', 'format': 'netcdf', 'variable': ['geopotential', 'temperature', 'specific humidity'], 'year': '2001', 'month': '03', 'pressure_level': ['850', '700', '500']}\n",
      "{'product_type': 'reanalysis', 'format': 'netcdf', 'variable': ['geopotential', 'temperature', 'specific humidity'], 'year': '2001', 'month': '04', 'pressure_level': ['850', '700', '500']}\n",
      "{'product_type': 'reanalysis', 'format': 'netcdf', 'variable': ['geopotential', 'temperature', 'specific humidity'], 'year': '2001', 'month': '06', 'pressure_level': ['850', '700', '500']}\n",
      "{'product_type': 'reanalysis', 'format': 'netcdf', 'variable': ['geopotential', 'temperature', 'specific humidity'], 'year': '2001', 'month': '05', 'pressure_level': ['850', '700', '500']}\n",
      "{'product_type': 'reanalysis', 'format': 'netcdf', 'variable': ['geopotential', 'temperature', 'specific humidity'], 'year': '2001', 'month': '07', 'pressure_level': ['850', '700', '500']}\n",
      "{'product_type': 'reanalysis', 'format': 'netcdf', 'variable': ['geopotential', 'temperature', 'specific humidity'], 'year': '2001', 'month': '08', 'pressure_level': ['850', '700', '500']}\n",
      "{'product_type': 'reanalysis', 'format': 'netcdf', 'variable': ['geopotential', 'temperature', 'specific humidity'], 'year': '2002', 'month': '01', 'pressure_level': ['850', '700', '500']}\n",
      "{'product_type': 'reanalysis', 'format': 'netcdf', 'variable': ['geopotential', 'temperature', 'specific humidity'], 'year': '2002', 'month': '06', 'pressure_level': ['850', '700', '500']}\n",
      "{'product_type': 'reanalysis', 'format': 'netcdf', 'variable': ['geopotential', 'temperature', 'specific humidity'], 'year': '2002', 'month': '03', 'pressure_level': ['850', '700', '500']}\n",
      "{'product_type': 'reanalysis', 'format': 'netcdf', 'variable': ['geopotential', 'temperature', 'specific humidity'], 'year': '2002', 'month': '05', 'pressure_level': ['850', '700', '500']}\n",
      "{'product_type': 'reanalysis', 'format': 'netcdf', 'variable': ['geopotential', 'temperature', 'specific humidity'], 'year': '2002', 'month': '02', 'pressure_level': ['850', '700', '500']}\n",
      "{'product_type': 'reanalysis', 'format': 'netcdf', 'variable': ['geopotential', 'temperature', 'specific humidity'], 'year': '2002', 'month': '04', 'pressure_level': ['850', '700', '500']}\n",
      "{'product_type': 'reanalysis', 'format': 'netcdf', 'variable': ['geopotential', 'temperature', 'specific humidity'], 'year': '2001', 'month': '09', 'pressure_level': ['850', '700', '500']}\n",
      "{'product_type': 'reanalysis', 'format': 'netcdf', 'variable': ['geopotential', 'temperature', 'specific humidity'], 'year': '2001', 'month': '11', 'pressure_level': ['850', '700', '500']}\n",
      "{'product_type': 'reanalysis', 'format': 'netcdf', 'variable': ['geopotential', 'temperature', 'specific humidity'], 'year': '2001', 'month': '12', 'pressure_level': ['850', '700', '500']}\n",
      "{'product_type': 'reanalysis', 'format': 'netcdf', 'variable': ['geopotential', 'temperature', 'specific humidity'], 'year': '2001', 'month': '10', 'pressure_level': ['850', '700', '500']}\n",
      "{'product_type': 'reanalysis', 'format': 'netcdf', 'variable': ['geopotential', 'temperature', 'specific humidity'], 'year': '2002', 'month': '09', 'pressure_level': ['850', '700', '500']}\n",
      "{'product_type': 'reanalysis', 'format': 'netcdf', 'variable': ['geopotential', 'temperature', 'specific humidity'], 'year': '2002', 'month': '08', 'pressure_level': ['850', '700', '500']}\n",
      "{'product_type': 'reanalysis', 'format': 'netcdf', 'variable': ['geopotential', 'temperature', 'specific humidity'], 'year': '2002', 'month': '10', 'pressure_level': ['850', '700', '500']}\n",
      "{'product_type': 'reanalysis', 'format': 'netcdf', 'variable': ['geopotential', 'temperature', 'specific humidity'], 'year': '2002', 'month': '11', 'pressure_level': ['850', '700', '500']}\n",
      "{'product_type': 'reanalysis', 'format': 'netcdf', 'variable': ['geopotential', 'temperature', 'specific humidity'], 'year': '2002', 'month': '07', 'pressure_level': ['850', '700', '500']}\n",
      "{'product_type': 'reanalysis', 'format': 'netcdf', 'variable': ['geopotential', 'temperature', 'specific humidity'], 'year': '2002', 'month': '12', 'pressure_level': ['850', '700', '500']}\n",
      "{'product_type': 'reanalysis', 'format': 'netcdf', 'variable': ['geopotential', 'temperature', 'specific humidity'], 'year': '2003', 'month': '02', 'pressure_level': ['850', '700', '500']}\n",
      "{'product_type': 'reanalysis', 'format': 'netcdf', 'variable': ['geopotential', 'temperature', 'specific humidity'], 'year': '2003', 'month': '03', 'pressure_level': ['850', '700', '500']}\n",
      "{'product_type': 'reanalysis', 'format': 'netcdf', 'variable': ['geopotential', 'temperature', 'specific humidity'], 'year': '2003', 'month': '01', 'pressure_level': ['850', '700', '500']}\n",
      "{'product_type': 'reanalysis', 'format': 'netcdf', 'variable': ['geopotential', 'temperature', 'specific humidity'], 'year': '2003', 'month': '04', 'pressure_level': ['850', '700', '500']}\n",
      "{'product_type': 'reanalysis', 'format': 'netcdf', 'variable': ['geopotential', 'temperature', 'specific humidity'], 'year': '2003', 'month': '09', 'pressure_level': ['850', '700', '500']}\n",
      "{'product_type': 'reanalysis', 'format': 'netcdf', 'variable': ['geopotential', 'temperature', 'specific humidity'], 'year': '2003', 'month': '06', 'pressure_level': ['850', '700', '500']}\n",
      "{'product_type': 'reanalysis', 'format': 'netcdf', 'variable': ['geopotential', 'temperature', 'specific humidity'], 'year': '2003', 'month': '05', 'pressure_level': ['850', '700', '500']}\n",
      "{'product_type': 'reanalysis', 'format': 'netcdf', 'variable': ['geopotential', 'temperature', 'specific humidity'], 'year': '2003', 'month': '07', 'pressure_level': ['850', '700', '500']}\n",
      "{'product_type': 'reanalysis', 'format': 'netcdf', 'variable': ['geopotential', 'temperature', 'specific humidity'], 'year': '2003', 'month': '08', 'pressure_level': ['850', '700', '500']}\n",
      "{'product_type': 'reanalysis', 'format': 'netcdf', 'variable': ['geopotential', 'temperature', 'specific humidity'], 'year': '2003', 'month': '10', 'pressure_level': ['850', '700', '500']}\n",
      "{'product_type': 'reanalysis', 'format': 'netcdf', 'variable': ['geopotential', 'temperature', 'specific humidity'], 'year': '2003', 'month': '11', 'pressure_level': ['850', '700', '500']}\n",
      "{'product_type': 'reanalysis', 'format': 'netcdf', 'variable': ['geopotential', 'temperature', 'specific humidity'], 'year': '2003', 'month': '12', 'pressure_level': ['850', '700', '500']}\n",
      "{'product_type': 'reanalysis', 'format': 'netcdf', 'variable': ['geopotential', 'temperature', 'specific humidity'], 'year': '2004', 'month': '01', 'pressure_level': ['850', '700', '500']}\n",
      "{'product_type': 'reanalysis', 'format': 'netcdf', 'variable': ['geopotential', 'temperature', 'specific humidity'], 'year': '2004', 'month': '02', 'pressure_level': ['850', '700', '500']}\n",
      "{'product_type': 'reanalysis', 'format': 'netcdf', 'variable': ['geopotential', 'temperature', 'specific humidity'], 'year': '2004', 'month': '03', 'pressure_level': ['850', '700', '500']}\n",
      "{'product_type': 'reanalysis', 'format': 'netcdf', 'variable': ['geopotential', 'temperature', 'specific humidity'], 'year': '2004', 'month': '04', 'pressure_level': ['850', '700', '500']}\n",
      "{'product_type': 'reanalysis', 'format': 'netcdf', 'variable': ['geopotential', 'temperature', 'specific humidity'], 'year': '2004', 'month': '05', 'pressure_level': ['850', '700', '500']}\n",
      "{'product_type': 'reanalysis', 'format': 'netcdf', 'variable': ['geopotential', 'temperature', 'specific humidity'], 'year': '2004', 'month': '06', 'pressure_level': ['850', '700', '500']}\n"
     ]
    },
    {
     "name": "stdout",
     "output_type": "stream",
     "text": [
      "{'product_type': 'reanalysis', 'format': 'netcdf', 'variable': ['geopotential', 'temperature', 'specific humidity'], 'year': '2004', 'month': '07', 'pressure_level': ['850', '700', '500']}\n",
      "{'product_type': 'reanalysis', 'format': 'netcdf', 'variable': ['geopotential', 'temperature', 'specific humidity'], 'year': '2004', 'month': '08', 'pressure_level': ['850', '700', '500']}\n",
      "{'product_type': 'reanalysis', 'format': 'netcdf', 'variable': ['geopotential', 'temperature', 'specific humidity'], 'year': '2004', 'month': '09', 'pressure_level': ['850', '700', '500']}\n",
      "{'product_type': 'reanalysis', 'format': 'netcdf', 'variable': ['geopotential', 'temperature', 'specific humidity'], 'year': '2004', 'month': '10', 'pressure_level': ['850', '700', '500']}\n",
      "{'product_type': 'reanalysis', 'format': 'netcdf', 'variable': ['geopotential', 'temperature', 'specific humidity'], 'year': '2004', 'month': '11', 'pressure_level': ['850', '700', '500']}\n",
      "{'product_type': 'reanalysis', 'format': 'netcdf', 'variable': ['geopotential', 'temperature', 'specific humidity'], 'year': '2004', 'month': '12', 'pressure_level': ['850', '700', '500']}\n"
     ]
    }
   ],
   "source": [
    "request = dict(product_type='reanalysis', format='netcdf', base_level='pressure', \n",
    "               #area=area_dict['usa'],\n",
    "               variable=['geopotential', 'temperature', 'specific humidity'], \n",
    "               pressure_level=['850', '700', '500'], \n",
    "               year=[str(y) for y in range(2000, 2010)], \n",
    "               month=[str(a).zfill(2) for a in range(1,13)])\n",
    "\n",
    "dataset_name = f\"reanalysis-era5-{request['base_level']}-levels\"\n",
    "\n",
    "\n",
    "save_to_folder='/raid/home/srvx7/lehre/users/a1254888/ipython/ml_flood/data/'\n",
    "cds_optimized_retrieval(save_to_folder, dataset_name, request, N_parallel_requests=10)"
   ]
  },
  {
   "cell_type": "markdown",
   "metadata": {},
   "source": [
    "### download request for the data of interest on pressure levels"
   ]
  },
  {
   "cell_type": "code",
   "execution_count": null,
   "metadata": {},
   "outputs": [],
   "source": [
    "\n",
    "\n",
    "# variables\n",
    "variable = ['geopotential', 'temperature']#, 'specific humidity']\n",
    "\n",
    "# pressure levels\n",
    "base_level = 'pressure' # 'pressure' or 'single'\n",
    "pressure_level = ['850', '700', '500']\n",
    "\n",
    "\n",
    "# define time range: start end in the format YYYY:MM\n",
    "time_start = '1981:01' # full range start: '1981:01'\n",
    "time_end = '2017:12' # full range end: '2017:12'\n",
    "\n",
    "# create savename string\n",
    "variablestr = \"_\".join([x.replace(' ', '_') for x in variable])\n",
    "pressure_levelstr = \"_\".join([x for x in pressure_level])\n",
    "savename = f'era5_{variablestr}_{pressure_levelstr}'\n",
    "\n",
    "# retrieve data\n",
    "era5_retrieval(savename=savename, area=area, base_level=base_level, variable=variable,\n",
    "               pressure_level=pressure_level, time_start=time_start, time_end=time_end)"
   ]
  },
  {
   "cell_type": "code",
   "execution_count": null,
   "metadata": {},
   "outputs": [],
   "source": []
  },
  {
   "cell_type": "code",
   "execution_count": null,
   "metadata": {},
   "outputs": [],
   "source": []
  },
  {
   "cell_type": "code",
   "execution_count": null,
   "metadata": {},
   "outputs": [],
   "source": []
  },
  {
   "cell_type": "code",
   "execution_count": null,
   "metadata": {},
   "outputs": [],
   "source": []
  }
 ],
 "metadata": {
  "kernelspec": {
   "display_name": "Python 3",
   "language": "python",
   "name": "python3"
  },
  "language_info": {
   "codemirror_mode": {
    "name": "ipython",
    "version": 3
   },
   "file_extension": ".py",
   "mimetype": "text/x-python",
   "name": "python",
   "nbconvert_exporter": "python",
   "pygments_lexer": "ipython3",
   "version": "3.7.3"
  }
 },
 "nbformat": 4,
 "nbformat_minor": 2
}
