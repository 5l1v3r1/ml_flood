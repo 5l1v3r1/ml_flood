{
 "cells": [
  {
   "cell_type": "markdown",
   "metadata": {},
   "source": [
    "## Data Downloader for ERA5 and GLoFAS data"
   ]
  },
  {
   "cell_type": "markdown",
   "metadata": {},
   "source": [
    "defines some methods to download era5 data"
   ]
  },
  {
   "cell_type": "code",
   "execution_count": 1,
   "metadata": {},
   "outputs": [],
   "source": [
    "import cdsapi"
   ]
  },
  {
   "cell_type": "code",
   "execution_count": null,
   "metadata": {},
   "outputs": [],
   "source": [
    "def era5_retrieval(filename, base_levels='pressure', area='50/7/47/20' form='netcdf', levels='700'):\n",
    "    # download era5 data with the cdsapi\n",
    "    \n",
    "    \n",
    "    \n",
    "    c = cdsapi.Client()\n",
    "    c.retrieve(f\"reanalysis-era5-{base_levels}-levels\", {\n",
    "            \"product_type\":   \"reanalysis\",\n",
    "            \"format\":         form,\n",
    "            \"area\":           area, # N/W/S/E\n",
    "            \"variable\":       [\"geopotential\",\"temperature\"],\n",
    "            \"pressure_level\": \"700\",\n",
    "            \"year\":           \"2017\",\n",
    "            \"month\":          \"01\",\n",
    "            \"day\":            [\"01\", \"02\", \"03\", \"04\",\n",
    "                               \"05\", \"06\", \"07\", \"08\",\n",
    "                               \"09\", \"10\", \"11\", \"12\",\n",
    "                               \"13\", \"14\", \"15\", \"16\",\n",
    "                               \"17\", \"18\", \"19\", \"20\",\n",
    "                               \"21\", \"22\", \"23\", \"24\",\n",
    "                               \"25\", \"26\", \"27\", \"28\",\n",
    "                               \"29\", \"30\", \"31\"],\n",
    "            \"time\":           [\"00\", \"01\", \"02\", \"03\", \"04\", \"05\",\n",
    "                              \"06\", \"07\", \"08\", \"09\", \"10\", \"11\",\n",
    "                              \"12\", \"13\",\"14\", \"15\", \"16\", \"17\",\n",
    "                              \"18\", \"19\", \"20\",\"21\", \"22\", \"23\"]\n",
    "        }, \"example_era5.nc\")\n",
    "    return True"
   ]
  },
  {
   "cell_type": "code",
   "execution_count": 2,
   "metadata": {},
   "outputs": [
    {
     "name": "stdout",
     "output_type": "stream",
     "text": [
      "reanalysis-era5-pressure-levels\n"
     ]
    }
   ],
   "source": [
    "\n",
    "\n",
    "\n",
    "\n"
   ]
  },
  {
   "cell_type": "code",
   "execution_count": null,
   "metadata": {},
   "outputs": [],
   "source": [
    "time_start = 20170501\n",
    "time_end = 20170731\n",
    "\n",
    "\n",
    "\n",
    "\n"
   ]
  }
 ],
 "metadata": {
  "kernelspec": {
   "display_name": "Python 3",
   "language": "python",
   "name": "python3"
  },
  "language_info": {
   "codemirror_mode": {
    "name": "ipython",
    "version": 3
   },
   "file_extension": ".py",
   "mimetype": "text/x-python",
   "name": "python",
   "nbconvert_exporter": "python",
   "pygments_lexer": "ipython3",
   "version": "3.7.3"
  }
 },
 "nbformat": 4,
 "nbformat_minor": 2
}
