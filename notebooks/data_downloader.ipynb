{
 "cells": [
  {
   "cell_type": "markdown",
   "metadata": {},
   "source": [
    "## Data Downloader for ERA5 and GLoFAS data"
   ]
  },
  {
   "cell_type": "markdown",
   "metadata": {},
   "source": [
    "defines some methods to download era5 data"
   ]
  },
  {
   "cell_type": "code",
   "execution_count": 1,
   "metadata": {},
   "outputs": [],
   "source": [
    "import cdsapi"
   ]
  },
  {
   "cell_type": "code",
   "execution_count": 18,
   "metadata": {},
   "outputs": [],
   "source": [
    "def era5_retrieval(savename, base_level='pressure', form='netcdf', area_str='danube',\n",
    "                   variable='geopotential', pressure_level='700', time_start='2017:05',\n",
    "                   time_end='2017:07'):\n",
    "    # download era5 data with the cdsapi\n",
    "    # define some vars\n",
    "    area_dict = {'danube': '50/7/47/20',\n",
    "                 'asia': '55/-140/0/35',\n",
    "                 'usa': '50/-125/25/-70'\n",
    "                }\n",
    "    area = area_dict[area_str]\n",
    "    \n",
    "    # build iterator based on time range\n",
    "    # data request efficiency is highest when executed on a monthly basis\n",
    "    years = range(int(time_start.split(':')[0]), int(time_end.split(':')[0])+1)\n",
    "    months = range(int(time_start.split(':')[1]), int(time_end.split(':')[1])+1)\n",
    "\n",
    "    # loop over time range\n",
    "    for y in years:\n",
    "        for m in months:\n",
    "            # start a request for one month\n",
    "#            request_data(area=area, variable=variable, pressure_level=pressure_level, year=y, month=m)    \n",
    "    \n",
    "\n",
    "    return None\n",
    "\n",
    "def request_data(savename='era5_example', base_level='pressure', form='netcdf', area='50/7/47/20',\n",
    "                 variable='geopotential', pressure_level='700', year='2000', month='12'):\n",
    "    c = cdsapi.Client()\n",
    "    if base_level == 'pressure':\n",
    "        c.retrieve(f\"reanalysis-era5-{base_level}-levels\", {\n",
    "                \"product_type\":   \"reanalysis\",\n",
    "                \"format\":         form,\n",
    "                \"area\":           area, # N/W/S/E\n",
    "                \"variable\":       variable,\n",
    "                \"pressure_level\": pressure_level,\n",
    "                \"year\":           year,\n",
    "                \"month\":          month,\n",
    "                \"day\":            [\"01\", \"02\", \"03\", \"04\",\n",
    "                                   \"05\", \"06\", \"07\", \"08\",\n",
    "                                   \"09\", \"10\", \"11\", \"12\",\n",
    "                                   \"13\", \"14\", \"15\", \"16\",\n",
    "                                   \"17\", \"18\", \"19\", \"20\",\n",
    "                                   \"21\", \"22\", \"23\", \"24\",\n",
    "                                   \"25\", \"26\", \"27\", \"28\",\n",
    "                                   \"29\", \"30\", \"31\"],\n",
    "                \"time\":           [\"00\", \"01\", \"02\", \"03\", \"04\", \"05\",\n",
    "                                  \"06\", \"07\", \"08\", \"09\", \"10\", \"11\",\n",
    "                                  \"12\", \"13\",\"14\", \"15\", \"16\", \"17\",\n",
    "                                  \"18\", \"19\", \"20\",\"21\", \"22\", \"23\"]\n",
    "            }, f'{savename}.nc')\n",
    "    elif base_level == 'single':\n",
    "        c.retrieve(f\"reanalysis-era5-{base_level}-levels\", {\n",
    "                \"product_type\":   \"reanalysis\",\n",
    "                \"format\":         form,\n",
    "                \"area\":           area, # N/W/S/E\n",
    "                \"variable\":       variable,\n",
    "                \"year\":           year,\n",
    "                \"month\":          month,\n",
    "                \"day\":            [\"01\", \"02\", \"03\", \"04\",\n",
    "                                   \"05\", \"06\", \"07\", \"08\",\n",
    "                                   \"09\", \"10\", \"11\", \"12\",\n",
    "                                   \"13\", \"14\", \"15\", \"16\",\n",
    "                                   \"17\", \"18\", \"19\", \"20\",\n",
    "                                   \"21\", \"22\", \"23\", \"24\",\n",
    "                                   \"25\", \"26\", \"27\", \"28\",\n",
    "                                   \"29\", \"30\", \"31\"],\n",
    "                \"time\":           [\"00\", \"01\", \"02\", \"03\", \"04\", \"05\",\n",
    "                                  \"06\", \"07\", \"08\", \"09\", \"10\", \"11\",\n",
    "                                  \"12\", \"13\",\"14\", \"15\", \"16\", \"17\",\n",
    "                                  \"18\", \"19\", \"20\",\"21\", \"22\", \"23\"]\n",
    "            }, f'{savename}.nc')\n",
    "            \n",
    "    return None"
   ]
  },
  {
   "cell_type": "code",
   "execution_count": 19,
   "metadata": {},
   "outputs": [
    {
     "name": "stdout",
     "output_type": "stream",
     "text": [
      "2017 5\n",
      "2017 6\n",
      "2017 7\n"
     ]
    }
   ],
   "source": [
    "\n",
    "\n",
    "\n",
    "era5_retrieval('test', area_str='danube')\n"
   ]
  },
  {
   "cell_type": "markdown",
   "metadata": {},
   "source": [
    "### download request for the data of interest on pressure levels"
   ]
  },
  {
   "cell_type": "code",
   "execution_count": null,
   "metadata": {},
   "outputs": [],
   "source": [
    "# choose area: 'danube', 'asia', 'usa'\n",
    "area = 'danube'\n",
    "\n",
    "# variables\n",
    "variable = ['geopotential', 'temperature', 'specific humidity']\n",
    "\n",
    "# pressure levels\n",
    "base_level = 'pressure' # 'pressure' or 'single'\n",
    "pressure_level = ['850', '700', '500']\n",
    "\n",
    "\n",
    "# define time range: start end in the format YYYY:MM\n",
    "time_start = '2017:05' # full range start: '1981:01'\n",
    "time_end = '2017:07' # full range end: '2017:12'\n",
    "\n",
    "\n",
    "\n",
    "\n"
   ]
  }
 ],
 "metadata": {
  "kernelspec": {
   "display_name": "Python 3",
   "language": "python",
   "name": "python3"
  },
  "language_info": {
   "codemirror_mode": {
    "name": "ipython",
    "version": 3
   },
   "file_extension": ".py",
   "mimetype": "text/x-python",
   "name": "python",
   "nbconvert_exporter": "python",
   "pygments_lexer": "ipython3",
   "version": "3.7.3"
  }
 },
 "nbformat": 4,
 "nbformat_minor": 2
}
