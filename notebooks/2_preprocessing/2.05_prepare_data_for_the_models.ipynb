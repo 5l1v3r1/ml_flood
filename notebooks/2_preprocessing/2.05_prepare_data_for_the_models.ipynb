{
 "cells": [
  {
   "cell_type": "markdown",
   "metadata": {},
   "source": [
    "# 2. Preprocessing\n",
    "## 2.05 Preparing the data for the models"
   ]
  },
  {
   "cell_type": "markdown",
   "metadata": {},
   "source": [
    "Using the gained knowledge from the steps before, we prepare the data in such a way, that the following models can easily be applied. The steps are as follows."
   ]
  },
  {
   "cell_type": "code",
   "execution_count": 1,
   "metadata": {},
   "outputs": [],
   "source": [
    "import numpy as np\n",
    "import datetime as dt\n",
    "import pandas as pd\n",
    "import matplotlib.pyplot as plt\n",
    "import xarray as xr\n",
    "import sys\n",
    "sys.path.append('../../')\n",
    "from python.aux.utils_floodmodel import get_mask_of_basin, add_shifted_variables, reshape_scalar_predictand, shift_and_aggregate"
   ]
  },
  {
   "cell_type": "code",
   "execution_count": 2,
   "metadata": {},
   "outputs": [
    {
     "data": {
      "text/plain": [
       "<xarray.Dataset>\n",
       "Dimensions:      (latitude: 13, longitude: 25, time: 5478)\n",
       "Coordinates:\n",
       "  * longitude    (longitude) float32 8.0 8.25 8.5 8.75 ... 13.25 13.5 13.75 14.0\n",
       "  * latitude     (latitude) float32 50.0 49.75 49.5 49.25 ... 47.5 47.25 47.0\n",
       "  * time         (time) datetime64[ns] 1981-01-01 1981-01-02 ... 1995-12-31\n",
       "Data variables:\n",
       "    cp           (time, latitude, longitude) float32 ...\n",
       "    lsp          (time, latitude, longitude) float32 ...\n",
       "    swvl1        (time, latitude, longitude) float32 ...\n",
       "    tcwv         (time, latitude, longitude) float32 ...\n",
       "    ro           (time, latitude, longitude) float32 ...\n",
       "    sd           (time, latitude, longitude) float32 ...\n",
       "    rtp_500-850  (time, latitude, longitude) float32 ..."
      ]
     },
     "execution_count": 2,
     "metadata": {},
     "output_type": "execute_result"
    }
   ],
   "source": [
    "# load data\n",
    "era5 = xr.open_dataset('../../data/smallsampledata-era5.nc')\n",
    "glofas = xr.open_dataset('../../data/smallsampledata-glofas.nc')\n",
    "era5_2013 = xr.open_dataset('../../data/sampledata-2013-era5.nc')\n",
    "glofas_2013 = xr.open_dataset('../../data/sampledata-2013-glofas.nc')\n",
    "\n",
    "era5"
   ]
  },
  {
   "cell_type": "markdown",
   "metadata": {},
   "source": [
    "First of all, reduce the data spatially to the basin, interpolate era5 data onto the glofas grid and for the 2013 sample data, limit the relevant range (as determined from the general flow direction, eastward, and the approximate range of significant relevance from the spatial correlations)."
   ]
  },
  {
   "cell_type": "code",
   "execution_count": 3,
   "metadata": {},
   "outputs": [],
   "source": [
    "danube_catchment = get_mask_of_basin(glofas['dis'].isel(time=0))\n",
    "danube_catchment_2013 = get_mask_of_basin(glofas_2013['dis'].isel(time=0))\n",
    "dis = glofas['dis'].where(danube_catchment)\n",
    "dis_2013 = glofas_2013['dis'].where(danube_catchment_2013)"
   ]
  },
  {
   "cell_type": "code",
   "execution_count": 4,
   "metadata": {},
   "outputs": [],
   "source": [
    "era5_basin = era5.interp(latitude=glofas.latitude,\n",
    "                         longitude=glofas.longitude).where(danube_catchment)\n",
    "era5_2013_basin = era5_2013.interp(latitude=glofas_2013.latitude,\n",
    "                                   longitude=glofas_2013.longitude).where(danube_catchment_2013)"
   ]
  },
  {
   "cell_type": "markdown",
   "metadata": {},
   "source": [
    "Limit longitude to 16 deg East for the 2013 sample data."
   ]
  },
  {
   "cell_type": "code",
   "execution_count": 5,
   "metadata": {},
   "outputs": [],
   "source": [
    "era5_2013_basin = era5_2013_basin.sel(longitude=slice(None, 16.))\n",
    "dis_2013 = dis_2013.sel(longitude=slice(None, 16.))"
   ]
  },
  {
   "cell_type": "markdown",
   "metadata": {},
   "source": [
    "Check if the spatial domain looks good."
   ]
  },
  {
   "cell_type": "code",
   "execution_count": 6,
   "metadata": {},
   "outputs": [
    {
     "data": {
      "text/plain": [
       "<matplotlib.collections.QuadMesh at 0x7f4695d88048>"
      ]
     },
     "execution_count": 6,
     "metadata": {},
     "output_type": "execute_result"
    },
    {
     "data": {
      "image/png": "[encoded data removed]",
      "text/plain": [
       "<Figure size 432x288 with 2 Axes>"
      ]
     },
     "metadata": {
      "needs_background": "light"
     },
     "output_type": "display_data"
    }
   ],
   "source": [
    "era5_basin['sd'].isel(time=1).plot()"
   ]
  },
  {
   "cell_type": "markdown",
   "metadata": {},
   "source": [
    "Add the change in snow depth as additional variable."
   ]
  },
  {
   "cell_type": "code",
   "execution_count": 7,
   "metadata": {},
   "outputs": [],
   "source": [
    "sd_diff = era5_basin['sd'].diff(dim='time')\n",
    "sd_diff.name = 'sd_diff'\n",
    "era5_basin = era5_basin.assign({'sd_diff': sd_diff})"
   ]
  },
  {
   "cell_type": "markdown",
   "metadata": {},
   "source": [
    "Same for the 2013 case study sample data."
   ]
  },
  {
   "cell_type": "code",
   "execution_count": 8,
   "metadata": {},
   "outputs": [],
   "source": [
    "sd_diff_2013 = era5_2013_basin['sd'].diff(dim='time')\n",
    "sd_diff_2013.name = 'sd_diff'\n",
    "era5_2013_basin = era5_2013_basin.assign({'sd_diff': sd_diff_2013})"
   ]
  },
  {
   "cell_type": "code",
   "execution_count": 9,
   "metadata": {},
   "outputs": [
    {
     "data": {
      "text/plain": [
       "<xarray.Dataset>\n",
       "Dimensions:      (latitude: 30, longitude: 80, time: 365)\n",
       "Coordinates:\n",
       "  * time         (time) datetime64[ns] 2013-01-01 2013-01-02 ... 2013-12-31\n",
       "  * latitude     (latitude) float64 49.95 49.85 49.75 ... 47.25 47.15 47.05\n",
       "  * longitude    (longitude) float64 8.05 8.15 8.25 8.35 ... 15.75 15.85 15.95\n",
       "Data variables:\n",
       "    cp           (time, latitude, longitude) float64 nan nan nan ... 0.0 0.0 0.0\n",
       "    lsp          (time, latitude, longitude) float64 nan nan ... 0.001532\n",
       "    swvl1        (time, latitude, longitude) float64 nan nan ... 0.388 0.3873\n",
       "    tcwv         (time, latitude, longitude) float64 nan nan nan ... 12.93 13.16\n",
       "    ro           (time, latitude, longitude) float64 nan nan ... 1.361e-05\n",
       "    sd           (time, latitude, longitude) float64 nan nan ... 3.347e-05\n",
       "    rtp_500-850  (time, latitude, longitude) float64 nan nan ... 3.993e+04\n",
       "    sd_diff      (time, latitude, longitude) float64 nan nan ... 3.347e-05"
      ]
     },
     "execution_count": 9,
     "metadata": {},
     "output_type": "execute_result"
    }
   ],
   "source": [
    "era5_2013_basin"
   ]
  },
  {
   "cell_type": "markdown",
   "metadata": {},
   "source": [
    "Add long-time large-scale precipitation as feature (memory effect)."
   ]
  },
  {
   "cell_type": "code",
   "execution_count": null,
   "metadata": {},
   "outputs": [],
   "source": [
    "era5_basin['lsp-5-11'] = shift_and_aggregate(era5_basin['lsp'], shift=5, aggregate=7)\n",
    "era5_basin['lsp-12-25'] = shift_and_aggregate(era5_basin['lsp'], shift=12, aggregate=14)\n",
    "era5_basin['lsp-26-55'] = shift_and_aggregate(era5_basin['lsp'], shift=26, aggregate=30)\n",
    "era5_basin['lsp-56-180'] = shift_and_aggregate(era5_basin['lsp'], shift=56, aggregate=125)\n",
    "\n",
    "\n",
    "era5_2013_basin['lsp-5-11'] = shift_and_aggregate(era5_2013_basin['lsp'], shift=5, aggregate=7)\n",
    "era5_2013_basin['lsp-12-25'] = shift_and_aggregate(era5_2013_basin['lsp'], shift=12, aggregate=14)\n",
    "era5_2013_basin['lsp-26-55'] = shift_and_aggregate(era5_2013_basin['lsp'], shift=26, aggregate=30)\n",
    "era5_2013_basin['lsp-56-180'] = shift_and_aggregate(era5_2013_basin['lsp'], shift=56, aggregate=125)"
   ]
  },
  {
   "cell_type": "code",
   "execution_count": null,
   "metadata": {},
   "outputs": [],
   "source": [
    "era5_basin"
   ]
  },
  {
   "cell_type": "markdown",
   "metadata": {},
   "source": [
    "### Prepare the feature array X and predictand y\n",
    "For easier use, let's define the preparation routine here."
   ]
  },
  {
   "cell_type": "code",
   "execution_count": 30,
   "metadata": {},
   "outputs": [],
   "source": [
    "def prepare_features(x, y, point=None):\n",
    "    x = x.drop('tcwv')\n",
    "    x = x.drop('rtp_500-850')\n",
    "    #features = ['cp', 'lsp', 'ro', 'swvl1', 'sd', 'sd_diff']\n",
    "    #x = x[features]\n",
    "        \n",
    "    for var in ['lsp', 'cp']:\n",
    "        for i in range(1,4):\n",
    "            newvar = var+'-'+str(i)\n",
    "            x[newvar] = x[var].shift(time=i)  # previous precip as current day variable\n",
    "\n",
    "    # select the point of interest\n",
    "    if not point:\n",
    "        poi = dict(latitude=48.35, longitude=13.95)  # point in upper austria\n",
    "    elif point == 'krems':\n",
    "        poi = dict(latitude=48.403, longitude=15.615)  # krems (lower austria), outside the test dataset\n",
    "    \n",
    "    # average features in the basin\n",
    "    x_mean = x.mean(['latitude', 'longitude'])\n",
    "\n",
    "    # select area of interest and average over space for all features\n",
    "    y_poi = y.interp(poi)\n",
    "    y_poi_diff = y_poi.diff('time', 1)  # compare predictors to change in discharge\n",
    "    y_poi_diff.name = 'dis_diff'\n",
    "\n",
    "    # merge into one dataset\n",
    "    sample_data = xr.merge([x_mean, y_poi, y_poi_diff])\n",
    "    sample_data = sample_data.drop(['latitude', 'longitude'])\n",
    "    return sample_data\n",
    "sample_data_1 = prepare_features(era5_basin, dis)\n",
    "sample_data_2013 = prepare_features(era5_2013_basin, dis_2013, point='krems')"
   ]
  },
  {
   "cell_type": "code",
   "execution_count": 31,
   "metadata": {},
   "outputs": [],
   "source": [
    "sample_data_1.to_netcdf('../../data/features_xy_v2.nc')\n",
    "sample_data_2013.to_netcdf('../../data/features_xy_2013_v2.nc')"
   ]
  },
  {
   "cell_type": "code",
   "execution_count": null,
   "metadata": {},
   "outputs": [],
   "source": []
  }
 ],
 "metadata": {
  "kernelspec": {
   "display_name": "Python 3",
   "language": "python",
   "name": "python3"
  },
  "language_info": {
   "codemirror_mode": {
    "name": "ipython",
    "version": 3
   },
   "file_extension": ".py",
   "mimetype": "text/x-python",
   "name": "python",
   "nbconvert_exporter": "python",
   "pygments_lexer": "ipython3",
   "version": "3.7.3"
  }
 },
 "nbformat": 4,
 "nbformat_minor": 2
}
