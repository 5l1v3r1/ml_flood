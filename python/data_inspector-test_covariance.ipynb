{
 "cells": [
  {
   "cell_type": "markdown",
   "metadata": {},
   "source": [
    "# Data Inspection / Analysis\n",
    "### Input: DataArray mit lat, lon, time\n",
    "\n",
    "    1) Map erstellen\n",
    "    2) m.plot(xar, save_to_path=False)\n",
    "\n",
    "\n",
    "### Output: Plots im jupyter notebook von\n",
    "- mean\n",
    "- std\n",
    "- spatial covariance\n",
    "- histogram distribution"
   ]
  },
  {
   "cell_type": "code",
   "execution_count": 1,
   "metadata": {},
   "outputs": [],
   "source": [
    "import xarray as xr\n",
    "import pandas as pd\n",
    "import numpy as np\n",
    "\n",
    "import matplotlib.pyplot as plt\n",
    "import cartopy\n",
    "import cartopy.crs as ccrs\n",
    "import cartopy.feature as cfeature\n",
    "from cartopy.io.shapereader import Reader\n",
    "from cartopy.feature import ShapelyFeature\n",
    "\n",
    "import seaborn as sns"
   ]
  },
  {
   "cell_type": "code",
   "execution_count": 2,
   "metadata": {},
   "outputs": [],
   "source": [
    "xar = xr.open_mfdataset('../data/usa/dynamic/*precip*.nc')"
   ]
  },
  {
   "cell_type": "code",
   "execution_count": 3,
   "metadata": {},
   "outputs": [
    {
     "data": {
      "text/plain": [
       "<xarray.Dataset>\n",
       "Dimensions:    (latitude: 101, longitude: 221, time: 10228)\n",
       "Coordinates:\n",
       "  * longitude  (longitude) float32 -125.0 -124.75 -124.5 ... -70.5 -70.25 -70.0\n",
       "  * latitude   (latitude) float32 50.0 49.75 49.5 49.25 ... 25.5 25.25 25.0\n",
       "  * time       (time) datetime64[ns] 1980-01-01T23:00:00 ... 2017-12-31T23:00:00\n",
       "Data variables:\n",
       "    lsp        (time, latitude, longitude) float32 dask.array<shape=(10228, 101, 221), chunksize=(31, 101, 221)>\n",
       "    cp         (time, latitude, longitude) float32 dask.array<shape=(10228, 101, 221), chunksize=(31, 101, 221)>\n",
       "Attributes:\n",
       "    CDI:          Climate Data Interface version 1.6.4rc4 (http://code.zmaw.d...\n",
       "    Conventions:  CF-1.6\n",
       "    history:      Tue May 28 07:31:19 2019: cdo -b 32 daysum /home/srvx11/leh...\n",
       "    CDO:          Climate Data Operators version 1.6.4rc7 (http://code.zmaw.d..."
      ]
     },
     "execution_count": 3,
     "metadata": {},
     "output_type": "execute_result"
    }
   ],
   "source": [
    "xar"
   ]
  },
  {
   "cell_type": "code",
   "execution_count": null,
   "metadata": {},
   "outputs": [],
   "source": []
  },
  {
   "cell_type": "code",
   "execution_count": null,
   "metadata": {},
   "outputs": [],
   "source": []
  },
  {
   "cell_type": "code",
   "execution_count": null,
   "metadata": {},
   "outputs": [],
   "source": []
  },
  {
   "cell_type": "code",
   "execution_count": null,
   "metadata": {},
   "outputs": [],
   "source": []
  },
  {
   "cell_type": "markdown",
   "metadata": {},
   "source": [
    "method = 'std'\n",
    "\n",
    "stats = []\n",
    "for var in xar:\n",
    "    s = getattr(xar[var], method)(dim='time')\n",
    "    stats.append(s)\n",
    "stats2 = xr.merge(stats)\n",
    "\n",
    "for v in stats2:\n",
    "    fig = plt.figure(figsize=(15,10))\n",
    "    plt.title('variable: '+v)\n",
    "    stats[v].plot.pcolormesh()"
   ]
  },
  {
   "cell_type": "code",
   "execution_count": null,
   "metadata": {
    "scrolled": true
   },
   "outputs": [],
   "source": []
  },
  {
   "cell_type": "code",
   "execution_count": null,
   "metadata": {},
   "outputs": [],
   "source": []
  },
  {
   "cell_type": "code",
   "execution_count": null,
   "metadata": {},
   "outputs": [],
   "source": []
  },
  {
   "cell_type": "code",
   "execution_count": null,
   "metadata": {
    "scrolled": false
   },
   "outputs": [],
   "source": []
  },
  {
   "cell_type": "markdown",
   "metadata": {},
   "source": [
    "## Projections\n",
    "\n",
    "- ccrs.LambertConformal(central_longitude=-95, central_latitude=45)\n",
    "- ccrs.Orthographic(-110, 35)\n",
    "- ccrs.PlateCarree()"
   ]
  },
  {
   "cell_type": "code",
   "execution_count": null,
   "metadata": {},
   "outputs": [],
   "source": [
    "class Map(object):\n",
    "    def __init__(self, figure_kws=dict(), **kwargs):\n",
    "        \n",
    "        self.proj = kwargs.pop('projection',\n",
    "                               ccrs.LambertConformal(central_longitude=-110, \n",
    "                                                     central_latitude=45))\n",
    "        self.transform = kwargs.pop('transform', \n",
    "                                    ccrs.PlateCarree())\n",
    "        self.kwargs = kwargs\n",
    "        self.fig_kws = figure_kws\n",
    "        \n",
    "    def plot(self, xar):\n",
    "        fig = plt.figure(**self.fig_kws)\n",
    "        ax = plt.axes(projection=self.proj);\n",
    "\n",
    "        states_provinces = cfeature.NaturalEarthFeature(\n",
    "            category='cultural',\n",
    "            name='admin_1_states_provinces_lines',\n",
    "            scale='50m',\n",
    "            facecolor='none')\n",
    "        countries = cfeature.NaturalEarthFeature(\n",
    "            category='cultural',\n",
    "            name='admin_0_boundary_lines_land',\n",
    "            scale='50m',\n",
    "            facecolor='none')\n",
    "        rivers = cfeature.NaturalEarthFeature(scale='50m', category='physical',\n",
    "                                              name='rivers_lake_centerlines', \n",
    "                                              edgecolor='blue', facecolor='none')\n",
    "\n",
    "        ax.add_feature(countries, edgecolor='grey')\n",
    "        ax.coastlines('50m')\n",
    "        #ax.add_feature(states_provinces, edgecolor='gray')\n",
    "        ax.add_feature(rivers, edgecolor='blue')\n",
    "\n",
    "        if self.kwargs.get('drainage_baisins', True):\n",
    "            sf = Reader(\"../data/drainage_basins/Major_Basins_of_the_World.shp\")\n",
    "            shape_feature = ShapelyFeature(sf.geometries(),\n",
    "                                           self.transform, edgecolor='black')\n",
    "            ax.add_feature(shape_feature, facecolor='none', edgecolor='green')\n",
    "            \n",
    "        xar.plot(transform=self.transform, ax=ax,\n",
    "                 subplot_kws={'projection': self.proj})\n",
    "        self.ax = ax\n",
    "\n",
    "    def plot_point(self, lat, lon):\n",
    "        self.ax.plot(lon, lat, color='cyan', marker='o', \n",
    "                     markersize=20, mew=4, markerfacecolor='none',\n",
    "                     transform=self.transform)"
   ]
  },
  {
   "cell_type": "code",
   "execution_count": null,
   "metadata": {},
   "outputs": [],
   "source": [
    "anom = xar - xar.mean('time')\n",
    "field = anom['lsp']\n",
    "da = field #a = field # /field.std('time')"
   ]
  },
  {
   "cell_type": "code",
   "execution_count": null,
   "metadata": {},
   "outputs": [
    {
     "data": {
      "text/plain": [
       "<xarray.DataArray 'lsp' (time: 10228, latitude: 101, longitude: 221)>\n",
       "dask.array<shape=(10228, 101, 221), dtype=float32, chunksize=(31, 101, 221)>\n",
       "Coordinates:\n",
       "  * longitude  (longitude) float32 -125.0 -124.75 -124.5 ... -70.5 -70.25 -70.0\n",
       "  * latitude   (latitude) float32 50.0 49.75 49.5 49.25 ... 25.5 25.25 25.0\n",
       "  * time       (time) datetime64[ns] 1980-01-01T23:00:00 ... 2017-12-31T23:00:00"
      ]
     },
     "execution_count": 6,
     "metadata": {},
     "output_type": "execute_result"
    }
   ],
   "source": [
    "da"
   ]
  },
  {
   "cell_type": "code",
   "execution_count": null,
   "metadata": {},
   "outputs": [],
   "source": [
    "point = dict(latitude=40, longitude=-90)\n",
    "cov = da.loc[point].dot(da)\n",
    "cov = cov.compute()"
   ]
  },
  {
   "cell_type": "markdown",
   "metadata": {},
   "source": [
    "# does it work until here?"
   ]
  },
  {
   "cell_type": "code",
   "execution_count": null,
   "metadata": {},
   "outputs": [],
   "source": [
    "cov.plot.pcolormesh()"
   ]
  },
  {
   "cell_type": "code",
   "execution_count": null,
   "metadata": {},
   "outputs": [],
   "source": [
    "m = Map(figure_kws=dict(figsize=(15,10)),\n",
    "        projection=ccrs.LambertConformal(central_longitude=-110, \n",
    "                                         central_latitude=45),\n",
    "        transform=ccrs.PlateCarree())"
   ]
  },
  {
   "cell_type": "code",
   "execution_count": null,
   "metadata": {},
   "outputs": [],
   "source": [
    "m.plot(cov)"
   ]
  },
  {
   "cell_type": "code",
   "execution_count": null,
   "metadata": {},
   "outputs": [],
   "source": [
    "cov = a[:,75,175].dot(a)\n",
    "m.plot(cov)"
   ]
  },
  {
   "cell_type": "code",
   "execution_count": null,
   "metadata": {},
   "outputs": [],
   "source": [
    "cov = a[:,15,175].dot(a)\n",
    "m.plot(cov)"
   ]
  },
  {
   "cell_type": "code",
   "execution_count": null,
   "metadata": {},
   "outputs": [],
   "source": [
    "point = dict(latitude=35, longitude=-75)\n",
    "cov = a.loc[point].dot(a)\n",
    "m.plot(cov)\n",
    "m.plot_point(lat=point['latitude'], lon=point['longitude'])"
   ]
  },
  {
   "cell_type": "code",
   "execution_count": null,
   "metadata": {},
   "outputs": [],
   "source": [
    "point = dict(latitude=35, longitude=-112)\n",
    "cov = a.loc[point].dot(a)\n",
    "m.plot(cov)\n",
    "m.plot_point(lat=point['latitude'], lon=point['longitude'])"
   ]
  },
  {
   "cell_type": "code",
   "execution_count": null,
   "metadata": {},
   "outputs": [],
   "source": [
    "a.loc[dict(latitude=35, longitude=-112)].plot()\n",
    "a.loc[dict(latitude=33, longitude=-117)].plot()"
   ]
  },
  {
   "cell_type": "code",
   "execution_count": null,
   "metadata": {},
   "outputs": [],
   "source": []
  },
  {
   "cell_type": "markdown",
   "metadata": {},
   "source": [
    "# Dataset Variable's Distribution\n",
    "\n",
    "using seaborn? or too many values (\"big data\")\n",
    "-> probably \"bokeh\" module"
   ]
  },
  {
   "cell_type": "code",
   "execution_count": null,
   "metadata": {},
   "outputs": [],
   "source": [
    "data = xar['lsp'].values.ravel()\n",
    "data = data[data > 0.001]\n",
    "\n",
    "sns.distplot(data)"
   ]
  }
 ],
 "metadata": {
  "kernelspec": {
   "display_name": "Python 3",
   "language": "python",
   "name": "python3"
  },
  "language_info": {
   "codemirror_mode": {
    "name": "ipython",
    "version": 3
   },
   "file_extension": ".py",
   "mimetype": "text/x-python",
   "name": "python",
   "nbconvert_exporter": "python",
   "pygments_lexer": "ipython3",
   "version": "3.7.3"
  }
 },
 "nbformat": 4,
 "nbformat_minor": 2
}
