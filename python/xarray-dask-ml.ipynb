{
 "cells": [
  {
   "cell_type": "code",
   "execution_count": 1,
   "metadata": {},
   "outputs": [],
   "source": [
    "import numpy as np\n",
    "import pandas as pd\n",
    "import matplotlib.pyplot as plt\n",
    "import seaborn as sns\n",
    "\n",
    "import dask\n",
    "from dask.distributed import Client, LocalCluster\n",
    "cluster = LocalCluster(n_workers=10, processes=True)\n",
    "client = Client(cluster)  # memory_limit='16GB', \n",
    "\n",
    "import xarray as xr\n",
    "from dask.diagnostics import ProgressBar"
   ]
  },
  {
   "cell_type": "code",
   "execution_count": 2,
   "metadata": {},
   "outputs": [
    {
     "data": {
      "text/html": [
       "<table style=\"border: 2px solid white;\">\n",
       "<tr>\n",
       "<td style=\"vertical-align: top; border: 0px solid white\">\n",
       "<h3>Client</h3>\n",
       "<ul>\n",
       "  <li><b>Scheduler: </b>tcp://127.0.0.1:44513\n",
       "  <li><b>Dashboard: </b><a href='http://127.0.0.1:8787/status' target='_blank'>http://127.0.0.1:8787/status</a>\n",
       "</ul>\n",
       "</td>\n",
       "<td style=\"vertical-align: top; border: 0px solid white\">\n",
       "<h3>Cluster</h3>\n",
       "<ul>\n",
       "  <li><b>Workers: </b>10</li>\n",
       "  <li><b>Cores: </b>40</li>\n",
       "  <li><b>Memory: </b>203.20 GB</li>\n",
       "</ul>\n",
       "</td>\n",
       "</tr>\n",
       "</table>"
      ],
      "text/plain": [
       "<Client: scheduler='tcp://127.0.0.1:44513' processes=10 cores=40>"
      ]
     },
     "execution_count": 2,
     "metadata": {},
     "output_type": "execute_result"
    }
   ],
   "source": [
    "client"
   ]
  },
  {
   "cell_type": "code",
   "execution_count": 3,
   "metadata": {
    "scrolled": false
   },
   "outputs": [
    {
     "name": "stdout",
     "output_type": "stream",
     "text": [
      "/home/srvx11/lehre/users/a1254888/.conda/envs/ml_flood2/bin/python3\n"
     ]
    }
   ],
   "source": [
    "import sys\n",
    "print(sys.executable)"
   ]
  },
  {
   "cell_type": "code",
   "execution_count": null,
   "metadata": {
    "scrolled": true
   },
   "outputs": [],
   "source": []
  },
  {
   "cell_type": "code",
   "execution_count": 4,
   "metadata": {},
   "outputs": [
    {
     "data": {
      "text/plain": [
       "<xarray.Dataset>\n",
       "Dimensions:    (latitude: 13, longitude: 53, time: 31)\n",
       "Coordinates:\n",
       "  * longitude  (longitude) float32 7.0 7.25 7.5 7.75 ... 19.25 19.5 19.75 20.0\n",
       "  * latitude   (latitude) float32 50.0 49.75 49.5 49.25 ... 47.5 47.25 47.0\n",
       "  * time       (time) datetime64[ns] 2000-01-01T23:00:00 ... 2000-01-31T23:00:00\n",
       "Data variables:\n",
       "    slt        (time, latitude, longitude) float32 ...\n",
       "    z          (time, latitude, longitude) float32 ...\n",
       "    slor       (time, latitude, longitude) float32 ...\n",
       "    lsm        (time, latitude, longitude) float32 ...\n",
       "Attributes:\n",
       "    CDI:          Climate Data Interface version 1.6.4rc4 (http://code.zmaw.d...\n",
       "    Conventions:  CF-1.6\n",
       "    history:      Thu May 30 01:39:36 2019: cdo dayavg /home/srvx11/lehre/use...\n",
       "    CDO:          Climate Data Operators version 1.6.4rc7 (http://code.zmaw.d..."
      ]
     },
     "execution_count": 4,
     "metadata": {},
     "output_type": "execute_result"
    }
   ],
   "source": [
    "static = xr.open_dataset('../data/danube/era5_slt_z_slor_lsm_stationary_field.nc')\n",
    "static"
   ]
  },
  {
   "cell_type": "code",
   "execution_count": 5,
   "metadata": {},
   "outputs": [],
   "source": [
    "era5 = xr.open_mfdataset('../data/danube/*1981-2017*.nc')\n",
    "\n",
    "import datetime as dt\n",
    "def shift_time(ds, value):\n",
    "    ds.coords['time'].values = pd.to_datetime(ds.coords['time'].values) + value\n",
    "    return ds"
   ]
  },
  {
   "cell_type": "code",
   "execution_count": 6,
   "metadata": {},
   "outputs": [],
   "source": [
    "# sanitize the coordinates; cdo daysum assigned the coordinate 23 UTC for all days\n",
    "era5 = shift_time(era5, -dt.timedelta(hours=23))"
   ]
  },
  {
   "cell_type": "code",
   "execution_count": 7,
   "metadata": {},
   "outputs": [],
   "source": [
    "glofas = xr.open_dataset('../data/danube/glofas_reanalysis_danube_1981-2002.nc')\n",
    "glofas = glofas.rename({'lat': 'latitude', 'lon': 'longitude'})  # to have the same name like in era5\n",
    "glofas = shift_time(glofas, -dt.timedelta(days=1))"
   ]
  },
  {
   "cell_type": "code",
   "execution_count": 8,
   "metadata": {},
   "outputs": [],
   "source": [
    "glofas_rerun = xr.open_dataset('../data/glofas-freruns/2013051800/glofas2.3_era5wb_reforecast_dis_bigchannels_1000km2_20130518_0.nc')\n",
    "glofas_rerun = glofas_rerun.rename({'lat': 'latitude', 'lon': 'longitude'})\n",
    "glofas_rerun = shift_time(glofas_rerun, -dt.timedelta(days=1))"
   ]
  },
  {
   "cell_type": "code",
   "execution_count": null,
   "metadata": {},
   "outputs": [],
   "source": []
  },
  {
   "cell_type": "markdown",
   "metadata": {},
   "source": [
    "### Interpolation step"
   ]
  },
  {
   "cell_type": "code",
   "execution_count": 9,
   "metadata": {},
   "outputs": [],
   "source": [
    "era5 = era5.interp(latitude=glofas.latitude, longitude=glofas.longitude)"
   ]
  },
  {
   "cell_type": "markdown",
   "metadata": {},
   "source": [
    "### Feature engineering"
   ]
  },
  {
   "cell_type": "code",
   "execution_count": 10,
   "metadata": {},
   "outputs": [],
   "source": [
    "era5 = era5.isel(time=slice(0,1000))\n",
    "glofas = glofas.isel(time=slice(0,1000))"
   ]
  },
  {
   "cell_type": "raw",
   "metadata": {
    "scrolled": false
   },
   "source": []
  },
  {
   "cell_type": "code",
   "execution_count": 11,
   "metadata": {},
   "outputs": [],
   "source": [
    "krems = dict(latitude=48.403, longitude=15.615)\n",
    "\n",
    "surrounding = dict(latitude=slice(krems['latitude']+1, \n",
    "                                  krems['latitude']-1),\n",
    "                   longitude=slice(krems['longitude']-1, \n",
    "                                  krems['longitude']+1))\n",
    "\n",
    "y = glofas.interp(krems)\n",
    "X = era5[['cp', 'lsp']]\n",
    "\n",
    "X = X.sel(surrounding).sum(['latitude', 'longitude'])\n"
   ]
  },
  {
   "cell_type": "code",
   "execution_count": 12,
   "metadata": {},
   "outputs": [],
   "source": [
    "if False:\n",
    "    xdf = X.to_dataframe()\n",
    "    ydf = y.drop(['latitude', 'longitude']).to_dataframe()\n",
    "\n",
    "    xdf.head()\n",
    "\n",
    "    ydf.plot(y='dis', figsize=(15,5))\n",
    "    fig, ax = plt.subplots()\n",
    "    xdf.plot(y=['lsp', 'cp'], ax=ax, figsize=(15,5))\n",
    "    plt.close()\n",
    "    \n",
    "    xdf.cumsum().plot(y=['lsp', 'cp'], figsize=(15,5))\n",
    "    \n",
    "    merge = pd.concat([xdf, ydf], axis=1)\n",
    "    merge.head()"
   ]
  },
  {
   "cell_type": "code",
   "execution_count": null,
   "metadata": {},
   "outputs": [],
   "source": []
  },
  {
   "cell_type": "code",
   "execution_count": null,
   "metadata": {},
   "outputs": [],
   "source": []
  },
  {
   "cell_type": "code",
   "execution_count": 13,
   "metadata": {},
   "outputs": [],
   "source": [
    "#sns.jointplot(x='cp', y='dis', data=merge, kind='hex')"
   ]
  },
  {
   "cell_type": "code",
   "execution_count": 14,
   "metadata": {},
   "outputs": [],
   "source": [
    "#sns.jointplot(x='lsp', y='dis', data=merge, kind='hex')"
   ]
  },
  {
   "cell_type": "code",
   "execution_count": 15,
   "metadata": {},
   "outputs": [],
   "source": [
    "def mask_dataframe(df, limit_per_variable: dict):\n",
    "    for var, (lowlim, uplim) in limit_per_variable.items():\n",
    "        df = df[var > lowlim]\n",
    "        df = df[var < uplim]\n",
    "    return df\n",
    "\n",
    "def normalize(series):\n",
    "    return series #(series-series.mean())/series.std()\n",
    "\n",
    "def normalize_df(df):\n",
    "    dic = []\n",
    "    for var, d in xdf.items():\n",
    "        dic.append( normalize(d) )\n",
    "    return #pd.concat(dic)"
   ]
  },
  {
   "cell_type": "markdown",
   "metadata": {},
   "source": [
    "## daily change in discharge \n",
    "As discharge itself has a large memory component (high autocorrelation, dependence on previous values), we can also look on the changes in discharge through time."
   ]
  },
  {
   "cell_type": "code",
   "execution_count": null,
   "metadata": {},
   "outputs": [],
   "source": []
  },
  {
   "cell_type": "code",
   "execution_count": 16,
   "metadata": {},
   "outputs": [],
   "source": [
    "# select data of interest\n",
    "y = glofas.interp(krems)\n",
    "X = era5[['cp', 'lsp']]\n",
    "\n",
    "# prepare predictor\n",
    "X = X.sel(surrounding).sum(['latitude', 'longitude'])\n",
    "\n",
    "y = y.where(y>0)"
   ]
  },
  {
   "cell_type": "code",
   "execution_count": 17,
   "metadata": {
    "scrolled": false
   },
   "outputs": [],
   "source": [
    "# normalize\n",
    "X = (X - X.mean('time'))/X.std('time')\n",
    "y = (y - y.mean('time'))/y.std('time')"
   ]
  },
  {
   "cell_type": "code",
   "execution_count": 18,
   "metadata": {},
   "outputs": [],
   "source": [
    "if False: # debug\n",
    "    for t in range(len(X.time)):\n",
    "        print(X.time.values[t], y.time.values[t])"
   ]
  },
  {
   "cell_type": "raw",
   "metadata": {},
   "source": [
    "for var in merge.keys():\n",
    "    print (var, merge[var].quantile(q=0.05), merge[var].quantile(q=0.95))"
   ]
  },
  {
   "cell_type": "code",
   "execution_count": null,
   "metadata": {
    "scrolled": false
   },
   "outputs": [],
   "source": []
  },
  {
   "cell_type": "markdown",
   "metadata": {},
   "source": [
    "## Is there a relationship "
   ]
  },
  {
   "cell_type": "code",
   "execution_count": 19,
   "metadata": {},
   "outputs": [],
   "source": [
    "#sns.jointplot(x='cp', y='dis', data=merge, kind='hex')"
   ]
  },
  {
   "cell_type": "code",
   "execution_count": 20,
   "metadata": {},
   "outputs": [],
   "source": [
    "#sns.jointplot(x='lsp', y='dis', data=merge, kind='hex')"
   ]
  },
  {
   "cell_type": "code",
   "execution_count": 21,
   "metadata": {},
   "outputs": [],
   "source": [
    "#from sklearn_xarray import wrap\n",
    "#from dask_ml.xgboost import XGBRegressor\n",
    "from dask_ml.linear_model import LinearRegression\n",
    "# LogisticRegression"
   ]
  },
  {
   "cell_type": "code",
   "execution_count": 22,
   "metadata": {},
   "outputs": [],
   "source": [
    "def add_shifted_predictors(ds, shifts, variables='all'):\n",
    "    \"\"\"Adds additional variables to an array which are shifted in time.\n",
    "    \n",
    "    Parameters\n",
    "    ----------\n",
    "    ds : xr.Dataset\n",
    "    shifts : list of integers\n",
    "    variables : str or list\n",
    "    \"\"\"\n",
    "    if variables == 'all': \n",
    "        variables = ds.data_vars\n",
    "        \n",
    "    for var in variables:\n",
    "        for i in shifts:\n",
    "            if i == 0: continue  # makes no sense to shift by zero\n",
    "            newvar = var+'-'+str(i)\n",
    "            ds[newvar] = ds[var].shift(time=i)\n",
    "    return ds"
   ]
  },
  {
   "cell_type": "code",
   "execution_count": 23,
   "metadata": {},
   "outputs": [],
   "source": [
    "shifts = range(1,11)\n",
    "\n",
    "Xs = add_shifted_predictors(X, shifts)\n"
   ]
  },
  {
   "cell_type": "code",
   "execution_count": null,
   "metadata": {},
   "outputs": [],
   "source": []
  },
  {
   "cell_type": "code",
   "execution_count": 24,
   "metadata": {},
   "outputs": [],
   "source": [
    "Xar = Xs.to_array(dim='features') #\n",
    "yar = y.to_array()\n",
    "\n",
    "# singleton dimension has to have the same name like in X\n",
    "# so we set it to 'features' too\n",
    "yar = yar.rename({'variable': 'features'})  \n",
    "\n",
    "# it confuses the concat if one has latitude but the other not\n",
    "yar = yar.drop(['latitude', 'longitude'])  \n",
    "    \n",
    "    "
   ]
  },
  {
   "cell_type": "markdown",
   "metadata": {},
   "source": [
    "## concat\n",
    "- allows us to synchronize times and \n",
    "- get rid of nan entries with dropna()"
   ]
  },
  {
   "cell_type": "code",
   "execution_count": 25,
   "metadata": {},
   "outputs": [],
   "source": [
    "Xy = xr.concat([Xar, yar], dim='features')  \n",
    "\n",
    "Xyt = Xy.dropna('time')  # drop them as we cannot train on nan values"
   ]
  },
  {
   "cell_type": "code",
   "execution_count": 26,
   "metadata": {
    "scrolled": false
   },
   "outputs": [
    {
     "data": {
      "text/plain": [
       "<xarray.DataArray (features: 23, time: 990)>\n",
       "dask.array<shape=(23, 990), dtype=float64, chunksize=(1, 990)>\n",
       "Coordinates:\n",
       "  * time      (time) datetime64[ns] 1981-01-11 1981-01-12 ... 1983-09-27\n",
       "  * features  (features) object 'cp' 'lsp' 'cp-1' ... 'lsp-9' 'lsp-10' 'dis'"
      ]
     },
     "execution_count": 26,
     "metadata": {},
     "output_type": "execute_result"
    }
   ],
   "source": [
    "Xyt"
   ]
  },
  {
   "cell_type": "code",
   "execution_count": 27,
   "metadata": {},
   "outputs": [],
   "source": [
    "predictand = 'dis'\n",
    "predictors = [v for v in X.data_vars if predictand not in v]\n",
    "predictors\n",
    "\n",
    "Xda = Xyt.loc[predictors]\n",
    "yda = Xyt.loc[predictand]"
   ]
  },
  {
   "cell_type": "code",
   "execution_count": 28,
   "metadata": {},
   "outputs": [],
   "source": [
    "time = yda.time\n",
    "Xda = Xda.chunk(dict(time=-1, features=-1)).data.T\n",
    "yda = yda.data.squeeze()"
   ]
  },
  {
   "cell_type": "code",
   "execution_count": 29,
   "metadata": {},
   "outputs": [
    {
     "data": {
      "text/plain": [
       "dask.array<transpose, shape=(990, 22), dtype=float64, chunksize=(990, 22)>"
      ]
     },
     "execution_count": 29,
     "metadata": {},
     "output_type": "execute_result"
    }
   ],
   "source": [
    "Xda"
   ]
  },
  {
   "cell_type": "code",
   "execution_count": 30,
   "metadata": {},
   "outputs": [
    {
     "data": {
      "text/plain": [
       "dask.array<getitem, shape=(990,), dtype=float64, chunksize=(990,)>"
      ]
     },
     "execution_count": 30,
     "metadata": {},
     "output_type": "execute_result"
    }
   ],
   "source": [
    "yda"
   ]
  },
  {
   "cell_type": "code",
   "execution_count": 31,
   "metadata": {},
   "outputs": [],
   "source": [
    "import joblib\n",
    "from sklearn.pipeline import Pipeline\n",
    "from dask_ml.preprocessing import StandardScaler\n",
    "from dask_ml.decomposition import PCA\n",
    "\n",
    "#from dask_ml.xgboost import XGBRegressor\n",
    "from dask_ml.linear_model import LogisticRegression\n",
    "from dask_ml.linear_model import LinearRegression\n"
   ]
  },
  {
   "cell_type": "code",
   "execution_count": 77,
   "metadata": {},
   "outputs": [],
   "source": [
    "model_kws = dict(n_jobs=-1, max_iter=1000, verbose=True)\n",
    "\n",
    "pipe = Pipeline([('scaler', StandardScaler()),\n",
    "                 #('pca', PCA(n_components=6)),\n",
    "                 ('model', LinearRegression(**model_kws)),],\n",
    "                verbose=True)"
   ]
  },
  {
   "cell_type": "code",
   "execution_count": 78,
   "metadata": {},
   "outputs": [
    {
     "data": {
      "text/plain": [
       "Pipeline(memory=None,\n",
       "         steps=[('scaler',\n",
       "                 StandardScaler(copy=True, with_mean=True, with_std=True)),\n",
       "                ('model',\n",
       "                 LinearRegression(C=1.0, class_weight=None, dual=False,\n",
       "                                  fit_intercept=True, intercept_scaling=1.0,\n",
       "                                  max_iter=1000, multi_class='ovr', n_jobs=-1,\n",
       "                                  penalty='l2', random_state=None,\n",
       "                                  solver='admm', solver_kwargs=None, tol=0.0001,\n",
       "                                  verbose=True, warm_start=False))],\n",
       "         verbose=True)"
      ]
     },
     "execution_count": 78,
     "metadata": {},
     "output_type": "execute_result"
    }
   ],
   "source": [
    "pipe"
   ]
  },
  {
   "cell_type": "code",
   "execution_count": 79,
   "metadata": {
    "scrolled": true
   },
   "outputs": [
    {
     "name": "stdout",
     "output_type": "stream",
     "text": [
      "[Pipeline] ............ (step 1 of 2) Processing scaler, total=   0.1s\n",
      "[Pipeline] ............. (step 2 of 2) Processing model, total=   1.0s\n"
     ]
    }
   ],
   "source": [
    "Xda = Xda.persist()\n",
    "\n",
    "with ProgressBar():\n",
    "    pipe.fit(Xda, yda)"
   ]
  },
  {
   "cell_type": "markdown",
   "metadata": {},
   "source": [
    "# Test it on the same data"
   ]
  },
  {
   "cell_type": "code",
   "execution_count": 80,
   "metadata": {},
   "outputs": [],
   "source": [
    "with ProgressBar():\n",
    "    ytest = pipe.predict(Xda)"
   ]
  },
  {
   "cell_type": "code",
   "execution_count": 81,
   "metadata": {},
   "outputs": [
    {
     "data": {
      "text/plain": [
       "(990,)"
      ]
     },
     "execution_count": 81,
     "metadata": {},
     "output_type": "execute_result"
    }
   ],
   "source": [
    "ytest.shape"
   ]
  },
  {
   "cell_type": "code",
   "execution_count": 82,
   "metadata": {},
   "outputs": [
    {
     "data": {
      "text/plain": [
       "<xarray.DataArray 'sum-aggregate-a0175cc78adb5eb0474c8f0a20a31cd7' (time: 990)>\n",
       "dask.array<shape=(990,), dtype=float64, chunksize=(990,)>\n",
       "Coordinates:\n",
       "  * time     (time) datetime64[ns] 1981-01-11 1981-01-12 ... 1983-09-27"
      ]
     },
     "execution_count": 82,
     "metadata": {},
     "output_type": "execute_result"
    }
   ],
   "source": [
    "xr.DataArray(ytest, dims=('time'), coords={'time': time})"
   ]
  },
  {
   "cell_type": "code",
   "execution_count": 83,
   "metadata": {},
   "outputs": [],
   "source": [
    "def add_time(vector, time, name=None):\n",
    "    return xr.DataArray(vector, dims=('time'), coords={'time': time}, name=name)"
   ]
  },
  {
   "cell_type": "code",
   "execution_count": 84,
   "metadata": {},
   "outputs": [],
   "source": [
    "ytest = add_time(ytest, time, name='dis-forecast')"
   ]
  },
  {
   "cell_type": "code",
   "execution_count": 85,
   "metadata": {
    "scrolled": false
   },
   "outputs": [
    {
     "data": {
      "text/plain": [
       "<matplotlib.legend.Legend at 0x7f11e9fd5f98>"
      ]
     },
     "execution_count": 85,
     "metadata": {},
     "output_type": "execute_result"
    },
    {
     "data": {
      "image/png": "[encoded data removed]",
      "text/plain": [
       "<Figure size 1080x360 with 1 Axes>"
      ]
     },
     "metadata": {
      "needs_background": "light"
     },
     "output_type": "display_data"
    }
   ],
   "source": [
    "fig, ax = plt.subplots(figsize=(15,5))\n",
    "Xyt.loc[predictand].to_pandas().plot(ax=ax, label='dis-reanalysis')\n",
    "ytest.to_pandas().plot(ax=ax, label='dis-forecast')\n",
    "plt.legend()"
   ]
  },
  {
   "cell_type": "code",
   "execution_count": null,
   "metadata": {},
   "outputs": [],
   "source": []
  },
  {
   "cell_type": "code",
   "execution_count": null,
   "metadata": {},
   "outputs": [],
   "source": []
  }
 ],
 "metadata": {
  "kernelspec": {
   "display_name": "Python 3",
   "language": "python",
   "name": "python3"
  },
  "language_info": {
   "codemirror_mode": {
    "name": "ipython",
    "version": 3
   },
   "file_extension": ".py",
   "mimetype": "text/x-python",
   "name": "python",
   "nbconvert_exporter": "python",
   "pygments_lexer": "ipython3",
   "version": "3.7.3"
  }
 },
 "nbformat": 4,
 "nbformat_minor": 2
}
