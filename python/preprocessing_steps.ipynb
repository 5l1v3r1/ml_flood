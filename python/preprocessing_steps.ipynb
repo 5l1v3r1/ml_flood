{
 "cells": [
  {
   "cell_type": "code",
   "execution_count": 1,
   "metadata": {},
   "outputs": [],
   "source": [
    "%matplotlib inline\n",
    "import os\n",
    "import sys\n",
    "import numpy as np\n",
    "import pandas as np\n",
    "import seaborn as sb\n",
    "import xarray as xr\n",
    "import os.path as path\n",
    "from aux.ml_flood_config import path_to_data"
   ]
  },
  {
   "cell_type": "code",
   "execution_count": 2,
   "metadata": {},
   "outputs": [
    {
     "name": "stdout",
     "output_type": "stream",
     "text": [
      "/home/srvx11/lehre/users/a1303583/ipython/ml_flood/data/usa/monthly_files/\n"
     ]
    }
   ],
   "source": [
    "# define some vars\n",
    "data_path = f'{path_to_data}usa/monthly_files/'\n",
    "print(data_path)"
   ]
  },
  {
   "cell_type": "markdown",
   "metadata": {},
   "source": [
    "## rename files if necessary"
   ]
  },
  {
   "cell_type": "code",
   "execution_count": 3,
   "metadata": {},
   "outputs": [],
   "source": [
    "from aux.utils import rename_files\n",
    "\n",
    "#rename_files(path=data_path, old='day.', new='dayavg.', str_constraint='temperature')"
   ]
  },
  {
   "cell_type": "markdown",
   "metadata": {},
   "source": [
    "## convert hourly files to daily means"
   ]
  },
  {
   "cell_type": "code",
   "execution_count": 4,
   "metadata": {
    "scrolled": false
   },
   "outputs": [],
   "source": [
    "from aux.utils import cdo_daily_means\n",
    "\n",
    "#cdo_daily_means(path=data_path, file_includes='single_level')\n",
    "#cdo_daily_means(path=data_path, file_includes='850_700_500')"
   ]
  },
  {
   "cell_type": "markdown",
   "metadata": {},
   "source": [
    "## convert precipitation values to daily sums"
   ]
  },
  {
   "cell_type": "code",
   "execution_count": null,
   "metadata": {
    "scrolled": false
   },
   "outputs": [],
   "source": [
    "from aux.utils import cdo_precip_sums\n",
    "\n",
    "#cdo_precip_sums(path=data_path, file_includes='large_scale_precipitation')"
   ]
  },
  {
   "cell_type": "markdown",
   "metadata": {},
   "source": [
    "## extract precipitation parameters from daily sums and delete them from daily averages"
   ]
  },
  {
   "cell_type": "code",
   "execution_count": null,
   "metadata": {},
   "outputs": [],
   "source": [
    "from aux.utils import cdo_clean_precip\n",
    "\n",
    "#cdo_clean_precip(path=data_path)"
   ]
  },
  {
   "cell_type": "markdown",
   "metadata": {},
   "source": [
    "## merge files (time dim) together"
   ]
  },
  {
   "cell_type": "code",
   "execution_count": null,
   "metadata": {},
   "outputs": [],
   "source": [
    "from aux.utils import cdo_merge_time\n",
    "\n",
    "# danube\n",
    "#cdo_merge_time(path=data_path, file_includes='large_scale_precipitation', new_file='era5_lsp_1981-2017_daysum.nc')\n",
    "#cdo_merge_time(path=data_path, file_includes='convective_precipitation', new_file='era5_tp_cp_1981-2017_daysum.nc')\n",
    "#cdo_merge_time(path=data_path, file_includes='_temperature_', new_file='era5_z_t_q_1981-2017_dayavg.nc')\n",
    "#cdo_merge_time(path=data_path, file_includes='soil_water', new_file='era5_swvl1_swvl2_ro_tcwv_1981-2017_dayavg.nc')\n",
    "\n",
    "# usa\n",
    "#cdo_merge_time(path=data_path, file_includes='geopotential,temperature', new_file='era5_z_t_q_1981-2017_dayavg.nc')\n",
    "#cdo_merge_time(path=data_path, file_includes='convective_precipitation', new_file='era5_lsp_cp_1981-2017_daysum.nc')\n",
    "#cdo_merge_time(path=data_path, file_includes='runoff', new_file='era5_ro_1981-2017_daysum.nc')\n",
    "#cdo_merge_time(path=data_path, file_includes='soil_water', new_file='era5_swvl1_swvl2_tcwv_1981-2017_dayavg.nc')\n",
    "\n",
    "# asia\n",
    "#cdo_merge_time(path=data_path, file_includes='geopotential,temperature', new_file='era5_z_t_q_1981-2017_dayavg.nc')\n",
    "#cdo_merge_time(path=data_path, file_includes='convective_precipitation', new_file='era5_lsp_cp_1981-2017_daysum.nc')\n",
    "#cdo_merge_time(path=data_path, file_includes='runoff', new_file='era5_ro_1981-2017_daysum.nc')\n",
    "#cdo_merge_time(path=data_path, file_includes='soil_water', new_file='era5_swvl1_swvl2_tcwv_1981-2017_dayavg.nc')"
   ]
  },
  {
   "cell_type": "markdown",
   "metadata": {},
   "source": [
    "# GLOFAS"
   ]
  },
  {
   "cell_type": "markdown",
   "metadata": {},
   "source": [
    "## 1981-2002 done; todo: 2003-2018"
   ]
  },
  {
   "cell_type": "code",
   "execution_count": null,
   "metadata": {
    "scrolled": false
   },
   "outputs": [
    {
     "name": "stdout",
     "output_type": "stream",
     "text": [
      "/home/srvx11/lehre/users/a1303583/ipython/ml_flood/data/glofas/\n",
      "extracting region: dis_19810101_19810201.nc to dis_19810101_19810201_spatial_cut_danube.nc in /home/srvx11/lehre/users/a1303583/ipython/ml_flood/data/glofas/ ...\n",
      "extracting region: dis_19820101_19820201.nc to dis_19820101_19820201_spatial_cut_danube.nc in /home/srvx11/lehre/users/a1303583/ipython/ml_flood/data/glofas/ ...\n",
      "extracting region: dis_19830101_19830201.nc to dis_19830101_19830201_spatial_cut_danube.nc in /home/srvx11/lehre/users/a1303583/ipython/ml_flood/data/glofas/ ...\n",
      "extracting region: dis_19840101_19840201.nc to dis_19840101_19840201_spatial_cut_danube.nc in /home/srvx11/lehre/users/a1303583/ipython/ml_flood/data/glofas/ ...\n",
      "extracting region: dis_19850101_19850201.nc to dis_19850101_19850201_spatial_cut_danube.nc in /home/srvx11/lehre/users/a1303583/ipython/ml_flood/data/glofas/ ...\n",
      "extracting region: dis_19860101_19860201.nc to dis_19860101_19860201_spatial_cut_danube.nc in /home/srvx11/lehre/users/a1303583/ipython/ml_flood/data/glofas/ ...\n",
      "extracting region: dis_19870101_19870201.nc to dis_19870101_19870201_spatial_cut_danube.nc in /home/srvx11/lehre/users/a1303583/ipython/ml_flood/data/glofas/ ...\n",
      "extracting region: dis_19880101_19880201.nc to dis_19880101_19880201_spatial_cut_danube.nc in /home/srvx11/lehre/users/a1303583/ipython/ml_flood/data/glofas/ ...\n",
      "extracting region: dis_19890101_19890201.nc to dis_19890101_19890201_spatial_cut_danube.nc in /home/srvx11/lehre/users/a1303583/ipython/ml_flood/data/glofas/ ...\n",
      "extracting region: dis_19900101_19900201.nc to dis_19900101_19900201_spatial_cut_danube.nc in /home/srvx11/lehre/users/a1303583/ipython/ml_flood/data/glofas/ ...\n",
      "extracting region: dis_19910101_19910201.nc to dis_19910101_19910201_spatial_cut_danube.nc in /home/srvx11/lehre/users/a1303583/ipython/ml_flood/data/glofas/ ...\n",
      "extracting region: dis_19920101_19920201.nc to dis_19920101_19920201_spatial_cut_danube.nc in /home/srvx11/lehre/users/a1303583/ipython/ml_flood/data/glofas/ ...\n",
      "extracting region: dis_19930101_19930201.nc to dis_19930101_19930201_spatial_cut_danube.nc in /home/srvx11/lehre/users/a1303583/ipython/ml_flood/data/glofas/ ...\n",
      "extracting region: dis_19940101_19940201.nc to dis_19940101_19940201_spatial_cut_danube.nc in /home/srvx11/lehre/users/a1303583/ipython/ml_flood/data/glofas/ ...\n",
      "extracting region: dis_19950101_19950201.nc to dis_19950101_19950201_spatial_cut_danube.nc in /home/srvx11/lehre/users/a1303583/ipython/ml_flood/data/glofas/ ...\n",
      "extracting region: dis_19960101_19960201.nc to dis_19960101_19960201_spatial_cut_danube.nc in /home/srvx11/lehre/users/a1303583/ipython/ml_flood/data/glofas/ ...\n",
      "extracting region: dis_19970101_19970201.nc to dis_19970101_19970201_spatial_cut_danube.nc in /home/srvx11/lehre/users/a1303583/ipython/ml_flood/data/glofas/ ...\n",
      "extracting region: dis_19980101_19980201.nc to dis_19980101_19980201_spatial_cut_danube.nc in /home/srvx11/lehre/users/a1303583/ipython/ml_flood/data/glofas/ ...\n",
      "extracting region: dis_19990101_19990201.nc to dis_19990101_19990201_spatial_cut_danube.nc in /home/srvx11/lehre/users/a1303583/ipython/ml_flood/data/glofas/ ...\n",
      "extracting region: dis_20000101_20000201.nc to dis_20000101_20000201_spatial_cut_danube.nc in /home/srvx11/lehre/users/a1303583/ipython/ml_flood/data/glofas/ ...\n",
      "extracting region: dis_20010101_20010201.nc to dis_20010101_20010201_spatial_cut_danube.nc in /home/srvx11/lehre/users/a1303583/ipython/ml_flood/data/glofas/ ...\n",
      "extracting region: dis_20020101_20020201.nc to dis_20020101_20020201_spatial_cut_danube.nc in /home/srvx11/lehre/users/a1303583/ipython/ml_flood/data/glofas/ ...\n",
      "extracting region: dis_19810201_19810301.nc to dis_19810201_19810301_spatial_cut_danube.nc in /home/srvx11/lehre/users/a1303583/ipython/ml_flood/data/glofas/ ...\n",
      "extracting region: dis_19820201_19820301.nc to dis_19820201_19820301_spatial_cut_danube.nc in /home/srvx11/lehre/users/a1303583/ipython/ml_flood/data/glofas/ ...\n",
      "extracting region: dis_19830201_19830301.nc to dis_19830201_19830301_spatial_cut_danube.nc in /home/srvx11/lehre/users/a1303583/ipython/ml_flood/data/glofas/ ...\n",
      "extracting region: dis_19840201_19840301.nc to dis_19840201_19840301_spatial_cut_danube.nc in /home/srvx11/lehre/users/a1303583/ipython/ml_flood/data/glofas/ ...\n",
      "extracting region: dis_19850201_19850301.nc to dis_19850201_19850301_spatial_cut_danube.nc in /home/srvx11/lehre/users/a1303583/ipython/ml_flood/data/glofas/ ...\n",
      "extracting region: dis_19860201_19860301.nc to dis_19860201_19860301_spatial_cut_danube.nc in /home/srvx11/lehre/users/a1303583/ipython/ml_flood/data/glofas/ ...\n",
      "extracting region: dis_19870201_19870301.nc to dis_19870201_19870301_spatial_cut_danube.nc in /home/srvx11/lehre/users/a1303583/ipython/ml_flood/data/glofas/ ...\n",
      "extracting region: dis_19880201_19880301.nc to dis_19880201_19880301_spatial_cut_danube.nc in /home/srvx11/lehre/users/a1303583/ipython/ml_flood/data/glofas/ ...\n",
      "extracting region: dis_19890201_19890301.nc to dis_19890201_19890301_spatial_cut_danube.nc in /home/srvx11/lehre/users/a1303583/ipython/ml_flood/data/glofas/ ...\n",
      "extracting region: dis_19900201_19900301.nc to dis_19900201_19900301_spatial_cut_danube.nc in /home/srvx11/lehre/users/a1303583/ipython/ml_flood/data/glofas/ ...\n",
      "extracting region: dis_19910201_19910301.nc to dis_19910201_19910301_spatial_cut_danube.nc in /home/srvx11/lehre/users/a1303583/ipython/ml_flood/data/glofas/ ...\n",
      "extracting region: dis_19920201_19920301.nc to dis_19920201_19920301_spatial_cut_danube.nc in /home/srvx11/lehre/users/a1303583/ipython/ml_flood/data/glofas/ ...\n",
      "extracting region: dis_19930201_19930301.nc to dis_19930201_19930301_spatial_cut_danube.nc in /home/srvx11/lehre/users/a1303583/ipython/ml_flood/data/glofas/ ...\n",
      "extracting region: dis_19940201_19940301.nc to dis_19940201_19940301_spatial_cut_danube.nc in /home/srvx11/lehre/users/a1303583/ipython/ml_flood/data/glofas/ ...\n",
      "extracting region: dis_19950201_19950301.nc to dis_19950201_19950301_spatial_cut_danube.nc in /home/srvx11/lehre/users/a1303583/ipython/ml_flood/data/glofas/ ...\n",
      "extracting region: dis_19960201_19960301.nc to dis_19960201_19960301_spatial_cut_danube.nc in /home/srvx11/lehre/users/a1303583/ipython/ml_flood/data/glofas/ ...\n",
      "extracting region: dis_19970201_19970301.nc to dis_19970201_19970301_spatial_cut_danube.nc in /home/srvx11/lehre/users/a1303583/ipython/ml_flood/data/glofas/ ...\n",
      "extracting region: dis_19980201_19980301.nc to dis_19980201_19980301_spatial_cut_danube.nc in /home/srvx11/lehre/users/a1303583/ipython/ml_flood/data/glofas/ ...\n",
      "extracting region: dis_19990201_19990301.nc to dis_19990201_19990301_spatial_cut_danube.nc in /home/srvx11/lehre/users/a1303583/ipython/ml_flood/data/glofas/ ...\n",
      "extracting region: dis_20000201_20000301.nc to dis_20000201_20000301_spatial_cut_danube.nc in /home/srvx11/lehre/users/a1303583/ipython/ml_flood/data/glofas/ ...\n",
      "extracting region: dis_20010201_20010301.nc to dis_20010201_20010301_spatial_cut_danube.nc in /home/srvx11/lehre/users/a1303583/ipython/ml_flood/data/glofas/ ...\n",
      "extracting region: dis_20020201_20020301.nc to dis_20020201_20020301_spatial_cut_danube.nc in /home/srvx11/lehre/users/a1303583/ipython/ml_flood/data/glofas/ ...\n",
      "extracting region: dis_19810301_19810401.nc to dis_19810301_19810401_spatial_cut_danube.nc in /home/srvx11/lehre/users/a1303583/ipython/ml_flood/data/glofas/ ...\n",
      "extracting region: dis_19820301_19820401.nc to dis_19820301_19820401_spatial_cut_danube.nc in /home/srvx11/lehre/users/a1303583/ipython/ml_flood/data/glofas/ ...\n",
      "extracting region: dis_19830301_19830401.nc to dis_19830301_19830401_spatial_cut_danube.nc in /home/srvx11/lehre/users/a1303583/ipython/ml_flood/data/glofas/ ...\n",
      "extracting region: dis_19840301_19840401.nc to dis_19840301_19840401_spatial_cut_danube.nc in /home/srvx11/lehre/users/a1303583/ipython/ml_flood/data/glofas/ ...\n",
      "extracting region: dis_19850301_19850401.nc to dis_19850301_19850401_spatial_cut_danube.nc in /home/srvx11/lehre/users/a1303583/ipython/ml_flood/data/glofas/ ...\n",
      "extracting region: dis_19860301_19860401.nc to dis_19860301_19860401_spatial_cut_danube.nc in /home/srvx11/lehre/users/a1303583/ipython/ml_flood/data/glofas/ ...\n",
      "extracting region: dis_19870301_19870401.nc to dis_19870301_19870401_spatial_cut_danube.nc in /home/srvx11/lehre/users/a1303583/ipython/ml_flood/data/glofas/ ...\n"
     ]
    },
    {
     "name": "stdout",
     "output_type": "stream",
     "text": [
      "extracting region: dis_19880301_19880401.nc to dis_19880301_19880401_spatial_cut_danube.nc in /home/srvx11/lehre/users/a1303583/ipython/ml_flood/data/glofas/ ...\n",
      "extracting region: dis_19890301_19890401.nc to dis_19890301_19890401_spatial_cut_danube.nc in /home/srvx11/lehre/users/a1303583/ipython/ml_flood/data/glofas/ ...\n",
      "extracting region: dis_19900301_19900401.nc to dis_19900301_19900401_spatial_cut_danube.nc in /home/srvx11/lehre/users/a1303583/ipython/ml_flood/data/glofas/ ...\n",
      "extracting region: dis_19910301_19910401.nc to dis_19910301_19910401_spatial_cut_danube.nc in /home/srvx11/lehre/users/a1303583/ipython/ml_flood/data/glofas/ ...\n",
      "extracting region: dis_19920301_19920401.nc to dis_19920301_19920401_spatial_cut_danube.nc in /home/srvx11/lehre/users/a1303583/ipython/ml_flood/data/glofas/ ...\n",
      "extracting region: dis_19930301_19930401.nc to dis_19930301_19930401_spatial_cut_danube.nc in /home/srvx11/lehre/users/a1303583/ipython/ml_flood/data/glofas/ ...\n",
      "extracting region: dis_19940301_19940401.nc to dis_19940301_19940401_spatial_cut_danube.nc in /home/srvx11/lehre/users/a1303583/ipython/ml_flood/data/glofas/ ...\n",
      "extracting region: dis_19950301_19950401.nc to dis_19950301_19950401_spatial_cut_danube.nc in /home/srvx11/lehre/users/a1303583/ipython/ml_flood/data/glofas/ ...\n",
      "extracting region: dis_19960301_19960401.nc to dis_19960301_19960401_spatial_cut_danube.nc in /home/srvx11/lehre/users/a1303583/ipython/ml_flood/data/glofas/ ...\n",
      "extracting region: dis_19970301_19970401.nc to dis_19970301_19970401_spatial_cut_danube.nc in /home/srvx11/lehre/users/a1303583/ipython/ml_flood/data/glofas/ ...\n",
      "extracting region: dis_19980301_19980401.nc to dis_19980301_19980401_spatial_cut_danube.nc in /home/srvx11/lehre/users/a1303583/ipython/ml_flood/data/glofas/ ...\n",
      "extracting region: dis_19990301_19990401.nc to dis_19990301_19990401_spatial_cut_danube.nc in /home/srvx11/lehre/users/a1303583/ipython/ml_flood/data/glofas/ ...\n",
      "extracting region: dis_20000301_20000401.nc to dis_20000301_20000401_spatial_cut_danube.nc in /home/srvx11/lehre/users/a1303583/ipython/ml_flood/data/glofas/ ...\n",
      "extracting region: dis_20010301_20010401.nc to dis_20010301_20010401_spatial_cut_danube.nc in /home/srvx11/lehre/users/a1303583/ipython/ml_flood/data/glofas/ ...\n",
      "extracting region: dis_20020301_20020401.nc to dis_20020301_20020401_spatial_cut_danube.nc in /home/srvx11/lehre/users/a1303583/ipython/ml_flood/data/glofas/ ...\n",
      "extracting region: dis_19810401_19810501.nc to dis_19810401_19810501_spatial_cut_danube.nc in /home/srvx11/lehre/users/a1303583/ipython/ml_flood/data/glofas/ ...\n",
      "extracting region: dis_19820401_19820501.nc to dis_19820401_19820501_spatial_cut_danube.nc in /home/srvx11/lehre/users/a1303583/ipython/ml_flood/data/glofas/ ...\n",
      "extracting region: dis_19830401_19830501.nc to dis_19830401_19830501_spatial_cut_danube.nc in /home/srvx11/lehre/users/a1303583/ipython/ml_flood/data/glofas/ ...\n",
      "extracting region: dis_19840401_19840501.nc to dis_19840401_19840501_spatial_cut_danube.nc in /home/srvx11/lehre/users/a1303583/ipython/ml_flood/data/glofas/ ...\n",
      "extracting region: dis_19850401_19850501.nc to dis_19850401_19850501_spatial_cut_danube.nc in /home/srvx11/lehre/users/a1303583/ipython/ml_flood/data/glofas/ ...\n",
      "extracting region: dis_19860401_19860501.nc to dis_19860401_19860501_spatial_cut_danube.nc in /home/srvx11/lehre/users/a1303583/ipython/ml_flood/data/glofas/ ...\n",
      "extracting region: dis_19870401_19870501.nc to dis_19870401_19870501_spatial_cut_danube.nc in /home/srvx11/lehre/users/a1303583/ipython/ml_flood/data/glofas/ ...\n",
      "extracting region: dis_19880401_19880501.nc to dis_19880401_19880501_spatial_cut_danube.nc in /home/srvx11/lehre/users/a1303583/ipython/ml_flood/data/glofas/ ...\n",
      "extracting region: dis_19890401_19890501.nc to dis_19890401_19890501_spatial_cut_danube.nc in /home/srvx11/lehre/users/a1303583/ipython/ml_flood/data/glofas/ ...\n",
      "extracting region: dis_19900401_19900501.nc to dis_19900401_19900501_spatial_cut_danube.nc in /home/srvx11/lehre/users/a1303583/ipython/ml_flood/data/glofas/ ...\n",
      "extracting region: dis_19910401_19910501.nc to dis_19910401_19910501_spatial_cut_danube.nc in /home/srvx11/lehre/users/a1303583/ipython/ml_flood/data/glofas/ ...\n",
      "extracting region: dis_19920401_19920501.nc to dis_19920401_19920501_spatial_cut_danube.nc in /home/srvx11/lehre/users/a1303583/ipython/ml_flood/data/glofas/ ...\n",
      "extracting region: dis_19930401_19930501.nc to dis_19930401_19930501_spatial_cut_danube.nc in /home/srvx11/lehre/users/a1303583/ipython/ml_flood/data/glofas/ ...\n",
      "extracting region: dis_19940401_19940501.nc to dis_19940401_19940501_spatial_cut_danube.nc in /home/srvx11/lehre/users/a1303583/ipython/ml_flood/data/glofas/ ...\n",
      "extracting region: dis_19950401_19950501.nc to dis_19950401_19950501_spatial_cut_danube.nc in /home/srvx11/lehre/users/a1303583/ipython/ml_flood/data/glofas/ ...\n",
      "extracting region: dis_19960401_19960501.nc to dis_19960401_19960501_spatial_cut_danube.nc in /home/srvx11/lehre/users/a1303583/ipython/ml_flood/data/glofas/ ...\n",
      "extracting region: dis_19970401_19970501.nc to dis_19970401_19970501_spatial_cut_danube.nc in /home/srvx11/lehre/users/a1303583/ipython/ml_flood/data/glofas/ ...\n",
      "extracting region: dis_19980401_19980501.nc to dis_19980401_19980501_spatial_cut_danube.nc in /home/srvx11/lehre/users/a1303583/ipython/ml_flood/data/glofas/ ...\n",
      "extracting region: dis_19990401_19990501.nc to dis_19990401_19990501_spatial_cut_danube.nc in /home/srvx11/lehre/users/a1303583/ipython/ml_flood/data/glofas/ ...\n",
      "extracting region: dis_20000401_20000501.nc to dis_20000401_20000501_spatial_cut_danube.nc in /home/srvx11/lehre/users/a1303583/ipython/ml_flood/data/glofas/ ...\n",
      "extracting region: dis_20010401_20010501.nc to dis_20010401_20010501_spatial_cut_danube.nc in /home/srvx11/lehre/users/a1303583/ipython/ml_flood/data/glofas/ ...\n",
      "extracting region: dis_20020401_20020501.nc to dis_20020401_20020501_spatial_cut_danube.nc in /home/srvx11/lehre/users/a1303583/ipython/ml_flood/data/glofas/ ...\n",
      "extracting region: dis_19810501_19810601.nc to dis_19810501_19810601_spatial_cut_danube.nc in /home/srvx11/lehre/users/a1303583/ipython/ml_flood/data/glofas/ ...\n",
      "extracting region: dis_19820501_19820601.nc to dis_19820501_19820601_spatial_cut_danube.nc in /home/srvx11/lehre/users/a1303583/ipython/ml_flood/data/glofas/ ...\n",
      "extracting region: dis_19830501_19830601.nc to dis_19830501_19830601_spatial_cut_danube.nc in /home/srvx11/lehre/users/a1303583/ipython/ml_flood/data/glofas/ ...\n",
      "extracting region: dis_19840501_19840601.nc to dis_19840501_19840601_spatial_cut_danube.nc in /home/srvx11/lehre/users/a1303583/ipython/ml_flood/data/glofas/ ...\n",
      "extracting region: dis_19850501_19850601.nc to dis_19850501_19850601_spatial_cut_danube.nc in /home/srvx11/lehre/users/a1303583/ipython/ml_flood/data/glofas/ ...\n",
      "extracting region: dis_19860501_19860601.nc to dis_19860501_19860601_spatial_cut_danube.nc in /home/srvx11/lehre/users/a1303583/ipython/ml_flood/data/glofas/ ...\n",
      "extracting region: dis_19870501_19870601.nc to dis_19870501_19870601_spatial_cut_danube.nc in /home/srvx11/lehre/users/a1303583/ipython/ml_flood/data/glofas/ ...\n",
      "extracting region: dis_19880501_19880601.nc to dis_19880501_19880601_spatial_cut_danube.nc in /home/srvx11/lehre/users/a1303583/ipython/ml_flood/data/glofas/ ...\n",
      "extracting region: dis_19890501_19890601.nc to dis_19890501_19890601_spatial_cut_danube.nc in /home/srvx11/lehre/users/a1303583/ipython/ml_flood/data/glofas/ ...\n",
      "extracting region: dis_19900501_19900601.nc to dis_19900501_19900601_spatial_cut_danube.nc in /home/srvx11/lehre/users/a1303583/ipython/ml_flood/data/glofas/ ...\n",
      "extracting region: dis_19910501_19910601.nc to dis_19910501_19910601_spatial_cut_danube.nc in /home/srvx11/lehre/users/a1303583/ipython/ml_flood/data/glofas/ ...\n",
      "extracting region: dis_19920501_19920601.nc to dis_19920501_19920601_spatial_cut_danube.nc in /home/srvx11/lehre/users/a1303583/ipython/ml_flood/data/glofas/ ...\n",
      "extracting region: dis_19930501_19930601.nc to dis_19930501_19930601_spatial_cut_danube.nc in /home/srvx11/lehre/users/a1303583/ipython/ml_flood/data/glofas/ ...\n",
      "extracting region: dis_19940501_19940601.nc to dis_19940501_19940601_spatial_cut_danube.nc in /home/srvx11/lehre/users/a1303583/ipython/ml_flood/data/glofas/ ...\n"
     ]
    },
    {
     "name": "stdout",
     "output_type": "stream",
     "text": [
      "extracting region: dis_19950501_19950601.nc to dis_19950501_19950601_spatial_cut_danube.nc in /home/srvx11/lehre/users/a1303583/ipython/ml_flood/data/glofas/ ...\n",
      "extracting region: dis_19960501_19960601.nc to dis_19960501_19960601_spatial_cut_danube.nc in /home/srvx11/lehre/users/a1303583/ipython/ml_flood/data/glofas/ ...\n",
      "extracting region: dis_19970501_19970601.nc to dis_19970501_19970601_spatial_cut_danube.nc in /home/srvx11/lehre/users/a1303583/ipython/ml_flood/data/glofas/ ...\n",
      "extracting region: dis_19980501_19980601.nc to dis_19980501_19980601_spatial_cut_danube.nc in /home/srvx11/lehre/users/a1303583/ipython/ml_flood/data/glofas/ ...\n",
      "extracting region: dis_19990501_19990601.nc to dis_19990501_19990601_spatial_cut_danube.nc in /home/srvx11/lehre/users/a1303583/ipython/ml_flood/data/glofas/ ...\n",
      "extracting region: dis_20000501_20000601.nc to dis_20000501_20000601_spatial_cut_danube.nc in /home/srvx11/lehre/users/a1303583/ipython/ml_flood/data/glofas/ ...\n",
      "extracting region: dis_20010501_20010601.nc to dis_20010501_20010601_spatial_cut_danube.nc in /home/srvx11/lehre/users/a1303583/ipython/ml_flood/data/glofas/ ...\n",
      "extracting region: dis_20020501_20020601.nc to dis_20020501_20020601_spatial_cut_danube.nc in /home/srvx11/lehre/users/a1303583/ipython/ml_flood/data/glofas/ ...\n",
      "extracting region: dis_19810601_19810701.nc to dis_19810601_19810701_spatial_cut_danube.nc in /home/srvx11/lehre/users/a1303583/ipython/ml_flood/data/glofas/ ...\n",
      "extracting region: dis_19820601_19820701.nc to dis_19820601_19820701_spatial_cut_danube.nc in /home/srvx11/lehre/users/a1303583/ipython/ml_flood/data/glofas/ ...\n",
      "extracting region: dis_19830601_19830701.nc to dis_19830601_19830701_spatial_cut_danube.nc in /home/srvx11/lehre/users/a1303583/ipython/ml_flood/data/glofas/ ...\n",
      "extracting region: dis_19840601_19840701.nc to dis_19840601_19840701_spatial_cut_danube.nc in /home/srvx11/lehre/users/a1303583/ipython/ml_flood/data/glofas/ ...\n",
      "extracting region: dis_19850601_19850701.nc to dis_19850601_19850701_spatial_cut_danube.nc in /home/srvx11/lehre/users/a1303583/ipython/ml_flood/data/glofas/ ...\n",
      "extracting region: dis_19860601_19860701.nc to dis_19860601_19860701_spatial_cut_danube.nc in /home/srvx11/lehre/users/a1303583/ipython/ml_flood/data/glofas/ ...\n",
      "extracting region: dis_19870601_19870701.nc to dis_19870601_19870701_spatial_cut_danube.nc in /home/srvx11/lehre/users/a1303583/ipython/ml_flood/data/glofas/ ...\n",
      "extracting region: dis_19880601_19880701.nc to dis_19880601_19880701_spatial_cut_danube.nc in /home/srvx11/lehre/users/a1303583/ipython/ml_flood/data/glofas/ ...\n",
      "extracting region: dis_19890601_19890701.nc to dis_19890601_19890701_spatial_cut_danube.nc in /home/srvx11/lehre/users/a1303583/ipython/ml_flood/data/glofas/ ...\n",
      "extracting region: dis_19900601_19900701.nc to dis_19900601_19900701_spatial_cut_danube.nc in /home/srvx11/lehre/users/a1303583/ipython/ml_flood/data/glofas/ ...\n",
      "extracting region: dis_19910601_19910701.nc to dis_19910601_19910701_spatial_cut_danube.nc in /home/srvx11/lehre/users/a1303583/ipython/ml_flood/data/glofas/ ...\n",
      "extracting region: dis_19920601_19920701.nc to dis_19920601_19920701_spatial_cut_danube.nc in /home/srvx11/lehre/users/a1303583/ipython/ml_flood/data/glofas/ ...\n",
      "extracting region: dis_19930601_19930701.nc to dis_19930601_19930701_spatial_cut_danube.nc in /home/srvx11/lehre/users/a1303583/ipython/ml_flood/data/glofas/ ...\n",
      "extracting region: dis_19940601_19940701.nc to dis_19940601_19940701_spatial_cut_danube.nc in /home/srvx11/lehre/users/a1303583/ipython/ml_flood/data/glofas/ ...\n",
      "extracting region: dis_19950601_19950701.nc to dis_19950601_19950701_spatial_cut_danube.nc in /home/srvx11/lehre/users/a1303583/ipython/ml_flood/data/glofas/ ...\n",
      "extracting region: dis_19960601_19960701.nc to dis_19960601_19960701_spatial_cut_danube.nc in /home/srvx11/lehre/users/a1303583/ipython/ml_flood/data/glofas/ ...\n",
      "extracting region: dis_19970601_19970701.nc to dis_19970601_19970701_spatial_cut_danube.nc in /home/srvx11/lehre/users/a1303583/ipython/ml_flood/data/glofas/ ...\n",
      "extracting region: dis_19980601_19980701.nc to dis_19980601_19980701_spatial_cut_danube.nc in /home/srvx11/lehre/users/a1303583/ipython/ml_flood/data/glofas/ ...\n",
      "extracting region: dis_19990601_19990701.nc to dis_19990601_19990701_spatial_cut_danube.nc in /home/srvx11/lehre/users/a1303583/ipython/ml_flood/data/glofas/ ...\n",
      "extracting region: dis_20000601_20000701.nc to dis_20000601_20000701_spatial_cut_danube.nc in /home/srvx11/lehre/users/a1303583/ipython/ml_flood/data/glofas/ ...\n",
      "extracting region: dis_20010601_20010701.nc to dis_20010601_20010701_spatial_cut_danube.nc in /home/srvx11/lehre/users/a1303583/ipython/ml_flood/data/glofas/ ...\n",
      "extracting region: dis_20020601_20020701.nc to dis_20020601_20020701_spatial_cut_danube.nc in /home/srvx11/lehre/users/a1303583/ipython/ml_flood/data/glofas/ ...\n",
      "extracting region: dis_19810701_19810801.nc to dis_19810701_19810801_spatial_cut_danube.nc in /home/srvx11/lehre/users/a1303583/ipython/ml_flood/data/glofas/ ...\n",
      "extracting region: dis_19820701_19820801.nc to dis_19820701_19820801_spatial_cut_danube.nc in /home/srvx11/lehre/users/a1303583/ipython/ml_flood/data/glofas/ ...\n",
      "extracting region: dis_19830701_19830801.nc to dis_19830701_19830801_spatial_cut_danube.nc in /home/srvx11/lehre/users/a1303583/ipython/ml_flood/data/glofas/ ...\n",
      "extracting region: dis_19840701_19840801.nc to dis_19840701_19840801_spatial_cut_danube.nc in /home/srvx11/lehre/users/a1303583/ipython/ml_flood/data/glofas/ ...\n",
      "extracting region: dis_19850701_19850801.nc to dis_19850701_19850801_spatial_cut_danube.nc in /home/srvx11/lehre/users/a1303583/ipython/ml_flood/data/glofas/ ...\n",
      "extracting region: dis_19860701_19860801.nc to dis_19860701_19860801_spatial_cut_danube.nc in /home/srvx11/lehre/users/a1303583/ipython/ml_flood/data/glofas/ ...\n",
      "extracting region: dis_19870701_19870801.nc to dis_19870701_19870801_spatial_cut_danube.nc in /home/srvx11/lehre/users/a1303583/ipython/ml_flood/data/glofas/ ...\n",
      "extracting region: dis_19880701_19880801.nc to dis_19880701_19880801_spatial_cut_danube.nc in /home/srvx11/lehre/users/a1303583/ipython/ml_flood/data/glofas/ ...\n",
      "extracting region: dis_19890701_19890801.nc to dis_19890701_19890801_spatial_cut_danube.nc in /home/srvx11/lehre/users/a1303583/ipython/ml_flood/data/glofas/ ...\n",
      "extracting region: dis_19900701_19900801.nc to dis_19900701_19900801_spatial_cut_danube.nc in /home/srvx11/lehre/users/a1303583/ipython/ml_flood/data/glofas/ ...\n",
      "extracting region: dis_19910701_19910801.nc to dis_19910701_19910801_spatial_cut_danube.nc in /home/srvx11/lehre/users/a1303583/ipython/ml_flood/data/glofas/ ...\n",
      "extracting region: dis_19920701_19920801.nc to dis_19920701_19920801_spatial_cut_danube.nc in /home/srvx11/lehre/users/a1303583/ipython/ml_flood/data/glofas/ ...\n",
      "extracting region: dis_19930701_19930801.nc to dis_19930701_19930801_spatial_cut_danube.nc in /home/srvx11/lehre/users/a1303583/ipython/ml_flood/data/glofas/ ...\n",
      "extracting region: dis_19940701_19940801.nc to dis_19940701_19940801_spatial_cut_danube.nc in /home/srvx11/lehre/users/a1303583/ipython/ml_flood/data/glofas/ ...\n",
      "extracting region: dis_19950701_19950801.nc to dis_19950701_19950801_spatial_cut_danube.nc in /home/srvx11/lehre/users/a1303583/ipython/ml_flood/data/glofas/ ...\n",
      "extracting region: dis_19960701_19960801.nc to dis_19960701_19960801_spatial_cut_danube.nc in /home/srvx11/lehre/users/a1303583/ipython/ml_flood/data/glofas/ ...\n",
      "extracting region: dis_19970701_19970801.nc to dis_19970701_19970801_spatial_cut_danube.nc in /home/srvx11/lehre/users/a1303583/ipython/ml_flood/data/glofas/ ...\n",
      "extracting region: dis_19980701_19980801.nc to dis_19980701_19980801_spatial_cut_danube.nc in /home/srvx11/lehre/users/a1303583/ipython/ml_flood/data/glofas/ ...\n",
      "extracting region: dis_19990701_19990801.nc to dis_19990701_19990801_spatial_cut_danube.nc in /home/srvx11/lehre/users/a1303583/ipython/ml_flood/data/glofas/ ...\n",
      "extracting region: dis_20000701_20000801.nc to dis_20000701_20000801_spatial_cut_danube.nc in /home/srvx11/lehre/users/a1303583/ipython/ml_flood/data/glofas/ ...\n",
      "extracting region: dis_20010701_20010801.nc to dis_20010701_20010801_spatial_cut_danube.nc in /home/srvx11/lehre/users/a1303583/ipython/ml_flood/data/glofas/ ...\n"
     ]
    },
    {
     "name": "stdout",
     "output_type": "stream",
     "text": [
      "extracting region: dis_20020701_20020801.nc to dis_20020701_20020801_spatial_cut_danube.nc in /home/srvx11/lehre/users/a1303583/ipython/ml_flood/data/glofas/ ...\n",
      "extracting region: dis_19810801_19810901.nc to dis_19810801_19810901_spatial_cut_danube.nc in /home/srvx11/lehre/users/a1303583/ipython/ml_flood/data/glofas/ ...\n",
      "extracting region: dis_19820801_19820901.nc to dis_19820801_19820901_spatial_cut_danube.nc in /home/srvx11/lehre/users/a1303583/ipython/ml_flood/data/glofas/ ...\n",
      "extracting region: dis_19830801_19830901.nc to dis_19830801_19830901_spatial_cut_danube.nc in /home/srvx11/lehre/users/a1303583/ipython/ml_flood/data/glofas/ ...\n",
      "extracting region: dis_19840801_19840901.nc to dis_19840801_19840901_spatial_cut_danube.nc in /home/srvx11/lehre/users/a1303583/ipython/ml_flood/data/glofas/ ...\n",
      "extracting region: dis_19850801_19850901.nc to dis_19850801_19850901_spatial_cut_danube.nc in /home/srvx11/lehre/users/a1303583/ipython/ml_flood/data/glofas/ ...\n",
      "extracting region: dis_19860801_19860901.nc to dis_19860801_19860901_spatial_cut_danube.nc in /home/srvx11/lehre/users/a1303583/ipython/ml_flood/data/glofas/ ...\n",
      "extracting region: dis_19870801_19870901.nc to dis_19870801_19870901_spatial_cut_danube.nc in /home/srvx11/lehre/users/a1303583/ipython/ml_flood/data/glofas/ ...\n",
      "extracting region: dis_19880801_19880901.nc to dis_19880801_19880901_spatial_cut_danube.nc in /home/srvx11/lehre/users/a1303583/ipython/ml_flood/data/glofas/ ...\n",
      "extracting region: dis_19890801_19890901.nc to dis_19890801_19890901_spatial_cut_danube.nc in /home/srvx11/lehre/users/a1303583/ipython/ml_flood/data/glofas/ ...\n",
      "extracting region: dis_19900801_19900901.nc to dis_19900801_19900901_spatial_cut_danube.nc in /home/srvx11/lehre/users/a1303583/ipython/ml_flood/data/glofas/ ...\n",
      "extracting region: dis_19910801_19910901.nc to dis_19910801_19910901_spatial_cut_danube.nc in /home/srvx11/lehre/users/a1303583/ipython/ml_flood/data/glofas/ ...\n",
      "extracting region: dis_19920801_19920901.nc to dis_19920801_19920901_spatial_cut_danube.nc in /home/srvx11/lehre/users/a1303583/ipython/ml_flood/data/glofas/ ...\n",
      "extracting region: dis_19930801_19930901.nc to dis_19930801_19930901_spatial_cut_danube.nc in /home/srvx11/lehre/users/a1303583/ipython/ml_flood/data/glofas/ ...\n",
      "extracting region: dis_19940801_19940901.nc to dis_19940801_19940901_spatial_cut_danube.nc in /home/srvx11/lehre/users/a1303583/ipython/ml_flood/data/glofas/ ...\n",
      "extracting region: dis_19950801_19950901.nc to dis_19950801_19950901_spatial_cut_danube.nc in /home/srvx11/lehre/users/a1303583/ipython/ml_flood/data/glofas/ ...\n",
      "extracting region: dis_19960801_19960901.nc to dis_19960801_19960901_spatial_cut_danube.nc in /home/srvx11/lehre/users/a1303583/ipython/ml_flood/data/glofas/ ...\n",
      "extracting region: dis_19970801_19970901.nc to dis_19970801_19970901_spatial_cut_danube.nc in /home/srvx11/lehre/users/a1303583/ipython/ml_flood/data/glofas/ ...\n",
      "extracting region: dis_19980801_19980901.nc to dis_19980801_19980901_spatial_cut_danube.nc in /home/srvx11/lehre/users/a1303583/ipython/ml_flood/data/glofas/ ...\n",
      "extracting region: dis_19990801_19990901.nc to dis_19990801_19990901_spatial_cut_danube.nc in /home/srvx11/lehre/users/a1303583/ipython/ml_flood/data/glofas/ ...\n",
      "extracting region: dis_20000801_20000901.nc to dis_20000801_20000901_spatial_cut_danube.nc in /home/srvx11/lehre/users/a1303583/ipython/ml_flood/data/glofas/ ...\n",
      "extracting region: dis_20010801_20010901.nc to dis_20010801_20010901_spatial_cut_danube.nc in /home/srvx11/lehre/users/a1303583/ipython/ml_flood/data/glofas/ ...\n",
      "extracting region: dis_20020801_20020901.nc to dis_20020801_20020901_spatial_cut_danube.nc in /home/srvx11/lehre/users/a1303583/ipython/ml_flood/data/glofas/ ...\n",
      "extracting region: dis_19810901_19811001.nc to dis_19810901_19811001_spatial_cut_danube.nc in /home/srvx11/lehre/users/a1303583/ipython/ml_flood/data/glofas/ ...\n",
      "extracting region: dis_19820901_19821001.nc to dis_19820901_19821001_spatial_cut_danube.nc in /home/srvx11/lehre/users/a1303583/ipython/ml_flood/data/glofas/ ...\n",
      "extracting region: dis_19830901_19831001.nc to dis_19830901_19831001_spatial_cut_danube.nc in /home/srvx11/lehre/users/a1303583/ipython/ml_flood/data/glofas/ ...\n",
      "extracting region: dis_19840901_19841001.nc to dis_19840901_19841001_spatial_cut_danube.nc in /home/srvx11/lehre/users/a1303583/ipython/ml_flood/data/glofas/ ...\n",
      "extracting region: dis_19850901_19851001.nc to dis_19850901_19851001_spatial_cut_danube.nc in /home/srvx11/lehre/users/a1303583/ipython/ml_flood/data/glofas/ ...\n",
      "extracting region: dis_19860901_19861001.nc to dis_19860901_19861001_spatial_cut_danube.nc in /home/srvx11/lehre/users/a1303583/ipython/ml_flood/data/glofas/ ...\n",
      "extracting region: dis_19870901_19871001.nc to dis_19870901_19871001_spatial_cut_danube.nc in /home/srvx11/lehre/users/a1303583/ipython/ml_flood/data/glofas/ ...\n",
      "extracting region: dis_19880901_19881001.nc to dis_19880901_19881001_spatial_cut_danube.nc in /home/srvx11/lehre/users/a1303583/ipython/ml_flood/data/glofas/ ...\n",
      "extracting region: dis_19890901_19891001.nc to dis_19890901_19891001_spatial_cut_danube.nc in /home/srvx11/lehre/users/a1303583/ipython/ml_flood/data/glofas/ ...\n",
      "extracting region: dis_19900901_19901001.nc to dis_19900901_19901001_spatial_cut_danube.nc in /home/srvx11/lehre/users/a1303583/ipython/ml_flood/data/glofas/ ...\n",
      "extracting region: dis_19910901_19911001.nc to dis_19910901_19911001_spatial_cut_danube.nc in /home/srvx11/lehre/users/a1303583/ipython/ml_flood/data/glofas/ ...\n",
      "extracting region: dis_19920901_19921001.nc to dis_19920901_19921001_spatial_cut_danube.nc in /home/srvx11/lehre/users/a1303583/ipython/ml_flood/data/glofas/ ...\n",
      "extracting region: dis_19930901_19931001.nc to dis_19930901_19931001_spatial_cut_danube.nc in /home/srvx11/lehre/users/a1303583/ipython/ml_flood/data/glofas/ ...\n",
      "extracting region: dis_19940901_19941001.nc to dis_19940901_19941001_spatial_cut_danube.nc in /home/srvx11/lehre/users/a1303583/ipython/ml_flood/data/glofas/ ...\n",
      "extracting region: dis_19950901_19951001.nc to dis_19950901_19951001_spatial_cut_danube.nc in /home/srvx11/lehre/users/a1303583/ipython/ml_flood/data/glofas/ ...\n",
      "extracting region: dis_19960901_19961001.nc to dis_19960901_19961001_spatial_cut_danube.nc in /home/srvx11/lehre/users/a1303583/ipython/ml_flood/data/glofas/ ...\n",
      "extracting region: dis_19970901_19971001.nc to dis_19970901_19971001_spatial_cut_danube.nc in /home/srvx11/lehre/users/a1303583/ipython/ml_flood/data/glofas/ ...\n",
      "extracting region: dis_19980901_19981001.nc to dis_19980901_19981001_spatial_cut_danube.nc in /home/srvx11/lehre/users/a1303583/ipython/ml_flood/data/glofas/ ...\n",
      "extracting region: dis_19990901_19991001.nc to dis_19990901_19991001_spatial_cut_danube.nc in /home/srvx11/lehre/users/a1303583/ipython/ml_flood/data/glofas/ ...\n",
      "extracting region: dis_20000901_20001001.nc to dis_20000901_20001001_spatial_cut_danube.nc in /home/srvx11/lehre/users/a1303583/ipython/ml_flood/data/glofas/ ...\n",
      "extracting region: dis_20010901_20011001.nc to dis_20010901_20011001_spatial_cut_danube.nc in /home/srvx11/lehre/users/a1303583/ipython/ml_flood/data/glofas/ ...\n",
      "extracting region: dis_20020901_20021001.nc to dis_20020901_20021001_spatial_cut_danube.nc in /home/srvx11/lehre/users/a1303583/ipython/ml_flood/data/glofas/ ...\n",
      "extracting region: dis_19811001_19811101.nc to dis_19811001_19811101_spatial_cut_danube.nc in /home/srvx11/lehre/users/a1303583/ipython/ml_flood/data/glofas/ ...\n",
      "extracting region: dis_19821001_19821101.nc to dis_19821001_19821101_spatial_cut_danube.nc in /home/srvx11/lehre/users/a1303583/ipython/ml_flood/data/glofas/ ...\n",
      "extracting region: dis_19831001_19831101.nc to dis_19831001_19831101_spatial_cut_danube.nc in /home/srvx11/lehre/users/a1303583/ipython/ml_flood/data/glofas/ ...\n",
      "extracting region: dis_19841001_19841101.nc to dis_19841001_19841101_spatial_cut_danube.nc in /home/srvx11/lehre/users/a1303583/ipython/ml_flood/data/glofas/ ...\n",
      "extracting region: dis_19851001_19851101.nc to dis_19851001_19851101_spatial_cut_danube.nc in /home/srvx11/lehre/users/a1303583/ipython/ml_flood/data/glofas/ ...\n",
      "extracting region: dis_19861001_19861101.nc to dis_19861001_19861101_spatial_cut_danube.nc in /home/srvx11/lehre/users/a1303583/ipython/ml_flood/data/glofas/ ...\n"
     ]
    },
    {
     "name": "stdout",
     "output_type": "stream",
     "text": [
      "extracting region: dis_19871001_19871101.nc to dis_19871001_19871101_spatial_cut_danube.nc in /home/srvx11/lehre/users/a1303583/ipython/ml_flood/data/glofas/ ...\n",
      "extracting region: dis_19881001_19881101.nc to dis_19881001_19881101_spatial_cut_danube.nc in /home/srvx11/lehre/users/a1303583/ipython/ml_flood/data/glofas/ ...\n",
      "extracting region: dis_19891001_19891101.nc to dis_19891001_19891101_spatial_cut_danube.nc in /home/srvx11/lehre/users/a1303583/ipython/ml_flood/data/glofas/ ...\n",
      "extracting region: dis_19901001_19901101.nc to dis_19901001_19901101_spatial_cut_danube.nc in /home/srvx11/lehre/users/a1303583/ipython/ml_flood/data/glofas/ ...\n",
      "extracting region: dis_19911001_19911101.nc to dis_19911001_19911101_spatial_cut_danube.nc in /home/srvx11/lehre/users/a1303583/ipython/ml_flood/data/glofas/ ...\n",
      "extracting region: dis_19921001_19921101.nc to dis_19921001_19921101_spatial_cut_danube.nc in /home/srvx11/lehre/users/a1303583/ipython/ml_flood/data/glofas/ ...\n",
      "extracting region: dis_19931001_19931101.nc to dis_19931001_19931101_spatial_cut_danube.nc in /home/srvx11/lehre/users/a1303583/ipython/ml_flood/data/glofas/ ...\n",
      "extracting region: dis_19941001_19941101.nc to dis_19941001_19941101_spatial_cut_danube.nc in /home/srvx11/lehre/users/a1303583/ipython/ml_flood/data/glofas/ ...\n",
      "extracting region: dis_19951001_19951101.nc to dis_19951001_19951101_spatial_cut_danube.nc in /home/srvx11/lehre/users/a1303583/ipython/ml_flood/data/glofas/ ...\n",
      "extracting region: dis_19961001_19961101.nc to dis_19961001_19961101_spatial_cut_danube.nc in /home/srvx11/lehre/users/a1303583/ipython/ml_flood/data/glofas/ ...\n",
      "extracting region: dis_19971001_19971101.nc to dis_19971001_19971101_spatial_cut_danube.nc in /home/srvx11/lehre/users/a1303583/ipython/ml_flood/data/glofas/ ...\n",
      "extracting region: dis_19981001_19981101.nc to dis_19981001_19981101_spatial_cut_danube.nc in /home/srvx11/lehre/users/a1303583/ipython/ml_flood/data/glofas/ ...\n",
      "extracting region: dis_19991001_19991101.nc to dis_19991001_19991101_spatial_cut_danube.nc in /home/srvx11/lehre/users/a1303583/ipython/ml_flood/data/glofas/ ...\n",
      "extracting region: dis_20001001_20001101.nc to dis_20001001_20001101_spatial_cut_danube.nc in /home/srvx11/lehre/users/a1303583/ipython/ml_flood/data/glofas/ ...\n",
      "extracting region: dis_20011001_20011101.nc to dis_20011001_20011101_spatial_cut_danube.nc in /home/srvx11/lehre/users/a1303583/ipython/ml_flood/data/glofas/ ...\n",
      "extracting region: dis_20021001_20021101.nc to dis_20021001_20021101_spatial_cut_danube.nc in /home/srvx11/lehre/users/a1303583/ipython/ml_flood/data/glofas/ ...\n",
      "extracting region: dis_19811101_19811201.nc to dis_19811101_19811201_spatial_cut_danube.nc in /home/srvx11/lehre/users/a1303583/ipython/ml_flood/data/glofas/ ...\n",
      "extracting region: dis_19821101_19821201.nc to dis_19821101_19821201_spatial_cut_danube.nc in /home/srvx11/lehre/users/a1303583/ipython/ml_flood/data/glofas/ ...\n",
      "extracting region: dis_19831101_19831201.nc to dis_19831101_19831201_spatial_cut_danube.nc in /home/srvx11/lehre/users/a1303583/ipython/ml_flood/data/glofas/ ...\n",
      "extracting region: dis_19841101_19841201.nc to dis_19841101_19841201_spatial_cut_danube.nc in /home/srvx11/lehre/users/a1303583/ipython/ml_flood/data/glofas/ ...\n",
      "extracting region: dis_19851101_19851201.nc to dis_19851101_19851201_spatial_cut_danube.nc in /home/srvx11/lehre/users/a1303583/ipython/ml_flood/data/glofas/ ...\n",
      "extracting region: dis_19861101_19861201.nc to dis_19861101_19861201_spatial_cut_danube.nc in /home/srvx11/lehre/users/a1303583/ipython/ml_flood/data/glofas/ ...\n",
      "extracting region: dis_19871101_19871201.nc to dis_19871101_19871201_spatial_cut_danube.nc in /home/srvx11/lehre/users/a1303583/ipython/ml_flood/data/glofas/ ...\n",
      "extracting region: dis_19881101_19881201.nc to dis_19881101_19881201_spatial_cut_danube.nc in /home/srvx11/lehre/users/a1303583/ipython/ml_flood/data/glofas/ ...\n",
      "extracting region: dis_19891101_19891201.nc to dis_19891101_19891201_spatial_cut_danube.nc in /home/srvx11/lehre/users/a1303583/ipython/ml_flood/data/glofas/ ...\n",
      "extracting region: dis_19901101_19901201.nc to dis_19901101_19901201_spatial_cut_danube.nc in /home/srvx11/lehre/users/a1303583/ipython/ml_flood/data/glofas/ ...\n",
      "extracting region: dis_19911101_19911201.nc to dis_19911101_19911201_spatial_cut_danube.nc in /home/srvx11/lehre/users/a1303583/ipython/ml_flood/data/glofas/ ...\n",
      "extracting region: dis_19921101_19921201.nc to dis_19921101_19921201_spatial_cut_danube.nc in /home/srvx11/lehre/users/a1303583/ipython/ml_flood/data/glofas/ ...\n",
      "extracting region: dis_19931101_19931201.nc to dis_19931101_19931201_spatial_cut_danube.nc in /home/srvx11/lehre/users/a1303583/ipython/ml_flood/data/glofas/ ...\n",
      "extracting region: dis_19941101_19941201.nc to dis_19941101_19941201_spatial_cut_danube.nc in /home/srvx11/lehre/users/a1303583/ipython/ml_flood/data/glofas/ ...\n",
      "extracting region: dis_19951101_19951201.nc to dis_19951101_19951201_spatial_cut_danube.nc in /home/srvx11/lehre/users/a1303583/ipython/ml_flood/data/glofas/ ...\n"
     ]
    }
   ],
   "source": [
    "from aux.utils import cdo_spatial_cut\n",
    "# define some vars\n",
    "data_path = f'{path_to_data}glofas/'\n",
    "print(data_path)\n",
    "#!ls /home/srvx11/lehre/users/a1303583/ipython/ml_flood/data/glofas/\n",
    "\n",
    "\n",
    "# extract data from tar (in terminal)\n",
    "#tar -xvf yourfile.tar\n",
    "\n",
    "# DANUBE\n",
    "# cut out spatial region (needs to be added to utils file)\n",
    "cdo_spatial_cut(path=data_path, file_includes='dis_', new_file_includes='danube', lonmin=7, lonmax=20, latmin=47, latmax=50)\n",
    "# merge into one file (already exists in utils)\n",
    "cdo_merge_time(path=data_path, file_includes='spatial_cut_danube', new_file='glofas_reanalysis_danube_1981-2002.nc')\n",
    "\n",
    "# USA\n",
    "cdo_spatial_cut(path=data_path, file_includes='dis_', new_file_includes='usa', lonmin=-125, lonmax=-70, latmin=25, latmax=50)\n",
    "cdo_merge_time(path=data_path, file_includes='spatial_cut_usa', new_file='glofas_reanalysis_usa_1981-2002.nc')\n",
    "\n",
    "# ASIA\n",
    "cdo_spatial_cut(path=data_path, file_includes='dis_', new_file_includes='asia', lonmin=35, lonmax=140, latmin=0, latmax=55)\n",
    "cdo_merge_time(path=data_path, file_includes='spatial_cut_asia', new_file='glofas_reanalysis_asia_1981-2002.nc')"
   ]
  },
  {
   "cell_type": "code",
   "execution_count": null,
   "metadata": {},
   "outputs": [],
   "source": []
  }
 ],
 "metadata": {
  "kernelspec": {
   "display_name": "Python 3",
   "language": "python",
   "name": "python3"
  },
  "language_info": {
   "codemirror_mode": {
    "name": "ipython",
    "version": 3
   },
   "file_extension": ".py",
   "mimetype": "text/x-python",
   "name": "python",
   "nbconvert_exporter": "python",
   "pygments_lexer": "ipython3",
   "version": "3.7.3"
  }
 },
 "nbformat": 4,
 "nbformat_minor": 2
}
