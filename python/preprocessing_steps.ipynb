{
 "cells": [
  {
   "cell_type": "code",
   "execution_count": 2,
   "metadata": {},
   "outputs": [],
   "source": [
    "%matplotlib inline\n",
    "import os\n",
    "import sys\n",
    "import numpy as np\n",
    "import pandas as np\n",
    "import seaborn as sb\n",
    "import xarray as xr\n",
    "import os.path as path\n",
    "from aux.ml_flood_config import path_to_data"
   ]
  },
  {
   "cell_type": "code",
   "execution_count": 4,
   "metadata": {},
   "outputs": [
    {
     "name": "stdout",
     "output_type": "stream",
     "text": [
      "/home/srvx11/lehre/users/a1303583/ipython/ml_flood/data/usa/monthly_files/\n"
     ]
    }
   ],
   "source": [
    "# define some vars\n",
    "data_path = f'{path_to_data}usa/monthly_files/'\n",
    "print(data_path)\n",
    "\n"
   ]
  },
  {
   "cell_type": "markdown",
   "metadata": {},
   "source": [
    "## rename files if necessary"
   ]
  },
  {
   "cell_type": "code",
   "execution_count": 3,
   "metadata": {},
   "outputs": [],
   "source": [
    "from aux.utils import rename_files\n",
    "\n",
    "#rename_files(path=data_path, old='day.', new='dayavg.', str_constraint='temperature')"
   ]
  },
  {
   "cell_type": "markdown",
   "metadata": {},
   "source": [
    "## convert hourly files to daily means"
   ]
  },
  {
   "cell_type": "code",
   "execution_count": 4,
   "metadata": {
    "scrolled": false
   },
   "outputs": [],
   "source": [
    "from aux.utils import cdo_daily_means\n",
    "\n",
    "#cdo_daily_means(path=data_path, file_includes='single_level')\n",
    "#cdo_daily_means(path=data_path, file_includes='850_700_500')"
   ]
  },
  {
   "cell_type": "markdown",
   "metadata": {},
   "source": [
    "## convert precipitation values to daily sums"
   ]
  },
  {
   "cell_type": "code",
   "execution_count": 5,
   "metadata": {
    "scrolled": false
   },
   "outputs": [],
   "source": [
    "from aux.utils import cdo_precip_sums\n",
    "\n",
    "#cdo_precip_sums(path=data_path, file_includes='large_scale_precipitation')"
   ]
  },
  {
   "cell_type": "markdown",
   "metadata": {},
   "source": [
    "## extract precipitation parameters from daily sums and delete them from daily averages"
   ]
  },
  {
   "cell_type": "code",
   "execution_count": 6,
   "metadata": {},
   "outputs": [],
   "source": [
    "from aux.utils import cdo_clean_precip\n",
    "\n",
    "#cdo_clean_precip(path=data_path)"
   ]
  },
  {
   "cell_type": "markdown",
   "metadata": {},
   "source": [
    "## merge files (time dim) together"
   ]
  },
  {
   "cell_type": "code",
   "execution_count": 5,
   "metadata": {},
   "outputs": [
    {
     "name": "stdout",
     "output_type": "stream",
     "text": [
      "merging time for files including \"geopotential,temperature\" into era5_z_t_q_1981-2017_dayavg.nc in /home/srvx11/lehre/users/a1303583/ipython/ml_flood/data/usa/monthly_files/ ...\n",
      "merging time for files including \"convective_precipitation\" into era5_lsp_cp_1981-2017_daysum.nc in /home/srvx11/lehre/users/a1303583/ipython/ml_flood/data/usa/monthly_files/ ...\n",
      "merging time for files including \"runoff\" into era5_ro_1981-2017_daysum.nc in /home/srvx11/lehre/users/a1303583/ipython/ml_flood/data/usa/monthly_files/ ...\n",
      "merging time for files including \"soil_water\" into era5_swvl1_swvl2_tcwv_1981-2017_dayavg.nc in /home/srvx11/lehre/users/a1303583/ipython/ml_flood/data/usa/monthly_files/ ...\n"
     ]
    }
   ],
   "source": [
    "from aux.utils import cdo_merge_time\n",
    "\n",
    "# danube\n",
    "#cdo_merge_time(path=data_path, file_includes='large_scale_precipitation', new_file='era5_lsp_1981-2017_daysum.nc')\n",
    "#cdo_merge_time(path=data_path, file_includes='convective_precipitation', new_file='era5_tp_cp_1981-2017_daysum.nc')\n",
    "#cdo_merge_time(path=data_path, file_includes='_temperature_', new_file='era5_z_t_q_1981-2017_dayavg.nc')\n",
    "#cdo_merge_time(path=data_path, file_includes='soil_water', new_file='era5_swvl1_swvl2_ro_tcwv_1981-2017_dayavg.nc')\n",
    "\n",
    "# usa\n",
    "#cdo_merge_time(path=data_path, file_includes='geopotential,temperature', new_file='era5_z_t_q_1981-2017_dayavg.nc')\n",
    "#cdo_merge_time(path=data_path, file_includes='convective_precipitation', new_file='era5_lsp_cp_1981-2017_daysum.nc')\n",
    "#cdo_merge_time(path=data_path, file_includes='runoff', new_file='era5_ro_1981-2017_daysum.nc')\n",
    "#cdo_merge_time(path=data_path, file_includes='soil_water', new_file='era5_swvl1_swvl2_tcwv_1981-2017_dayavg.nc')\n",
    "\n",
    "# asia\n",
    "cdo_merge_time(path=data_path, file_includes='geopotential,temperature', new_file='era5_z_t_q_1981-2017_dayavg.nc')\n",
    "cdo_merge_time(path=data_path, file_includes='convective_precipitation', new_file='era5_lsp_cp_1981-2017_daysum.nc')\n",
    "cdo_merge_time(path=data_path, file_includes='runoff', new_file='era5_ro_1981-2017_daysum.nc')\n",
    "cdo_merge_time(path=data_path, file_includes='soil_water', new_file='era5_swvl1_swvl2_tcwv_1981-2017_dayavg.nc')"
   ]
  },
  {
   "cell_type": "markdown",
   "metadata": {},
   "source": [
    "# GLOFAS"
   ]
  },
  {
   "cell_type": "code",
   "execution_count": 7,
   "metadata": {},
   "outputs": [
    {
     "name": "stdout",
     "output_type": "stream",
     "text": [
      "/home/srvx11/lehre/users/a1303583/ipython/ml_flood/data/glofas/\n",
      "glofas2.0_hydro_reanalisis_1986.tar  glofas2.0_hydro_reanalisis_1989.tar\r\n",
      "glofas2.0_hydro_reanalisis_1987.tar  glofas2.0_hydro_reanalisis_2000.tar\r\n",
      "glofas2.0_hydro_reanalisis_1988.tar\r\n"
     ]
    }
   ],
   "source": [
    "# define some vars\n",
    "data_path = f'{path_to_data}glofas/'\n",
    "print(data_path)\n",
    "!ls /home/srvx11/lehre/users/a1303583/ipython/ml_flood/data/glofas/\n",
    "\n",
    "\n",
    "# todo\n",
    "# extract data from tar\n",
    "# cut out spatial region (needs to be added to utils file)\n",
    "#cdo -sellonlatbox,lonmin,lonmax,latmin,latmax infile outfile\n",
    "# merge into one file (already exists in utils)\n",
    "#cdo_merge_time(path=data_path, file_includes='glofas', new_file='glofas_reanalysis_YYYYinit-YYYYend.nc')"
   ]
  },
  {
   "cell_type": "code",
   "execution_count": null,
   "metadata": {},
   "outputs": [],
   "source": []
  }
 ],
 "metadata": {
  "kernelspec": {
   "display_name": "Python 3",
   "language": "python",
   "name": "python3"
  },
  "language_info": {
   "codemirror_mode": {
    "name": "ipython",
    "version": 3
   },
   "file_extension": ".py",
   "mimetype": "text/x-python",
   "name": "python",
   "nbconvert_exporter": "python",
   "pygments_lexer": "ipython3",
   "version": "3.7.3"
  }
 },
 "nbformat": 4,
 "nbformat_minor": 2
}
