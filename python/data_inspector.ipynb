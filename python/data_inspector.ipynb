{
 "cells": [
  {
   "cell_type": "code",
   "execution_count": 1,
   "metadata": {},
   "outputs": [],
   "source": [
    "%matplotlib inline\n",
    "import os\n",
    "import sys\n",
    "import numpy as np\n",
    "import pandas as np\n",
    "import seaborn as sb\n",
    "import xarray as xr\n",
    "import os.path as path\n",
    "from aux.ml_flood_config import path_to_data"
   ]
  },
  {
   "cell_type": "markdown",
   "metadata": {},
   "source": [
    "## Calculate various statistical measures across the data and create plots"
   ]
  },
  {
   "cell_type": "code",
   "execution_count": 23,
   "metadata": {},
   "outputs": [],
   "source": [
    "# define some vars\n",
    "data_path = f'{path_to_data}danube/'\n",
    "ds = xr.open_mfdataset(data_path+'era5*')"
   ]
  },
  {
   "cell_type": "code",
   "execution_count": 22,
   "metadata": {
    "scrolled": false
   },
   "outputs": [
    {
     "name": "stdout",
     "output_type": "stream",
     "text": [
      "<xarray.DataArray 'cp' (stat_moments: 2, time: 13514)>\n",
      "dask.array<shape=(2, 13514), dtype=float32, chunksize=(1, 13514)>\n",
      "Coordinates:\n",
      "  * time          (time) datetime64[ns] 1981-01-01T23:00:00 ... 2017-12-31T23:00:00\n",
      "  * stat_moments  (stat_moments) <U4 'mean' 'std'\n",
      "<xarray.DataArray 'tp' (stat_moments: 2, time: 13514)>\n",
      "dask.array<shape=(2, 13514), dtype=float32, chunksize=(1, 13514)>\n",
      "Coordinates:\n",
      "  * time          (time) datetime64[ns] 1981-01-01T23:00:00 ... 2017-12-31T23:00:00\n",
      "  * stat_moments  (stat_moments) <U4 'mean' 'std'\n",
      "<xarray.DataArray 'slt' (stat_moments: 2, time: 13514)>\n",
      "dask.array<shape=(2, 13514), dtype=float32, chunksize=(1, 13514)>\n",
      "Coordinates:\n",
      "  * time          (time) datetime64[ns] 1981-01-01T23:00:00 ... 2017-12-31T23:00:00\n",
      "  * stat_moments  (stat_moments) <U4 'mean' 'std'\n",
      "<xarray.DataArray 'z' (stat_moments: 2, time: 13514, level: 3)>\n",
      "dask.array<shape=(2, 13514, 3), dtype=float32, chunksize=(1, 13514, 3)>\n",
      "Coordinates:\n",
      "  * time          (time) datetime64[ns] 1981-01-01T23:00:00 ... 2017-12-31T23:00:00\n",
      "  * level         (level) float64 850.0 700.0 500.0\n",
      "  * stat_moments  (stat_moments) <U4 'mean' 'std'\n",
      "<xarray.DataArray 'slor' (stat_moments: 2, time: 13514)>\n",
      "dask.array<shape=(2, 13514), dtype=float32, chunksize=(1, 13514)>\n",
      "Coordinates:\n",
      "  * time          (time) datetime64[ns] 1981-01-01T23:00:00 ... 2017-12-31T23:00:00\n",
      "  * stat_moments  (stat_moments) <U4 'mean' 'std'\n",
      "<xarray.DataArray 'lsm' (stat_moments: 2, time: 13514)>\n",
      "dask.array<shape=(2, 13514), dtype=float32, chunksize=(1, 13514)>\n",
      "Coordinates:\n",
      "  * time          (time) datetime64[ns] 1981-01-01T23:00:00 ... 2017-12-31T23:00:00\n",
      "  * stat_moments  (stat_moments) <U4 'mean' 'std'\n",
      "<xarray.DataArray 'lsp' (stat_moments: 2, time: 13514)>\n",
      "dask.array<shape=(2, 13514), dtype=float32, chunksize=(1, 13514)>\n",
      "Coordinates:\n",
      "  * time          (time) datetime64[ns] 1981-01-01T23:00:00 ... 2017-12-31T23:00:00\n",
      "  * stat_moments  (stat_moments) <U4 'mean' 'std'\n",
      "<xarray.DataArray 't' (stat_moments: 2, time: 13514, level: 3)>\n",
      "dask.array<shape=(2, 13514, 3), dtype=float32, chunksize=(1, 13514, 3)>\n",
      "Coordinates:\n",
      "  * time          (time) datetime64[ns] 1981-01-01T23:00:00 ... 2017-12-31T23:00:00\n",
      "  * level         (level) float64 850.0 700.0 500.0\n",
      "  * stat_moments  (stat_moments) <U4 'mean' 'std'\n",
      "<xarray.DataArray 'q' (stat_moments: 2, time: 13514, level: 3)>\n",
      "dask.array<shape=(2, 13514, 3), dtype=float32, chunksize=(1, 13514, 3)>\n",
      "Coordinates:\n",
      "  * time          (time) datetime64[ns] 1981-01-01T23:00:00 ... 2017-12-31T23:00:00\n",
      "  * level         (level) float64 850.0 700.0 500.0\n",
      "  * stat_moments  (stat_moments) <U4 'mean' 'std'\n",
      "<xarray.DataArray 'ro' (stat_moments: 2, time: 13514)>\n",
      "dask.array<shape=(2, 13514), dtype=float32, chunksize=(1, 13514)>\n",
      "Coordinates:\n",
      "  * time          (time) datetime64[ns] 1981-01-01T23:00:00 ... 2017-12-31T23:00:00\n",
      "  * stat_moments  (stat_moments) <U4 'mean' 'std'\n",
      "<xarray.DataArray 'swvl1' (stat_moments: 2, time: 13514)>\n",
      "dask.array<shape=(2, 13514), dtype=float32, chunksize=(1, 13514)>\n",
      "Coordinates:\n",
      "  * time          (time) datetime64[ns] 1981-01-01T23:00:00 ... 2017-12-31T23:00:00\n",
      "  * stat_moments  (stat_moments) <U4 'mean' 'std'\n",
      "<xarray.DataArray 'swvl2' (stat_moments: 2, time: 13514)>\n",
      "dask.array<shape=(2, 13514), dtype=float32, chunksize=(1, 13514)>\n",
      "Coordinates:\n",
      "  * time          (time) datetime64[ns] 1981-01-01T23:00:00 ... 2017-12-31T23:00:00\n",
      "  * stat_moments  (stat_moments) <U4 'mean' 'std'\n",
      "<xarray.DataArray 'tcwv' (stat_moments: 2, time: 13514)>\n",
      "dask.array<shape=(2, 13514), dtype=float32, chunksize=(1, 13514)>\n",
      "Coordinates:\n",
      "  * time          (time) datetime64[ns] 1981-01-01T23:00:00 ... 2017-12-31T23:00:00\n",
      "  * stat_moments  (stat_moments) <U4 'mean' 'std'\n"
     ]
    }
   ],
   "source": [
    "from aux.utils import calc_stat_moments\n",
    "\n",
    "sm = calc_stat_moments(ds, dim_aggregator='spatial', time_constraint=None)\n",
    "\n",
    "#print(sm.sel(stat_moments='mean'))\n",
    "\n",
    "#map = generate_map(kwarg=EU, proj=lambert)\n",
    "for i in sm.keys():\n",
    "\n",
    "    da_mean = sm[i].sel(stat_moments='mean')\n",
    "    da_std = sm[i].sel(stat_moments='std')\n",
    "    print(da)\n",
    "#    plot_map(da_mean, savetopath=figure_dir)\n",
    "#    plot_map(da_std, savetopath=figure_dir)\n"
   ]
  },
  {
   "cell_type": "code",
   "execution_count": 4,
   "metadata": {},
   "outputs": [],
   "source": [
    "#for i in sm.keys():\n",
    "  #  print(i)\n",
    " #   print(sm[i])\n",
    "\n",
    "#print(sm)"
   ]
  },
  {
   "cell_type": "code",
   "execution_count": null,
   "metadata": {},
   "outputs": [],
   "source": []
  }
 ],
 "metadata": {
  "kernelspec": {
   "display_name": "Python 3",
   "language": "python",
   "name": "python3"
  },
  "language_info": {
   "codemirror_mode": {
    "name": "ipython",
    "version": 3
   },
   "file_extension": ".py",
   "mimetype": "text/x-python",
   "name": "python",
   "nbconvert_exporter": "python",
   "pygments_lexer": "ipython3",
   "version": "3.7.3"
  }
 },
 "nbformat": 4,
 "nbformat_minor": 2
}
