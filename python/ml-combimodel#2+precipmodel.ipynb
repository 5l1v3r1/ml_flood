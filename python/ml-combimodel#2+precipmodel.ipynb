{
 "cells": [
  {
   "cell_type": "code",
   "execution_count": 1,
   "metadata": {},
   "outputs": [
    {
     "name": "stderr",
     "output_type": "stream",
     "text": [
      "Using Theano backend.\n"
     ]
    }
   ],
   "source": [
    "import os\n",
    "import numpy as np\n",
    "import datetime as dt\n",
    "import pandas as pd\n",
    "import matplotlib.pyplot as plt\n",
    "import seaborn as sns\n",
    "\n",
    "#import joblib\n",
    "from sklearn.pipeline import Pipeline\n",
    "from dask_ml.preprocessing import StandardScaler\n",
    "#from dask_ml.decomposition import PCA\n",
    "\n",
    "#from dask_ml.xgboost import XGBRegressor\n",
    "#from dask_ml.linear_model import LogisticRegression\n",
    "#from dask_ml.linear_model import LinearRegression\n",
    "#from sklearn.linear_model import Ridge\n",
    "\n",
    "import h5py\n",
    "import keras\n",
    "from keras.layers.core import Dropout\n",
    "from keras.models import load_model\n",
    "\n",
    "import geopandas\n",
    "from rasterio import features\n",
    "from affine import Affine\n",
    "\n",
    "import dask\n",
    "#import dask.multiprocessing\n",
    "dask.config.set(scheduler='threads')\n",
    "\n",
    "import xarray as xr\n",
    "from dask.diagnostics import ProgressBar"
   ]
  },
  {
   "cell_type": "code",
   "execution_count": null,
   "metadata": {},
   "outputs": [],
   "source": []
  },
  {
   "cell_type": "code",
   "execution_count": 2,
   "metadata": {
    "scrolled": false
   },
   "outputs": [
    {
     "name": "stdout",
     "output_type": "stream",
     "text": [
      "/home/srvx11/lehre/users/a1254888/.conda/envs/ml_flood/bin/python3\n"
     ]
    }
   ],
   "source": [
    "import sys\n",
    "print(sys.executable)"
   ]
  },
  {
   "cell_type": "code",
   "execution_count": 3,
   "metadata": {},
   "outputs": [],
   "source": [
    "def sfloat(f):\n",
    "    return str(float(f))\n",
    "def sint(i):\n",
    "    return str(int(i))"
   ]
  },
  {
   "cell_type": "code",
   "execution_count": 4,
   "metadata": {},
   "outputs": [],
   "source": [
    "def read_glofas_danube():\n",
    "    glofas = xr.open_dataset('../data/danube/glofas_reanalysis_danube_1981-2002.nc')\n",
    "    glofas = glofas.rename({'lat': 'latitude', 'lon': 'longitude'})  # to have the same name like in era5\n",
    "    glofas = shift_time(glofas, -dt.timedelta(days=1))  # the discharge is the mean of the previous 24h of the timestamp\n",
    "    return glofas"
   ]
  },
  {
   "cell_type": "code",
   "execution_count": 5,
   "metadata": {
    "scrolled": true
   },
   "outputs": [],
   "source": [
    "def shift_time(ds, value):\n",
    "    ds.coords['time'].values = pd.to_datetime(ds.coords['time'].values) + value\n",
    "    return ds"
   ]
  },
  {
   "cell_type": "code",
   "execution_count": 6,
   "metadata": {},
   "outputs": [],
   "source": [
    "def select_riverpoints(dis):\n",
    "    return (dis > 10)"
   ]
  },
  {
   "cell_type": "code",
   "execution_count": 7,
   "metadata": {},
   "outputs": [],
   "source": [
    "def get_mask_of_basin(da, kw_basins='Danube'):\n",
    "    \"\"\"\n",
    "    Parameters:\n",
    "    -----------\n",
    "        da : xr.DataArray\n",
    "            contains the coordinates\n",
    "        kw_basins : str\n",
    "            identifier of the basin in the basins dataset\n",
    "    \"\"\"\n",
    "    def transform_from_latlon(lat, lon):\n",
    "        lat = np.asarray(lat)\n",
    "        lon = np.asarray(lon)\n",
    "        trans = Affine.translation(lon[0], lat[0])\n",
    "        scale = Affine.scale(lon[1] - lon[0], lat[1] - lat[0])\n",
    "        return trans * scale\n",
    "\n",
    "    def rasterize(shapes, coords, fill=np.nan, **kwargs):\n",
    "        \"\"\"Rasterize a list of (geometry, fill_value) tuples onto the given\n",
    "        xray coordinates. This only works for 1d latitude and longitude\n",
    "        arrays.\n",
    "        \"\"\"\n",
    "        transform = transform_from_latlon(coords['latitude'], coords['longitude'])\n",
    "        out_shape = (len(coords['latitude']), len(coords['longitude']))\n",
    "        raster = features.rasterize(shapes, out_shape=out_shape,\n",
    "                                    fill=fill, transform=transform,\n",
    "                                    dtype=float, **kwargs)\n",
    "        return xr.DataArray(raster, coords=coords, dims=('latitude', 'longitude'))\n",
    "    \n",
    "    # this shapefile is from natural earth data\n",
    "    # http://www.naturalearthdata.com/downloads/10m-cultural-vectors/10m-admin-1-states-provinces/\n",
    "    shp2 = '/raid/home/srvx7/lehre/users/a1303583/ipython/ml_flood/data/drainage_basins/Major_Basins_of_the_World.shp'\n",
    "    basins = geopandas.read_file(shp2)\n",
    "#    print(basins)\n",
    "    single_basin = basins.query(\"NAME == '\"+kw_basins+\"'\").reset_index(drop=True)\n",
    "#    print(single_basin)\n",
    "    shapes = [(shape, n) for n, shape in enumerate(single_basin.geometry)]\n",
    "\n",
    "    da['basins'] = rasterize(shapes, da.coords)\n",
    "    da = da.basins == 0\n",
    "    return da.drop('basins')\n",
    "    "
   ]
  },
  {
   "cell_type": "code",
   "execution_count": 8,
   "metadata": {},
   "outputs": [],
   "source": [
    "def select_upstream(is_river, lat, lon, basin='Danube'):\n",
    "    \n",
    "    \n",
    "    # longitude condition\n",
    "    is_west = (~np.isnan(is_river.where(is_river.longitude <= lon))).astype(bool)\n",
    "    \n",
    "    mask_basin = get_mask_of_basin(is_river, kw_basins=basin)\n",
    "\n",
    "    nearby_mask = is_river*0.\n",
    "    nearby_mask.loc[dict(latitude=slice(lat+1.5, lat-1.5), \n",
    "                         longitude=slice(lon-1.5, lon+1.5))] = 1.\n",
    "    nearby_mask = nearby_mask.astype(bool)\n",
    "    \n",
    "    mask = mask_basin & nearby_mask & is_west #mask_box_mean_greater & \n",
    "    if 'basins' in mask.coords:\n",
    "        mask = mask.drop('basins')\n",
    "    if 'time' in mask.coords:\n",
    "        mask = mask.drop('time')  # time and basins dimension make no sense here\n",
    "    return mask"
   ]
  },
  {
   "cell_type": "code",
   "execution_count": 9,
   "metadata": {},
   "outputs": [],
   "source": [
    "def train(pipe, X_train, y_train, X_valid, y_valid):\n",
    "    history = pipe.fit(X_train.values, y_train.values,\n",
    "                       model__validation_data=(X_valid.values, #.values, \n",
    "                                               y_valid.values)) #.values.reshape(-1,1)))\n",
    "\n",
    "    h = history.named_steps['model'].model.history\n",
    "\n",
    "    # Plot training & validation loss value\n",
    "    plt.figure()\n",
    "    plt.plot(h.history['loss'], label='loss')\n",
    "    plt.plot(h.history['val_loss'], label='val_loss')\n",
    "    plt.title('Model loss')\n",
    "    plt.ylabel('Loss')\n",
    "    plt.xlabel('Epoch')\n",
    "    plt.legend() #['Train', 'Test'], loc='upper left')\n",
    "    plt.gca().set_yscale('log')\n",
    "    plt.show()"
   ]
  },
  {
   "cell_type": "code",
   "execution_count": 10,
   "metadata": {},
   "outputs": [],
   "source": [
    "def add_shifted_predictors(ds, shifts, variables='all'):\n",
    "    \"\"\"Adds additional variables to an array which are shifted in time.\n",
    "    \n",
    "    Parameters\n",
    "    ----------\n",
    "    ds : xr.Dataset\n",
    "    shifts : list of integers\n",
    "    variables : str or list\n",
    "    \"\"\"\n",
    "    if variables == 'all': \n",
    "        variables = ds.data_vars\n",
    "        \n",
    "    for var in variables:\n",
    "        for i in shifts:\n",
    "            if i == 0: continue  # makes no sense to shift by zero\n",
    "            newvar = var+'-'+str(i)\n",
    "            ds[newvar] = ds[var].shift(time=i)\n",
    "    return ds"
   ]
  },
  {
   "cell_type": "code",
   "execution_count": 11,
   "metadata": {},
   "outputs": [],
   "source": [
    "def preprocess_reshape_flowmodel(X_dis, y_dis):\n",
    "    \"\"\"Reshape, merge predictor/predictand in time, drop nans.\"\"\"\n",
    "    X_dis = X_dis.to_array(dim='time_feature')  \n",
    "    #print('X before feature-stacking', X_dis)\n",
    "    X_dis = X_dis.stack(features=['latitude', 'longitude', 'time_feature'])\n",
    "    #print('X before featuredrop', X_dis)\n",
    "    Xar = X_dis.dropna('features', how='all')\n",
    "    \n",
    "    yar = y_dis\n",
    "    yar = yar.drop(['latitude', 'longitude'])\n",
    "    yar.coords['features'] = 'dis'\n",
    "    \n",
    "    #print('X, y before concat for time nan dropping', Xar, yar)\n",
    "    Xy = xr.concat([Xar, yar], dim='features')\n",
    "    Xyt = Xy.dropna('time', how='any')  # drop them as we cannot train on nan values\n",
    "    time = Xyt.time\n",
    "    \n",
    "    Xda = Xyt[:,:-1]\n",
    "    yda = Xyt[:,-1]\n",
    "    return Xda, yda, time"
   ]
  },
  {
   "cell_type": "code",
   "execution_count": 12,
   "metadata": {},
   "outputs": [],
   "source": [
    "from aux.floodmodels import FlowModel"
   ]
  },
  {
   "cell_type": "code",
   "execution_count": 13,
   "metadata": {},
   "outputs": [],
   "source": [
    "def create_FlowModel(filepath, initialdischarge):\n",
    "    mlp_kws = dict(epochs=1000,\n",
    "                   filepath = filepath,)\n",
    "    \n",
    "    return Pipeline([#('scaler', StandardScaler()),\n",
    "                     #('pca', PCA(n_components=2)),\n",
    "                     ('model', FlowModel(''**mlp_kws)),],\n",
    "                     verbose=False)"
   ]
  },
  {
   "cell_type": "code",
   "execution_count": 14,
   "metadata": {},
   "outputs": [],
   "source": [
    "static = xr.open_dataset('../data/danube/era5_slt_z_slor_lsm_stationary_field.nc')"
   ]
  },
  {
   "cell_type": "code",
   "execution_count": 15,
   "metadata": {},
   "outputs": [],
   "source": [
    "#era5 = xr.open_dataset('../data/usa/era5_lsp_cp_1981-2017_daysum.nc')\n",
    "#era5 = shift_time(era5, -dt.timedelta(hours=23))\n",
    "\n",
    "era5 = xr.open_dataset('../data/danube/era5_danube_pressure_and_single_levels.nc')"
   ]
  },
  {
   "cell_type": "code",
   "execution_count": 16,
   "metadata": {},
   "outputs": [],
   "source": [
    "glofas = read_glofas_danube()"
   ]
  },
  {
   "cell_type": "code",
   "execution_count": 17,
   "metadata": {},
   "outputs": [],
   "source": [
    "glofas = glofas.isel(time=slice(0, 365*15))  # just to reduce the amount of data"
   ]
  },
  {
   "cell_type": "code",
   "execution_count": 18,
   "metadata": {},
   "outputs": [],
   "source": [
    "if 'tp' in era5:\n",
    "    tp = era5['tp']*1000\n",
    "else:\n",
    "    tp = (era5['cp']+era5['lsp'])*1000\n",
    "tp.name = 'total precip [mm]'\n",
    "tp = tp.interp(latitude=glofas.latitude,\n",
    "               longitude=glofas.longitude)"
   ]
  },
  {
   "cell_type": "markdown",
   "metadata": {},
   "source": [
    "## prepare training data for the FlowModel\n",
    "### features = discharge upstream (t-1, ... t-3)\n",
    "### target = discharge (t)\n"
   ]
  },
  {
   "cell_type": "code",
   "execution_count": 19,
   "metadata": {},
   "outputs": [],
   "source": [
    "shifts = range(1,4)\n",
    "X = add_shifted_predictors(glofas, shifts, variables='all')\n",
    "X = X.drop('dis')  # current dis is to be predicted, is not a feature\n",
    "\n",
    "y = glofas['dis']  # just this variable as dataarray"
   ]
  },
  {
   "cell_type": "markdown",
   "metadata": {},
   "source": [
    "### for rgp in riverpoints:"
   ]
  },
  {
   "cell_type": "code",
   "execution_count": 21,
   "metadata": {},
   "outputs": [],
   "source": [
    "N_train = dict(time=slice(None, '1990'))\n",
    "N_valid = dict(time=slice('1990', '1995'))\n",
    "\n",
    "fm_path = '../models/flowmodel/danube/flowmodel_lat_lon.h5'\n",
    "if not os.path.isdir(os.path.dirname(fm_path)):\n",
    "    os.makedirs(os.path.dirname(fm_path))"
   ]
  },
  {
   "cell_type": "code",
   "execution_count": 22,
   "metadata": {
    "scrolled": false
   },
   "outputs": [
    {
     "data": {
      "image/png": "[encoded data removed]",
      "text/plain": [
       "<Figure size 432x288 with 1 Axes>"
      ]
     },
     "metadata": {
      "needs_background": "light"
     },
     "output_type": "display_data"
    },
    {
     "data": {
      "image/png": "[encoded data removed]",
      "text/plain": [
       "<Figure size 432x288 with 1 Axes>"
      ]
     },
     "metadata": {
      "needs_background": "light"
     },
     "output_type": "display_data"
    },
    {
     "name": "stdout",
     "output_type": "stream",
     "text": [
      "3\n",
      "48.25 8.050000000000011 is spring.\n",
      "3\n",
      "48.15 8.050000000000011 is spring.\n",
      "3\n",
      "48.05 8.050000000000011 is spring.\n",
      "6\n",
      "6\n",
      "6\n",
      "9\n",
      "9\n",
      "9\n",
      "12\n",
      "12\n",
      "12\n",
      "15\n",
      "15\n",
      "15\n",
      "17\n",
      "17\n",
      "20\n",
      "20\n",
      "20\n",
      "22\n",
      "48.15 8.750000000000028 is danube river -> train flowmodel\n"
     ]
    },
    {
     "data": {
      "image/png": "[encoded data removed]",
      "text/plain": [
       "<Figure size 432x288 with 1 Axes>"
      ]
     },
     "metadata": {
      "needs_background": "light"
     },
     "output_type": "display_data"
    },
    {
     "data": {
      "image/png": "[encoded data removed]",
      "text/plain": [
       "<Figure size 432x288 with 1 Axes>"
      ]
     },
     "metadata": {
      "needs_background": "light"
     },
     "output_type": "display_data"
    },
    {
     "name": "stdout",
     "output_type": "stream",
     "text": [
      "(1206, 66) (1206,)\n",
      "(811, 66) (811,)\n",
      "(492, 66) (492,)\n"
     ]
    },
    {
     "ename": "TypeError",
     "evalue": "__init__() missing 1 required positional argument: 'kind'",
     "output_type": "error",
     "traceback": [
      "\u001b[0;31m---------------------------------------------------------------------------\u001b[0m",
      "\u001b[0;31mTypeError\u001b[0m                                 Traceback (most recent call last)",
      "\u001b[0;32m<ipython-input-22-9cde8c2e63cf>\u001b[0m in \u001b[0;36m<module>\u001b[0;34m\u001b[0m\n\u001b[1;32m     75\u001b[0m                     \u001b[0mprint\u001b[0m\u001b[0;34m(\u001b[0m\u001b[0mX_valid\u001b[0m\u001b[0;34m.\u001b[0m\u001b[0mshape\u001b[0m\u001b[0;34m,\u001b[0m \u001b[0my_valid\u001b[0m\u001b[0;34m.\u001b[0m\u001b[0mshape\u001b[0m\u001b[0;34m)\u001b[0m\u001b[0;34m\u001b[0m\u001b[0;34m\u001b[0m\u001b[0m\n\u001b[1;32m     76\u001b[0m                     \u001b[0minitialdischarge\u001b[0m \u001b[0;34m=\u001b[0m \u001b[0mnp\u001b[0m\u001b[0;34m.\u001b[0m\u001b[0mmean\u001b[0m\u001b[0;34m(\u001b[0m\u001b[0my_train\u001b[0m\u001b[0;34m)\u001b[0m\u001b[0;34m\u001b[0m\u001b[0;34m\u001b[0m\u001b[0m\n\u001b[0;32m---> 77\u001b[0;31m                     \u001b[0mpipe\u001b[0m \u001b[0;34m=\u001b[0m \u001b[0mcreate_FlowModel\u001b[0m\u001b[0;34m(\u001b[0m\u001b[0mmodpath\u001b[0m\u001b[0;34m,\u001b[0m \u001b[0minitialdischarge\u001b[0m\u001b[0;34m)\u001b[0m\u001b[0;34m\u001b[0m\u001b[0;34m\u001b[0m\u001b[0m\n\u001b[0m\u001b[1;32m     78\u001b[0m \u001b[0;34m\u001b[0m\u001b[0m\n\u001b[1;32m     79\u001b[0m                     \u001b[0mtrain\u001b[0m\u001b[0;34m(\u001b[0m\u001b[0mpipe\u001b[0m\u001b[0;34m,\u001b[0m \u001b[0mX_train\u001b[0m\u001b[0;34m,\u001b[0m \u001b[0my_train\u001b[0m\u001b[0;34m,\u001b[0m \u001b[0mX_valid\u001b[0m\u001b[0;34m,\u001b[0m \u001b[0my_valid\u001b[0m\u001b[0;34m)\u001b[0m\u001b[0;34m\u001b[0m\u001b[0;34m\u001b[0m\u001b[0m\n",
      "\u001b[0;32m<ipython-input-13-ef1068f43961>\u001b[0m in \u001b[0;36mcreate_FlowModel\u001b[0;34m(filepath, initialdischarge)\u001b[0m\n\u001b[1;32m      5\u001b[0m     return Pipeline([#('scaler', StandardScaler()),\n\u001b[1;32m      6\u001b[0m                      \u001b[0;31m#('pca', PCA(n_components=2)),\u001b[0m\u001b[0;34m\u001b[0m\u001b[0;34m\u001b[0m\u001b[0;34m\u001b[0m\u001b[0m\n\u001b[0;32m----> 7\u001b[0;31m                      ('model', FlowModel(**mlp_kws)),],\n\u001b[0m\u001b[1;32m      8\u001b[0m                      verbose=False)\n",
      "\u001b[0;31mTypeError\u001b[0m: __init__() missing 1 required positional argument: 'kind'"
     ]
    }
   ],
   "source": [
    "#riverpoints = select_riverpoints(glofas)\n",
    "danube_gridpoints = get_mask_of_basin(glofas['dis'].isel(time=0), 'Danube')\n",
    "\n",
    "plt.imshow(danube_gridpoints.astype(int))\n",
    "plt.show()\n",
    "\n",
    "mask_springs = glofas['dis'].isel(time=0)\n",
    "mask_springs.values[:] = 0.\n",
    "\n",
    "dis_map_mean = glofas['dis'].mean('time')\n",
    "is_river = select_riverpoints(dis_map_mean)\n",
    "#river_min_discharge = 20\n",
    "# mask_box_mean_greater = dis_box_mean > river_min_discharge\n",
    "#mask_box_mean_greater = (~np.isnan(dis_map_mean.where(dis_map_mean > river_min_discharge))).astype(bool)\n",
    "plt.imshow(is_river.astype(int))\n",
    "plt.title('is_river')\n",
    "plt.show()\n",
    "\n",
    "for lon in danube_gridpoints.longitude:\n",
    "    for lat in danube_gridpoints.latitude:\n",
    "        #print(danube_gridpoints.sel(latitude=lat, longitude=lon))\n",
    "        if danube_gridpoints.sel(latitude=lat, longitude=lon) == 1:\n",
    "            lat, lon = float(lat), float(lon)\n",
    "            \n",
    "            lats, lons = sfloat(lat), sfloat(lon)\n",
    "            \n",
    "            modpath = fm_path.replace('lat', lats).replace('lon', lons)\n",
    "\n",
    "            upstream = select_upstream(is_river, lat, lon, basin='Danube')\n",
    "\n",
    "            N_upstream = int(upstream.sum())\n",
    "            print(N_upstream)\n",
    "            if N_upstream < 5:\n",
    "                print(lats, lons, 'is spring.')\n",
    "                mask_springs.loc[dict(latitude=lat, longitude=lon)] = 1.\n",
    "\n",
    "                #plt.imshow(mask_springs.astype(int))\n",
    "                #plt.title('springs')\n",
    "                #plt.show()\n",
    "            else:\n",
    "                if not os.path.isfile(modpath):\n",
    "                    print(lats, lons, 'is danube river -> train flowmodel')\n",
    "                    plt.imshow(upstream.astype(int))\n",
    "                    plt.title(str(N_upstream)+' upstream points for '+lats+' '+lons)\n",
    "                    plt.show()\n",
    "                    \n",
    "                    plt.imshow(mask_springs.astype(int))\n",
    "                    plt.title('springs')\n",
    "                    plt.show()\n",
    "                    \n",
    "                    \n",
    "                    tp_box = tp.loc[dict(latitude=slice(lat+1.5, lat-1.5), \n",
    "                                         longitude=slice(lon-1.5, lon+1.5))] \n",
    "                    noprecip = tp_box.mean(['longitude', 'latitude']) < 0.1\n",
    "\n",
    "                    Xt = X.where(noprecip, drop=True)\n",
    "                    Xt = Xt.where(upstream, drop=True)\n",
    "                    yt = y.sel(latitude=float(lat), longitude=float(lon))\n",
    "\n",
    "                    #print(Xt, upstream)\n",
    "                    Xda, yda, time = preprocess_reshape_flowmodel(Xt, yt)\n",
    "                    print(Xda.shape, yda.shape)\n",
    "                    \n",
    "                    #X_train = Xda[:N_train,:] \n",
    "                    #y_train = yda[:N_train] \n",
    "                    #X_valid = Xda[N_train:N_train+N_valid,:] \n",
    "                    #y_valid = yda[N_train:N_train+N_valid] \n",
    "                    \n",
    "                    X_train = Xda.loc[N_train] \n",
    "                    y_train = yda.loc[N_train] \n",
    "                    X_valid = Xda.loc[N_valid] \n",
    "                    y_valid = yda.loc[N_valid] \n",
    "                    \n",
    "                    print(X_train.shape, y_train.shape)\n",
    "                    print(X_valid.shape, y_valid.shape)\n",
    "                    initialdischarge = np.mean(y_train)\n",
    "                    pipe = create_FlowModel(modpath, initialdischarge)\n",
    "\n",
    "                    train(pipe, X_train, y_train, X_valid, y_valid)\n",
    "                    \n",
    "                    \n",
    "                    model = load_model(modpath)\n",
    "                    y_m = model.predict(X_valid) #, y_valid.time)\n",
    "                    y_m = add_time(y_m.squeeze(), y_valid.time, name='flowmodel')\n",
    "                    y_m.to_pandas().plot()\n",
    "                    y_valid.name = 'reanalysis'\n",
    "                    y_valid.to_pandas().plot()\n",
    "                    plt.show()\n",
    "                    \n",
    "                    "
   ]
  },
  {
   "cell_type": "code",
   "execution_count": null,
   "metadata": {
    "scrolled": false
   },
   "outputs": [],
   "source": []
  },
  {
   "cell_type": "code",
   "execution_count": null,
   "metadata": {},
   "outputs": [],
   "source": [
    "@dask.delayed\n",
    "def train_flowmodel(lat, lon):    \n",
    "    lats, lons = sfloat(lat), sfloat(lon)\n",
    "\n",
    "    modpath = fm_path.replace('lat', lats).replace('lon', lons)\n",
    "\n",
    "    upstream = select_upstream(is_river, lat, lon, basin='Danube')\n",
    "    N_upstream = int(upstream.sum())\n",
    "    \n",
    "    if N_upstream < 5:\n",
    "        mask_springs.loc[dict(latitude=lat, longitude=lon)] = 1.\n",
    "    else:\n",
    "        if not os.path.isfile(modpath):\n",
    "            print(lats, lons, 'is danube river -> train flowmodel')\n",
    "\n",
    "            tp_box = tp.loc[dict(latitude=slice(lat+1.5, lat-1.5), \n",
    "                                 longitude=slice(lon-1.5, lon+1.5))] \n",
    "            noprecip = tp_box.mean(['longitude', 'latitude']) < 0.1\n",
    "\n",
    "            Xt = X.where(noprecip, drop=True)\n",
    "            Xt = Xt.where(upstream, drop=True)\n",
    "            yt = y.sel(latitude=float(lat), longitude=float(lon))\n",
    "\n",
    "            #print(Xt, upstream)\n",
    "            Xda, yda, time = preprocess_reshape_flowmodel(Xt, yt)\n",
    "            print(Xda.shape, yda.shape)\n",
    "\n",
    "            X_train = Xda.loc[N_train] \n",
    "            y_train = yda.loc[N_train] \n",
    "            X_valid = Xda.loc[N_valid] \n",
    "            y_valid = yda.loc[N_valid] \n",
    "\n",
    "            initialdischarge = np.mean(y_train)\n",
    "            pipe = create_FlowModel(modpath, initialdischarge)\n",
    "\n",
    "            train(pipe, X_train, y_train, X_valid, y_valid)"
   ]
  },
  {
   "cell_type": "code",
   "execution_count": null,
   "metadata": {},
   "outputs": [],
   "source": [
    "#riverpoints = select_riverpoints(glofas)\n",
    "danube_gridpoints = get_mask_of_basin(glofas['dis'].isel(time=0), 'Danube')\n",
    "\n",
    "plt.imshow(danube_gridpoints.astype(int))\n",
    "plt.show()\n",
    "\n",
    "mask_springs = glofas['dis'].isel(time=0)\n",
    "mask_springs.values[:] = 0.\n",
    "\n",
    "task_list = []\n",
    "\n",
    "for lon in danube_gridpoints.longitude:\n",
    "    for lat in danube_gridpoints.latitude:\n",
    "        #print(danube_gridpoints.sel(latitude=lat, longitude=lon))\n",
    "        if danube_gridpoints.sel(latitude=lat, longitude=lon) == 1:\n",
    "            task_list.append(train_flowmodel(lat, lon))           "
   ]
  },
  {
   "cell_type": "code",
   "execution_count": null,
   "metadata": {
    "scrolled": true
   },
   "outputs": [],
   "source": []
  },
  {
   "cell_type": "code",
   "execution_count": null,
   "metadata": {},
   "outputs": [],
   "source": [
    "len(task_list)"
   ]
  },
  {
   "cell_type": "code",
   "execution_count": null,
   "metadata": {},
   "outputs": [],
   "source": [
    "with ProgressBar():\n",
    "    dask.compute(task_list)"
   ]
  },
  {
   "cell_type": "code",
   "execution_count": null,
   "metadata": {},
   "outputs": [],
   "source": [
    "X_valid.values.shape"
   ]
  },
  {
   "cell_type": "code",
   "execution_count": null,
   "metadata": {},
   "outputs": [],
   "source": []
  },
  {
   "cell_type": "code",
   "execution_count": null,
   "metadata": {
    "scrolled": false
   },
   "outputs": [],
   "source": [
    "fig, ax = plt.subplots(figsize=(24,5))\n",
    "minpred = X_train.min('features')\n",
    "maxpred = X_train.max('features')\n",
    "\n",
    "minpred.plot(ax=ax, linestyle='--', label='predictor-min')\n",
    "maxpred.plot(ax=ax, linestyle='--', label='predictor-max')\n",
    "\n",
    "\n",
    "dis[:,i,j].to_pandas().plot(ax=ax, label='dis-reanalysis')\n",
    "y_train_pred.plot(ax=ax, marker='.', lw=0)\n",
    "\n",
    "plt.legend()\n",
    "plt.gca().set_xlim(dt.datetime(1981,1,1), y_train_pred.time.values[-1]) "
   ]
  },
  {
   "cell_type": "code",
   "execution_count": null,
   "metadata": {},
   "outputs": [],
   "source": []
  },
  {
   "cell_type": "code",
   "execution_count": null,
   "metadata": {},
   "outputs": [],
   "source": []
  },
  {
   "cell_type": "code",
   "execution_count": null,
   "metadata": {},
   "outputs": [],
   "source": [
    "fig, ax = plt.subplots(figsize=(24,5))\n",
    "minpred = add_time(Xda.min(axis=1), time)\n",
    "maxpred = add_time(Xda.max(axis=1), time)\n",
    "\n",
    "minpred.plot(ax=ax, linestyle='--', label='predictor-min')\n",
    "maxpred.plot(ax=ax, linestyle='--', label='predictor-max')\n",
    "\n",
    "dis[:,i,j].to_pandas().plot(ax=ax, label='dis-reanalysis')\n",
    "y_valid_pred.plot(ax=ax, marker='.', lw=0)\n",
    "\n",
    "plt.legend()\n",
    "plt.gca().set_xlim(y_valid_pred.time.values[0], y_valid_pred.time.values[-1]) "
   ]
  },
  {
   "cell_type": "code",
   "execution_count": null,
   "metadata": {},
   "outputs": [],
   "source": []
  },
  {
   "cell_type": "markdown",
   "metadata": {},
   "source": [
    "## Verification\n",
    "\n",
    "Is the NN model better than using the max value of all predictors?"
   ]
  },
  {
   "cell_type": "code",
   "execution_count": null,
   "metadata": {},
   "outputs": [],
   "source": [
    "def to_5yr(dis):\n",
    "    return dis/glofas_rl['rl5'].sel(latitude=dis.latitude, longitude=dis.longitude)"
   ]
  },
  {
   "cell_type": "code",
   "execution_count": null,
   "metadata": {},
   "outputs": [],
   "source": [
    "((y_train_pred-y_train)/y_train*100).plot(label=)\n",
    "X_train.max('features').plot(label='max_feature')"
   ]
  },
  {
   "cell_type": "code",
   "execution_count": null,
   "metadata": {},
   "outputs": [],
   "source": []
  },
  {
   "cell_type": "code",
   "execution_count": null,
   "metadata": {},
   "outputs": [],
   "source": []
  }
 ],
 "metadata": {
  "kernelspec": {
   "display_name": "Python 3",
   "language": "python",
   "name": "python3"
  },
  "language_info": {
   "codemirror_mode": {
    "name": "ipython",
    "version": 3
   },
   "file_extension": ".py",
   "mimetype": "text/x-python",
   "name": "python",
   "nbconvert_exporter": "python",
   "pygments_lexer": "ipython3",
   "version": "3.7.3"
  }
 },
 "nbformat": 4,
 "nbformat_minor": 2
}
