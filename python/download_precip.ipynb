{
 "cells": [
  {
   "cell_type": "markdown",
   "metadata": {},
   "source": [
    "## Download the ERA5 Dataset"
   ]
  },
  {
   "cell_type": "markdown",
   "metadata": {},
   "source": [
    "description"
   ]
  },
  {
   "cell_type": "code",
   "execution_count": 1,
   "metadata": {},
   "outputs": [],
   "source": [
    "from ml_flood_config import path_to_data\n",
    "from aux.data_download import CDS_Dataset"
   ]
  },
  {
   "cell_type": "code",
   "execution_count": 2,
   "metadata": {},
   "outputs": [],
   "source": [
    "# define areas of interest\n",
    "area_dict = {'danube': '50/7/47/20',\n",
    "             'asia': '55/-140/0/35',\n",
    "             'usa': '50/-125/25/-70'}"
   ]
  },
  {
   "cell_type": "code",
   "execution_count": null,
   "metadata": {},
   "outputs": [
    {
     "name": "stderr",
     "output_type": "stream",
     "text": [
      "2019-05-26 15:30:08,388 INFO Sending request to https://cds.climate.copernicus.eu/api/v2/resources/reanalysis-era5-single-levels\n",
      "2019-05-26 15:30:08,586 INFO Request is queued\n",
      "2019-05-26 15:30:09,625 INFO Request is running\n"
     ]
    }
   ],
   "source": [
    "ds = CDS_Dataset(dataset_name=\"reanalysis-era5-single-levels\",\n",
    "                 save_to_folder=path_to_data  # path to where datasets shall be stored\n",
    "                ) \n",
    "\n",
    "ds.get(years = [str(y) for y in range(1980, 2017)], \n",
    "       months = [str(a).zfill(2) for a in range(1,13)], \n",
    "       request = dict(product_type='reanalysis', format='netcdf',\n",
    "                      area=area_dict['usa'],\n",
    "                      variable=['lsp', 'convective_precipitation']\n",
    "                     ),\n",
    "       N_parallel_requests=1)"
   ]
  },
  {
   "cell_type": "code",
   "execution_count": null,
   "metadata": {},
   "outputs": [],
   "source": []
  },
  {
   "cell_type": "code",
   "execution_count": null,
   "metadata": {},
   "outputs": [],
   "source": []
  }
 ],
 "metadata": {
  "kernelspec": {
   "display_name": "Python 3",
   "language": "python",
   "name": "python3"
  },
  "language_info": {
   "codemirror_mode": {
    "name": "ipython",
    "version": 3
   },
   "file_extension": ".py",
   "mimetype": "text/x-python",
   "name": "python",
   "nbconvert_exporter": "python",
   "pygments_lexer": "ipython3",
   "version": "3.7.3"
  }
 },
 "nbformat": 4,
 "nbformat_minor": 2
}
