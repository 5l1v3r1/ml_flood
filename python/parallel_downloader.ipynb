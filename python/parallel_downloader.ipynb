{
 "cells": [
  {
   "cell_type": "markdown",
   "metadata": {},
   "source": [
    "## Starting multiple requests using the multiprocessing package"
   ]
  },
  {
   "cell_type": "markdown",
   "metadata": {},
   "source": [
    "description"
   ]
  },
  {
   "cell_type": "code",
   "execution_count": null,
   "metadata": {},
   "outputs": [],
   "source": [
    "import os, warnings\n",
    "import cdsapi\n",
    "import multiprocessing as mp\n",
    "from aux import data_download\n",
    "from ml_flood_config import path_to_data"
   ]
  },
  {
   "cell_type": "code",
   "execution_count": null,
   "metadata": {},
   "outputs": [],
   "source": [
    "# define areas of interest\n",
    "area_dict = {'danube': '50/7/47/20',\n",
    "             'asia': '55/-140/0/35',\n",
    "             'usa': '50/-125/25/-70'\n",
    "            }"
   ]
  },
  {
   "cell_type": "code",
   "execution_count": null,
   "metadata": {},
   "outputs": [],
   "source": [
    "request = dict(product_type='reanalysis', format='netcdf', base_level='pressure', \n",
    "               area=area_dict['usa'],\n",
    "               variable=['geopotential', 'temperature', 'specific humidity'], \n",
    "               pressure_level=['850', '700', '500'])\n",
    "\n",
    "dataset_name = f\"reanalysis-era5-{request['base_level']}-levels\"\n",
    "\n",
    "save_to_folder=path_to_data  # path to where datasets shall be stored\n",
    "\n",
    "cds_optimized_retrieval(year=[str(y) for y in range(2000, 2010)], \n",
    "                        month=[str(a).zfill(2) for a in range(1,13)],\n",
    "                        dataset_name, request, save_to_folder, \n",
    "                        N_parallel_requests=10)"
   ]
  },
  {
   "cell_type": "code",
   "execution_count": null,
   "metadata": {},
   "outputs": [],
   "source": []
  }
 ],
 "metadata": {
  "kernelspec": {
   "display_name": "Python 3",
   "language": "python",
   "name": "python3"
  },
  "language_info": {
   "codemirror_mode": {
    "name": "ipython",
    "version": 3
   },
   "file_extension": ".py",
   "mimetype": "text/x-python",
   "name": "python",
   "nbconvert_exporter": "python",
   "pygments_lexer": "ipython3",
   "version": "3.7.3"
  }
 },
 "nbformat": 4,
 "nbformat_minor": 2
}
