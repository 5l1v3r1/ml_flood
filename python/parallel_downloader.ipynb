{
 "cells": [
  {
   "cell_type": "markdown",
   "metadata": {},
   "source": [
    "## Downloading multiple years of data"
   ]
  },
  {
   "cell_type": "markdown",
   "metadata": {},
   "source": [
    "description"
   ]
  },
  {
   "cell_type": "code",
   "execution_count": 1,
   "metadata": {},
   "outputs": [],
   "source": [
    "import os, warnings\n",
    "import cdsapi\n",
    "import multiprocessing as mp\n",
    "\n",
    "from ml_flood_config import path_to_data\n",
    "from aux import data_download as dd"
   ]
  },
  {
   "cell_type": "code",
   "execution_count": 2,
   "metadata": {},
   "outputs": [],
   "source": [
    "# define areas of interest\n",
    "area_dict = {'danube': '50/7/47/20',\n",
    "             'asia': '55/-140/0/35',\n",
    "             'usa': '50/-125/25/-70'}"
   ]
  },
  {
   "cell_type": "code",
   "execution_count": null,
   "metadata": {},
   "outputs": [
    {
     "name": "stderr",
     "output_type": "stream",
     "text": [
      "2019-05-23 21:33:08,002 INFO Sending request to https://cds.climate.copernicus.eu/api/v2/resources/reanalysis-era5-pressure-levels\n",
      "2019-05-23 21:33:08,005 INFO Sending request to https://cds.climate.copernicus.eu/api/v2/resources/reanalysis-era5-pressure-levels\n",
      "2019-05-23 21:33:08,005 INFO Sending request to https://cds.climate.copernicus.eu/api/v2/resources/reanalysis-era5-pressure-levels\n",
      "2019-05-23 21:33:07,998 INFO Sending request to https://cds.climate.copernicus.eu/api/v2/resources/reanalysis-era5-pressure-levels\n",
      "2019-05-23 21:33:08,009 INFO Sending request to https://cds.climate.copernicus.eu/api/v2/resources/reanalysis-era5-pressure-levels\n",
      "2019-05-23 21:33:08,013 INFO Sending request to https://cds.climate.copernicus.eu/api/v2/resources/reanalysis-era5-pressure-levels\n",
      "2019-05-23 21:33:07,992 INFO Sending request to https://cds.climate.copernicus.eu/api/v2/resources/reanalysis-era5-pressure-levels\n",
      "2019-05-23 21:33:08,013 INFO Sending request to https://cds.climate.copernicus.eu/api/v2/resources/reanalysis-era5-pressure-levels\n",
      "2019-05-23 21:33:08,026 INFO Sending request to https://cds.climate.copernicus.eu/api/v2/resources/reanalysis-era5-pressure-levels\n",
      "2019-05-23 21:33:08,049 INFO Sending request to https://cds.climate.copernicus.eu/api/v2/resources/reanalysis-era5-pressure-levels\n",
      "2019-05-23 21:33:08,017 INFO Sending request to https://cds.climate.copernicus.eu/api/v2/resources/reanalysis-era5-pressure-levels\n",
      "2019-05-23 21:33:08,030 INFO Sending request to https://cds.climate.copernicus.eu/api/v2/resources/reanalysis-era5-pressure-levels\n",
      "2019-05-23 21:33:08,002 INFO Sending request to https://cds.climate.copernicus.eu/api/v2/resources/reanalysis-era5-pressure-levels\n",
      "2019-05-23 21:33:07,982 INFO Sending request to https://cds.climate.copernicus.eu/api/v2/resources/reanalysis-era5-pressure-levels\n",
      "2019-05-23 21:33:08,033 INFO Sending request to https://cds.climate.copernicus.eu/api/v2/resources/reanalysis-era5-pressure-levels\n",
      "2019-05-23 21:33:08,037 INFO Sending request to https://cds.climate.copernicus.eu/api/v2/resources/reanalysis-era5-pressure-levels\n",
      "2019-05-23 21:33:08,033 INFO Sending request to https://cds.climate.copernicus.eu/api/v2/resources/reanalysis-era5-pressure-levels\n",
      "2019-05-23 21:33:08,021 INFO Sending request to https://cds.climate.copernicus.eu/api/v2/resources/reanalysis-era5-pressure-levels\n",
      "2019-05-23 21:33:08,052 INFO Sending request to https://cds.climate.copernicus.eu/api/v2/resources/reanalysis-era5-pressure-levels\n",
      "2019-05-23 21:33:08,045 INFO Sending request to https://cds.climate.copernicus.eu/api/v2/resources/reanalysis-era5-pressure-levels\n",
      "2019-05-23 21:33:08,278 INFO Request is queued\n",
      "2019-05-23 21:33:08,348 INFO Request is queued\n",
      "2019-05-23 21:33:08,349 INFO Request is queued\n",
      "2019-05-23 21:33:08,349 INFO Request is queued\n",
      "2019-05-23 21:33:08,351 INFO Request is queued\n",
      "2019-05-23 21:33:08,350 INFO Request is queued\n",
      "2019-05-23 21:33:08,352 INFO Request is queued\n",
      "2019-05-23 21:33:08,347 INFO Request is queued\n",
      "2019-05-23 21:33:08,347 INFO Request is queued\n",
      "2019-05-23 21:33:08,347 INFO Request is queued\n",
      "2019-05-23 21:33:08,347 INFO Request is queued\n",
      "2019-05-23 21:33:08,347 INFO Request is queued\n",
      "2019-05-23 21:33:08,347 INFO Request is queued\n",
      "2019-05-23 21:33:08,347 INFO Request is queued\n",
      "2019-05-23 21:33:08,347 INFO Request is queued\n",
      "2019-05-23 21:33:08,350 INFO Request is queued\n",
      "2019-05-23 21:33:08,347 INFO Request is queued\n",
      "2019-05-23 21:33:08,350 INFO Request is queued\n",
      "2019-05-23 21:33:08,350 INFO Request is queued\n",
      "2019-05-23 21:33:09,188 INFO Request is queued\n"
     ]
    }
   ],
   "source": [
    "year = [str(y) for y in range(1980, 2010)]\n",
    "month = [str(a).zfill(2) for a in range(1,13)]\n",
    "\n",
    "request = dict(product_type='reanalysis', format='netcdf', base_level='pressure', \n",
    "               area=area_dict['usa'],\n",
    "               variable=['geopotential', 'temperature', 'specific_humidity'], \n",
    "               pressure_level=['850', '700', '500'])\n",
    "\n",
    "dataset_name = f\"reanalysis-era5-{request['base_level']}-levels\"\n",
    "\n",
    "save_to_folder=path_to_data  # path to where datasets shall be stored\n",
    "\n",
    "dd.cds_optimized_retrieval(year, month,\n",
    "                        dataset_name, request, save_to_folder, \n",
    "                        N_parallel_requests=20)"
   ]
  },
  {
   "cell_type": "code",
   "execution_count": null,
   "metadata": {},
   "outputs": [],
   "source": []
  },
  {
   "cell_type": "code",
   "execution_count": null,
   "metadata": {},
   "outputs": [],
   "source": []
  }
 ],
 "metadata": {
  "kernelspec": {
   "display_name": "Python 3",
   "language": "python",
   "name": "python3"
  },
  "language_info": {
   "codemirror_mode": {
    "name": "ipython",
    "version": 3
   },
   "file_extension": ".py",
   "mimetype": "text/x-python",
   "name": "python",
   "nbconvert_exporter": "python",
   "pygments_lexer": "ipython3",
   "version": "3.7.3"
  }
 },
 "nbformat": 4,
 "nbformat_minor": 2
}
